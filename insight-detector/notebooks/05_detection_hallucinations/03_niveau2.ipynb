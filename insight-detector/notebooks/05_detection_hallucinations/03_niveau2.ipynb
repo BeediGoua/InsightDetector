{
 "cells": [
  {
   "cell_type": "code",
   "execution_count": 1,
   "id": "cell-0",
   "metadata": {},
   "outputs": [
    {
     "name": "stdout",
     "output_type": "stream",
     "text": [
      "project_root: c:\\Users\\beedi.goua_square-ma\\Desktop\\Gheb\\projet perso\\InsightDetector\\insight-detector\n",
      "src_path    : c:\\Users\\beedi.goua_square-ma\\Desktop\\Gheb\\projet perso\\InsightDetector\\insight-detector\\src\n",
      "data_dir    : c:\\Users\\beedi.goua_square-ma\\Desktop\\Gheb\\projet perso\\InsightDetector\\insight-detector\\data\n",
      "outputs     : c:\\Users\\beedi.goua_square-ma\\Desktop\\Gheb\\projet perso\\InsightDetector\\insight-detector\\outputs\n"
     ]
    }
   ],
   "source": [
    "# =========================\n",
    "# 0) Setup & imports\n",
    "# =========================\n",
    "import sys, json, re, time, logging\n",
    "from pathlib import Path\n",
    "import pandas as pd\n",
    "\n",
    "logging.basicConfig(level=logging.INFO)\n",
    "\n",
    "def find_project_root():\n",
    "    p = Path.cwd()\n",
    "    for parent in [p, *p.parents]:\n",
    "        if (parent / \"src\").exists() or (parent / \"data\").exists():\n",
    "            return parent\n",
    "    return Path.cwd()\n",
    "\n",
    "project_root = find_project_root()\n",
    "src_path = project_root / \"src\"\n",
    "if src_path.exists() and str(src_path) not in sys.path:\n",
    "    sys.path.insert(0, str(src_path))\n",
    "\n",
    "data_dir = project_root / \"data\"\n",
    "out_dir = project_root / \"outputs\"\n",
    "out_dir.mkdir(parents=True, exist_ok=True)\n",
    "\n",
    "print(\"project_root:\", project_root)\n",
    "print(\"src_path    :\", src_path if src_path.exists() else \"(absent)\")\n",
    "print(\"data_dir    :\", data_dir)\n",
    "print(\"outputs     :\", out_dir)\n"
   ]
  },
  {
   "cell_type": "code",
   "execution_count": 2,
   "id": "cell-1",
   "metadata": {},
   "outputs": [
    {
     "name": "stdout",
     "output_type": "stream",
     "text": [
      "Niveau 2 importé \n"
     ]
    }
   ],
   "source": [
    "# =========================\n",
    "# 1) Import L2 ENHANCED (robuste)\n",
    "# =========================\n",
    "try:\n",
    "    # Essayer la version enhanced avec classification intelligente\n",
    "    from detection.level2_intelligent.level2_intelligent_processor import IntelligentProcessor as Level2SimplifiedProcessor\n",
    "    print(\"NIVEAU 2 ENHANCED importé (classification intelligente)\")\n",
    "except ImportError:\n",
    "    try:\n",
    "        # Fallback vers version simplifiée\n",
    "        from detection.level2_simplified.level2_simplified_processor import Level2SimplifiedProcessor\n",
    "        print(\"Niveau 2 importé \")\n",
    "    except Exception as e:\n",
    "        raise ImportError(\n",
    "            \"Impossible d'importer Level2 depuis 'src/detection/...'. \"\n",
    "            f\"Vérifie que 'src' est bien au bon endroit. Erreur: {e}\"\n",
    "        )"
   ]
  },
  {
   "cell_type": "code",
   "execution_count": 3,
   "id": "cell-2",
   "metadata": {},
   "outputs": [
    {
     "name": "stdout",
     "output_type": "stream",
     "text": [
      "Données Level 1: 372 résumés | 15 colonnes\n",
      "Production ready: 175/372 (47.0%)\n",
      "  A: 62 résumés (2 suspects, 3.2%)\n",
      "  A+: 60 résumés (1 suspects, 1.7%)\n",
      "  B: 11 résumés (7 suspects, 63.6%)\n",
      "  B+: 158 résumés (122 suspects, 77.2%)\n",
      "  C: 17 résumés (17 suspects, 100.0%)\n",
      "  D: 64 résumés (48 suspects, 75.0%)\n"
     ]
    }
   ],
   "source": [
    "# =========================\n",
    "# 2) Chargement Level-1\n",
    "# =========================\n",
    "lvl1_csv_candidates = [\n",
    "    data_dir / \"detection\" / \"level1_heuristic_results.csv\",\n",
    "    Path(\"/mnt/data/level1_heuristic_results.csv\"),\n",
    "]\n",
    "lvl1_stats_candidates = [\n",
    "    data_dir / \"detection\" / \"level1_heuristic_stats.json\",\n",
    "    Path(\"/mnt/data/level1_heuristic_stats.json\"),\n",
    "]\n",
    "\n",
    "level1_usable_file = next((p for p in lvl1_csv_candidates if p.exists()), None)\n",
    "level1_stats_file  = next((p for p in lvl1_stats_candidates if p.exists()), None)\n",
    "assert level1_usable_file is not None, \"level1_heuristic_results.csv introuvable\"\n",
    "assert level1_stats_file  is not None, \"level1_heuristic_stats.json introuvable\"\n",
    "\n",
    "df_level1 = pd.read_csv(level1_usable_file)\n",
    "with open(level1_stats_file, \"r\", encoding=\"utf-8\") as f:\n",
    "    level1_stats = json.load(f)\n",
    "\n",
    "print(f\"Données Level 1: {len(df_level1)} résumés | {len(df_level1.columns)} colonnes\")\n",
    "# Adapter pour la colonne is_suspect (logique inversée par rapport à production_ready)\n",
    "prod_ready = int((df_level1[\"is_suspect\"] == False).sum())\n",
    "print(f\"Production ready: {prod_ready}/{len(df_level1)} ({prod_ready/len(df_level1)*100:.1f}%)\")\n",
    "\n",
    "grade_dist = df_level1[\"original_grade\"].value_counts().sort_index()\n",
    "for g, c in grade_dist.items():\n",
    "    # Calculer directement depuis les données level1 (car grade_correlation absent du stats.json)\n",
    "    grade_suspects = len(df_level1[(df_level1[\"original_grade\"] == g) & (df_level1[\"is_suspect\"] == True)])\n",
    "    pct = (grade_suspects/c*100) if c else 0\n",
    "    print(f\"  {g}: {c} résumés ({grade_suspects} suspects, {pct:.1f}%)\")"
   ]
  },
  {
   "cell_type": "code",
   "execution_count": 4,
   "id": "cell-3",
   "metadata": {},
   "outputs": [
    {
     "name": "stdout",
     "output_type": "stream",
     "text": [
      "Entrées L2 construites : 372\n",
      "Production ready L2: 175/372 (47.0%)\n"
     ]
    }
   ],
   "source": [
    "# =========================\n",
    "# 3) Entrées L2 de base - CORRIGÉ\n",
    "# =========================\n",
    "all_summaries_simplified = []\n",
    "for _, row in df_level1.iterrows():\n",
    "    # Utiliser directement is_suspect comme indicateur de défaut (pas d'inversion)\n",
    "    # Si is_suspect=True, alors production_ready=False\n",
    "    # Si is_suspect=False, alors production_ready=True\n",
    "    production_ready = not bool(row[\"is_suspect\"])  # Conversion explicite pour clarté\n",
    "    \n",
    "    all_summaries_simplified.append({\n",
    "        \"id\": row[\"id\"],\n",
    "        \"original_grade\": row[\"original_grade\"],\n",
    "        \"coherence\": row[\"coherence\"],\n",
    "        \"factuality\": row[\"factuality\"],\n",
    "        \"num_issues\": row[\"num_issues\"],\n",
    "        \"production_ready\": production_ready,\n",
    "        # Ajouter les métrics level1 pour meilleure classification level2\n",
    "        \"confidence_score\": row.get(\"confidence_score\", 0.5),\n",
    "        \"risk_level\": row.get(\"risk_level\", \"unknown\"),\n",
    "        \"word_count\": row.get(\"word_count\", 0),\n",
    "        # \"metadata\" et \"source_id\" ajoutés ensuite\n",
    "    })\n",
    "\n",
    "print(f\"Entrées L2 construites : {len(all_summaries_simplified)}\")\n",
    "# Vérification cohérence avec level1\n",
    "prod_ready_count = sum(1 for s in all_summaries_simplified if s[\"production_ready\"])\n",
    "print(f\"Production ready L2: {prod_ready_count}/{len(all_summaries_simplified)} ({prod_ready_count/len(all_summaries_simplified)*100:.1f}%)\")"
   ]
  },
  {
   "cell_type": "code",
   "execution_count": 5,
   "id": "cell-4",
   "metadata": {},
   "outputs": [],
   "source": [
    "# =========================\n",
    "# 4) Outils ID & sémantique\n",
    "# =========================\n",
    "import re\n",
    "from hashlib import sha1\n",
    "\n",
    "def _norm(s: str) -> str:\n",
    "    return re.sub(r\"\\s+\", \" \", (s or \"\").strip().lower())\n",
    "\n",
    "def make_source_id(url: str=None, title: str=None, published: str=None, source: str=None) -> str | None:\n",
    "    base = url or f\"{_norm(source)}|{_norm(title)}|{_norm(published)}\"\n",
    "    return sha1(_norm(base).encode(\"utf-8\")).hexdigest() if base else None\n",
    "\n",
    "def tok(s: str) -> set:\n",
    "    return set(re.findall(r\"[a-zàâäéèêëîïôöùûüç0-9]+\", _norm(s)))\n",
    "\n",
    "def jaccard(a: set, b: set) -> float:\n",
    "    if not a or not b: return 0.0\n",
    "    inter = len(a & b); uni = len(a | b)\n",
    "    return inter/uni if uni else 0.0\n"
   ]
  },
  {
   "cell_type": "code",
   "execution_count": 6,
   "id": "cell-5",
   "metadata": {},
   "outputs": [
    {
     "name": "stdout",
     "output_type": "stream",
     "text": [
      "[SIMPLIFIED] Section articles source désactivée\n",
      "[SIMPLIFIED] Level2 utilisera uniquement les données level1 disponibles\n",
      "Articles indexés: 0 | source_ids: 0 | mode simplifié activé\n"
     ]
    }
   ],
   "source": [
    "# =========================\n",
    "# 5) Articles source - SIMPLIFIÉ\n",
    "# =========================\n",
    "# Cette section est simplifiée car nous n'avons pas les liens entre level1 et les articles source\n",
    "# Le level2 fonctionnera avec les données level1 disponibles uniquement\n",
    "\n",
    "print(\"[SIMPLIFIED] Section articles source désactivée\")\n",
    "print(\"[SIMPLIFIED] Level2 utilisera uniquement les données level1 disponibles\")\n",
    "\n",
    "# Variables vides pour compatibilité avec les cellules suivantes  \n",
    "by_article_id = {}\n",
    "text_by_source_id = {}\n",
    "print(\"Articles indexés: 0 | source_ids: 0 | mode simplifié activé\")"
   ]
  },
  {
   "cell_type": "code",
   "execution_count": 7,
   "id": "cell-6",
   "metadata": {},
   "outputs": [
    {
     "name": "stdout",
     "output_type": "stream",
     "text": [
      "[SIMPLIFIED] Métadonnées level1 non disponibles\n",
      "[SIMPLIFIED] Aucune colonne source_url, source_title, published, source trouvée\n",
      "[L1 META] metadata ajoutée: 0 | source_id créés: 0 (mode simplifié)\n"
     ]
    }
   ],
   "source": [
    "# =========================\n",
    "# 6A) Méta L1 -> source_id - SIMPLIFIÉ\n",
    "# =========================\n",
    "# Cette section est simplifiée car level1 ne contient pas les colonnes de métadonnées nécessaires\n",
    "\n",
    "print(\"[SIMPLIFIED] Métadonnées level1 non disponibles\")\n",
    "print(\"[SIMPLIFIED] Aucune colonne source_url, source_title, published, source trouvée\")\n",
    "print(\"[L1 META] metadata ajoutée: 0 | source_id créés: 0 (mode simplifié)\")"
   ]
  },
  {
   "cell_type": "code",
   "execution_count": 8,
   "id": "cell-7",
   "metadata": {},
   "outputs": [
    {
     "name": "stdout",
     "output_type": "stream",
     "text": [
      "['coherence', 'confidence_score', 'entities_detected', 'fact_check_candidates_count', 'factuality', 'id', 'is_suspect', 'level0_status', 'num_issues', 'original_grade', 'priority_score', 'processing_time_ms', 'risk_level', 'suspicious_entities', 'word_count']\n"
     ]
    },
    {
     "data": {
      "application/vnd.microsoft.datawrangler.viewer.v0+json": {
       "columns": [
        {
         "name": "index",
         "rawType": "int64",
         "type": "integer"
        },
        {
         "name": "id",
         "rawType": "object",
         "type": "string"
        },
        {
         "name": "level0_status",
         "rawType": "object",
         "type": "string"
        },
        {
         "name": "original_grade",
         "rawType": "object",
         "type": "string"
        },
        {
         "name": "coherence",
         "rawType": "float64",
         "type": "float"
        },
        {
         "name": "factuality",
         "rawType": "float64",
         "type": "float"
        },
        {
         "name": "is_suspect",
         "rawType": "bool",
         "type": "boolean"
        },
        {
         "name": "confidence_score",
         "rawType": "float64",
         "type": "float"
        },
        {
         "name": "risk_level",
         "rawType": "object",
         "type": "string"
        },
        {
         "name": "processing_time_ms",
         "rawType": "float64",
         "type": "float"
        },
        {
         "name": "word_count",
         "rawType": "int64",
         "type": "integer"
        },
        {
         "name": "entities_detected",
         "rawType": "int64",
         "type": "integer"
        },
        {
         "name": "suspicious_entities",
         "rawType": "int64",
         "type": "integer"
        },
        {
         "name": "fact_check_candidates_count",
         "rawType": "int64",
         "type": "integer"
        },
        {
         "name": "priority_score",
         "rawType": "float64",
         "type": "float"
        },
        {
         "name": "num_issues",
         "rawType": "int64",
         "type": "integer"
        }
       ],
       "ref": "28802cce-f2e7-48e2-a466-c94605cdd162",
       "rows": [
        [
         "0",
         "0_adaptive",
         "validated",
         "A",
         "0.76",
         "0.9026752710342408",
         "False",
         "0.7500000000000001",
         "low",
         "89.37406539916992",
         "85",
         "2",
         "0",
         "1",
         "0.0",
         "2"
        ],
        [
         "1",
         "1_adaptive",
         "validated",
         "A",
         "0.78",
         "1.0",
         "False",
         "0.9",
         "low",
         "50.80580711364746",
         "66",
         "4",
         "0",
         "1",
         "0.0",
         "1"
        ]
       ],
       "shape": {
        "columns": 15,
        "rows": 2
       }
      },
      "text/html": [
       "<div>\n",
       "<style scoped>\n",
       "    .dataframe tbody tr th:only-of-type {\n",
       "        vertical-align: middle;\n",
       "    }\n",
       "\n",
       "    .dataframe tbody tr th {\n",
       "        vertical-align: top;\n",
       "    }\n",
       "\n",
       "    .dataframe thead th {\n",
       "        text-align: right;\n",
       "    }\n",
       "</style>\n",
       "<table border=\"1\" class=\"dataframe\">\n",
       "  <thead>\n",
       "    <tr style=\"text-align: right;\">\n",
       "      <th></th>\n",
       "      <th>id</th>\n",
       "      <th>level0_status</th>\n",
       "      <th>original_grade</th>\n",
       "      <th>coherence</th>\n",
       "      <th>factuality</th>\n",
       "      <th>is_suspect</th>\n",
       "      <th>confidence_score</th>\n",
       "      <th>risk_level</th>\n",
       "      <th>processing_time_ms</th>\n",
       "      <th>word_count</th>\n",
       "      <th>entities_detected</th>\n",
       "      <th>suspicious_entities</th>\n",
       "      <th>fact_check_candidates_count</th>\n",
       "      <th>priority_score</th>\n",
       "      <th>num_issues</th>\n",
       "    </tr>\n",
       "  </thead>\n",
       "  <tbody>\n",
       "    <tr>\n",
       "      <th>0</th>\n",
       "      <td>0_adaptive</td>\n",
       "      <td>validated</td>\n",
       "      <td>A</td>\n",
       "      <td>0.76</td>\n",
       "      <td>0.902675</td>\n",
       "      <td>False</td>\n",
       "      <td>0.75</td>\n",
       "      <td>low</td>\n",
       "      <td>89.374065</td>\n",
       "      <td>85</td>\n",
       "      <td>2</td>\n",
       "      <td>0</td>\n",
       "      <td>1</td>\n",
       "      <td>0.0</td>\n",
       "      <td>2</td>\n",
       "    </tr>\n",
       "    <tr>\n",
       "      <th>1</th>\n",
       "      <td>1_adaptive</td>\n",
       "      <td>validated</td>\n",
       "      <td>A</td>\n",
       "      <td>0.78</td>\n",
       "      <td>1.000000</td>\n",
       "      <td>False</td>\n",
       "      <td>0.90</td>\n",
       "      <td>low</td>\n",
       "      <td>50.805807</td>\n",
       "      <td>66</td>\n",
       "      <td>4</td>\n",
       "      <td>0</td>\n",
       "      <td>1</td>\n",
       "      <td>0.0</td>\n",
       "      <td>1</td>\n",
       "    </tr>\n",
       "  </tbody>\n",
       "</table>\n",
       "</div>"
      ],
      "text/plain": [
       "           id level0_status original_grade  coherence  factuality  is_suspect  \\\n",
       "0  0_adaptive     validated              A       0.76    0.902675       False   \n",
       "1  1_adaptive     validated              A       0.78    1.000000       False   \n",
       "\n",
       "   confidence_score risk_level  processing_time_ms  word_count  \\\n",
       "0              0.75        low           89.374065          85   \n",
       "1              0.90        low           50.805807          66   \n",
       "\n",
       "   entities_detected  suspicious_entities  fact_check_candidates_count  \\\n",
       "0                  2                    0                            1   \n",
       "1                  4                    0                            1   \n",
       "\n",
       "   priority_score  num_issues  \n",
       "0             0.0           2  \n",
       "1             0.0           1  "
      ]
     },
     "execution_count": 8,
     "metadata": {},
     "output_type": "execute_result"
    }
   ],
   "source": [
    "print(sorted(df_level1.columns.tolist()))\n",
    "df_level1.head(2)\n"
   ]
  },
  {
   "cell_type": "code",
   "execution_count": 9,
   "id": "cell-8",
   "metadata": {},
   "outputs": [
    {
     "name": "stdout",
     "output_type": "stream",
     "text": [
      "[SIMPLIFIED] Sections 8-17 désactivées (mapping complexe)\n",
      "[SIMPLIFIED] Le level2 fonctionnera sans source_id\n",
      "[SIMPLIFIED] Tous les résumés level1 seront traités directement\n",
      "[FINAL] items avec source_id: 0/372 (mode simplifié)\n"
     ]
    }
   ],
   "source": [
    "# =========================\n",
    "# 8-17) Sections de mapping - DÉSACTIVÉES\n",
    "# =========================\n",
    "# Ces sections tentent de mapper level1_id vers summary_id puis article_id\n",
    "# Elles sont désactivées car :\n",
    "# 1. Pas de colonne 'text' dans level1\n",
    "# 2. Pas de métadonnées source dans level1  \n",
    "# 3. Décalage entre 372 level1_id et 186 summary_id de production\n",
    "\n",
    "print(\"[SIMPLIFIED] Sections 8-17 désactivées (mapping complexe)\")\n",
    "print(\"[SIMPLIFIED] Le level2 fonctionnera sans source_id\")\n",
    "print(\"[SIMPLIFIED] Tous les résumés level1 seront traités directement\")\n",
    "\n",
    "# Variables pour compatibilité\n",
    "filled_from_prod = 0\n",
    "filled_from_bridge = 0\n",
    "filled_meta_only = 0\n",
    "\n",
    "print(f\"[FINAL] items avec source_id: 0/{len(all_summaries_simplified)} (mode simplifié)\")"
   ]
  },
  {
   "cell_type": "code",
   "execution_count": 10,
   "id": "cell-9",
   "metadata": {},
   "outputs": [],
   "source": [
    "# Cellule désactivée - voir cellule 8"
   ]
  },
  {
   "cell_type": "code",
   "execution_count": 11,
   "id": "cell-10",
   "metadata": {},
   "outputs": [],
   "source": [
    "# Cellule désactivée - voir cellule 8"
   ]
  },
  {
   "cell_type": "code",
   "execution_count": 12,
   "id": "cell-11",
   "metadata": {},
   "outputs": [],
   "source": [
    "# Cellule désactivée - voir cellule 8"
   ]
  },
  {
   "cell_type": "code",
   "execution_count": 13,
   "id": "cell-12",
   "metadata": {},
   "outputs": [],
   "source": [
    "# Cellule désactivée - voir cellule 8"
   ]
  },
  {
   "cell_type": "code",
   "execution_count": 14,
   "id": "cell-13",
   "metadata": {},
   "outputs": [],
   "source": [
    "# Cellule désactivée - voir cellule 8"
   ]
  },
  {
   "cell_type": "code",
   "execution_count": 15,
   "id": "cell-14",
   "metadata": {},
   "outputs": [],
   "source": [
    "# Cellule désactivée - voir cellule 8"
   ]
  },
  {
   "cell_type": "code",
   "execution_count": 16,
   "id": "cell-15",
   "metadata": {},
   "outputs": [
    {
     "name": "stdout",
     "output_type": "stream",
     "text": [
      "[BRIDGE] Section désactivée - colonne 'text' manquante dans level1\n",
      "[BRIDGE] Aucun mapping L1_id -> summary_id possible sans le texte\n",
      "[BRIDGE->PROD] source_id ajoutés via (L1->SID->AID): +0\n",
      "[FINAL] items avec source_id: 0/372\n"
     ]
    }
   ],
   "source": [
    "# =========================\n",
    "# 6G) Bridge L1 id -> summary_id par le TEXTE - DÉSACTIVÉ \n",
    "# =========================\n",
    "# PROBLÈME: df_level1 ne contient pas la colonne 'text' nécessaire\n",
    "# Cette section est désactivée car level1_heuristic_results.csv ne contient pas le texte des résumés\n",
    "\n",
    "print(\"[BRIDGE] Section désactivée - colonne 'text' manquante dans level1\")\n",
    "print(\"[BRIDGE] Aucun mapping L1_id -> summary_id possible sans le texte\")\n",
    "\n",
    "# Variables vides pour éviter les erreurs dans les cellules suivantes\n",
    "l1id_to_sid = {}\n",
    "filled_from_bridge = 0\n",
    "\n",
    "print(f\"[BRIDGE->PROD] source_id ajoutés via (L1->SID->AID): +{filled_from_bridge}\")\n",
    "print(f\"[FINAL] items avec source_id: {sum(1 for s in all_summaries_simplified if s.get('source_id'))}/{len(all_summaries_simplified)}\")"
   ]
  },
  {
   "cell_type": "code",
   "execution_count": 17,
   "id": "cell-16",
   "metadata": {},
   "outputs": [],
   "source": [
    "# Cellule désactivée - voir cellule 8"
   ]
  },
  {
   "cell_type": "code",
   "execution_count": 18,
   "id": "cell-17",
   "metadata": {},
   "outputs": [],
   "source": [
    "# Cellule désactivée - voir cellule 8"
   ]
  },
  {
   "cell_type": "code",
   "execution_count": 19,
   "id": "cell-18",
   "metadata": {},
   "outputs": [
    {
     "name": "stderr",
     "output_type": "stream",
     "text": [
      "INFO:detection.level2_simplified.level2_simplified_processor:Seuils configurés pour mode balanced\n",
      "INFO:detection.level2_simplified.level2_simplified_processor:Level 2 Simplifié initialisé en mode balanced\n",
      "INFO:detection.level2_simplified.level2_simplified_processor:Traitement Level 2 Simplifié: 372 résumés\n",
      "INFO:detection.level2_simplified.level2_simplified_processor:Level 2 Simplifié terminé: 159/372 validés (42.7%)\n"
     ]
    },
    {
     "name": "stdout",
     "output_type": "stream",
     "text": [
      "[L2] Terminé en 0.01s | Validés 159/372\n",
      "Répartition par tier: {'EXCELLENT': 76, 'GOOD': 82, 'MODERATE': 133, 'CRITICAL': 81}\n"
     ]
    }
   ],
   "source": [
    "# =========================\n",
    "# 7) Exécuter Level-2\n",
    "# =========================\n",
    "import time\n",
    "\n",
    "# Assure-toi que Level2SimplifiedProcessor est déjà importé (cf. début du notebook)\n",
    "level2 = Level2SimplifiedProcessor(mode=\"balanced\")\n",
    "\n",
    "t0 = time.time()\n",
    "valid_summaries, results = level2.process_batch(all_summaries_simplified)\n",
    "dt = time.time() - t0\n",
    "\n",
    "print(f\"[L2] Terminé en {dt:.2f}s | Validés {len(valid_summaries)}/{len(all_summaries_simplified)}\")\n",
    "print(\"Répartition par tier:\", level2.get_stats().get(\"tier_distribution\"))\n"
   ]
  },
  {
   "cell_type": "code",
   "execution_count": 20,
   "id": "cell-19",
   "metadata": {},
   "outputs": [
    {
     "name": "stdout",
     "output_type": "stream",
     "text": [
      "df_results_simplified: (372, 10)\n",
      "[MERGE] manquants source_id (après enrichissement): 372/372\n",
      "Priority (améliorée):\n",
      "count    372.000000\n",
      "mean       0.781718\n",
      "std        0.115288\n",
      "min        0.700000\n",
      "25%        0.700000\n",
      "50%        0.750000\n",
      "75%        0.750000\n",
      "max        1.000000\n",
      "Name: level3_priority_final, dtype: float64\n",
      "Répartition par seuils:\n",
      "  >= 0.5: 372 cas (100.0%)\n",
      "  >= 0.7: 372 cas (100.0%)\n",
      "  >= 0.8: 81 cas (21.8%)\n",
      "  >= 0.85: 81 cas (21.8%)\n",
      "  >= 0.9: 81 cas (21.8%)\n"
     ]
    }
   ],
   "source": [
    "# =========================\n",
    "# 8) DF résultats + merge source_id (+ priorité finale AMÉLIORÉE)\n",
    "# =========================\n",
    "import pandas as pd\n",
    "\n",
    "# 8.1) Résultats L2 -> DataFrame\n",
    "rows = []\n",
    "for r in results:\n",
    "    rows.append({\n",
    "        \"summary_id\": r.summary_id,\n",
    "        \"tier\": r.tier_classification.value,\n",
    "        \"is_valid\": r.is_valid,\n",
    "        \"validation_confidence\": r.validation_confidence,\n",
    "        \"grade_score\": r.grade_score,\n",
    "        \"coherence_score\": r.coherence_score,\n",
    "        \"factuality_score\": r.factuality_score,\n",
    "        \"issues_count\": r.issues_count,\n",
    "        \"processing_time_ms\": r.processing_time_ms,\n",
    "        \"justification\": r.level3_justification\n",
    "    })\n",
    "df_results_simplified = pd.DataFrame(rows)\n",
    "print(\"df_results_simplified:\", df_results_simplified.shape)\n",
    "\n",
    "# 8.2) IDs provenant de nos entrées enrichies (après 6E/6G/backfills)\n",
    "def _sid_of(x: dict):\n",
    "    if not isinstance(x, dict):\n",
    "        return None\n",
    "    return x.get(\"id\") or x.get(\"summary_id\")\n",
    "\n",
    "df_ids = (\n",
    "    pd.DataFrame(\n",
    "        [\n",
    "            {\"summary_id\": _sid_of(s), \"source_id\": s.get(\"source_id\"), \n",
    "             \"original_grade\": s.get(\"original_grade\"), \"production_ready\": s.get(\"production_ready\")}\n",
    "            for s in all_summaries_simplified\n",
    "            if _sid_of(s) is not None\n",
    "        ]\n",
    "    )\n",
    "    .drop_duplicates(\"summary_id\")\n",
    ")\n",
    "\n",
    "# 8.3) Fusion résultats + source_id  (→ crée df_results_with_ids)\n",
    "df_results_with_ids = df_results_simplified.merge(df_ids, on=\"summary_id\", how=\"left\")\n",
    "missing_after = int(df_results_with_ids[\"source_id\"].isna().sum())\n",
    "print(f\"[MERGE] manquants source_id (après enrichissement): {missing_after}/{len(df_results_with_ids)}\")\n",
    "\n",
    "# =========================\n",
    "# 8-bis) Recalibrage ROBUSTE de la priorité L3 (AMÉLIORÉ)\n",
    "# =========================\n",
    "def recompute_l3_priority_enhanced(row) -> float:\n",
    "    \"\"\"\n",
    "    Règles améliorées basées sur les vraies métriques:\n",
    "      - Base = 1 - validation_confidence\n",
    "      - Boost par tier mais plus nuancé\n",
    "      - Boost par grade original (D/C = +0.1, B/B+ = +0.05)\n",
    "      - Malus si production_ready=True ET tier=EXCELLENT (-0.2)\n",
    "      - Boost si production_ready=False (+0.1)\n",
    "      - Si pas de source_id -> plancher à 0.70 (plus bas qu'avant)\n",
    "      - Borné [0, 1]\n",
    "    \"\"\"\n",
    "    conf = float(row.get(\"validation_confidence\", 0) or 0)\n",
    "    base = 1.0 - conf\n",
    "\n",
    "    # Boost par tier (plus nuancé)\n",
    "    tier = str(row.get(\"tier\") or \"\").upper()\n",
    "    if tier == \"CRITICAL\":\n",
    "        base = max(base, 0.85)\n",
    "    elif tier == \"MODERATE\":\n",
    "        base = max(base, 0.60)\n",
    "    elif tier == \"GOOD\":\n",
    "        base = max(base, 0.40)  # Plus élevé qu'avant\n",
    "    elif tier == \"EXCELLENT\":\n",
    "        base = max(base, 0.25)  # Plus élevé qu'avant\n",
    "    \n",
    "    # Boost selon le grade original\n",
    "    grade = str(row.get(\"original_grade\", \"\")).upper()\n",
    "    if grade in [\"D\", \"C\"]:\n",
    "        base += 0.10  # Grades critiques\n",
    "    elif grade in [\"B\", \"B+\"]:\n",
    "        base += 0.05  # Grades moyens\n",
    "\n",
    "    # Adjustment selon production_ready\n",
    "    prod_ready = row.get(\"production_ready\", True)\n",
    "    if not prod_ready:\n",
    "        base += 0.10  # Boost si pas production ready\n",
    "    elif prod_ready and tier == \"EXCELLENT\":\n",
    "        base -= 0.20  # Malus si excellent ET production ready (probable faux positif)\n",
    "\n",
    "    # Si pas de source_id -> plancher plus bas\n",
    "    no_sid = pd.isna(row.get(\"source_id\")) or (str(row.get(\"source_id\")) == \"\")\n",
    "    if no_sid:\n",
    "        base = max(base, 0.70)  # Plus bas qu'avant (0.80 -> 0.70)\n",
    "\n",
    "    return float(min(1.0, max(0.0, round(base, 3))))\n",
    "\n",
    "# Calcule la priorité finale améliorée\n",
    "df_results_with_ids[\"level3_priority_final\"] = df_results_with_ids.apply(recompute_l3_priority_enhanced, axis=1)\n",
    "\n",
    "print(\"Priority (améliorée):\")\n",
    "print(df_results_with_ids[\"level3_priority_final\"].describe())\n",
    "print(\"Répartition par seuils:\")\n",
    "for seuil in [0.5, 0.7, 0.8, 0.85, 0.9]:\n",
    "    count = (df_results_with_ids[\"level3_priority_final\"] >= seuil).sum()\n",
    "    print(f\"  >= {seuil}: {count} cas ({count/len(df_results_with_ids)*100:.1f}%)\")"
   ]
  },
  {
   "cell_type": "code",
   "execution_count": 21,
   "id": "cell-20",
   "metadata": {},
   "outputs": [
    {
     "data": {
      "application/vnd.microsoft.datawrangler.viewer.v0+json": {
       "columns": [
        {
         "name": "index",
         "rawType": "int64",
         "type": "integer"
        },
        {
         "name": "summary_id",
         "rawType": "object",
         "type": "string"
        },
        {
         "name": "tier",
         "rawType": "object",
         "type": "string"
        },
        {
         "name": "is_valid",
         "rawType": "bool",
         "type": "boolean"
        },
        {
         "name": "validation_confidence",
         "rawType": "float64",
         "type": "float"
        },
        {
         "name": "grade_score",
         "rawType": "float64",
         "type": "float"
        },
        {
         "name": "coherence_score",
         "rawType": "float64",
         "type": "float"
        },
        {
         "name": "factuality_score",
         "rawType": "float64",
         "type": "float"
        },
        {
         "name": "issues_count",
         "rawType": "int64",
         "type": "integer"
        },
        {
         "name": "processing_time_ms",
         "rawType": "float64",
         "type": "float"
        },
        {
         "name": "justification",
         "rawType": "object",
         "type": "string"
        },
        {
         "name": "source_id",
         "rawType": "object",
         "type": "unknown"
        },
        {
         "name": "original_grade",
         "rawType": "object",
         "type": "string"
        },
        {
         "name": "production_ready",
         "rawType": "bool",
         "type": "boolean"
        },
        {
         "name": "level3_priority_final",
         "rawType": "float64",
         "type": "float"
        }
       ],
       "ref": "5a8b0ad0-e9e7-430c-8c70-0be0a11e8f37",
       "rows": [
        [
         "0",
         "0_adaptive",
         "GOOD",
         "True",
         "1.0",
         "0.9",
         "0.76",
         "0.9026752710342408",
         "2",
         "0.0",
         "Priorité standard basée sur confiance",
         null,
         "A",
         "True",
         "0.7"
        ],
        [
         "1",
         "1_adaptive",
         "GOOD",
         "True",
         "1.0",
         "0.9",
         "0.78",
         "1.0",
         "1",
         "0.0",
         "Priorité standard basée sur confiance",
         null,
         "A",
         "True",
         "0.7"
        ],
        [
         "2",
         "2_adaptive",
         "EXCELLENT",
         "True",
         "1.0",
         "1.0",
         "0.956",
         "1.0",
         "0",
         "0.0",
         "Priorité standard basée sur confiance",
         null,
         "A+",
         "True",
         "0.7"
        ],
        [
         "3",
         "3_adaptive",
         "EXCELLENT",
         "True",
         "1.0",
         "0.9",
         "0.876",
         "0.9034748077392578",
         "1",
         "0.0",
         "Priorité standard basée sur confiance",
         null,
         "A",
         "True",
         "0.7"
        ],
        [
         "4",
         "4_adaptive",
         "GOOD",
         "True",
         "1.0",
         "1.0",
         "0.936",
         "0.9999998807907104",
         "2",
         "0.0",
         "Priorité standard basée sur confiance",
         null,
         "A+",
         "True",
         "0.7"
        ],
        [
         "5",
         "5_adaptive",
         "EXCELLENT",
         "True",
         "1.0",
         "1.0",
         "0.936",
         "0.9607664942741394",
         "1",
         "0.0",
         "Priorité standard basée sur confiance",
         null,
         "A+",
         "True",
         "0.7"
        ],
        [
         "6",
         "6_adaptive",
         "GOOD",
         "True",
         "1.0",
         "0.9",
         "0.826",
         "0.8889455795288086",
         "1",
         "0.0",
         "Priorité standard basée sur confiance",
         null,
         "A",
         "True",
         "0.7"
        ],
        [
         "7",
         "7_adaptive",
         "GOOD",
         "False",
         "1.0",
         "0.9",
         "0.826",
         "0.997988224029541",
         "2",
         "0.0",
         "Grade A non production ready - traitement ML standard",
         null,
         "A",
         "False",
         "0.7"
        ],
        [
         "8",
         "8_adaptive",
         "GOOD",
         "True",
         "1.0",
         "0.9",
         "1.0",
         "0.9999900460243224",
         "2",
         "0.0",
         "Priorité standard basée sur confiance",
         null,
         "A",
         "True",
         "0.7"
        ],
        [
         "9",
         "9_adaptive",
         "CRITICAL",
         "False",
         "0.1",
         "0.2",
         "0.0960426330566406",
         "0.7991381883621216",
         "2",
         "0.0",
         "Grade D non production ready - traitement ML critique",
         null,
         "D",
         "False",
         "1.0"
        ],
        [
         "10",
         "10_adaptive",
         "EXCELLENT",
         "True",
         "1.0",
         "1.0",
         "0.8859999999999999",
         "0.99607253074646",
         "1",
         "0.0",
         "Priorité standard basée sur confiance",
         null,
         "A+",
         "True",
         "0.7"
        ],
        [
         "11",
         "11_adaptive",
         "GOOD",
         "True",
         "1.0",
         "1.0",
         "0.916",
         "0.9422397017478944",
         "2",
         "0.0",
         "Priorité standard basée sur confiance",
         null,
         "A+",
         "True",
         "0.7"
        ],
        [
         "12",
         "12_adaptive",
         "EXCELLENT",
         "True",
         "1.0",
         "0.9",
         "1.0",
         "1.0000001192092896",
         "0",
         "0.0",
         "Priorité standard basée sur confiance",
         null,
         "A",
         "True",
         "0.7"
        ],
        [
         "13",
         "13_adaptive",
         "CRITICAL",
         "False",
         "0.2374944043159485",
         "0.2",
         "0.3385048985481262",
         "0.994139850139618",
         "1",
         "0.0",
         "Grade D - requires ML validation",
         null,
         "D",
         "True",
         "0.95"
        ],
        [
         "14",
         "14_adaptive",
         "EXCELLENT",
         "True",
         "1.0",
         "0.9",
         "1.0",
         "1.0",
         "1",
         "0.0",
         "Priorité standard basée sur confiance",
         null,
         "A",
         "True",
         "0.7"
        ],
        [
         "15",
         "15_adaptive",
         "EXCELLENT",
         "True",
         "1.0",
         "1.0",
         "0.916",
         "1.0",
         "1",
         "0.0",
         "Priorité standard basée sur confiance",
         null,
         "A+",
         "True",
         "0.7"
        ],
        [
         "16",
         "16_adaptive",
         "GOOD",
         "True",
         "1.0",
         "0.7",
         "1.0",
         "0.989346444606781",
         "2",
         "0.0",
         "Priorité standard basée sur confiance",
         null,
         "B+",
         "True",
         "0.7"
        ],
        [
         "17",
         "17_adaptive",
         "GOOD",
         "True",
         "1.0",
         "0.7",
         "1.0",
         "0.8219472169876099",
         "1",
         "0.0",
         "Priorité standard basée sur confiance",
         null,
         "B+",
         "True",
         "0.7"
        ],
        [
         "18",
         "18_adaptive",
         "GOOD",
         "True",
         "1.0",
         "0.9",
         "0.796",
         "0.9675357937812804",
         "1",
         "0.0",
         "Priorité standard basée sur confiance",
         null,
         "A",
         "True",
         "0.7"
        ],
        [
         "19",
         "19_adaptive",
         "EXCELLENT",
         "True",
         "1.0",
         "1.0",
         "0.956",
         "0.9974556565284728",
         "0",
         "0.0",
         "Priorité standard basée sur confiance",
         null,
         "A+",
         "True",
         "0.7"
        ],
        [
         "20",
         "20_adaptive",
         "EXCELLENT",
         "True",
         "1.0",
         "0.9",
         "0.866",
         "0.876602828502655",
         "1",
         "0.0",
         "Priorité standard basée sur confiance",
         null,
         "A",
         "True",
         "0.7"
        ],
        [
         "21",
         "21_adaptive",
         "EXCELLENT",
         "True",
         "1.0",
         "1.0",
         "0.956",
         "0.960360825061798",
         "0",
         "0.0",
         "Priorité standard basée sur confiance",
         null,
         "A+",
         "True",
         "0.7"
        ],
        [
         "22",
         "22_adaptive",
         "MODERATE",
         "False",
         "0.7999999999999999",
         "0.6",
         "1.0",
         "0.5475156903266907",
         "3",
         "0.0",
         "Grade B non production ready - traitement ML élevé",
         null,
         "B",
         "False",
         "0.75"
        ],
        [
         "23",
         "23_adaptive",
         "CRITICAL",
         "False",
         "0.1083521854877472",
         "0.2",
         "0.097365864767478",
         "0.961173951625824",
         "1",
         "0.0",
         "Grade D non production ready - traitement ML critique",
         null,
         "D",
         "False",
         "1.0"
        ],
        [
         "24",
         "24_adaptive",
         "GOOD",
         "True",
         "1.0",
         "0.7",
         "1.0",
         "0.7335177063941956",
         "0",
         "0.0",
         "Priorité standard basée sur confiance",
         null,
         "B+",
         "True",
         "0.7"
        ],
        [
         "25",
         "25_adaptive",
         "GOOD",
         "True",
         "1.0",
         "0.7",
         "1.0",
         "0.9066699743270874",
         "1",
         "0.0",
         "Priorité standard basée sur confiance",
         null,
         "B+",
         "True",
         "0.7"
        ],
        [
         "26",
         "26_adaptive",
         "GOOD",
         "True",
         "1.0",
         "0.7",
         "1.0",
         "0.8033843040466309",
         "1",
         "0.0",
         "Priorité standard basée sur confiance",
         null,
         "B+",
         "True",
         "0.7"
        ],
        [
         "27",
         "27_adaptive",
         "EXCELLENT",
         "True",
         "1.0",
         "0.9",
         "0.916",
         "0.9241381287574768",
         "1",
         "0.0",
         "Priorité standard basée sur confiance",
         null,
         "A",
         "True",
         "0.7"
        ],
        [
         "28",
         "28_adaptive",
         "GOOD",
         "True",
         "0.86",
         "0.6",
         "1.0",
         "0.5902926325798035",
         "0",
         "0.0",
         "Priorité standard basée sur confiance",
         null,
         "B",
         "True",
         "0.7"
        ],
        [
         "29",
         "29_adaptive",
         "GOOD",
         "True",
         "1.0",
         "0.7",
         "1.0",
         "0.9101421236991882",
         "1",
         "0.0",
         "Priorité standard basée sur confiance",
         null,
         "B+",
         "True",
         "0.7"
        ],
        [
         "30",
         "30_adaptive",
         "EXCELLENT",
         "True",
         "1.0",
         "0.9",
         "0.876",
         "0.9523348808288574",
         "1",
         "0.0",
         "Priorité standard basée sur confiance",
         null,
         "A",
         "True",
         "0.7"
        ],
        [
         "31",
         "31_adaptive",
         "EXCELLENT",
         "True",
         "1.0",
         "0.9",
         "1.0",
         "1.0",
         "0",
         "0.0",
         "Priorité standard basée sur confiance",
         null,
         "A",
         "True",
         "0.7"
        ],
        [
         "32",
         "32_adaptive",
         "GOOD",
         "True",
         "1.0",
         "0.7",
         "1.0",
         "0.7923498749732971",
         "1",
         "0.0",
         "Priorité standard basée sur confiance",
         null,
         "B+",
         "True",
         "0.7"
        ],
        [
         "33",
         "33_adaptive",
         "GOOD",
         "True",
         "0.9944467234611511",
         "0.7",
         "1.0",
         "0.7148224115371704",
         "0",
         "0.0",
         "Priorité standard basée sur confiance",
         null,
         "B+",
         "True",
         "0.7"
        ],
        [
         "34",
         "34_adaptive",
         "GOOD",
         "True",
         "0.9810346412658693",
         "0.7",
         "1.0",
         "0.6701154708862305",
         "1",
         "0.0",
         "Priorité standard basée sur confiance",
         null,
         "B+",
         "True",
         "0.7"
        ],
        [
         "35",
         "35_adaptive",
         "GOOD",
         "True",
         "1.0",
         "0.7",
         "1.0",
         "0.9168684482574464",
         "0",
         "0.0",
         "Priorité standard basée sur confiance",
         null,
         "B+",
         "True",
         "0.7"
        ],
        [
         "36",
         "36_adaptive",
         "EXCELLENT",
         "True",
         "1.0",
         "1.0",
         "0.936",
         "0.91572242975235",
         "1",
         "0.0",
         "Priorité standard basée sur confiance",
         null,
         "A+",
         "True",
         "0.7"
        ],
        [
         "37",
         "37_adaptive",
         "CRITICAL",
         "False",
         "0.1",
         "0.2",
         "0.0838055736607029",
         "0.4729487299919128",
         "0",
         "0.0",
         "Grade D - requires ML validation",
         null,
         "D",
         "True",
         "1.0"
        ],
        [
         "38",
         "38_adaptive",
         "GOOD",
         "True",
         "1.0",
         "0.9",
         "0.936",
         "0.7744740843772888",
         "2",
         "0.0",
         "Priorité standard basée sur confiance",
         null,
         "A",
         "True",
         "0.7"
        ],
        [
         "39",
         "39_adaptive",
         "GOOD",
         "True",
         "1.0",
         "0.7",
         "1.0",
         "0.7945106029510498",
         "1",
         "0.0",
         "Priorité standard basée sur confiance",
         null,
         "B+",
         "True",
         "0.7"
        ],
        [
         "40",
         "40_adaptive",
         "GOOD",
         "True",
         "1.0",
         "0.7",
         "1.0",
         "0.9957470893859864",
         "1",
         "0.0",
         "Priorité standard basée sur confiance",
         null,
         "B+",
         "True",
         "0.7"
        ],
        [
         "41",
         "41_adaptive",
         "EXCELLENT",
         "True",
         "1.0",
         "0.9",
         "0.956",
         "0.7815355062484741",
         "0",
         "0.0",
         "Priorité standard basée sur confiance",
         null,
         "A",
         "True",
         "0.7"
        ],
        [
         "42",
         "42_adaptive",
         "GOOD",
         "True",
         "1.0",
         "1.0",
         "0.926",
         "0.9594295620918274",
         "3",
         "0.0",
         "Priorité standard basée sur confiance",
         null,
         "A+",
         "True",
         "0.7"
        ],
        [
         "43",
         "43_adaptive",
         "EXCELLENT",
         "True",
         "1.0",
         "1.0",
         "0.956",
         "0.889445424079895",
         "1",
         "0.0",
         "Priorité standard basée sur confiance",
         null,
         "A+",
         "True",
         "0.7"
        ],
        [
         "44",
         "44_adaptive",
         "CRITICAL",
         "False",
         "0.1",
         "0.2",
         "0.226674094429157",
         "0.8344650864601135",
         "0",
         "0.0",
         "Grade D - requires ML validation",
         null,
         "D",
         "True",
         "1.0"
        ],
        [
         "45",
         "45_adaptive",
         "EXCELLENT",
         "True",
         "1.0",
         "1.0",
         "0.956",
         "1.0",
         "0",
         "0.0",
         "Priorité standard basée sur confiance",
         null,
         "A+",
         "True",
         "0.7"
        ],
        [
         "46",
         "46_adaptive",
         "GOOD",
         "True",
         "1.0",
         "0.9",
         "0.866",
         "0.9555639028549194",
         "2",
         "0.0",
         "Priorité standard basée sur confiance",
         null,
         "A",
         "True",
         "0.7"
        ],
        [
         "47",
         "47_adaptive",
         "EXCELLENT",
         "True",
         "1.0",
         "1.0",
         "0.916",
         "0.9644334316253662",
         "0",
         "0.0",
         "Priorité standard basée sur confiance",
         null,
         "A+",
         "True",
         "0.7"
        ],
        [
         "48",
         "48_adaptive",
         "GOOD",
         "True",
         "1.0",
         "0.7",
         "1.0",
         "1.0",
         "1",
         "0.0",
         "Priorité standard basée sur confiance",
         null,
         "B+",
         "True",
         "0.7"
        ],
        [
         "49",
         "50_adaptive",
         "EXCELLENT",
         "True",
         "1.0",
         "0.9",
         "1.0",
         "1.0",
         "1",
         "0.0",
         "Priorité standard basée sur confiance",
         null,
         "A",
         "True",
         "0.7"
        ]
       ],
       "shape": {
        "columns": 14,
        "rows": 372
       }
      },
      "text/html": [
       "<div>\n",
       "<style scoped>\n",
       "    .dataframe tbody tr th:only-of-type {\n",
       "        vertical-align: middle;\n",
       "    }\n",
       "\n",
       "    .dataframe tbody tr th {\n",
       "        vertical-align: top;\n",
       "    }\n",
       "\n",
       "    .dataframe thead th {\n",
       "        text-align: right;\n",
       "    }\n",
       "</style>\n",
       "<table border=\"1\" class=\"dataframe\">\n",
       "  <thead>\n",
       "    <tr style=\"text-align: right;\">\n",
       "      <th></th>\n",
       "      <th>summary_id</th>\n",
       "      <th>tier</th>\n",
       "      <th>is_valid</th>\n",
       "      <th>validation_confidence</th>\n",
       "      <th>grade_score</th>\n",
       "      <th>coherence_score</th>\n",
       "      <th>factuality_score</th>\n",
       "      <th>issues_count</th>\n",
       "      <th>processing_time_ms</th>\n",
       "      <th>justification</th>\n",
       "      <th>source_id</th>\n",
       "      <th>original_grade</th>\n",
       "      <th>production_ready</th>\n",
       "      <th>level3_priority_final</th>\n",
       "    </tr>\n",
       "  </thead>\n",
       "  <tbody>\n",
       "    <tr>\n",
       "      <th>0</th>\n",
       "      <td>0_adaptive</td>\n",
       "      <td>GOOD</td>\n",
       "      <td>True</td>\n",
       "      <td>1.000000</td>\n",
       "      <td>0.9</td>\n",
       "      <td>0.760000</td>\n",
       "      <td>0.902675</td>\n",
       "      <td>2</td>\n",
       "      <td>0.0</td>\n",
       "      <td>Priorité standard basée sur confiance</td>\n",
       "      <td>None</td>\n",
       "      <td>A</td>\n",
       "      <td>True</td>\n",
       "      <td>0.70</td>\n",
       "    </tr>\n",
       "    <tr>\n",
       "      <th>1</th>\n",
       "      <td>1_adaptive</td>\n",
       "      <td>GOOD</td>\n",
       "      <td>True</td>\n",
       "      <td>1.000000</td>\n",
       "      <td>0.9</td>\n",
       "      <td>0.780000</td>\n",
       "      <td>1.000000</td>\n",
       "      <td>1</td>\n",
       "      <td>0.0</td>\n",
       "      <td>Priorité standard basée sur confiance</td>\n",
       "      <td>None</td>\n",
       "      <td>A</td>\n",
       "      <td>True</td>\n",
       "      <td>0.70</td>\n",
       "    </tr>\n",
       "    <tr>\n",
       "      <th>2</th>\n",
       "      <td>2_adaptive</td>\n",
       "      <td>EXCELLENT</td>\n",
       "      <td>True</td>\n",
       "      <td>1.000000</td>\n",
       "      <td>1.0</td>\n",
       "      <td>0.956000</td>\n",
       "      <td>1.000000</td>\n",
       "      <td>0</td>\n",
       "      <td>0.0</td>\n",
       "      <td>Priorité standard basée sur confiance</td>\n",
       "      <td>None</td>\n",
       "      <td>A+</td>\n",
       "      <td>True</td>\n",
       "      <td>0.70</td>\n",
       "    </tr>\n",
       "    <tr>\n",
       "      <th>3</th>\n",
       "      <td>3_adaptive</td>\n",
       "      <td>EXCELLENT</td>\n",
       "      <td>True</td>\n",
       "      <td>1.000000</td>\n",
       "      <td>0.9</td>\n",
       "      <td>0.876000</td>\n",
       "      <td>0.903475</td>\n",
       "      <td>1</td>\n",
       "      <td>0.0</td>\n",
       "      <td>Priorité standard basée sur confiance</td>\n",
       "      <td>None</td>\n",
       "      <td>A</td>\n",
       "      <td>True</td>\n",
       "      <td>0.70</td>\n",
       "    </tr>\n",
       "    <tr>\n",
       "      <th>4</th>\n",
       "      <td>4_adaptive</td>\n",
       "      <td>GOOD</td>\n",
       "      <td>True</td>\n",
       "      <td>1.000000</td>\n",
       "      <td>1.0</td>\n",
       "      <td>0.936000</td>\n",
       "      <td>1.000000</td>\n",
       "      <td>2</td>\n",
       "      <td>0.0</td>\n",
       "      <td>Priorité standard basée sur confiance</td>\n",
       "      <td>None</td>\n",
       "      <td>A+</td>\n",
       "      <td>True</td>\n",
       "      <td>0.70</td>\n",
       "    </tr>\n",
       "    <tr>\n",
       "      <th>...</th>\n",
       "      <td>...</td>\n",
       "      <td>...</td>\n",
       "      <td>...</td>\n",
       "      <td>...</td>\n",
       "      <td>...</td>\n",
       "      <td>...</td>\n",
       "      <td>...</td>\n",
       "      <td>...</td>\n",
       "      <td>...</td>\n",
       "      <td>...</td>\n",
       "      <td>...</td>\n",
       "      <td>...</td>\n",
       "      <td>...</td>\n",
       "      <td>...</td>\n",
       "    </tr>\n",
       "    <tr>\n",
       "      <th>367</th>\n",
       "      <td>181_confidence_weighted</td>\n",
       "      <td>MODERATE</td>\n",
       "      <td>False</td>\n",
       "      <td>0.941658</td>\n",
       "      <td>0.7</td>\n",
       "      <td>0.677476</td>\n",
       "      <td>0.938861</td>\n",
       "      <td>5</td>\n",
       "      <td>0.0</td>\n",
       "      <td>Grade B+ non production ready - traitement ML ...</td>\n",
       "      <td>None</td>\n",
       "      <td>B+</td>\n",
       "      <td>False</td>\n",
       "      <td>0.75</td>\n",
       "    </tr>\n",
       "    <tr>\n",
       "      <th>368</th>\n",
       "      <td>182_confidence_weighted</td>\n",
       "      <td>MODERATE</td>\n",
       "      <td>False</td>\n",
       "      <td>0.914382</td>\n",
       "      <td>0.7</td>\n",
       "      <td>0.649061</td>\n",
       "      <td>0.847942</td>\n",
       "      <td>5</td>\n",
       "      <td>0.0</td>\n",
       "      <td>Grade B+ non production ready - traitement ML ...</td>\n",
       "      <td>None</td>\n",
       "      <td>B+</td>\n",
       "      <td>False</td>\n",
       "      <td>0.75</td>\n",
       "    </tr>\n",
       "    <tr>\n",
       "      <th>369</th>\n",
       "      <td>183_confidence_weighted</td>\n",
       "      <td>CRITICAL</td>\n",
       "      <td>False</td>\n",
       "      <td>0.100000</td>\n",
       "      <td>0.2</td>\n",
       "      <td>0.301675</td>\n",
       "      <td>0.891555</td>\n",
       "      <td>6</td>\n",
       "      <td>0.0</td>\n",
       "      <td>Grade D non production ready - traitement ML c...</td>\n",
       "      <td>None</td>\n",
       "      <td>D</td>\n",
       "      <td>False</td>\n",
       "      <td>1.00</td>\n",
       "    </tr>\n",
       "    <tr>\n",
       "      <th>370</th>\n",
       "      <td>184_confidence_weighted</td>\n",
       "      <td>MODERATE</td>\n",
       "      <td>False</td>\n",
       "      <td>0.896209</td>\n",
       "      <td>0.7</td>\n",
       "      <td>0.653487</td>\n",
       "      <td>0.787365</td>\n",
       "      <td>5</td>\n",
       "      <td>0.0</td>\n",
       "      <td>Grade B+ non production ready - traitement ML ...</td>\n",
       "      <td>None</td>\n",
       "      <td>B+</td>\n",
       "      <td>False</td>\n",
       "      <td>0.75</td>\n",
       "    </tr>\n",
       "    <tr>\n",
       "      <th>371</th>\n",
       "      <td>185_confidence_weighted</td>\n",
       "      <td>MODERATE</td>\n",
       "      <td>False</td>\n",
       "      <td>0.976969</td>\n",
       "      <td>0.7</td>\n",
       "      <td>0.648881</td>\n",
       "      <td>0.956565</td>\n",
       "      <td>4</td>\n",
       "      <td>0.0</td>\n",
       "      <td>Grade B+ non production ready - traitement ML ...</td>\n",
       "      <td>None</td>\n",
       "      <td>B+</td>\n",
       "      <td>False</td>\n",
       "      <td>0.75</td>\n",
       "    </tr>\n",
       "  </tbody>\n",
       "</table>\n",
       "<p>372 rows × 14 columns</p>\n",
       "</div>"
      ],
      "text/plain": [
       "                  summary_id       tier  is_valid  validation_confidence  \\\n",
       "0                 0_adaptive       GOOD      True               1.000000   \n",
       "1                 1_adaptive       GOOD      True               1.000000   \n",
       "2                 2_adaptive  EXCELLENT      True               1.000000   \n",
       "3                 3_adaptive  EXCELLENT      True               1.000000   \n",
       "4                 4_adaptive       GOOD      True               1.000000   \n",
       "..                       ...        ...       ...                    ...   \n",
       "367  181_confidence_weighted   MODERATE     False               0.941658   \n",
       "368  182_confidence_weighted   MODERATE     False               0.914382   \n",
       "369  183_confidence_weighted   CRITICAL     False               0.100000   \n",
       "370  184_confidence_weighted   MODERATE     False               0.896209   \n",
       "371  185_confidence_weighted   MODERATE     False               0.976969   \n",
       "\n",
       "     grade_score  coherence_score  factuality_score  issues_count  \\\n",
       "0            0.9         0.760000          0.902675             2   \n",
       "1            0.9         0.780000          1.000000             1   \n",
       "2            1.0         0.956000          1.000000             0   \n",
       "3            0.9         0.876000          0.903475             1   \n",
       "4            1.0         0.936000          1.000000             2   \n",
       "..           ...              ...               ...           ...   \n",
       "367          0.7         0.677476          0.938861             5   \n",
       "368          0.7         0.649061          0.847942             5   \n",
       "369          0.2         0.301675          0.891555             6   \n",
       "370          0.7         0.653487          0.787365             5   \n",
       "371          0.7         0.648881          0.956565             4   \n",
       "\n",
       "     processing_time_ms                                      justification  \\\n",
       "0                   0.0              Priorité standard basée sur confiance   \n",
       "1                   0.0              Priorité standard basée sur confiance   \n",
       "2                   0.0              Priorité standard basée sur confiance   \n",
       "3                   0.0              Priorité standard basée sur confiance   \n",
       "4                   0.0              Priorité standard basée sur confiance   \n",
       "..                  ...                                                ...   \n",
       "367                 0.0  Grade B+ non production ready - traitement ML ...   \n",
       "368                 0.0  Grade B+ non production ready - traitement ML ...   \n",
       "369                 0.0  Grade D non production ready - traitement ML c...   \n",
       "370                 0.0  Grade B+ non production ready - traitement ML ...   \n",
       "371                 0.0  Grade B+ non production ready - traitement ML ...   \n",
       "\n",
       "    source_id original_grade  production_ready  level3_priority_final  \n",
       "0        None              A              True                   0.70  \n",
       "1        None              A              True                   0.70  \n",
       "2        None             A+              True                   0.70  \n",
       "3        None              A              True                   0.70  \n",
       "4        None             A+              True                   0.70  \n",
       "..        ...            ...               ...                    ...  \n",
       "367      None             B+             False                   0.75  \n",
       "368      None             B+             False                   0.75  \n",
       "369      None              D             False                   1.00  \n",
       "370      None             B+             False                   0.75  \n",
       "371      None             B+             False                   0.75  \n",
       "\n",
       "[372 rows x 14 columns]"
      ]
     },
     "execution_count": 21,
     "metadata": {},
     "output_type": "execute_result"
    }
   ],
   "source": [
    "df_results_with_ids"
   ]
  },
  {
   "cell_type": "code",
   "execution_count": 22,
   "id": "cell-21",
   "metadata": {},
   "outputs": [
    {
     "data": {
      "application/vnd.microsoft.datawrangler.viewer.v0+json": {
       "columns": [
        {
         "name": "index",
         "rawType": "int64",
         "type": "integer"
        },
        {
         "name": "level3_priority_final",
         "rawType": "float64",
         "type": "float"
        }
       ],
       "ref": "72d0b5b7-c110-43ac-bf1d-e342bb3899ab",
       "rows": [
        [
         "0",
         "0.7"
        ],
        [
         "1",
         "0.7"
        ],
        [
         "2",
         "0.7"
        ],
        [
         "3",
         "0.7"
        ],
        [
         "4",
         "0.7"
        ],
        [
         "5",
         "0.7"
        ],
        [
         "6",
         "0.7"
        ],
        [
         "7",
         "0.7"
        ],
        [
         "8",
         "0.7"
        ],
        [
         "9",
         "1.0"
        ],
        [
         "10",
         "0.7"
        ],
        [
         "11",
         "0.7"
        ],
        [
         "12",
         "0.7"
        ],
        [
         "13",
         "0.95"
        ],
        [
         "14",
         "0.7"
        ],
        [
         "15",
         "0.7"
        ],
        [
         "16",
         "0.7"
        ],
        [
         "17",
         "0.7"
        ],
        [
         "18",
         "0.7"
        ],
        [
         "19",
         "0.7"
        ],
        [
         "20",
         "0.7"
        ],
        [
         "21",
         "0.7"
        ],
        [
         "22",
         "0.75"
        ],
        [
         "23",
         "1.0"
        ],
        [
         "24",
         "0.7"
        ],
        [
         "25",
         "0.7"
        ],
        [
         "26",
         "0.7"
        ],
        [
         "27",
         "0.7"
        ],
        [
         "28",
         "0.7"
        ],
        [
         "29",
         "0.7"
        ],
        [
         "30",
         "0.7"
        ],
        [
         "31",
         "0.7"
        ],
        [
         "32",
         "0.7"
        ],
        [
         "33",
         "0.7"
        ],
        [
         "34",
         "0.7"
        ],
        [
         "35",
         "0.7"
        ],
        [
         "36",
         "0.7"
        ],
        [
         "37",
         "1.0"
        ],
        [
         "38",
         "0.7"
        ],
        [
         "39",
         "0.7"
        ],
        [
         "40",
         "0.7"
        ],
        [
         "41",
         "0.7"
        ],
        [
         "42",
         "0.7"
        ],
        [
         "43",
         "0.7"
        ],
        [
         "44",
         "1.0"
        ],
        [
         "45",
         "0.7"
        ],
        [
         "46",
         "0.7"
        ],
        [
         "47",
         "0.7"
        ],
        [
         "48",
         "0.7"
        ],
        [
         "49",
         "0.7"
        ]
       ],
       "shape": {
        "columns": 1,
        "rows": 372
       }
      },
      "text/plain": [
       "0      0.70\n",
       "1      0.70\n",
       "2      0.70\n",
       "3      0.70\n",
       "4      0.70\n",
       "       ... \n",
       "367    0.75\n",
       "368    0.75\n",
       "369    1.00\n",
       "370    0.75\n",
       "371    0.75\n",
       "Name: level3_priority_final, Length: 372, dtype: float64"
      ]
     },
     "execution_count": 22,
     "metadata": {},
     "output_type": "execute_result"
    }
   ],
   "source": [
    "df_results_with_ids[\"level3_priority_final\"]"
   ]
  },
  {
   "cell_type": "code",
   "execution_count": 23,
   "id": "cell-22",
   "metadata": {},
   "outputs": [
    {
     "data": {
      "text/plain": [
       "210"
      ]
     },
     "execution_count": 23,
     "metadata": {},
     "output_type": "execute_result"
    }
   ],
   "source": [
    "len(df_results_with_ids[df_results_with_ids[\"level3_priority_final\"] > 0.7])"
   ]
  },
  {
   "cell_type": "code",
   "execution_count": 24,
   "id": "cell-23",
   "metadata": {},
   "outputs": [
    {
     "name": "stdout",
     "output_type": "stream",
     "text": [
      "Manquants source_id (prioritaires): 210/210\n",
      "Manquants source_id (tous)        : 372/372\n",
      "Cutoffs — nb>0.7: 210 | nb>0.85: 81\n"
     ]
    }
   ],
   "source": [
    "# =========================\n",
    "# 9) Cas prioritaires + compteurs (PRIORITÉ FINALE)\n",
    "# =========================\n",
    "PRIORITY_COL = \"level3_priority_final\"  # on utilise la priorité recalculée\n",
    "\n",
    "priority_with_ids = df_results_with_ids[df_results_with_ids[PRIORITY_COL] > 0.7].copy()\n",
    "\n",
    "missing_prio  = int(priority_with_ids[\"source_id\"].isna().sum())\n",
    "missing_total = int(df_results_with_ids[\"source_id\"].isna().sum())\n",
    "\n",
    "print(f\"Manquants source_id (prioritaires): {missing_prio}/{len(priority_with_ids)}\")\n",
    "print(f\"Manquants source_id (tous)        : {missing_total}/{len(df_results_with_ids)}\")\n",
    "print(\"Cutoffs — nb>0.7:\", (df_results_with_ids[PRIORITY_COL] > 0.7).sum(),\n",
    "      \"| nb>0.85:\", (df_results_with_ids[PRIORITY_COL] > 0.85).sum())\n"
   ]
  },
  {
   "cell_type": "code",
   "execution_count": 25,
   "id": "cell-24",
   "metadata": {},
   "outputs": [
    {
     "name": "stdout",
     "output_type": "stream",
     "text": [
      "ÉCRIT :\n",
      " - c:\\Users\\beedi.goua_square-ma\\Desktop\\Gheb\\projet perso\\InsightDetector\\insight-detector\\outputs\\level2_simplified_results_with_ids.csv\n",
      " - c:\\Users\\beedi.goua_square-ma\\Desktop\\Gheb\\projet perso\\InsightDetector\\insight-detector\\outputs\\level2_simplified_priority_cases_with_ids.csv\n",
      " - c:\\Users\\beedi.goua_square-ma\\Desktop\\Gheb\\projet perso\\InsightDetector\\insight-detector\\outputs\\level2_output_with_source_id.json\n",
      " - c:\\Users\\beedi.goua_square-ma\\Desktop\\Gheb\\projet perso\\InsightDetector\\insight-detector\\outputs\\mapping_backfill_level2.csv\n",
      " - c:\\Users\\beedi.goua_square-ma\\Desktop\\Gheb\\projet perso\\InsightDetector\\insight-detector\\outputs\\mapping_level1id_to_source_id.csv\n"
     ]
    }
   ],
   "source": [
    "# =========================\n",
    "# 10) Exports (CSV/JSON + mapping L3)\n",
    "# =========================\n",
    "from pathlib import Path\n",
    "import json\n",
    "\n",
    "# chemins de sortie (out_dir doit être défini plus haut)\n",
    "csv_all  = out_dir / \"level2_simplified_results_with_ids.csv\"\n",
    "csv_prio = out_dir / \"level2_simplified_priority_cases_with_ids.csv\"\n",
    "json_all = out_dir / \"level2_output_with_source_id.json\"\n",
    "map_csv  = out_dir / \"mapping_backfill_level2.csv\"\n",
    "map_l1   = out_dir / \"mapping_level1id_to_source_id.csv\"\n",
    "\n",
    "# 10.1) résultats complets (avec la colonne level3_priority_final)\n",
    "df_results_with_ids.to_csv(csv_all, index=False, encoding=\"utf-8\")\n",
    "\n",
    "# 10.2) sous-ensemble prioritaire (>0.7 sur la priorité finale)\n",
    "(df_results_with_ids[df_results_with_ids[\"level3_priority_final\"] > 0.7]\n",
    " .to_csv(csv_prio, index=False, encoding=\"utf-8\"))\n",
    "\n",
    "# 10.3) JSON pour L3 (inclut la colonne de priorité utilisée)\n",
    "payload = {\n",
    "    \"summaries\": all_summaries_simplified,                    # chaque item peut contenir 'metadata' + 'source_id'\n",
    "    \"results\": df_results_with_ids.to_dict(orient=\"records\"), # résultats L2 fusionnés + priorité finale\n",
    "    \"stats\": level2.get_stats(),\n",
    "    \"priority_column\": \"level3_priority_final\",\n",
    "}\n",
    "json_all.write_text(json.dumps(payload, ensure_ascii=False, indent=2), encoding=\"utf-8\")\n",
    "\n",
    "# 10.4) Mapping summary_id -> source_id (accélère L3)\n",
    "(df_results_with_ids[[\"summary_id\", \"source_id\"]]\n",
    " .drop_duplicates(\"summary_id\")\n",
    " .to_csv(map_csv, index=False, encoding=\"utf-8\"))\n",
    "\n",
    "# 10.5) (bonus) Mapping level1_id -> source_id pour rejouer L3 directement depuis L1\n",
    "l1_rows = [{\"level1_id\": s[\"id\"], \"source_id\": s.get(\"source_id\")} for s in all_summaries_simplified]\n",
    "pd.DataFrame(l1_rows).to_csv(map_l1, index=False, encoding=\"utf-8\")\n",
    "\n",
    "print(\"ÉCRIT :\")\n",
    "print(\" -\", csv_all)\n",
    "print(\" -\", csv_prio)\n",
    "print(\" -\", json_all)\n",
    "print(\" -\", map_csv)\n",
    "print(\" -\", map_l1)\n"
   ]
  },
  {
   "cell_type": "code",
   "execution_count": 26,
   "id": "cell-25",
   "metadata": {},
   "outputs": [
    {
     "name": "stdout",
     "output_type": "stream",
     "text": [
      "\n",
      "-- KPI FINAUX --\n",
      "Total rows: 372\n",
      "Couverture source_id (tous): 0.0%\n",
      "Couverture source_id (prioritaires): 0.0%\n",
      "\n",
      "-- COHÉRENCE LEVEL1/LEVEL2 --\n",
      "Level1 production ready: 175/372 (47.0%)\n",
      "Level2 production ready: 175/372 (47.0%)\n",
      "Level2 validés: 159/372 (42.7%)\n",
      "\n",
      "-- ANALYSE PAR GRADE (L1 production_ready vs L2 validés) --\n",
      "  A: L1=60/62 (97%) | L2=60/62 (97%)\n",
      "  A+: L1=59/60 (98%) | L2=59/60 (98%)\n",
      "  B: L1=4/11 (36%) | L2=4/11 (36%)\n",
      "  B+: L1=36/158 (23%) | L2=36/158 (23%)\n",
      "  C: L1=0/17 (0%) | L2=0/17 (0%)\n",
      "  D: L1=16/64 (25%) | L2=0/64 (0%)\n",
      "\n",
      "-- RÉPARTITION TIERS --\n",
      "  MODERATE: 133 cas (35.8%) - 4 validés (3%)\n",
      "  GOOD: 82 cas (22.0%) - 79 validés (96%)\n",
      "  CRITICAL: 81 cas (21.8%) - 0 validés (0%)\n",
      "  EXCELLENT: 76 cas (20.4%) - 76 validés (100%)\n"
     ]
    }
   ],
   "source": [
    "# =========================\n",
    "# 11) Garde-fous finaux + Validation cohérence\n",
    "# =========================\n",
    "assert \"summary_id\" in df_results_with_ids.columns, \"summary_id manquant dans df_results_with_ids\"\n",
    "assert df_results_with_ids[\"summary_id\"].isna().sum() == 0, \"Il y a des summary_id NaN (anormal)\"\n",
    "assert len(df_results_with_ids) == len(df_results_simplified), \"Perte de lignes après merge (anormal)\"\n",
    "assert \"level3_priority_final\" in df_results_with_ids.columns, \"colonne level3_priority_final absente\"\n",
    "\n",
    "coverage_all  = 100 * (1 - df_results_with_ids[\"source_id\"].isna().mean())\n",
    "coverage_prio = 100 * (1 - (priority_with_ids[\"source_id\"].isna().mean() if len(priority_with_ids) else 0))\n",
    "\n",
    "# Validation cohérence avec level1\n",
    "l1_prod_ready = (df_level1[\"is_suspect\"] == False).sum()\n",
    "l2_valid = df_results_with_ids[\"is_valid\"].sum()\n",
    "l2_prod_ready = df_results_with_ids[\"production_ready\"].sum()\n",
    "\n",
    "print(\"\\n-- KPI FINAUX --\")\n",
    "print(f\"Total rows: {len(df_results_with_ids)}\")\n",
    "print(f\"Couverture source_id (tous): {coverage_all:.1f}%\")\n",
    "print(f\"Couverture source_id (prioritaires): {coverage_prio:.1f}%\")\n",
    "\n",
    "print(\"\\n-- COHÉRENCE LEVEL1/LEVEL2 --\")\n",
    "print(f\"Level1 production ready: {l1_prod_ready}/{len(df_level1)} ({l1_prod_ready/len(df_level1)*100:.1f}%)\")\n",
    "print(f\"Level2 production ready: {l2_prod_ready}/{len(df_results_with_ids)} ({l2_prod_ready/len(df_results_with_ids)*100:.1f}%)\")\n",
    "print(f\"Level2 validés: {l2_valid}/{len(df_results_with_ids)} ({l2_valid/len(df_results_with_ids)*100:.1f}%)\")\n",
    "\n",
    "# Analyse par grade des différences L1/L2\n",
    "print(\"\\n-- ANALYSE PAR GRADE (L1 production_ready vs L2 validés) --\")\n",
    "for grade in sorted(df_level1[\"original_grade\"].unique()):\n",
    "    l1_grade = df_level1[df_level1[\"original_grade\"] == grade]\n",
    "    l1_prod_count = (l1_grade[\"is_suspect\"] == False).sum()\n",
    "    l1_total = len(l1_grade)\n",
    "    \n",
    "    l2_grade = df_results_with_ids[df_results_with_ids[\"original_grade\"] == grade]\n",
    "    l2_valid_count = l2_grade[\"is_valid\"].sum()\n",
    "    l2_total = len(l2_grade)\n",
    "    \n",
    "    print(f\"  {grade}: L1={l1_prod_count}/{l1_total} ({l1_prod_count/l1_total*100:.0f}%) | L2={l2_valid_count}/{l2_total} ({l2_valid_count/l2_total*100:.0f}%)\")\n",
    "\n",
    "print(\"\\n-- RÉPARTITION TIERS --\")\n",
    "tier_counts = df_results_with_ids[\"tier\"].value_counts().sort_values(ascending=False)\n",
    "for tier, count in tier_counts.items():\n",
    "    pct = count/len(df_results_with_ids)*100\n",
    "    valid_in_tier = df_results_with_ids[df_results_with_ids[\"tier\"] == tier][\"is_valid\"].sum()\n",
    "    print(f\"  {tier}: {count} cas ({pct:.1f}%) - {valid_in_tier} validés ({valid_in_tier/count*100:.0f}%)\")"
   ]
  }
 ],
 "metadata": {
  "kernelspec": {
   "display_name": "venv",
   "language": "python",
   "name": "python3"
  },
  "language_info": {
   "codemirror_mode": {
    "name": "ipython",
    "version": 3
   },
   "file_extension": ".py",
   "mimetype": "text/x-python",
   "name": "python",
   "nbconvert_exporter": "python",
   "pygments_lexer": "ipython3",
   "version": "3.11.8"
  }
 },
 "nbformat": 4,
 "nbformat_minor": 4
}
