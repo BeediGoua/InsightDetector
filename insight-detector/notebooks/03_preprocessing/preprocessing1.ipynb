{
 "cells": [
  {
   "cell_type": "code",
   "execution_count": 1,
   "id": "839b63ac",
   "metadata": {},
   "outputs": [],
   "source": [
    "\n",
    "# Auto-reload pour développement interactif\n",
    "%load_ext autoreload\n",
    "%autoreload 2\n",
    "\n",
    "import pandas as pd\n",
    "import numpy as np\n",
    "import json\n",
    "import spacy\n",
    "from pathlib import Path\n",
    "from datetime import datetime\n",
    "import matplotlib.pyplot as plt\n",
    "import seaborn as sns\n",
    "from tqdm import tqdm\n",
    "import hashlib\n",
    "import re\n",
    "from collections import Counter\n",
    "import warnings\n",
    "import sys\n",
    "warnings.filterwarnings('ignore')\n",
    "\n",
    "# NLP avancé\n",
    "import nltk\n",
    "from nltk.tokenize import sent_tokenize\n",
    "from nltk.corpus import stopwords\n",
    "\n",
    "# Détection de langue\n",
    "from langdetect import detect, detect_langs\n",
    "from langdetect.lang_detect_exception import LangDetectException\n",
    "\n",
    "# Preprocessing texte\n",
    "import unicodedata\n",
    "import ftfy  # Pour corriger les encodages\n",
    "from bs4 import BeautifulSoup\n",
    "\n",
    "# Similarité et déduplication\n",
    "from sklearn.feature_extraction.text import TfidfVectorizer\n",
    "from sklearn.metrics.pairwise import cosine_similarity\n",
    "from sentence_transformers import SentenceTransformer\n",
    "import faiss\n"
   ]
  },
  {
   "cell_type": "code",
   "execution_count": 2,
   "id": "86cbfdf7",
   "metadata": {},
   "outputs": [
    {
     "name": "stdout",
     "output_type": "stream",
     "text": [
      "Répertoire de données: C:\\Users\\beedi.goua_square-ma\\Desktop\\Gheb\\projet perso\\InsightDetector\\insight-detector\\data\n",
      "Répertoire de sortie: C:\\Users\\beedi.goua_square-ma\\Desktop\\Gheb\\projet perso\\InsightDetector\\insight-detector\\data\\processed\n"
     ]
    }
   ],
   "source": [
    "\n",
    "# Configuration\n",
    "BASE_DIR = Path().resolve().parent.parent\n",
    "sys.path.append(str(BASE_DIR / \"src\"))\n",
    "\n",
    "# Répertoires\n",
    "DATA_DIR = BASE_DIR / \"data\"\n",
    "EXPORTS_DIR = DATA_DIR / \"exports\"\n",
    "PROCESSED_DIR = DATA_DIR / \"processed\"\n",
    "PROCESSED_DIR.mkdir(exist_ok=True)\n",
    "\n",
    "# Configuration des modèles\n",
    "#NLP_MODEL = \"fr_core_news_lg\"  # Modèle spaCy français\n",
    "NLP_MODEL = \"fr_core_news_sm\"  # Modèle spaCy français léger pour éviter les problèmes de mémoire\n",
    "EMBEDDINGS_MODEL = \"paraphrase-multilingual-MiniLM-L12-v2\"\n",
    "SIMILARITY_THRESHOLD = 0.85  # Seuil de similarité pour déduplication\n",
    "\n",
    "print(f\"Répertoire de données: {DATA_DIR}\")\n",
    "print(f\"Répertoire de sortie: {PROCESSED_DIR}\")\n",
    "\n",
    "\n"
   ]
  },
  {
   "cell_type": "code",
   "execution_count": 3,
   "id": "db2ad59b",
   "metadata": {},
   "outputs": [],
   "source": [
    "# Chargement du fichier JSON enrichi (priorité) ou brut (fallback)\n",
    "enriched_file = EXPORTS_DIR / \"enriched_article.json\"  # MODIFIÉ: sans \"s\"\n",
    "enriched_files_alt = EXPORTS_DIR / \"enriched_articles.json\"  # Alternative\n",
    "raw_file = EXPORTS_DIR / \"raw_articles.json\"\n"
   ]
  },
  {
   "cell_type": "code",
   "execution_count": 4,
   "id": "f852fd41",
   "metadata": {},
   "outputs": [
    {
     "name": "stdout",
     "output_type": "stream",
     "text": [
      " FICHIER ENRICHI ALTERNATIF DÉTECTÉ: C:\\Users\\beedi.goua_square-ma\\Desktop\\Gheb\\projet perso\\InsightDetector\\insight-detector\\data\\exports\\enriched_articles.json\n",
      "   Mode: Preprocessing avancé sur données pré-enrichies\n"
     ]
    }
   ],
   "source": [
    "\n",
    "# Détection automatique du fichier source - MODIFIÉE\n",
    "if enriched_file.exists():\n",
    "    source_file = enriched_file\n",
    "    print(f\" FICHIER ENRICHI DÉTECTÉ: {enriched_file}\")\n",
    "    print(\"   Mode: Preprocessing avancé sur données pré-enrichies\")\n",
    "elif enriched_files_alt.exists():\n",
    "    source_file = enriched_files_alt\n",
    "    print(f\" FICHIER ENRICHI ALTERNATIF DÉTECTÉ: {enriched_files_alt}\")\n",
    "    print(\"   Mode: Preprocessing avancé sur données pré-enrichies\")\n",
    "elif raw_file.exists():\n",
    "    source_file = raw_file\n",
    "    print(f\" FICHIER BRUT DÉTECTÉ: {raw_file}\")\n",
    "    print(\"   → Mode: Preprocessing complet depuis zéro\")\n",
    "else:\n",
    "    print(f\" ERREUR: Aucun fichier source trouvé!\")\n",
    "    print(f\"   Recherche: {enriched_file} OU {raw_file}\")\n",
    "    print(\"   Solution: Exécutez d'abord collect_articles.ipynb ou enrich_articles.ipynb\")\n",
    "    exit(1)\n",
    "\n",
    "with open(source_file, 'r', encoding='utf-8') as f:\n",
    "    articles_data = json.load(f)\n",
    "\n",
    "\n",
    "\n"
   ]
  },
  {
   "cell_type": "code",
   "execution_count": null,
   "id": "98d01366",
   "metadata": {},
   "outputs": [
    {
     "name": "stdout",
     "output_type": "stream",
     "text": [
      " 200 articles chargés depuis enriched_articles.json\n"
     ]
    }
   ],
   "source": [
    "# Mode adaptatif selon la source \n",
    "ENRICHED_MODE = \"enriched_article\" in str(source_file) \n",
    "\n",
    "print(f\" {len(articles_data)} articles chargés depuis {source_file.name}\")\n",
    "\n"
   ]
  },
  {
   "cell_type": "code",
   "execution_count": 6,
   "id": "c3ec2e4a",
   "metadata": {},
   "outputs": [],
   "source": [
    "# Conversion en DataFrame pour manipulation\n",
    "df = pd.DataFrame(articles_data)"
   ]
  },
  {
   "cell_type": "code",
   "execution_count": 7,
   "id": "0279f31a",
   "metadata": {},
   "outputs": [
    {
     "name": "stdout",
     "output_type": "stream",
     "text": [
      "\n",
      " HARMONISATION DES NOMS DE COLONNES\n",
      "    Harmonisation: cleaned_text → text_cleaned\n"
     ]
    }
   ],
   "source": [
    "print(\"\\n HARMONISATION DES NOMS DE COLONNES\")\n",
    "\n",
    "# Harmonisation text_cleaned vs cleaned_text\n",
    "if 'cleaned_text' in df.columns and 'text_cleaned' not in df.columns:\n",
    "    df['text_cleaned'] = df['cleaned_text']\n",
    "    print(\"    Harmonisation: cleaned_text → text_cleaned\")\n",
    "elif 'text' in df.columns and 'text_cleaned' not in df.columns:\n",
    "    df['text_cleaned'] = df['text']\n",
    "    print(\"    Création: text → text_cleaned\")"
   ]
  },
  {
   "cell_type": "code",
   "execution_count": 8,
   "id": "f6dfd8ac",
   "metadata": {},
   "outputs": [
    {
     "name": "stdout",
     "output_type": "stream",
     "text": [
      "    Toutes les colonnes essentielles présentes\n"
     ]
    }
   ],
   "source": [
    "# Vérification des colonnes essentielles\n",
    "required_columns = ['title', 'text', 'source']\n",
    "missing_columns = [col for col in required_columns if col not in df.columns]\n",
    "if missing_columns:\n",
    "    print(f\"     Colonnes manquantes: {missing_columns}\")\n",
    "else:\n",
    "    print(\"    Toutes les colonnes essentielles présentes\")"
   ]
  },
  {
   "cell_type": "code",
   "execution_count": 9,
   "id": "2bee8759",
   "metadata": {},
   "outputs": [
    {
     "name": "stdout",
     "output_type": "stream",
     "text": [
      "\n",
      " STRUCTURE DES DONNÉES:\n",
      "   Colonnes: ['id', 'title', 'summary', 'text', 'published', 'source', 'url', 'created_at', 'cleaned_text', 'language', 'entities', 'embedding', 'quality_score', 'text_cleaned']\n",
      "   Articles avec texte complet: 200\n",
      "   Articles sans texte: 0\n",
      "   Articles avec texte nettoyé: 200\n",
      "   Longueur moyenne du texte: 6995 caractères\n"
     ]
    }
   ],
   "source": [
    "# Inspection rapide\n",
    "print(f\"\\n STRUCTURE DES DONNÉES:\")\n",
    "print(f\"   Colonnes: {list(df.columns)}\")\n",
    "print(f\"   Articles avec texte complet: {df['text'].notna().sum()}\")\n",
    "print(f\"   Articles sans texte: {df['text'].isna().sum()}\")\n",
    "if 'text_cleaned' in df.columns:\n",
    "    print(f\"   Articles avec texte nettoyé: {df['text_cleaned'].notna().sum()}\")\n",
    "print(f\"   Longueur moyenne du texte: {df['text'].str.len().mean():.0f} caractères\")\n"
   ]
  },
  {
   "cell_type": "code",
   "execution_count": 10,
   "id": "b59b4092",
   "metadata": {},
   "outputs": [
    {
     "name": "stdout",
     "output_type": "stream",
     "text": [
      "\n",
      " ÉTAPE 2: Analyse adaptative des données\n"
     ]
    }
   ],
   "source": [
    "print(\"\\n ÉTAPE 2: Analyse adaptative des données\")\n",
    "\n",
    "# Détection des colonnes d'enrichissement déjà présentes\n",
    "enrichment_columns = {\n",
    "    'language': 'language' in df.columns and df['language'].notna().sum() > 0,\n",
    "    'entities': 'entities' in df.columns and df['entities'].notna().sum() > 0,\n",
    "    'quality_score': 'quality_score' in df.columns and df['quality_score'].notna().sum() > 0,\n",
    "    'embedding': 'embedding' in df.columns and df['embedding'].notna().sum() > 0\n",
    "}\n"
   ]
  },
  {
   "cell_type": "code",
   "execution_count": 11,
   "id": "e46e3cad",
   "metadata": {},
   "outputs": [
    {
     "name": "stdout",
     "output_type": "stream",
     "text": [
      "\n",
      " ÉTAT DES ENRICHISSEMENTS EXISTANTS:\n",
      "   language:  Présent (200 articles)\n",
      "   entities:  Présent (200 articles)\n",
      "   quality_score:  Présent (200 articles)\n",
      "   embedding:  Présent (200 articles)\n"
     ]
    }
   ],
   "source": [
    "print(f\"\\n ÉTAT DES ENRICHISSEMENTS EXISTANTS:\")\n",
    "for col, present in enrichment_columns.items():\n",
    "    status = \" Présent\" if present else \" Absent\" \n",
    "    count = df[col].notna().sum() if present else 0\n",
    "    print(f\"   {col}: {status} ({count} articles)\")"
   ]
  },
  {
   "cell_type": "code",
   "execution_count": 12,
   "id": "0299ac3f",
   "metadata": {},
   "outputs": [
    {
     "name": "stdout",
     "output_type": "stream",
     "text": [
      "\n",
      " MODE DÉTECTÉ: Preprocessing complémentaire avancé\n",
      "   → Focus: Déduplication, biais, corpus calibration, métriques avancées\n"
     ]
    }
   ],
   "source": [
    "# Adaptation de la stratégie\n",
    "if enrichment_columns['language'] and enrichment_columns['entities']:\n",
    "    print(f\"\\n MODE DÉTECTÉ: Preprocessing complémentaire avancé\")\n",
    "    print(f\"   → Focus: Déduplication, biais, corpus calibration, métriques avancées\")\n",
    "    SKIP_BASIC_ENRICHMENT = True\n",
    "else:\n",
    "    print(f\"\\n MODE DÉTECTÉ: Preprocessing complet depuis zéro\") \n",
    "    print(f\"   → Pipeline: Enrichissement + Analyses avancées\")\n",
    "    SKIP_BASIC_ENRICHMENT = False"
   ]
  },
  {
   "cell_type": "code",
   "execution_count": null,
   "id": "9abb81e0",
   "metadata": {},
   "outputs": [
    {
     "name": "stdout",
     "output_type": "stream",
     "text": [
      "\n",
      " ÉTAPE 3: Nettoyage avancé des données\n"
     ]
    }
   ],
   "source": [
    "print(\"\\n ÉTAPE 3: Nettoyage  des données\")\n",
    "\n",
    "def clean_text_advanced(text):\n",
    "    \"\"\"Nettoyage  du texte\"\"\"\n",
    "    if pd.isna(text) or not text:\n",
    "        return \"\"\n",
    "    \n",
    "    # Correction encodage\n",
    "    text = ftfy.fix_text(text)\n",
    "    \n",
    "    # Suppression HTML résiduel\n",
    "    text = BeautifulSoup(text, \"html.parser\").get_text()\n",
    "    \n",
    "    # Normalisation Unicode\n",
    "    text = unicodedata.normalize('NFKC', text)\n",
    "    \n",
    "    # Suppression caractères de contrôle\n",
    "    text = re.sub(r'[\\x00-\\x1f\\x7f-\\x9f]', '', text)\n",
    "    \n",
    "    # Normalisation espaces\n",
    "    text = re.sub(r'\\s+', ' ', text)\n",
    "    \n",
    "    # Suppression URLs et emails\n",
    "    text = re.sub(r'http[s]?://\\S+', '', text)\n",
    "    text = re.sub(r'\\S+@\\S+', '', text)\n",
    "    \n",
    "    # Suppression patterns RSS spécifiques\n",
    "    text = re.sub(r'#xtor=RSS-\\d+.*', '', text)\n",
    "    text = re.sub(r'\\[.*?\\]$', '', text)  # Crédits en fin d'article\n",
    "    \n",
    "    return text.strip()\n"
   ]
  },
  {
   "cell_type": "code",
   "execution_count": null,
   "id": "2b31837f",
   "metadata": {},
   "outputs": [
    {
     "name": "stdout",
     "output_type": "stream",
     "text": [
      "    Textes déjà nettoyés détectés\n"
     ]
    }
   ],
   "source": [
    "# Application du nettoyage si nécessaire\n",
    "if 'text_cleaned' not in df.columns or df['text_cleaned'].isna().any():\n",
    "    print(\"    Application du nettoyage...\")\n",
    "    df['text_cleaned'] = df['text'].apply(clean_text_advanced)\n",
    "    print(f\"       {len(df)} textes nettoyés\")\n",
    "else:\n",
    "    print(\"    Textes déjà nettoyés détectés\")\n",
    "\n"
   ]
  },
  {
   "cell_type": "code",
   "execution_count": 15,
   "id": "d9152712",
   "metadata": {},
   "outputs": [
    {
     "name": "stdout",
     "output_type": "stream",
     "text": [
      "    Filtrage longueur minimum (100 chars): 200 → 200 articles\n"
     ]
    }
   ],
   "source": [
    "# Filtrage des articles trop courts ou vides\n",
    "min_length = 100  # caractères minimum\n",
    "df_clean = df[df['text_cleaned'].str.len() >= min_length].copy()\n",
    "print(f\"    Filtrage longueur minimum ({min_length} chars): {len(df)} → {len(df_clean)} articles\")\n",
    "\n"
   ]
  },
  {
   "cell_type": "code",
   "execution_count": null,
   "id": "e3bb1357",
   "metadata": {},
   "outputs": [
    {
     "name": "stdout",
     "output_type": "stream",
     "text": [
      "\n",
      "ÉTAPE 4: Gestion intelligente de la langue\n",
      "     Langues déjà détectées, validation des données...\n"
     ]
    }
   ],
   "source": [
    "print(\"\\nÉTAPE 4: Gestion de la langue\")\n",
    "\n",
    "if not enrichment_columns['language'] or not SKIP_BASIC_ENRICHMENT:\n",
    "    print(\"    Détection de langue en cours...\")\n",
    "    \n",
    "    def detect_language_robust(text):\n",
    "        \"\"\"Détection de langue avec fallback\"\"\"\n",
    "        if not text or len(text) < 50:\n",
    "            return 'unknown', 0.0\n",
    "        \n",
    "        try:\n",
    "            # langdetect avec probabilités\n",
    "            langs = detect_langs(text)\n",
    "            primary_lang = langs[0]\n",
    "            return primary_lang.lang, primary_lang.prob\n",
    "        except LangDetectException:\n",
    "            # Fallback: détection basique\n",
    "            try:\n",
    "                return detect(text), 0.5\n",
    "            except:\n",
    "                return 'unknown', 0.0\n",
    "\n",
    "    # Application de la détection\n",
    "    language_results = df_clean['text_cleaned'].apply(detect_language_robust)\n",
    "    df_clean['language'] = [result[0] for result in language_results]\n",
    "    df_clean['language_confidence'] = [result[1] for result in language_results]\n",
    "    \n",
    "    print(f\"    Détection de langue terminée\")\n",
    "else:\n",
    "    print(\"     Langues déjà détectées, validation des données...\")\n",
    "    if 'language_confidence' not in df_clean.columns:\n",
    "        df_clean['language_confidence'] = df_clean['language'].apply(lambda x: 0.9 if x == 'fr' else 0.7)"
   ]
  },
  {
   "cell_type": "code",
   "execution_count": 17,
   "id": "eaad1e19",
   "metadata": {},
   "outputs": [
    {
     "name": "stdout",
     "output_type": "stream",
     "text": [
      "\n",
      " DISTRIBUTION DES LANGUES:\n",
      "   fr: 130 articles (65.0%)\n",
      "   en: 70 articles (35.0%)\n"
     ]
    }
   ],
   "source": [
    "# Analyse des langues détectées\n",
    "lang_counts = df_clean['language'].value_counts()\n",
    "print(f\"\\n DISTRIBUTION DES LANGUES:\")\n",
    "for lang, count in lang_counts.head(5).items():\n",
    "    pct = count / len(df_clean) * 100\n",
    "    print(f\"   {lang}: {count} articles ({pct:.1f}%)\")"
   ]
  },
  {
   "cell_type": "code",
   "execution_count": 18,
   "id": "e62f0872",
   "metadata": {},
   "outputs": [
    {
     "name": "stdout",
     "output_type": "stream",
     "text": [
      "   🇫🇷 Focus français: 130 articles sélectionnés\n"
     ]
    }
   ],
   "source": [
    "# Sélection intelligente selon la distribution\n",
    "if lang_counts.get('fr', 0) > len(df_clean) * 0.3:  # Si >30% en français\n",
    "    df_filtered = df_clean[df_clean['language'] == 'fr'].copy()\n",
    "    print(f\"   🇫🇷 Focus français: {len(df_filtered)} articles sélectionnés\")\n",
    "else:\n",
    "    # Garder top 2 langues si pas assez de français\n",
    "    top_langs = lang_counts.head(2).index.tolist()\n",
    "    df_filtered = df_clean[df_clean['language'].isin(top_langs)].copy()\n",
    "    print(f\"    Multi-langues: {len(df_filtered)} articles ({top_langs})\")\n",
    "\n"
   ]
  },
  {
   "cell_type": "code",
   "execution_count": null,
   "id": "19aa9043",
   "metadata": {},
   "outputs": [
    {
     "name": "stdout",
     "output_type": "stream",
     "text": [
      "    Chargement du modèle sentence-transformers...\n",
      "       Modèle paraphrase-multilingual-MiniLM-L12-v2 chargé avec succès\n",
      "    Génération des embeddings pour 130 articles...\n",
      "       Utilisation des embeddings existants\n",
      "    Configuration de l'index FAISS...\n",
      "    Recherche des doublons sémantiques...\n",
      "    Résultats déduplication:\n",
      "      Articles originaux: 130\n",
      "      Doublons détectés: 2\n",
      "      Articles finaux: 128\n",
      "      Taux de déduplication: 1.5%\n",
      "    Exemples de doublons détectés:\n",
      "      1. Similarité 0.860:\n",
      "         A: Décision « historique » ou « imprudente » : les ré...\n",
      "         B: Reconnaissance de la Palestine par la France : la ...\n",
      "      2. Similarité 0.877:\n",
      "         A: Faille chez Microsoft : une cyberattaque chinoise ...\n",
      "         B: Cyberattaque mondiale sur SharePoint : des pirates...\n"
     ]
    }
   ],
   "source": [
    "# Chargement du modèle d'embeddings avec gestion d'erreur\n",
    "print(\"    Chargement du modèle sentence-transformers...\")\n",
    "try:\n",
    "    embeddings_model = SentenceTransformer(EMBEDDINGS_MODEL)\n",
    "    print(f\"       Modèle {EMBEDDINGS_MODEL} chargé avec succès\")\n",
    "except OSError as e:\n",
    "    if \"pagination\" in str(e) or \"1455\" in str(e):\n",
    "        print(f\"        Erreur mémoire détectée, utilisation d'un modèle plus léger...\")\n",
    "        # Fallback vers un modèle encore plus petit\n",
    "        EMBEDDINGS_MODEL_FALLBACK = \"all-MiniLM-L6-v2\"\n",
    "        embeddings_model = SentenceTransformer(EMBEDDINGS_MODEL_FALLBACK)\n",
    "        print(f\"       Modèle fallback {EMBEDDINGS_MODEL_FALLBACK} chargé\")\n",
    "    else:\n",
    "        raise e\n",
    "\n",
    "def deduplicate_semantic(df, threshold=0.85):\n",
    "    \"\"\"Déduplication sémantique  avec FAISS et correction du type\"\"\"\n",
    "    \n",
    "    print(f\"    Génération des embeddings pour {len(df)} articles...\")\n",
    "    \n",
    "    # Utilisation des embeddings existants ou génération\n",
    "    if 'embedding' in df.columns and df['embedding'].notna().sum() > 0:\n",
    "        print(\"       Utilisation des embeddings existants\")\n",
    "        embeddings = []\n",
    "        for idx, emb in df['embedding'].items():\n",
    "            if isinstance(emb, (list, np.ndarray)) and len(emb) > 0:\n",
    "                embeddings.append(np.array(emb, dtype=np.float32))  \n",
    "            else:\n",
    "                # Génération pour les embeddings manquants\n",
    "                text = df.loc[idx, 'text_cleaned']\n",
    "                new_emb = embeddings_model.encode(text)\n",
    "                embeddings.append(np.array(new_emb, dtype=np.float32))  \n",
    "        embeddings = np.array(embeddings, dtype=np.float32)  \n",
    "    else:\n",
    "        print(\"       Génération des embeddings...\")\n",
    "        texts = df['text_cleaned'].tolist()\n",
    "        embeddings = embeddings_model.encode(texts, show_progress_bar=True)\n",
    "        embeddings = np.array(embeddings, dtype=np.float32)  \n",
    "    \n",
    "    # Configuration FAISS\n",
    "    print(\"    Configuration de l'index FAISS...\")\n",
    "    dimension = embeddings.shape[1]\n",
    "    index = faiss.IndexFlatIP(dimension)\n",
    "    \n",
    "    #  Normalisation avec vérification du type et copie\n",
    "    embeddings_normalized = embeddings.copy()  \n",
    "    if not embeddings_normalized.flags['C_CONTIGUOUS']:\n",
    "        embeddings_normalized = np.ascontiguousarray(embeddings_normalized)  \n",
    "    \n",
    "    faiss.normalize_L2(embeddings_normalized)  \n",
    "    index.add(embeddings_normalized)\n",
    "    \n",
    "    # Recherche des doublons\n",
    "    print(\"    Recherche des doublons sémantiques...\")\n",
    "    similarities, indices = index.search(embeddings_normalized, k=5)\n",
    "    \n",
    "    to_remove = set()\n",
    "    duplicate_pairs = []\n",
    "    \n",
    "    for i, (sim_scores, sim_indices) in enumerate(zip(similarities, indices)):\n",
    "        for j, (score, idx) in enumerate(zip(sim_scores, sim_indices)):\n",
    "            if j > 0 and score > threshold and idx not in to_remove and i not in to_remove:\n",
    "                # Garde le plus récent ou le mieux noté\n",
    "                if df.iloc[i].get('quality_score', 0) >= df.iloc[idx].get('quality_score', 0):\n",
    "                    to_remove.add(idx)\n",
    "                else:\n",
    "                    to_remove.add(i)\n",
    "                \n",
    "                duplicate_pairs.append((i, idx, score))\n",
    "    \n",
    "    # Suppression des doublons\n",
    "    df_dedup = df.drop(df.index[list(to_remove)]).copy()\n",
    "    \n",
    "    print(f\"    Résultats déduplication:\")\n",
    "    print(f\"      Articles originaux: {len(df)}\")\n",
    "    print(f\"      Doublons détectés: {len(to_remove)}\")\n",
    "    print(f\"      Articles finaux: {len(df_dedup)}\")\n",
    "    print(f\"      Taux de déduplication: {len(to_remove)/len(df)*100:.1f}%\")\n",
    "    \n",
    "    # Exemples de doublons détectés\n",
    "    if duplicate_pairs:\n",
    "        print(f\"    Exemples de doublons détectés:\")\n",
    "        for i, (idx1, idx2, sim) in enumerate(duplicate_pairs[:3]):\n",
    "            title1 = df.iloc[idx1]['title'][:50]\n",
    "            title2 = df.iloc[idx2]['title'][:50]\n",
    "            print(f\"      {i+1}. Similarité {sim:.3f}:\")\n",
    "            print(f\"         A: {title1}...\")\n",
    "            print(f\"         B: {title2}...\")\n",
    "    \n",
    "    return df_dedup, embeddings_normalized\n",
    "\n",
    "# Application \n",
    "df_clean_dedup, article_embeddings = deduplicate_semantic(df_filtered, SIMILARITY_THRESHOLD)"
   ]
  },
  {
   "cell_type": "code",
   "execution_count": null,
   "id": "be67fc98",
   "metadata": {},
   "outputs": [
    {
     "data": {
      "application/vnd.microsoft.datawrangler.viewer.v0+json": {
       "columns": [
        {
         "name": "index",
         "rawType": "int64",
         "type": "integer"
        },
        {
         "name": "entities",
         "rawType": "object",
         "type": "unknown"
        }
       ],
       "ref": "62ae6217-c686-42d5-bd5e-0929e699a437",
       "rows": [
        [
         "3",
         "{'PER': ['Alexandre Boyon', 'Alexis Decalonne', 'Allison Pineau', 'Amélie Mauresmo', 'Anne-Marie', 'Assad', 'Aurélie Halbwachs', 'Axelle Saint-Cirel', 'Aya Nakamura', 'Barbara Butch', 'Benjamin Brun', 'Bernard Arnault', 'Bruno de Lavenère', 'Carl Lewis', 'Christine Bravo', 'Cloués', 'Céline Dion', 'Daphné Bürki', 'David Douillet', 'Edith Piaf', 'Edouard Philippe', 'Elisabeth Borne', 'Emilie Le Pennec', 'Emmanuel Macron', 'Eternité', 'Florent Manaudou', 'Franck Royer', 'François-Mitterrand', 'Frou Frou', 'Gérald Darmanin', 'J. Perché', 'Jean Castex', 'Jean-François Lamour', 'Jean-François Perfetti', 'Jean-Philippe Leclaire', 'Johan Tonnoir', 'Joseph Duplantier', 'KEVIN C. COX', 'La Joconde', 'Lady Gaga', 'Laura Flessel', 'Laure Manaudou', 'Laurent Delahousse', 'Lilian Thuram', 'Louis Vuitton', 'Louis-Maël Bastié', 'Léonard de Vinci', 'MADDIE MEYER', 'Madeg Ciret-Le Cosquer', 'Marie-Antoinette', 'Marie-Jo Pérec', 'Marie-José Pérec', 'Martin Fourcade', 'Maxence De Schrooder', 'Michael Phelps', 'Morgane Suquard', 'Morgane Suquart', 'Mélina Robert-Michon', 'Nadal', 'Nadia Comaneci', 'Nathan Paulin', 'Patrick Boucheron', 'Paul', 'Perrine Duglet', 'Philippe Etchebest', 'Philippe Frénoi', 'Philippe Katerine', 'Pierre Coffin', 'Pierre Guichard', 'Pierre-Louis Tilly', 'Pierre-Yves Guillerm', 'Quasimodo', 'Rafael Nadal', 'Roland-Garros', 'Rémy Savary', 'Salim Akacem', 'Scott Price', 'Serena', 'Serena Williams', 'Simone de Beauvoir', 'Teddy Riner', 'Thierry Reboul', 'Thomas Jolly', 'Thomas Jolly JO', 'Tony Estanguet', 'Vuitton', 'Williams', 'daphneburki', 'président de la République'], 'MISC': ['Aznavour', 'CIO', 'CMDS Factory', 'Catastrophe !', 'Cérémonie', 'Dior', 'Djadja', 'Désolé', 'EMILIE LE PENNEC', 'GETTY IMAGES', 'Google !', 'Images', 'Impression trompeuse', 'J', 'JARED', 'JO', 'Jeux', 'Jeux Olympiques de Paris 2024', 'Jeux de Paris', 'Jeux olympiques de Paris', 'K-Way', 'La Marseillaise', 'Le Revers de la médaille', 'Minions', 'Nicky Doll', 'OBS', 'Paloma', 'Phryges', 'Piche', 'Pookie/For me formidable', 'Poster', 'Premiers', 'QR', 'SMS', 'Star Wars', 'Système D', 'THOMAS', 'TILTON', 'Tetris', 'Texto', 'Tu as quel numéro', 'Tu as vu celle-ci ?', 'Twitter', 'VICTOR LOCHON / GAMMA-RAPHO', 'Vuitton, ça', 'Z. Plan C', 'Zodiac', \"championne olympique d'Athènes\", 'franceinfo Coup de chaud', 'the place to be…', 'Ça', '👀 Petit aperçu du matériel nécessaire'], 'ORG': ['Aéroports de Paris', 'Bleus', 'Cese', 'Conseil économique, social et environnemental', 'DR', 'EQUIPE', 'EUROPE', 'French Bee', 'Fébrilité', 'Gojira', 'Google', \"L'Equipe\", 'LVMH', 'La', 'MADEG CIRET-LE COSQUER', 'MELINA', 'Médecins du monde', 'Météo-France', 'RATP', 'SNCF', 'TREM', 'VIP', 'anti-JO', 'franceinfo', 'franceinfo Encore', 'franceinfo Pas', 'franceinfo Trop', \"ministre de l'Intérieur\"], 'LOC': ['@daphneburki', '@reversmedaille', 'A prime', 'Bourget', 'Conciergerie', 'Consignerie', 'Direction le Louvre', 'Equipée', 'Etat', 'Formalités', 'Fort-de-France', 'France', 'Gaulois', 'Grand Palais', 'Houston', 'Instagram', 'Intensité', 'Ivry', 'Kiribati', \"L'Elysée\", 'Lille', 'Louvre', 'Monnaie de Paris', 'Météo-France', 'Nord', 'Notre-Dame', 'Outre-mer', 'Paris', 'Paris-Orly', 'Phryge', 'Pont-Neuf', 'Qatar', 'Québec', 'ROBERT-MICHON', 'Rio', 'Rouen', 'Samaritaine', 'Seine', 'Syrie', 'Trappés', 'Trocadéro', 'Ubiquité', 'bande du Louvre', 'courant de la Seine', \"d'Orly\", 'de France', 'de France Inter', 'du Havre', 'gare de Brest', \"l'Elysée\", 'la Seine', 'le Pont-Neuf', 'nuit de Linselles', \"palais de l'Elysée\", 'pont Alexandre-III', \"pont d'Austerlitz\", 'pont des Arts mouillé', 'quartier du Louvre', 'tour Eiffel', 'Île-de-France']}"
        ],
        [
         "26",
         "{'LOC': ['Cerro Pachón', 'Chili', 'Côte d’Azur', 'France', 'Futura', 'Grenoble', 'Hawaï', 'JupiterJupiter', 'Kuiper', 'Kuiperceinture', 'Laboratoire Joseph-Louis Lagrange', 'Laboratoire Joseph-Louis LagrangeJoseph-Louis Lagrange', 'Laboratoire Lagrange', \"Laboratoire d'astrophysique de Bordeaux\", 'Laboratoire de Physique', 'Laboratoire de Physique de Clermont Auvergne', 'Laboratoire de Physique de Clermont-Ferrand', 'Lune', 'Mars', 'NeptuneNeptune', 'Nouveau-Mexique', 'Observatoire Vera-C.-Rubin', \"Observatoire de la Côte d'Azur\", 'Oumuamua', 'SDSS', 'Sloan Digital Sky Survey', 'Soleil', 'SoleilSoleil', 'Tchourioumov-Guérassimenko', 'Terre', 'U1', 'Vera-Rubin', 'Voie lactée', 'astéroïdesastéroïdes', \"côte d'Azur\", 'la Terre', 'observatoire Rubin', \"observatoire d'ApacheApache Point\", 'soleil', 'supernovaesupernovae', 'États-Unis'], 'PER': ['Anais Möller', 'Benoit Carry', 'Charles Simonyi', 'Ciel', 'Emille E. O. Ishida', 'Emille Ishida', 'Euclid', 'Fink', 'Irène Joliot-CurieIrène Joliot-Curie', 'Julien Peloton', 'Konstantin Batygin', 'Lagrange L2point de Lagrange L2', 'Michael Brown', 'Sean Raymond', 'Simonyi', 'Vera C. Rubin Observatory', 'Vera-Rubin', 'XXe siècle', 'kilonovae', 'lumièrelumière'], 'MISC': ['2I', '3I/Atlas', 'Borisov', 'C', 'Comet Interceptor', 'Empty primordial asteroid belt', 'EuclidEuclid', 'Fink', 'GaiaGaia', 'Grand Tack', 'IJCLab', 'LSST', 'RosettaRosetta', 'S', 'Simonyi Survey Telescope', 'StarlinkStarlink', 'Système solaire', 'Système solaire considérées', 'Système solaire à 5', 'Système solaireSystème solaire', 'Télescope', 'Univers', 'VRO', 'machine learningmachine learning', '© Ideas in', '\\u202aRubin Observatory\\u202c'], 'ORG': ['CNRS', 'CNRS - Observatoire', 'DUAO', \"Diplôme universitaire d'astronomie observationnelle\", 'ESAESA', 'Futura', 'LPCA', 'LSST', 'Laboratoire de physiquephysique subatomique et de cosmologiecosmologie', 'NEOS', 'OBK', 'OCA', 'Swinburne University of Technology', 'Université Paris-Saclay']}"
        ],
        [
         "29",
         "{'MISC': ['Architecture', 'GRATUITE & ouverte', 'JO', 'JO de Paris', 'JOP', 'Jeux', 'Jeux de 1924', 'Jeux de Paris', 'Jeux de Paris 2024', 'Jeux olympiques', 'Jeux olympiques de Paris', 'Jeux olympiques de Paris 2024', \"L'air des Jeux de Paris 2024\", 'LESTAGE', 'MARTIN', 'Pilates', 'VenhoevenCS & Ateliers', 'catamaran, paddle', 'championnat de France', \"championnats d'Europe\", \"championnats d'Europe de canoë-kayak slalom\", \"ligue d'Île-de-France\", '👉https://t.co/v9VDilv4Za'], 'LOC': ['@sqy', 'Adidas Arena', 'Bouches-du-Rhône', 'Centre aquatique olympique', 'Centre aquatique olympique Métropole du Grand Paris', 'Chapelle', 'Cojop', 'Elancourt', 'Europe', 'June 5', 'Marina', 'Marina de Marseille', 'Marseillais', 'Marseille', 'Paris', 'Plaine Commune', 'Porte de la Chapelle', 'Prado', 'Promenade Georges Pompidou', 'Pumptrack', 'RDV', 'Roucas-Blanc', 'Saint-Denis', 'Saint-Quentin-en-Yvelines', 'Seine-Saint-Denis', 'Stade de France', 'Stade nautique olympique de Vaires-sur-Marne', 'Vaires-sur-Marne', 'Yves-du-Manoir', 'académie de Créteil', 'de France', 'département des Hauts-de-Seine', 'la Colline', 'la France', 'stade Yves du Manoir', 'stade Yves-du-Manoir', 'Élancourt ☀️ Envie'], 'ORG': ['AFP', 'Centre aquatique olympique', \"Comité d'organisation des\", 'FFC', 'France Travail', 'Fédération française de canoë-kayak', 'Fédération française de cyclisme', 'Fédération française de hockey sur gazon', 'Fédération française de voile', 'IDLVT', 'MAXPPP', 'MIGUEL MEDINA', 'Paris Basket Tyson Ward', 'Paris Basketball', 'Racing club de France', 'Récréa', 'franceinfo', 'franceinfo: sport'], 'PER': ['Florence Arthaud', 'Grégorie Lartigot', 'JL Bourg Basket', 'Ossip van Duivenbode', 'Pauline Ferrand-Prévot', 'Pilate', 'Qi Gong', 'Reconnaissable']}"
        ],
        [
         "31",
         "{'MISC': ['AI Act', 'AI Pact', 'ChatGPT', 'Copilot', 'DMA', 'Droit du numérique', 'GPAI', 'General-Purpose', 'IA Act', 'Le Chat', 'Mistral', 'OpenAI', 'Perplexity', 'RGPD'], 'LOC': ['AI', 'Anthropic', 'Bruxelles', 'Copilot', 'Dataset', 'Europe', 'Gemini', 'Llama', 'L’Europe', 'Université Paris-Saclay'], 'PER': ['Arnaud Latil', 'Claude', 'Midjourney', 'Patrick Kuban', 'Trump'], 'ORG': ['Bureau de l’IA', 'CNIL', 'Centre d’études et de recherches en droit de l’immatériel', 'Commission', 'Commission européenne', 'DSA', 'FLOP', 'IAG', 'MLex', 'Medef européen', 'Meta', 'Microsoft', 'Sorbonne Université', 'Union européenne', 'United Voice Artists', 'fédération internationale UVA']}"
        ],
        [
         "32",
         "{'MISC': [\"Avec le renfort d'\", \"C'est l'une des images de Paris 2024\", 'Challenger Series', 'Challengers Series', 'Championnat du monde', 'Championnats du monde', 'Championnats du monde en petit bassin', 'Championship Tour', 'Coupe de Prague', 'Coupe du monde de triathlon en salle', 'Coupe du monde mythique', 'Double championne olympique', 'Elle en rêvait après le traumatisme de Tokyo', 'Final 8', 'Final 8 de Ligue des nations', 'JO', 'JO 2024', 'Jeux', 'Jeux !', 'Jeux de Paris', 'Léon', 'Même mésaventure du côté', 'Open de Turquie', 'Orisha', 'Star', \"Sur la vague de Teahupo'o\", 'Tour de France', 'Tour de France Femmes', 'Tournoi du Six nations', 'Triathlon', 'championnats de France', 'Ça'], 'LOC': ['Alghero', 'Argentine', 'Australie', 'Brésil', 'Budapest', 'Cap', 'Chine', 'Douze', 'Elancourt', 'Espagne', 'Europe', 'Floride', 'France', 'Française', 'Hambourg', 'Hong Kong', 'Instagram', 'Italie', 'Kauli Vaast', 'Liévin', 'Londres', 'Los Angeles', 'Manille', 'Niangbo', 'Paris', 'Paris-Roubaix', 'Polynésie', 'Prague', 'Rugby', 'Supertri E', 'Torremolinos', 'Vaires-sur-Marne', 'de France', 'la France', 'la Seine', 'l’Afrique du Sud', 'post-JO', 'Élancourt'], 'ORG': ['Bleus', 'Cofidis', 'France Info', 'Fédération française de natation', 'Ligue des champions', 'Ligue des nations', 'Ouest-France', 'PSG', 'RMC', 'Taekwondo', 'WTCS', \"l'Équipe\"], 'PER': ['Althéa Laurin', 'Antoine Dupont', 'Benjamin Thomas', 'Boladé Apithy', 'Cassandre Beaugrand', 'Denis Auguin', 'Denis [Gargaud', 'Joris Daudet', 'Kauli Vaast', 'Léon Marchand', 'Manon Apithy-Brunet', 'NDLR', 'Nicolas Gestin', 'Pauline Ferrand-Prévot', 'Romain Mahieu', 'Sylvain André', 'Teddy Riner', 'Tony Estanguet', 'Tony [Estanguet', 'gamberger']}"
        ]
       ],
       "shape": {
        "columns": 1,
        "rows": 5
       }
      },
      "text/plain": [
       "3     {'PER': ['Alexandre Boyon', 'Alexis Decalonne'...\n",
       "26    {'LOC': ['Cerro Pachón', 'Chili', 'Côte d’Azur...\n",
       "29    {'MISC': ['Architecture', 'GRATUITE & ouverte'...\n",
       "31    {'MISC': ['AI Act', 'AI Pact', 'ChatGPT', 'Cop...\n",
       "32    {'MISC': ['Avec le renfort d'', 'C'est l'une d...\n",
       "Name: entities, dtype: object"
      ]
     },
     "execution_count": 20,
     "metadata": {},
     "output_type": "execute_result"
    }
   ],
   "source": [
    "df_clean_dedup[\"entities\"].head(5)  \n",
    "\n"
   ]
  },
  {
   "cell_type": "code",
   "execution_count": null,
   "id": "b9e9d770",
   "metadata": {},
   "outputs": [
    {
     "name": "stdout",
     "output_type": "stream",
     "text": [
      "\n",
      " ÉTAPE 6: Gestion avancée des entités nommées\n",
      "   Conversion et amélioration des entités existantes...\n"
     ]
    }
   ],
   "source": [
    "print(\"\\n ÉTAPE 6: Gestion des entités nommées\")\n",
    "\n",
    "if not enrichment_columns['entities'] or not SKIP_BASIC_ENRICHMENT:\n",
    "    print(\"    Extraction complète des entités avec spaCy...\")\n",
    "    \n",
    "    # Chargement du modèle spaCy français\n",
    "    print(f\"       Chargement du modèle spaCy: {NLP_MODEL}\")\n",
    "    try:\n",
    "        nlp = spacy.load(NLP_MODEL)\n",
    "    except OSError:\n",
    "        print(f\"      Modèle {NLP_MODEL} non trouvé. Installation...\")\n",
    "        import subprocess\n",
    "        subprocess.run(f\"python -m spacy download {NLP_MODEL}\", shell=True)\n",
    "        nlp = spacy.load(NLP_MODEL)\n",
    "\n",
    "    def extract_entities_advanced(text, nlp_model):\n",
    "        \"\"\"Extraction d'entités avec enrichissements\"\"\"\n",
    "        if not text or len(text) < 50:\n",
    "            return {\n",
    "                'persons': [], 'organizations': [], 'locations': [],\n",
    "                'dates': [], 'money': [], 'misc': []\n",
    "            }\n",
    "        \n",
    "        # Traitement avec spaCy \n",
    "        doc = nlp_model(text[:8000])  # Premier 8k caractères\n",
    "        \n",
    "        entities = {\n",
    "            'persons': [],\n",
    "            'organizations': [],\n",
    "            'locations': [],\n",
    "            'dates': [],\n",
    "            'money': [],\n",
    "            'misc': []\n",
    "        }\n",
    "        \n",
    "        for ent in doc.ents:\n",
    "            entity_text = ent.text.strip()\n",
    "            if len(entity_text) < 2:  # Ignorer entités trop courtes\n",
    "                continue\n",
    "                \n",
    "            if ent.label_ in ['PERSON']:\n",
    "                entities['persons'].append(entity_text)\n",
    "            elif ent.label_ in ['ORG']:\n",
    "                entities['organizations'].append(entity_text)\n",
    "            elif ent.label_ in ['GPE', 'LOC']:\n",
    "                entities['locations'].append(entity_text)\n",
    "            elif ent.label_ in ['DATE', 'TIME']:\n",
    "                entities['dates'].append(entity_text)\n",
    "            elif ent.label_ in ['MONEY']:\n",
    "                entities['money'].append(entity_text)\n",
    "            else:\n",
    "                entities['misc'].append(entity_text)\n",
    "        \n",
    "        # Déduplication et nettoyage\n",
    "        for key in entities:\n",
    "            entities[key] = list(set(entities[key]))  # Suppression doublons\n",
    "            entities[key] = [e for e in entities[key] if len(e) > 1]  # Filtrage longueur\n",
    "        \n",
    "        return entities\n",
    "\n",
    "    # Application de l'extraction d'entités\n",
    "    entities_results = []\n",
    "    for text in tqdm(df_clean_dedup['text_cleaned'], desc=\"Extraction NER\"):\n",
    "        entities = extract_entities_advanced(text, nlp)\n",
    "        entities_results.append(entities)\n",
    "\n",
    "    # Ajout des résultats au DataFrame\n",
    "    df_clean_dedup['entities_advanced'] = entities_results\n",
    "    \n",
    "    print(f\"       Extraction NER terminée\")\n",
    "    \n",
    "else:\n",
    "    print(\"   Conversion et amélioration des entités existantes...\")\n",
    "    \n",
    "    def convert_and_improve_entities(existing_entities):\n",
    "        \"\"\"CONVERSION du format existant + amélioration\"\"\"\n",
    "        if not existing_entities or not isinstance(existing_entities, dict):\n",
    "            return {\n",
    "                'persons': [], 'organizations': [], 'locations': [],\n",
    "                'dates': [], 'money': [], 'misc': []\n",
    "            }\n",
    "        \n",
    "        # CONVERSION DES FORMATS\n",
    "        converted = {\n",
    "            'persons': [],\n",
    "            'organizations': [],\n",
    "            'locations': [],\n",
    "            'dates': [],\n",
    "            'money': [],\n",
    "            'misc': []\n",
    "        }\n",
    "        \n",
    "        # Mapping des anciens noms vers les nouveaux\n",
    "        field_mapping = {\n",
    "            'PER': 'persons',           # PER → persons\n",
    "            'PERSON': 'persons',        # PERSON → persons  \n",
    "            'ORG': 'organizations',     # ORG → organizations\n",
    "            'LOC': 'locations',         # LOC → locations\n",
    "            'GPE': 'locations',         # GPE → locations (entités géopolitiques)\n",
    "            'MISC': 'misc',             # MISC → misc\n",
    "            'DATE': 'dates',            # DATE → dates\n",
    "            'TIME': 'dates',            # TIME → dates\n",
    "            'MONEY': 'money'            # MONEY → money\n",
    "        }\n",
    "        \n",
    "        # Conversion avec mapping\n",
    "        for old_key, entity_list in existing_entities.items():\n",
    "            if old_key in field_mapping:\n",
    "                new_key = field_mapping[old_key]\n",
    "                if isinstance(entity_list, list):\n",
    "                    # Nettoyage des entités\n",
    "                    cleaned = [str(e).strip() for e in entity_list if e and len(str(e)) > 1]\n",
    "                    # Déduplication case-insensitive\n",
    "                    seen = set()\n",
    "                    for entity in cleaned:\n",
    "                        if entity.lower() not in seen:\n",
    "                            converted[new_key].append(entity)\n",
    "                            seen.add(entity.lower())\n",
    "        \n",
    "        return converted\n",
    "    \n",
    "    # Application de la conversion\n",
    "    df_clean_dedup['entities_advanced'] = df_clean_dedup['entities'].apply(convert_and_improve_entities)\n",
    "    \n",
    "\n",
    "\n",
    "\n",
    "\n",
    "\n",
    "\n"
   ]
  },
  {
   "cell_type": "code",
   "execution_count": 23,
   "id": "5d7636a3",
   "metadata": {},
   "outputs": [
    {
     "name": "stdout",
     "output_type": "stream",
     "text": [
      "      Nouveau format: ['persons', 'organizations', 'locations', 'dates', 'money', 'misc']\n",
      "      Exemple locations: ['@daphneburki', '@reversmedaille', 'A prime']\n",
      "      Exemple organizations: ['Aéroports de Paris', 'Bleus', 'Cese']\n"
     ]
    }
   ],
   "source": [
    "# Vérification du résultat\n",
    "\n",
    "sample_entities = df_clean_dedup['entities_advanced'].iloc[0]\n",
    "print(f\"      Nouveau format: {list(sample_entities.keys())}\")\n",
    "print(f\"      Exemple locations: {sample_entities['locations'][:3]}\")\n",
    "print(f\"      Exemple organizations: {sample_entities['organizations'][:3]}\")"
   ]
  },
  {
   "cell_type": "code",
   "execution_count": 24,
   "id": "e79e3189",
   "metadata": {},
   "outputs": [],
   "source": [
    "# Création de colonnes métriques enrichies\n",
    "df_clean_dedup['persons_count'] = df_clean_dedup['entities_advanced'].apply(lambda x: len(x.get('persons', [])))\n",
    "df_clean_dedup['organizations_count'] = df_clean_dedup['entities_advanced'].apply(lambda x: len(x.get('organizations', [])))\n",
    "df_clean_dedup['locations_count'] = df_clean_dedup['entities_advanced'].apply(lambda x: len(x.get('locations', [])))\n",
    "df_clean_dedup['entities_total'] = (df_clean_dedup['persons_count'] + \n",
    "                                   df_clean_dedup['organizations_count'] + \n",
    "                                   df_clean_dedup['locations_count'])\n"
   ]
  },
  {
   "cell_type": "code",
   "execution_count": 25,
   "id": "3e869780",
   "metadata": {},
   "outputs": [
    {
     "name": "stdout",
     "output_type": "stream",
     "text": [
      "\n",
      "   STATISTIQUES ENTITÉS AVANCÉES:\n",
      "      Moyenne personnes/article: 7.2\n",
      "      Moyenne organisations/article: 6.9\n",
      "      Moyenne lieux/article: 9.0\n",
      "      Moyenne total entités/article: 23.1\n"
     ]
    }
   ],
   "source": [
    "print(f\"\\n   STATISTIQUES ENTITÉS AVANCÉES:\")\n",
    "print(f\"      Moyenne personnes/article: {df_clean_dedup['persons_count'].mean():.1f}\")\n",
    "print(f\"      Moyenne organisations/article: {df_clean_dedup['organizations_count'].mean():.1f}\")\n",
    "print(f\"      Moyenne lieux/article: {df_clean_dedup['locations_count'].mean():.1f}\")\n",
    "print(f\"      Moyenne total entités/article: {df_clean_dedup['entities_total'].mean():.1f}\")"
   ]
  },
  {
   "cell_type": "code",
   "execution_count": 26,
   "id": "b15a893f",
   "metadata": {},
   "outputs": [],
   "source": [
    "# Top entités par catégorie\n",
    "\n",
    "all_persons = [p for entities in df_clean_dedup['entities_advanced'] for p in entities.get('persons', [])]\n",
    "all_orgs = [o for entities in df_clean_dedup['entities_advanced'] for o in entities.get('organizations', [])]\n",
    "all_locs = [l for entities in df_clean_dedup['entities_advanced'] for l in entities.get('locations', [])]\n"
   ]
  },
  {
   "cell_type": "code",
   "execution_count": 27,
   "id": "724a7549",
   "metadata": {},
   "outputs": [
    {
     "name": "stdout",
     "output_type": "stream",
     "text": [
      "      Personnes: Facebook Bluesky (31), Emmanuel Macron (15), Donald Trump (14)\n"
     ]
    }
   ],
   "source": [
    "\n",
    "if all_persons:\n",
    "    top_persons = Counter(all_persons).most_common(3)\n",
    "    print(f\"      Personnes: {', '.join([f'{p} ({c})' for p, c in top_persons])}\")\n",
    "\n"
   ]
  },
  {
   "cell_type": "code",
   "execution_count": 28,
   "id": "95f33349",
   "metadata": {},
   "outputs": [
    {
     "name": "stdout",
     "output_type": "stream",
     "text": [
      "      Organisations: AFP (27), Publicité (21), Google (11)\n"
     ]
    }
   ],
   "source": [
    "if all_orgs:\n",
    "    top_orgs = Counter(all_orgs).most_common(3)\n",
    "    print(f\"      Organisations: {', '.join([f'{o} ({c})' for o, c in top_orgs])}\")\n",
    "\n"
   ]
  },
  {
   "cell_type": "code",
   "execution_count": 29,
   "id": "b11a8a39",
   "metadata": {},
   "outputs": [
    {
     "name": "stdout",
     "output_type": "stream",
     "text": [
      "      Lieux: France (28), Paris (28), Europe (24)\n"
     ]
    }
   ],
   "source": [
    "if all_locs:\n",
    "    top_locs = Counter(all_locs).most_common(3)\n",
    "    print(f\"      Lieux: {', '.join([f'{l} ({c})' for l, c in top_locs])}\")"
   ]
  },
  {
   "cell_type": "code",
   "execution_count": 30,
   "id": "31f27c88",
   "metadata": {},
   "outputs": [
    {
     "data": {
      "text/plain": [
       "<Figure size 2000x1500 with 0 Axes>"
      ]
     },
     "metadata": {},
     "output_type": "display_data"
    }
   ],
   "source": [
    "# Configuration \n",
    "plt.style.use('seaborn-v0_8')\n",
    "plt.rcParams['figure.figsize'] = (15, 10)\n",
    "plt.rcParams['font.size'] = 12\n",
    "\n",
    "# Création d'une figure avec plusieurs sous-graphiques\n",
    "fig = plt.figure(figsize=(20, 15))"
   ]
  },
  {
   "cell_type": "code",
   "execution_count": 31,
   "id": "2b1c298a",
   "metadata": {},
   "outputs": [
    {
     "name": "stdout",
     "output_type": "stream",
     "text": [
      "\n",
      " ANALYSE GRAPHIQUE 1 - Distribution des entités:\n",
      "    Interprétation: Une répartition équilibrée (~33% chacun) indique un dataset diversifié.\n",
      "     Si un type domine (>50%), cela peut biaiser les modèles de résumé vers ce type d'entités.\n"
     ]
    },
    {
     "data": {
      "image/png": "[encoded data removed]",
      "text/plain": [
       "<Figure size 1500x1000 with 1 Axes>"
      ]
     },
     "metadata": {},
     "output_type": "display_data"
    }
   ],
   "source": [
    "\n",
    "\n",
    "plt.subplot(3, 3, 1)\n",
    "entity_counts = [\n",
    "    df_clean_dedup['persons_count'].sum(),\n",
    "    df_clean_dedup['organizations_count'].sum(), \n",
    "    df_clean_dedup['locations_count'].sum()\n",
    "]\n",
    "entity_labels = ['Personnes', 'Organisations', 'Lieux']\n",
    "colors = ['#FF6B6B', '#4ECDC4', '#45B7D1']\n",
    "\n",
    "plt.pie(entity_counts, labels=entity_labels, autopct='%1.1f%%', \n",
    "        colors=colors, startangle=90)\n",
    "plt.title(' Distribution des Types d\\'Entités', fontsize=14, fontweight='bold')\n",
    "\n",
    "print(f\"\\n ANALYSE GRAPHIQUE 1 - Distribution des entités:\")\n",
    "print(f\"    Interprétation: Une répartition équilibrée (~33% chacun) indique un dataset diversifié.\")\n",
    "print(f\"     Si un type domine (>50%), cela peut biaiser les modèles de résumé vers ce type d'entités.\")\n",
    "\n"
   ]
  },
  {
   "cell_type": "code",
   "execution_count": 32,
   "id": "15ebe347",
   "metadata": {},
   "outputs": [
    {
     "name": "stdout",
     "output_type": "stream",
     "text": [
      "\n",
      " ANALYSE GRAPHIQUE 2 - Boxplot entités:\n",
      "    Interprétation: Les outliers (points isolés) révèlent des articles exceptionnellement riches en entités.\n",
      "    Consigne: Vérifiez si les articles avec >15 entités sont de qualité ou contiennent du bruit.\n"
     ]
    },
    {
     "data": {
      "image/png": "[encoded data removed]",
      "text/plain": [
       "<Figure size 1500x1000 with 1 Axes>"
      ]
     },
     "metadata": {},
     "output_type": "display_data"
    }
   ],
   "source": [
    "\n",
    "plt.subplot(3, 3, 2)\n",
    "entity_data = [\n",
    "    df_clean_dedup['persons_count'].values,\n",
    "    df_clean_dedup['organizations_count'].values,\n",
    "    df_clean_dedup['locations_count'].values\n",
    "]\n",
    "\n",
    "bp = plt.boxplot(entity_data, labels=['Personnes', 'Orgs', 'Lieux'], \n",
    "                patch_artist=True)\n",
    "for patch, color in zip(bp['boxes'], colors):\n",
    "    patch.set_facecolor(color)\n",
    "    patch.set_alpha(0.7)\n",
    "\n",
    "plt.title(' Distribution des Entités par Article', fontsize=14, fontweight='bold')\n",
    "plt.ylabel('Nombre d\\'entités')\n",
    "\n",
    "print(f\"\\n ANALYSE GRAPHIQUE 2 - Boxplot entités:\")\n",
    "print(f\"    Interprétation: Les outliers (points isolés) révèlent des articles exceptionnellement riches en entités.\")\n",
    "print(f\"    Consigne: Vérifiez si les articles avec >15 entités sont de qualité ou contiennent du bruit.\")\n",
    "\n"
   ]
  },
  {
   "cell_type": "code",
   "execution_count": 33,
   "id": "2911fee3",
   "metadata": {},
   "outputs": [
    {
     "name": "stdout",
     "output_type": "stream",
     "text": [
      "\n",
      " ANALYSE GRAPHIQUE 3 - Longueur des textes:\n",
      "    Interprétation: Une distribution normale centrée sur 800-1500 chars est idéale pour le résumé.\n",
      "     Pic vers les textes courts (<500 chars) peut indiquer des articles incomplets ou de faible qualité.\n"
     ]
    },
    {
     "data": {
      "image/png": "[encoded data removed]",
      "text/plain": [
       "<Figure size 1500x1000 with 1 Axes>"
      ]
     },
     "metadata": {},
     "output_type": "display_data"
    }
   ],
   "source": [
    "\n",
    "plt.subplot(3, 3, 3)\n",
    "text_lengths = df_clean_dedup['text_cleaned'].str.len()\n",
    "plt.hist(text_lengths, bins=30, color='#96CEB4', alpha=0.7, edgecolor='black')\n",
    "plt.axvline(text_lengths.mean(), color='red', linestyle='--', \n",
    "           label=f'Moyenne: {text_lengths.mean():.0f} chars')\n",
    "plt.xlabel('Longueur du texte (caractères)')\n",
    "plt.ylabel('Nombre d\\'articles')\n",
    "plt.title(' Distribution de la Longueur des Textes', fontsize=14, fontweight='bold')\n",
    "plt.legend()\n",
    "\n",
    "print(f\"\\n ANALYSE GRAPHIQUE 3 - Longueur des textes:\")\n",
    "print(f\"    Interprétation: Une distribution normale centrée sur 800-1500 chars est idéale pour le résumé.\")\n",
    "print(f\"     Pic vers les textes courts (<500 chars) peut indiquer des articles incomplets ou de faible qualité.\")\n"
   ]
  },
  {
   "cell_type": "code",
   "execution_count": 34,
   "id": "89f81998",
   "metadata": {},
   "outputs": [
    {
     "name": "stdout",
     "output_type": "stream",
     "text": [
      "\n",
      " ANALYSE GRAPHIQUE 4 - Répartition des sources:\n",
      "    Interprétation: Une source qui domine (>30% du total) peut créer un biais éditorial dans les résumés.\n",
      "    Consigne: Surveillez la diversité - idéalement aucune source ne devrait dépasser 20% du dataset.\n"
     ]
    },
    {
     "data": {
      "image/png": "[encoded data removed]",
      "text/plain": [
       "<Figure size 1500x1000 with 1 Axes>"
      ]
     },
     "metadata": {},
     "output_type": "display_data"
    }
   ],
   "source": [
    "\n",
    "plt.subplot(3, 3, 4)\n",
    "top_sources = df_clean_dedup['source'].value_counts().head(10)\n",
    "# Raccourcir les noms de sources\n",
    "short_names = [name.split('/')[-1][:15] + '...' if len(name) > 15 else name.split('/')[-1] \n",
    "               for name in top_sources.index]\n",
    "\n",
    "plt.barh(range(len(top_sources)), top_sources.values, color='#FECA57')\n",
    "plt.yticks(range(len(top_sources)), short_names)\n",
    "plt.xlabel('Nombre d\\'articles')\n",
    "plt.title(' Top 10 des Sources', fontsize=14, fontweight='bold')\n",
    "\n",
    "print(f\"\\n ANALYSE GRAPHIQUE 4 - Répartition des sources:\")\n",
    "print(f\"    Interprétation: Une source qui domine (>30% du total) peut créer un biais éditorial dans les résumés.\")\n",
    "print(f\"    Consigne: Surveillez la diversité - idéalement aucune source ne devrait dépasser 20% du dataset.\")\n",
    "\n",
    "\n",
    "\n",
    "\n"
   ]
  },
  {
   "cell_type": "code",
   "execution_count": 35,
   "id": "d0481661",
   "metadata": {},
   "outputs": [
    {
     "data": {
      "application/vnd.microsoft.datawrangler.viewer.v0+json": {
       "columns": [
        {
         "name": "index",
         "rawType": "int64",
         "type": "integer"
        },
        {
         "name": "published",
         "rawType": "object",
         "type": "string"
        }
       ],
       "ref": "1104e14e-6203-496e-a4e9-51637640168a",
       "rows": [
        [
         "3",
         "2025-07-26T05:00:37"
        ],
        [
         "26",
         "2025-07-24T19:04:44"
        ],
        [
         "29",
         "2025-07-26T04:00:02"
        ],
        [
         "31",
         "2025-07-26T05:45:40"
        ],
        [
         "32",
         "2025-07-25T14:02:38"
        ],
        [
         "34",
         "2025-07-25T16:19:26"
        ],
        [
         "36",
         "2025-07-25T17:42:31"
        ],
        [
         "40",
         "2025-07-25T02:07:45"
        ],
        [
         "41",
         "2025-07-25T18:48:52"
        ],
        [
         "43",
         "2025-07-26T04:30:02"
        ],
        [
         "47",
         "2025-07-21T04:07:54"
        ],
        [
         "51",
         "2025-07-25T16:14:48"
        ],
        [
         "53",
         "2025-07-23T12:54:09"
        ],
        [
         "55",
         "2025-07-26T04:59:56"
        ],
        [
         "56",
         "2025-07-25T17:18:21"
        ],
        [
         "58",
         "2025-07-21T12:00:28"
        ],
        [
         "60",
         "2025-07-23T07:00:04"
        ],
        [
         "61",
         "2025-07-21T14:03:52"
        ],
        [
         "62",
         "2025-07-24T13:27:49"
        ],
        [
         "63",
         "2025-07-21T10:07:50"
        ],
        [
         "64",
         "2025-07-24T07:00:00"
        ],
        [
         "65",
         "2025-07-22T10:07:55"
        ],
        [
         "66",
         "2025-07-25T14:03:13"
        ],
        [
         "68",
         "2025-07-24T14:01:26"
        ],
        [
         "71",
         "2025-07-26T05:03:12"
        ],
        [
         "72",
         "2025-07-25T19:15:36"
        ],
        [
         "73",
         "2025-07-25T15:06:48"
        ],
        [
         "74",
         "2025-07-26T05:00:01"
        ],
        [
         "75",
         "2025-07-25T08:25:02"
        ],
        [
         "76",
         "2025-07-24T09:17:36"
        ],
        [
         "77",
         "2025-07-22T08:07:04"
        ],
        [
         "80",
         "2025-07-25T09:46:06"
        ],
        [
         "81",
         "2025-07-24T13:56:26"
        ],
        [
         "82",
         "2025-07-24T10:34:33"
        ],
        [
         "83",
         "2025-07-23T17:14:12"
        ],
        [
         "84",
         "2025-07-24T09:58:47"
        ],
        [
         "85",
         "2025-07-26T04:00:04"
        ],
        [
         "86",
         "2025-07-25T15:08:15"
        ],
        [
         "87",
         "2025-07-23T19:06:50"
        ],
        [
         "89",
         "2025-07-21T09:07:01"
        ],
        [
         "90",
         "2025-07-25T17:28:37"
        ],
        [
         "91",
         "2025-07-25T13:03:59"
        ],
        [
         "92",
         "2025-07-24T10:07:05"
        ],
        [
         "94",
         "2025-07-23T16:25:32"
        ],
        [
         "95",
         "2025-07-26T04:28:50"
        ],
        [
         "96",
         "2025-07-24T08:19:25"
        ],
        [
         "97",
         "2025-07-25T16:25:43"
        ],
        [
         "98",
         "2025-07-25T12:06:40"
        ],
        [
         "100",
         "2025-07-25T17:35:04"
        ],
        [
         "101",
         "2025-07-26T01:21:42"
        ]
       ],
       "shape": {
        "columns": 1,
        "rows": 128
       }
      },
      "text/plain": [
       "3      2025-07-26T05:00:37\n",
       "26     2025-07-24T19:04:44\n",
       "29     2025-07-26T04:00:02\n",
       "31     2025-07-26T05:45:40\n",
       "32     2025-07-25T14:02:38\n",
       "              ...         \n",
       "192    2025-07-25T19:30:51\n",
       "193    2025-07-25T06:01:35\n",
       "194    2025-07-19T11:07:22\n",
       "197    2025-07-25T12:46:24\n",
       "198    2025-07-25T23:05:15\n",
       "Name: published, Length: 128, dtype: object"
      ]
     },
     "execution_count": 35,
     "metadata": {},
     "output_type": "execute_result"
    }
   ],
   "source": [
    "df_clean_dedup[\"published\"] \n"
   ]
  },
  {
   "cell_type": "code",
   "execution_count": 36,
   "id": "b77e07f5",
   "metadata": {},
   "outputs": [
    {
     "name": "stdout",
     "output_type": "stream",
     "text": [
      "\n",
      " ANALYSE GRAPHIQUE 5 - Évolution temporelle:\n",
      "    Interprétation: Données concentrées sur 2025-07 - analyse granulaire activée.\n",
      "     Concentration temporelle forte peut indiquer une collecte ciblée ou événement spécifique.\n"
     ]
    },
    {
     "data": {
      "image/png": "[encoded data removed]",
      "text/plain": [
       "<Figure size 1500x1000 with 1 Axes>"
      ]
     },
     "metadata": {},
     "output_type": "display_data"
    }
   ],
   "source": [
    "plt.subplot(3, 3, 5)\n",
    "if 'published' in df_clean_dedup.columns:\n",
    "    # Conversion en datetime si ce n'est pas déjà fait\n",
    "    df_clean_dedup['published_clean'] = pd.to_datetime(df_clean_dedup['published'], errors='coerce')\n",
    "    \n",
    "    # Essayer d'abord par mois\n",
    "    df_clean_dedup['month_year'] = df_clean_dedup['published_clean'].dt.to_period('M')\n",
    "    monthly_counts = df_clean_dedup['month_year'].value_counts().sort_index()\n",
    "    \n",
    "    if len(monthly_counts) > 1:\n",
    "        # Affichage par mois si plusieurs mois\n",
    "        plt.plot(monthly_counts.index.astype(str), monthly_counts.values, \n",
    "                marker='o', color='#3742FA', linewidth=2)\n",
    "        plt.xticks(rotation=45)\n",
    "        plt.ylabel('Nombre d\\'articles')\n",
    "        plt.title(' Évolution Temporelle des Publications (par mois)', fontsize=14, fontweight='bold')\n",
    "    else:\n",
    "        # Si un seul mois, analyser par jour\n",
    "        df_clean_dedup['day_date'] = df_clean_dedup['published_clean'].dt.date\n",
    "        daily_counts = df_clean_dedup['day_date'].value_counts().sort_index()\n",
    "        \n",
    "        if len(daily_counts) > 1:\n",
    "            plt.plot(range(len(daily_counts)), daily_counts.values, \n",
    "                    marker='o', color='#3742FA', linewidth=2)\n",
    "            plt.xticks(range(0, len(daily_counts), max(1, len(daily_counts)//5)), \n",
    "                      [str(d) for d in daily_counts.index[::max(1, len(daily_counts)//5)]], \n",
    "                      rotation=45)\n",
    "            plt.ylabel('Nombre d\\'articles')\n",
    "            plt.title(' Évolution Temporelle des Publications (par jour)', fontsize=14, fontweight='bold')\n",
    "        else:\n",
    "            # Si un seul jour, analyser par heure\n",
    "            df_clean_dedup['hour'] = df_clean_dedup['published_clean'].dt.hour\n",
    "            hourly_counts = df_clean_dedup['hour'].value_counts().sort_index()\n",
    "            \n",
    "            if len(hourly_counts) > 1:\n",
    "                plt.bar(hourly_counts.index, hourly_counts.values, color='#3742FA', alpha=0.7)\n",
    "                plt.xlabel('Heure de publication')\n",
    "                plt.ylabel('Nombre d\\'articles')\n",
    "                plt.title(' Distribution Horaire des Publications', fontsize=14, fontweight='bold')\n",
    "            else:\n",
    "                plt.text(0.5, 0.5, 'Données temporelles\\nconcentrées sur\\nune seule heure', \n",
    "                        ha='center', va='center', transform=plt.gca().transAxes)\n",
    "                plt.title(' Évolution Temporelle', fontsize=14, fontweight='bold')\n",
    "else:\n",
    "    plt.text(0.5, 0.5, 'Colonne published\\nnon trouvée', \n",
    "            ha='center', va='center', transform=plt.gca().transAxes)\n",
    "    plt.title(' Évolution Temporelle', fontsize=14, fontweight='bold')\n",
    "\n",
    "print(f\"\\n ANALYSE GRAPHIQUE 5 - Évolution temporelle:\")\n",
    "print(f\"    Interprétation: Données concentrées sur {df_clean_dedup['month_year'].iloc[0]} - analyse granulaire activée.\")\n",
    "print(f\"     Concentration temporelle forte peut indiquer une collecte ciblée ou événement spécifique.\")\n"
   ]
  },
  {
   "cell_type": "code",
   "execution_count": 37,
   "id": "08fa20b9",
   "metadata": {},
   "outputs": [
    {
     "name": "stdout",
     "output_type": "stream",
     "text": [
      "\n",
      " ANALYSE GRAPHIQUE 6 - Corrélation longueur/entités:\n",
      "    Interprétation: Corrélation >0.5 = normale, >0.7 = excellente richesse informationnelle.\n",
      "    Objectif: Cette corrélation valide que les textes longs sont informationnellement denses.\n"
     ]
    },
    {
     "data": {
      "image/png": "[encoded data removed]",
      "text/plain": [
       "<Figure size 1500x1000 with 1 Axes>"
      ]
     },
     "metadata": {},
     "output_type": "display_data"
    }
   ],
   "source": [
    "plt.subplot(3, 3, 6)\n",
    "plt.scatter(text_lengths, df_clean_dedup['entities_total'], \n",
    "           alpha=0.6, color='#FF7675')\n",
    "plt.xlabel('Longueur du texte')\n",
    "plt.ylabel('Nombre total d\\'entités')\n",
    "plt.title(' Corrélation Longueur ↔ Entités', fontsize=14, fontweight='bold')\n",
    "\n",
    "# Ligne de tendance\n",
    "z = np.polyfit(text_lengths, df_clean_dedup['entities_total'], 1)\n",
    "p = np.poly1d(z)\n",
    "plt.plot(text_lengths, p(text_lengths), \"r--\", alpha=0.8)\n",
    "\n",
    "# Calcul coefficient de corrélation\n",
    "corr = text_lengths.corr(df_clean_dedup['entities_total'])\n",
    "plt.text(0.05, 0.95, f'Corrélation: {corr:.3f}', \n",
    "         transform=plt.gca().transAxes, bbox=dict(boxstyle=\"round\", facecolor='white'))\n",
    "\n",
    "print(f\"\\n ANALYSE GRAPHIQUE 6 - Corrélation longueur/entités:\")\n",
    "print(f\"    Interprétation: Corrélation >0.5 = normale, >0.7 = excellente richesse informationnelle.\")\n",
    "print(f\"    Objectif: Cette corrélation valide que les textes longs sont informationnellement denses.\")\n",
    "\n",
    "\n"
   ]
  },
  {
   "cell_type": "code",
   "execution_count": 38,
   "id": "5c48edc6",
   "metadata": {},
   "outputs": [
    {
     "name": "stdout",
     "output_type": "stream",
     "text": [
      "\n",
      " ANALYSE GRAPHIQUE 7 - Top entités géographiques:\n",
      "    Interprétation: La domination d'une ville/pays révèle le focus géographique de votre dataset.\n",
      "    Consigne: Vérifiez si cette distribution correspond à vos objectifs de couverture géographique.\n"
     ]
    },
    {
     "data": {
      "image/png": "[encoded data removed]",
      "text/plain": [
       "<Figure size 1500x1000 with 1 Axes>"
      ]
     },
     "metadata": {},
     "output_type": "display_data"
    }
   ],
   "source": [
    "plt.subplot(3, 3, 7)\n",
    "# Top lieux\n",
    "top_locations = Counter([loc for entities in df_clean_dedup['entities_advanced'] \n",
    "                        for loc in entities.get('locations', [])]).most_common(10)\n",
    "\n",
    "if top_locations:\n",
    "    locs, counts = zip(*top_locations)\n",
    "    y_pos = range(len(locs))\n",
    "    plt.barh(y_pos, counts, color='#6C5CE7')\n",
    "    plt.yticks(y_pos, [loc[:20] + '...' if len(loc) > 20 else loc for loc in locs])\n",
    "    plt.xlabel('Mentions')\n",
    "    plt.title(' Top 10 des Lieux Mentionnés', fontsize=14, fontweight='bold')\n",
    "\n",
    "print(f\"\\n ANALYSE GRAPHIQUE 7 - Top entités géographiques:\")\n",
    "print(f\"    Interprétation: La domination d'une ville/pays révèle le focus géographique de votre dataset.\")\n",
    "print(f\"    Consigne: Vérifiez si cette distribution correspond à vos objectifs de couverture géographique.\")\n",
    "\n",
    "\n"
   ]
  },
  {
   "cell_type": "code",
   "execution_count": 39,
   "id": "9c3195c6",
   "metadata": {},
   "outputs": [
    {
     "name": "stdout",
     "output_type": "stream",
     "text": [
      "\n",
      " ANALYSE GRAPHIQUE 8 - Distribution linguistique:\n",
      "    Interprétation: >90% dans une langue = dataset monolingue, <80% = attention aux erreurs de détection.\n",
      "     Fragments en anglais/autre peuvent indiquer des problèmes de nettoyage à corriger.\n"
     ]
    },
    {
     "data": {
      "image/png": "[encoded data removed]",
      "text/plain": [
       "<Figure size 1500x1000 with 1 Axes>"
      ]
     },
     "metadata": {},
     "output_type": "display_data"
    }
   ],
   "source": [
    "plt.subplot(3, 3, 8)\n",
    "lang_counts = df_clean_dedup['language'].value_counts()\n",
    "colors_lang = plt.cm.Set3(np.linspace(0, 1, len(lang_counts)))\n",
    "\n",
    "plt.pie(lang_counts.values, labels=lang_counts.index, autopct='%1.1f%%',\n",
    "        colors=colors_lang, startangle=90)\n",
    "plt.title(' Distribution des Langues', fontsize=14, fontweight='bold')\n",
    "\n",
    "print(f\"\\n ANALYSE GRAPHIQUE 8 - Distribution linguistique:\")\n",
    "print(f\"    Interprétation: >90% dans une langue = dataset monolingue, <80% = attention aux erreurs de détection.\")\n",
    "print(f\"     Fragments en anglais/autre peuvent indiquer des problèmes de nettoyage à corriger.\")\n",
    "\n"
   ]
  },
  {
   "cell_type": "code",
   "execution_count": 40,
   "id": "e5af42d0",
   "metadata": {},
   "outputs": [
    {
     "name": "stdout",
     "output_type": "stream",
     "text": [
      "\n",
      " ANALYSE GRAPHIQUE 9 - Profils des sources:\n",
      "    Interprétation: Chaque source a son 'ADN' - sport = lieux, politique = personnes, économie = orgs.\n",
      "    Utilité: Ces profils aident à équilibrer le corpus de calibration selon les types d'entités.\n"
     ]
    },
    {
     "data": {
      "image/png": "[encoded data removed]",
      "text/plain": [
       "<Figure size 1500x1000 with 1 Axes>"
      ]
     },
     "metadata": {},
     "output_type": "display_data"
    }
   ],
   "source": [
    "plt.subplot(3, 3, 9)\n",
    "# Matrice entités par source (top 5 sources)\n",
    "top_5_sources = df_clean_dedup['source'].value_counts().head(5).index\n",
    "df_top_sources = df_clean_dedup[df_clean_dedup['source'].isin(top_5_sources)]\n",
    "\n",
    "heatmap_data = []\n",
    "source_names = []\n",
    "for source in top_5_sources:\n",
    "    source_data = df_top_sources[df_top_sources['source'] == source]\n",
    "    source_names.append(source.split('/')[-1][:10])  # Nom court\n",
    "    heatmap_data.append([\n",
    "        source_data['persons_count'].mean(),\n",
    "        source_data['organizations_count'].mean(),\n",
    "        source_data['locations_count'].mean()\n",
    "    ])\n",
    "\n",
    "if heatmap_data:\n",
    "    heatmap_array = np.array(heatmap_data)\n",
    "    im = plt.imshow(heatmap_array, cmap='YlOrRd', aspect='auto')\n",
    "    plt.xticks([0, 1, 2], ['Personnes', 'Orgs', 'Lieux'])\n",
    "    plt.yticks(range(len(source_names)), source_names)\n",
    "    plt.title(' Heatmap Entités par Source', fontsize=14, fontweight='bold')\n",
    "    \n",
    "    # Ajouter les valeurs dans les cellules\n",
    "    for i in range(len(source_names)):\n",
    "        for j in range(3):\n",
    "            plt.text(j, i, f'{heatmap_array[i, j]:.1f}', \n",
    "                    ha=\"center\", va=\"center\", color=\"black\")\n",
    "\n",
    "print(f\"\\n ANALYSE GRAPHIQUE 9 - Profils des sources:\")\n",
    "print(f\"    Interprétation: Chaque source a son 'ADN' - sport = lieux, politique = personnes, économie = orgs.\")\n",
    "print(f\"    Utilité: Ces profils aident à équilibrer le corpus de calibration selon les types d'entités.\")\n",
    "\n",
    "plt.tight_layout()\n",
    "plt.savefig(PROCESSED_DIR / 'analyse_exploratoire.png', dpi=300, bbox_inches='tight')\n",
    "plt.show()\n"
   ]
  },
  {
   "cell_type": "code",
   "execution_count": 41,
   "id": "ae35f096",
   "metadata": {},
   "outputs": [
    {
     "name": "stdout",
     "output_type": "stream",
     "text": [
      " STATISTIQUES TEXTUELLES:\n",
      "   Longueur moyenne: 5540 ± 3191 caractères\n",
      "   Médiane: 4780 caractères\n",
      "   Articles < 500 chars: 0 (0.0%)\n",
      "   Articles > 2000 chars: 128 (100.0%)\n",
      "\n",
      " INTERPRÉTATION LONGUEURS:\n",
      "    Optimal: 800-1500 chars pour le résumé automatique\n",
      "     >20% d'articles courts peut impacter la qualité des résumés\n"
     ]
    }
   ],
   "source": [
    "# Statistiques de base\n",
    "print(f\" STATISTIQUES TEXTUELLES:\")\n",
    "print(f\"   Longueur moyenne: {text_lengths.mean():.0f} ± {text_lengths.std():.0f} caractères\")\n",
    "print(f\"   Médiane: {text_lengths.median():.0f} caractères\")\n",
    "print(f\"   Articles < 500 chars: {(text_lengths < 500).sum()} ({(text_lengths < 500).mean()*100:.1f}%)\")\n",
    "print(f\"   Articles > 2000 chars: {(text_lengths > 2000).sum()} ({(text_lengths > 2000).mean()*100:.1f}%)\")\n",
    "\n",
    "print(f\"\\n INTERPRÉTATION LONGUEURS:\")\n",
    "print(f\"    Optimal: 800-1500 chars pour le résumé automatique\")\n",
    "print(f\"     >20% d'articles courts peut impacter la qualité des résumés\")"
   ]
  },
  {
   "cell_type": "code",
   "execution_count": 42,
   "id": "cd98d05e",
   "metadata": {},
   "outputs": [
    {
     "name": "stdout",
     "output_type": "stream",
     "text": [
      "\n",
      " STATISTIQUES ENTITÉS:\n",
      "   Total entités extraites: 2958\n",
      "   Articles sans entités: 0\n",
      "   Articles riches (>10 entités): 99\n"
     ]
    }
   ],
   "source": [
    "# Statistiques entités\n",
    "print(f\"\\n STATISTIQUES ENTITÉS:\")\n",
    "print(f\"   Total entités extraites: {df_clean_dedup['entities_total'].sum()}\")\n",
    "print(f\"   Articles sans entités: {(df_clean_dedup['entities_total'] == 0).sum()}\")\n",
    "print(f\"   Articles riches (>10 entités): {(df_clean_dedup['entities_total'] > 10).sum()}\")"
   ]
  },
  {
   "cell_type": "code",
   "execution_count": 43,
   "id": "686cf8ec",
   "metadata": {},
   "outputs": [
    {
     "name": "stdout",
     "output_type": "stream",
     "text": [
      "   Persons: 916 total (moy: 7.2/article)\n",
      "   Organizations: 885 total (moy: 6.9/article)\n",
      "   Locations: 1157 total (moy: 9.0/article)\n",
      "\n",
      " INTERPRÉTATION ENTITÉS:\n",
      "    Benchmark: 3-8 entités/article = bon équilibre informationnel\n",
      "    Articles sans entités peuvent être des résumés déjà trop condensés\n"
     ]
    }
   ],
   "source": [
    "# Distribution par type\n",
    "\n",
    "entity_mapping = {\n",
    "    'persons': 'persons_count',\n",
    "    'organizations': 'organizations_count', \n",
    "    'locations': 'locations_count'\n",
    "}\n",
    "\n",
    "for entity_type, col_name in entity_mapping.items():\n",
    "    total = df_clean_dedup[col_name].sum()\n",
    "    avg = df_clean_dedup[col_name].mean()\n",
    "    print(f\"   {entity_type.capitalize()}: {total} total (moy: {avg:.1f}/article)\")\n",
    "\n",
    "\n",
    "print(f\"\\n INTERPRÉTATION ENTITÉS:\")\n",
    "print(f\"    Benchmark: 3-8 entités/article = bon équilibre informationnel\")\n",
    "print(f\"    Articles sans entités peuvent être des résumés déjà trop condensés\")\n",
    "\n"
   ]
  },
  {
   "cell_type": "code",
   "execution_count": 44,
   "id": "a4adcbfb",
   "metadata": {},
   "outputs": [
    {
     "name": "stdout",
     "output_type": "stream",
     "text": [
      "\n",
      " CORRÉLATIONS:\n",
      "   Longueur ↔ Entités: 0.797\n",
      "   Confiance langue ↔ Entités: 0.000\n",
      "\n",
      "INTERPRÉTATION CORRÉLATIONS:\n",
      "   Corrélation longueur/entités >0.5 valide la richesse informationnelle\n",
      "   Corrélation langue/entités révèle la qualité de détection multilingue\n"
     ]
    }
   ],
   "source": [
    "# Corrélations intéressantes\n",
    "print(f\"\\n CORRÉLATIONS:\")\n",
    "corr_length_entities = text_lengths.corr(df_clean_dedup['entities_total'])\n",
    "print(f\"   Longueur ↔ Entités: {corr_length_entities:.3f}\")\n",
    "\n",
    "if 'language_confidence' in df_clean_dedup.columns:\n",
    "    corr_lang_entities = df_clean_dedup['language_confidence'].corr(df_clean_dedup['entities_total'])\n",
    "    print(f\"   Confiance langue ↔ Entités: {corr_lang_entities:.3f}\")\n",
    "\n",
    "print(f\"\\nINTERPRÉTATION CORRÉLATIONS:\")\n",
    "print(f\"   Corrélation longueur/entités >0.5 valide la richesse informationnelle\")\n",
    "print(f\"   Corrélation langue/entités révèle la qualité de détection multilingue\")\n",
    "\n"
   ]
  },
  {
   "cell_type": "code",
   "execution_count": 45,
   "id": "367ef3dc",
   "metadata": {},
   "outputs": [
    {
     "name": "stdout",
     "output_type": "stream",
     "text": [
      "\n",
      " TOP SOURCES (entités/article):\n",
      "   rss: 40.2 entités/article (11 articles)\n",
      "   titres.rss: 36.2 entités/article (13 articles)\n",
      "   rss.xml: 28.4 entités/article (31 articles)\n",
      "   index.xml: 24.6 entités/article (7 articles)\n",
      "   rss: 23.1 entités/article (9 articles)\n"
     ]
    }
   ],
   "source": [
    "# Sources les plus productives\n",
    "print(f\"\\n TOP SOURCES (entités/article):\")\n",
    "source_entity_avg = df_clean_dedup.groupby('source')['entities_total'].agg(['mean', 'count']).round(2)\n",
    "source_entity_avg = source_entity_avg[source_entity_avg['count'] >= 3]  # Min 3 articles\n",
    "top_productive = source_entity_avg.sort_values('mean', ascending=False).head(5)\n",
    "\n",
    "\n",
    "for source, row in top_productive.iterrows():\n",
    "    source_name = source.split('/')[-1][:30]\n",
    "    print(f\"   {source_name}: {row['mean']:.1f} entités/article ({row['count']:.0f} articles)\")\n",
    "\n"
   ]
  },
  {
   "cell_type": "code",
   "execution_count": 46,
   "id": "c62de7ea",
   "metadata": {},
   "outputs": [
    {
     "name": "stdout",
     "output_type": "stream",
     "text": [
      "======================================================================\n",
      "1.  Vérifiez l'équilibre des entités (idéal: 30-40% chacun)\n",
      "2.  Surveillez les textes <500 chars (risque de qualité)\n",
      "3.  Limitez la domination d'une source (<25% recommandé)\n",
      "4.  Validez corrélation longueur/entités (objectif >0.5)\n",
      "5.  Confirmez la cohérence linguistique (>90% langue cible)\n",
      "6.  Exploitez les sources riches pour le corpus de calibration\n",
      "======================================================================\n"
     ]
    }
   ],
   "source": [
    "\n",
    "print(f\"=\"*70)\n",
    "print(f\"1.  Vérifiez l'équilibre des entités (idéal: 30-40% chacun)\")\n",
    "print(f\"2.  Surveillez les textes <500 chars (risque de qualité)\")\n",
    "print(f\"3.  Limitez la domination d'une source (<25% recommandé)\")\n",
    "print(f\"4.  Validez corrélation longueur/entités (objectif >0.5)\")\n",
    "print(f\"5.  Confirmez la cohérence linguistique (>90% langue cible)\")\n",
    "print(f\"6.  Exploitez les sources riches pour le corpus de calibration\")\n",
    "print(f\"=\"*70)"
   ]
  },
  {
   "cell_type": "code",
   "execution_count": 47,
   "id": "138328df",
   "metadata": {},
   "outputs": [
    {
     "name": "stdout",
     "output_type": "stream",
     "text": [
      "\n",
      " ÉTAPE 7: Segmentation sémantique \n"
     ]
    }
   ],
   "source": [
    "print(\"\\n ÉTAPE 7: Segmentation sémantique \")\n",
    "\n",
    "# Téléchargement des ressources NLTK si nécessaire\n",
    "try:\n",
    "    import ssl\n",
    "    _create_unverified_https_context = ssl._create_unverified_context\n",
    "    ssl._create_default_https_context = _create_unverified_https_context\n",
    "except:\n",
    "    pass\n",
    "\n",
    "nltk.download('punkt', quiet=True)\n",
    "\n",
    "def segment_text_advanced(text):\n",
    "    \"\"\"Segmentation en phrases avec analyse sémantique avancée\"\"\"\n",
    "    if not text or len(text) < 100:\n",
    "        return {\n",
    "            'sentences': [],\n",
    "            'sentence_count': 0,\n",
    "            'avg_sentence_length': 0,\n",
    "            'paragraphs': [],\n",
    "            'paragraph_count': 0,\n",
    "            'text_complexity': 0,\n",
    "            'readability_score': 0\n",
    "        }\n",
    "    \n",
    "    # Segmentation en phrases (multi-langue)\n",
    "    sentences = sent_tokenize(text[:5000], language='french')  # Limiter pour performance\n",
    "    \n",
    "    # Segmentation en paragraphes\n",
    "    paragraphs = [p.strip() for p in text.split('\\n\\n') if p.strip() and len(p) > 20]\n",
    "    \n",
    "    # Métriques avancées\n",
    "    sentence_lengths = [len(s.split()) for s in sentences]\n",
    "    avg_sentence_length = np.mean(sentence_lengths) if sentence_lengths else 0\n",
    "    \n",
    "    # Score de complexité basé sur la longueur des phrases\n",
    "    complexity = 0\n",
    "    if sentence_lengths:\n",
    "        variance = np.var(sentence_lengths)\n",
    "        long_sentences = sum(1 for length in sentence_lengths if length > 20)\n",
    "        complexity = min((variance / 100) + (long_sentences / len(sentences)), 1.0)\n",
    "    \n",
    "    # Score de lisibilité approximatif (Flesch-like)\n",
    "    if sentence_lengths and avg_sentence_length > 0:\n",
    "        readability = max(0, min(1, 1 - (avg_sentence_length - 10) / 20))\n",
    "    else:\n",
    "        readability = 0.5\n",
    "    \n",
    "    return {\n",
    "        'sentences': sentences[:50],  # Limiter pour stockage\n",
    "        'sentence_count': len(sentences),\n",
    "        'avg_sentence_length': avg_sentence_length,\n",
    "        'paragraphs': paragraphs[:20],  # Limiter pour stockage\n",
    "        'paragraph_count': len(paragraphs),\n",
    "        'text_complexity': complexity,\n",
    "        'readability_score': readability\n",
    "    }"
   ]
  },
  {
   "cell_type": "code",
   "execution_count": 48,
   "id": "644b5c4f",
   "metadata": {},
   "outputs": [
    {
     "name": "stdout",
     "output_type": "stream",
     "text": [
      "    Segmentation avancée en cours...\n"
     ]
    },
    {
     "name": "stderr",
     "output_type": "stream",
     "text": [
      "Segmentation: 100%|██████████| 128/128 [00:00<00:00, 683.76it/s]\n"
     ]
    }
   ],
   "source": [
    "# Application de la segmentation\n",
    "print(\"    Segmentation avancée en cours...\")\n",
    "segmentation_results = []\n",
    "\n",
    "for text in tqdm(df_clean_dedup['text_cleaned'], desc=\"Segmentation\"):\n",
    "    segments = segment_text_advanced(text)\n",
    "    segmentation_results.append(segments)\n",
    "\n",
    "df_clean_dedup['segmentation'] = segmentation_results"
   ]
  },
  {
   "cell_type": "code",
   "execution_count": 49,
   "id": "4f579926",
   "metadata": {},
   "outputs": [],
   "source": [
    "# Extraction des métriques de segmentation\n",
    "df_clean_dedup['sentence_count'] = df_clean_dedup['segmentation'].apply(lambda x: x['sentence_count'])\n",
    "df_clean_dedup['paragraph_count'] = df_clean_dedup['segmentation'].apply(lambda x: x['paragraph_count'])\n",
    "df_clean_dedup['avg_sentence_length'] = df_clean_dedup['segmentation'].apply(lambda x: x['avg_sentence_length'])\n",
    "df_clean_dedup['text_complexity'] = df_clean_dedup['segmentation'].apply(lambda x: x['text_complexity'])\n",
    "df_clean_dedup['readability_score'] = df_clean_dedup['segmentation'].apply(lambda x: x['readability_score'])\n",
    "\n"
   ]
  },
  {
   "cell_type": "code",
   "execution_count": null,
   "id": "e51f71bd",
   "metadata": {},
   "outputs": [
    {
     "name": "stdout",
     "output_type": "stream",
     "text": [
      "\n",
      "    STATISTIQUES SEGMENTATION AVANCÉES:\n",
      "      Moyenne phrases/article: 29.7\n",
      "      Moyenne paragraphes/article: 1.0\n",
      "      Longueur moyenne phrases: 24.9 mots\n",
      "      Score complexité moyen: 0.98\n",
      "      Score lisibilité moyen: 0.28\n"
     ]
    }
   ],
   "source": [
    "print(f\"\\n    STATISTIQUES SEGMENTATION:\")\n",
    "print(f\"      Moyenne phrases/article: {df_clean_dedup['sentence_count'].mean():.1f}\")\n",
    "print(f\"      Moyenne paragraphes/article: {df_clean_dedup['paragraph_count'].mean():.1f}\")\n",
    "print(f\"      Longueur moyenne phrases: {df_clean_dedup['avg_sentence_length'].mean():.1f} mots\")\n",
    "print(f\"      Score complexité moyen: {df_clean_dedup['text_complexity'].mean():.2f}\")\n",
    "print(f\"      Score lisibilité moyen: {df_clean_dedup['readability_score'].mean():.2f}\")\n"
   ]
  },
  {
   "cell_type": "code",
   "execution_count": 51,
   "id": "9c22e909",
   "metadata": {},
   "outputs": [
    {
     "name": "stdout",
     "output_type": "stream",
     "text": [
      "\n",
      " ÉTAPE 8: Analyse des biais temporels et géographiques\n",
      "    Analyse temporelle...\n"
     ]
    }
   ],
   "source": [
    "print(\"\\n ÉTAPE 8: Analyse des biais temporels et géographiques\")\n",
    "\n",
    "# Conversion et nettoyage des dates\n",
    "print(\"    Analyse temporelle...\")\n",
    "df_clean_dedup['published_clean'] = pd.to_datetime(df_clean_dedup['published'], errors='coerce')\n",
    "\n",
    "# Extraction des composants temporels\n",
    "df_clean_dedup['hour'] = df_clean_dedup['published_clean'].dt.hour\n",
    "df_clean_dedup['day_of_week'] = df_clean_dedup['published_clean'].dt.day_name()\n",
    "df_clean_dedup['month'] = df_clean_dedup['published_clean'].dt.month\n",
    "df_clean_dedup['date_only'] = df_clean_dedup['published_clean'].dt.date\n"
   ]
  },
  {
   "cell_type": "code",
   "execution_count": 52,
   "id": "0f9a3bc0",
   "metadata": {},
   "outputs": [
    {
     "name": "stdout",
     "output_type": "stream",
     "text": [
      "       Analyse sur 128 articles avec dates valides\n",
      "       Heures de publication principales:\n",
      "         4h: 10 articles (7.8%)\n",
      "         14h: 10 articles (7.8%)\n",
      "         13h: 10 articles (7.8%)\n",
      "       Jours de publication principaux:\n",
      "         Friday: 55 articles (43.0%)\n",
      "         Thursday: 29 articles (22.7%)\n",
      "         Saturday: 17 articles (13.3%)\n",
      "       Scores de biais temporel:\n",
      "         Biais horaire: 0.81 (0=uniforme, 1=concentré)\n",
      "         Biais quotidien: 0.50\n"
     ]
    }
   ],
   "source": [
    "# Analyse des biais temporels\n",
    "valid_dates = df_clean_dedup[df_clean_dedup['published_clean'].notna()]\n",
    "\n",
    "if len(valid_dates) > 0:\n",
    "    print(f\"       Analyse sur {len(valid_dates)} articles avec dates valides\")\n",
    "    \n",
    "    # Distribution horaire\n",
    "    hour_dist = valid_dates['hour'].value_counts().head(3)\n",
    "    print(f\"       Heures de publication principales:\")\n",
    "    for hour, count in hour_dist.items():\n",
    "        pct = count / len(valid_dates) * 100\n",
    "        print(f\"         {hour}h: {count} articles ({pct:.1f}%)\")\n",
    "    \n",
    "    # Distribution par jour\n",
    "    day_dist = valid_dates['day_of_week'].value_counts().head(3)\n",
    "    print(f\"       Jours de publication principaux:\")\n",
    "    for day, count in day_dist.items():\n",
    "        pct = count / len(valid_dates) * 100\n",
    "        print(f\"         {day}: {count} articles ({pct:.1f}%)\")\n",
    "    \n",
    "    # Calcul du score de biais temporel\n",
    "    hour_entropy = -sum((p := hour_dist / len(valid_dates)) * np.log2(p + 1e-10))\n",
    "    day_entropy = -sum((p := day_dist / len(valid_dates)) * np.log2(p + 1e-10))\n",
    "    \n",
    "    # Normalisation (entropie max = log2(24) pour heures, log2(7) pour jours)\n",
    "    hour_bias = 1 - (hour_entropy / np.log2(24))  # 0 = uniforme, 1 = très biaisé\n",
    "    day_bias = 1 - (day_entropy / np.log2(7))\n",
    "    \n",
    "    print(f\"       Scores de biais temporel:\")\n",
    "    print(f\"         Biais horaire: {hour_bias:.2f} (0=uniforme, 1=concentré)\")\n",
    "    print(f\"         Biais quotidien: {day_bias:.2f}\")\n"
   ]
  },
  {
   "cell_type": "code",
   "execution_count": 53,
   "id": "3aff9e94",
   "metadata": {},
   "outputs": [
    {
     "name": "stdout",
     "output_type": "stream",
     "text": [
      "\n",
      "    Analyse géographique...\n",
      "       Lieux les plus mentionnés:\n",
      "         France: 28 mentions (2.4%)\n",
      "         Paris: 28 mentions (2.4%)\n",
      "         Europe: 24 mentions (2.1%)\n",
      "         la France: 18 mentions (1.6%)\n",
      "         États-Unis: 17 mentions (1.5%)\n",
      "       Score de biais géographique: -0.57\n",
      "         (0=distribution équilibrée, 1=concentration forte)\n"
     ]
    }
   ],
   "source": [
    "# Analyse géographique via entités lieux\n",
    "print(\"\\n    Analyse géographique...\")\n",
    "all_locations = []\n",
    "location_counts_by_article = []\n",
    "\n",
    "for entities in df_clean_dedup['entities_advanced']:\n",
    "    article_locations = entities.get('locations', [])\n",
    "    location_counts_by_article.append(len(article_locations))\n",
    "    all_locations.extend(article_locations)\n",
    "\n",
    "location_distribution = Counter(all_locations)\n",
    "df_clean_dedup['locations_count'] = location_counts_by_article\n",
    "\n",
    "if location_distribution:\n",
    "    print(f\"       Lieux les plus mentionnés:\")\n",
    "    for location, count in location_distribution.most_common(5):\n",
    "        pct = count / len(all_locations) * 100 if len(all_locations) > 0 else 0\n",
    "        print(f\"         {location}: {count} mentions ({pct:.1f}%)\")\n",
    "    \n",
    "    # Score de biais géographique\n",
    "    if len(location_distribution) > 1:\n",
    "        geo_probs = np.array(list(location_distribution.values())) / len(all_locations)\n",
    "        geo_entropy = -sum(geo_probs * np.log2(geo_probs + 1e-10))\n",
    "        max_entropy = np.log2(min(len(location_distribution), 50))  # Entropie max théorique\n",
    "        geo_bias = 1 - (geo_entropy / max_entropy) if max_entropy > 0 else 0\n",
    "        \n",
    "        print(f\"       Score de biais géographique: {geo_bias:.2f}\")\n",
    "        print(f\"         (0=distribution équilibrée, 1=concentration forte)\")\n",
    "    else:\n",
    "        geo_bias = 1.0  # Maximum bias if only one location\n",
    "        print(f\"        Biais géographique maximal détecté\")"
   ]
  },
  {
   "cell_type": "code",
   "execution_count": 54,
   "id": "1eba6d8e",
   "metadata": {},
   "outputs": [],
   "source": [
    "# Ajout des scores de biais au DataFrame\n",
    "df_clean_dedup['temporal_bias_hour'] = hour_bias if 'hour_bias' in locals() else 0\n",
    "df_clean_dedup['temporal_bias_day'] = day_bias if 'day_bias' in locals() else 0\n",
    "df_clean_dedup['geographic_bias'] = geo_bias if 'geo_bias' in locals() else 0\n"
   ]
  },
  {
   "cell_type": "code",
   "execution_count": 55,
   "id": "ea41e5b5",
   "metadata": {},
   "outputs": [],
   "source": [
    "def calculate_advanced_quality_score(row):\n",
    "    \"\"\"Calcul d'un score de qualité multi-dimensionnel\"\"\"\n",
    "    scores = {}\n",
    "    \n",
    "    # 1. Score de longueur (0-1)\n",
    "    text_len = len(str(row.get('text_cleaned', '')))\n",
    "    scores['length'] = min(text_len / 2000, 1.0)  # Optimal à 2000 caractères\n",
    "    \n",
    "    # 2. Score d'entités (0-1)\n",
    "    entities_count = row.get('entities_total', 0)\n",
    "    scores['entities'] = min(entities_count / 10, 1.0)  # Optimal à 10 entités\n",
    "    \n",
    "    # 3. Score de lisibilité (0-1)\n",
    "    scores['readability'] = row.get('readability_score', 0.5)\n",
    "    \n",
    "    # 4. Score de complexité inversé (0-1)\n",
    "    complexity = row.get('text_complexity', 0.5)\n",
    "    scores['complexity'] = 1 - complexity  # Moins complexe = meilleur\n",
    "    \n",
    "    # 5. Score de structure (0-1)\n",
    "    sentence_count = row.get('sentence_count', 0)\n",
    "    paragraph_count = row.get('paragraph_count', 0)\n",
    "    if sentence_count > 0 and paragraph_count > 0:\n",
    "        structure_ratio = min(sentence_count / paragraph_count, 10) / 10  # Ratio phrases/paragraphes\n",
    "        scores['structure'] = structure_ratio\n",
    "    else:\n",
    "        scores['structure'] = 0.1\n",
    "    \n",
    "    # 6. Score de langue (0-1)\n",
    "    lang_confidence = row.get('language_confidence', 0.5)\n",
    "    scores['language'] = lang_confidence\n",
    "    \n",
    "    # Score global pondéré\n",
    "    weights = {\n",
    "        'length': 0.2,\n",
    "        'entities': 0.25, \n",
    "        'readability': 0.2,\n",
    "        'complexity': 0.15,\n",
    "        'structure': 0.1,\n",
    "        'language': 0.1\n",
    "    }\n",
    "    \n",
    "    final_score = sum(scores[key] * weights[key] for key in scores)\n",
    "    \n",
    "    return {\n",
    "        'quality_score_advanced': final_score,\n",
    "        'quality_breakdown': scores\n",
    "    }\n"
   ]
  },
  {
   "cell_type": "code",
   "execution_count": 56,
   "id": "f0427f84",
   "metadata": {},
   "outputs": [
    {
     "name": "stdout",
     "output_type": "stream",
     "text": [
      "    Calcul des scores de qualité...\n"
     ]
    },
    {
     "name": "stderr",
     "output_type": "stream",
     "text": [
      "Qualité: 100%|██████████| 128/128 [00:00<00:00, 4860.72it/s]\n"
     ]
    }
   ],
   "source": [
    "# Application du calcul de qualité\n",
    "print(\"    Calcul des scores de qualité...\")\n",
    "quality_results = []\n",
    "\n",
    "for _, row in tqdm(df_clean_dedup.iterrows(), total=len(df_clean_dedup), desc=\"Qualité\"):\n",
    "    quality_result = calculate_advanced_quality_score(row)\n",
    "    quality_results.append(quality_result)\n",
    "\n"
   ]
  },
  {
   "cell_type": "code",
   "execution_count": 57,
   "id": "a7bb5d75",
   "metadata": {},
   "outputs": [
    {
     "name": "stdout",
     "output_type": "stream",
     "text": [
      "\n",
      "    STATISTIQUES QUALITÉ AVANCÉES:\n",
      "      Score moyen: 0.681\n",
      "      Score médian: 0.679\n",
      "      Score min: 0.531\n",
      "      Score max: 0.892\n"
     ]
    }
   ],
   "source": [
    "# Ajout des résultats\n",
    "df_clean_dedup['quality_score_advanced'] = [r['quality_score_advanced'] for r in quality_results]\n",
    "df_clean_dedup['quality_breakdown'] = [r['quality_breakdown'] for r in quality_results]\n",
    "\n",
    "print(f\"\\n    STATISTIQUES QUALITÉ AVANCÉES:\")\n",
    "print(f\"      Score moyen: {df_clean_dedup['quality_score_advanced'].mean():.3f}\")\n",
    "print(f\"      Score médian: {df_clean_dedup['quality_score_advanced'].median():.3f}\")\n",
    "print(f\"      Score min: {df_clean_dedup['quality_score_advanced'].min():.3f}\")\n",
    "print(f\"      Score max: {df_clean_dedup['quality_score_advanced'].max():.3f}\")\n"
   ]
  },
  {
   "cell_type": "code",
   "execution_count": 58,
   "id": "2729f54c",
   "metadata": {},
   "outputs": [
    {
     "name": "stdout",
     "output_type": "stream",
     "text": [
      "      Quartiles: Q1=0.640, Q2=0.679, Q3=0.719\n"
     ]
    }
   ],
   "source": [
    "# Distribution par quartiles\n",
    "quartiles = df_clean_dedup['quality_score_advanced'].quantile([0.25, 0.5, 0.75])\n",
    "print(f\"      Quartiles: Q1={quartiles[0.25]:.3f}, Q2={quartiles[0.5]:.3f}, Q3={quartiles[0.75]:.3f}\")\n",
    "\n"
   ]
  },
  {
   "cell_type": "code",
   "execution_count": 59,
   "id": "0786d7ff",
   "metadata": {},
   "outputs": [],
   "source": [
    "\n",
    "\n",
    "def create_stratified_calibration_corpus(df, n_samples=300):\n",
    "    \"\"\"Création d'un corpus stratifié pour calibration\"\"\"\n",
    "    \n",
    "    # Définition des strates multi-dimensionnelles\n",
    "    print(\"   Définition des strates...\")\n",
    "    \n",
    "    # 1. Strate par qualité (3 niveaux)\n",
    "    quality_tertiles = df['quality_score_advanced'].quantile([0.33, 0.67])\n",
    "    df['quality_stratum'] = pd.cut(df['quality_score_advanced'], \n",
    "                                  bins=[0, quality_tertiles[0.33], quality_tertiles[0.67], 1],\n",
    "                                  labels=['low', 'medium', 'high'])\n",
    "    \n",
    "    # 2. Strate par longueur (3 niveaux)\n",
    "    df['text_length'] = df['text_cleaned'].str.len()\n",
    "    length_tertiles = df['text_length'].quantile([0.33, 0.67])\n",
    "    df['length_stratum'] = pd.cut(df['text_length'],\n",
    "                                 bins=[0, length_tertiles[0.33], length_tertiles[0.67], float('inf')],\n",
    "                                 labels=['short', 'medium', 'long'])\n",
    "    \n",
    "    # 3. Strate par richesse en entités (3 niveaux)\n",
    "    if df['entities_total'].max() > 0:\n",
    "        entity_tertiles = df['entities_total'].quantile([0.33, 0.67])\n",
    "        df['entity_stratum'] = pd.cut(df['entities_total'],\n",
    "                                     bins=[-1, entity_tertiles[0.33], entity_tertiles[0.67], float('inf')],\n",
    "                                     labels=['sparse', 'moderate', 'rich'])\n",
    "    else:\n",
    "        df['entity_stratum'] = 'sparse'\n",
    "    \n",
    "    # 4. Strate par source (top sources + autres)\n",
    "    source_counts = df['source'].value_counts()\n",
    "    top_sources = source_counts.head(5).index.tolist()\n",
    "    df['source_stratum'] = df['source'].apply(lambda x: x if x in top_sources else 'other')\n",
    "    \n",
    "    print(f\"      Strates créées:\")\n",
    "    print(f\"         Qualité: {df['quality_stratum'].value_counts().to_dict()}\")\n",
    "    print(f\"         Longueur: {df['length_stratum'].value_counts().to_dict()}\")\n",
    "    print(f\"         Entités: {df['entity_stratum'].value_counts().to_dict()}\")\n",
    "    print(f\"         Sources: {len(df['source_stratum'].unique())} catégories\")\n",
    "    \n",
    "    # Échantillonnage stratifié proportionnel\n",
    "    print(\"   Échantillonnage stratifié...\")\n",
    "    \n",
    "    # Groupement par strates multiples\n",
    "    strata_cols = ['quality_stratum', 'length_stratum', 'entity_stratum', 'source_stratum']\n",
    "    grouped = df.groupby(strata_cols, group_keys=False)\n",
    "    \n",
    "    # Calcul des tailles d'échantillon par strate\n",
    "    strata_sizes = grouped.size()\n",
    "    total_size = len(df)\n",
    "    \n",
    "    sample_dfs = []\n",
    "    remaining_samples = n_samples\n",
    "    \n",
    "    for stratum, group in grouped:\n",
    "        if remaining_samples <= 0:\n",
    "            break\n",
    "            \n",
    "        # Taille proportionnelle de l'échantillon pour cette strate\n",
    "        stratum_size = len(group)\n",
    "        proportion = stratum_size / total_size\n",
    "        target_sample_size = max(1, int(proportion * n_samples))\n",
    "        \n",
    "        # Ajustement si on dépasse le nombre d'échantillons restants\n",
    "        actual_sample_size = min(target_sample_size, remaining_samples, stratum_size)\n",
    "        \n",
    "        if actual_sample_size > 0:\n",
    "            # Échantillonnage au sein de la strate\n",
    "            if len(group) >= actual_sample_size:\n",
    "                # Tri par score de qualité pour prendre les meilleurs\n",
    "                group_sorted = group.sort_values('quality_score_advanced', ascending=False)\n",
    "                stratum_sample = group_sorted.head(actual_sample_size)\n",
    "                sample_dfs.append(stratum_sample)\n",
    "                remaining_samples -= actual_sample_size\n",
    "    \n",
    "    # Combinaison des échantillons de toutes les strates\n",
    "    if sample_dfs:\n",
    "        calibration_corpus = pd.concat(sample_dfs, ignore_index=True)\n",
    "    else:\n",
    "        # Fallback: échantillonnage simple par qualité\n",
    "        calibration_corpus = df.nlargest(n_samples, 'quality_score_advanced')\n",
    "    \n",
    "    # Complément aléatoire si nécessaire\n",
    "    if len(calibration_corpus) < n_samples:\n",
    "        remaining_df = df[~df.index.isin(calibration_corpus.index)]\n",
    "        if len(remaining_df) > 0:\n",
    "            additional_samples = min(n_samples - len(calibration_corpus), len(remaining_df))\n",
    "            additional = remaining_df.sample(n=additional_samples, random_state=42)\n",
    "            calibration_corpus = pd.concat([calibration_corpus, additional], ignore_index=True)\n",
    "    \n",
    "    return calibration_corpus.head(n_samples)  \n",
    "\n"
   ]
  },
  {
   "cell_type": "code",
   "execution_count": 60,
   "id": "f8df006d",
   "metadata": {},
   "outputs": [
    {
     "name": "stdout",
     "output_type": "stream",
     "text": [
      "   Définition des strates...\n",
      "      Strates créées:\n",
      "         Qualité: {'medium': 44, 'low': 42, 'high': 42}\n",
      "         Longueur: {'medium': 44, 'short': 42, 'long': 42}\n",
      "         Entités: {'moderate': 47, 'sparse': 42, 'rich': 39}\n",
      "         Sources: 6 catégories\n",
      "   Échantillonnage stratifié...\n",
      "\n",
      "    CORPUS DE CALIBRATION CRÉÉ:\n",
      "      Taille finale: 186 articles\n",
      "      Score qualité moyen: 0.679\n"
     ]
    }
   ],
   "source": [
    "# Création du corpus de calibration\n",
    "calibration_corpus = create_stratified_calibration_corpus(df_clean_dedup, n_samples=300)\n",
    "\n",
    "print(f\"\\n    CORPUS DE CALIBRATION CRÉÉ:\")\n",
    "print(f\"      Taille finale: {len(calibration_corpus)} articles\")\n",
    "print(f\"      Score qualité moyen: {calibration_corpus['quality_score_advanced'].mean():.3f}\")\n",
    "\n",
    "\n"
   ]
  },
  {
   "cell_type": "code",
   "execution_count": 61,
   "id": "effda8e2",
   "metadata": {},
   "outputs": [
    {
     "name": "stdout",
     "output_type": "stream",
     "text": [
      "\n",
      "    REPRÉSENTATIVITÉ DU CORPUS:\n",
      "      Sources: 9 uniques\n",
      "      Langues: {'fr': 186}\n"
     ]
    }
   ],
   "source": [
    "# Analyse de la représentativité\n",
    "print(f\"\\n    REPRÉSENTATIVITÉ DU CORPUS:\")\n",
    "print(f\"      Sources: {calibration_corpus['source'].nunique()} uniques\")\n",
    "print(f\"      Langues: {calibration_corpus['language'].value_counts().to_dict()}\")\n",
    "\n",
    "\n"
   ]
  },
  {
   "cell_type": "code",
   "execution_count": 62,
   "id": "25f2476b",
   "metadata": {},
   "outputs": [
    {
     "name": "stdout",
     "output_type": "stream",
     "text": [
      "      Top sources:\n",
      "         rss.xml: 43 articles (23.1%)\n",
      "         actualites.xml: 33 articles (17.7%)\n",
      "         feed: 25 articles (13.4%)\n",
      "         : 23 articles (12.4%)\n",
      "         titres.rss: 16 articles (8.6%)\n",
      "      Distribution qualité: {'medium': 64, 'low': 62, 'high': 60}\n"
     ]
    }
   ],
   "source": [
    "# Top sources dans le corpus\n",
    "source_dist = calibration_corpus['source'].value_counts().head(5)\n",
    "print(f\"      Top sources:\")\n",
    "for source, count in source_dist.items():\n",
    "    pct = count / len(calibration_corpus) * 100\n",
    "    source_name = source.split('/')[-1] if '/' in source else source\n",
    "    print(f\"         {source_name}: {count} articles ({pct:.1f}%)\")\n",
    "\n",
    "# Distribution qualité\n",
    "quality_dist = calibration_corpus['quality_stratum'].value_counts()\n",
    "print(f\"      Distribution qualité: {quality_dist.to_dict()}\")\n"
   ]
  },
  {
   "cell_type": "code",
   "execution_count": 63,
   "id": "d2d23313",
   "metadata": {},
   "outputs": [],
   "source": [
    "# Métriques de qualité finales\n",
    "quality_metrics = {\n",
    "    'source_file': str(source_file.name),\n",
    "    'enriched_mode': ENRICHED_MODE,\n",
    "    'total_articles_input': len(articles_data),\n",
    "    'articles_after_deduplication': len(df_clean_dedup),\n",
    "    'calibration_corpus_size': len(calibration_corpus),\n",
    "    'deduplication_rate': ((len(df) - len(df_clean_dedup)) / len(df)) if len(df) > 0 else 0,\n",
    "    'avg_quality_score': df_clean_dedup['quality_score_advanced'].mean(),\n",
    "    'language_distribution': df_clean_dedup['language'].value_counts().to_dict(),\n",
    "    'entities_avg_per_article': df_clean_dedup['entities_total'].mean(),\n",
    "    'temporal_bias_detected': df_clean_dedup['temporal_bias_hour'].iloc[0] if len(df_clean_dedup) > 0 else 0,\n",
    "    'geographic_bias_detected': df_clean_dedup['geographic_bias'].iloc[0] if len(df_clean_dedup) > 0 else 0,\n",
    "    'processing_timestamp': datetime.now().isoformat()\n",
    "}"
   ]
  },
  {
   "cell_type": "code",
   "execution_count": 64,
   "id": "2a00e572",
   "metadata": {},
   "outputs": [
    {
     "name": "stdout",
     "output_type": "stream",
     "text": [
      "    Dataset principal sauvegardé: C:\\Users\\beedi.goua_square-ma\\Desktop\\Gheb\\projet perso\\InsightDetector\\insight-detector\\data\\processed\\articles_preprocessed_advanced.pkl\n"
     ]
    }
   ],
   "source": [
    "# Sauvegarde du DataFrame principal (format optimisé)\n",
    "output_file = PROCESSED_DIR / \"articles_preprocessed_advanced.pkl\"\n",
    "df_clean_dedup.to_pickle(output_file)\n",
    "print(f\"    Dataset principal sauvegardé: {output_file}\")\n"
   ]
  },
  {
   "cell_type": "code",
   "execution_count": 65,
   "id": "ef1cd333",
   "metadata": {},
   "outputs": [
    {
     "name": "stdout",
     "output_type": "stream",
     "text": [
      "    Corpus de calibration sauvegardé: C:\\Users\\beedi.goua_square-ma\\Desktop\\Gheb\\projet perso\\InsightDetector\\insight-detector\\data\\processed\\calibration_corpus_stratified.pkl\n"
     ]
    }
   ],
   "source": [
    "# Sauvegarde du corpus de calibration\n",
    "calibration_file = PROCESSED_DIR / \"calibration_corpus_stratified.pkl\"\n",
    "calibration_corpus.to_pickle(calibration_file)\n",
    "print(f\"    Corpus de calibration sauvegardé: {calibration_file}\")\n"
   ]
  },
  {
   "cell_type": "code",
   "execution_count": 66,
   "id": "8fa272eb",
   "metadata": {},
   "outputs": [
    {
     "name": "stdout",
     "output_type": "stream",
     "text": [
      "    Métriques sauvegardées: C:\\Users\\beedi.goua_square-ma\\Desktop\\Gheb\\projet perso\\InsightDetector\\insight-detector\\data\\processed\\advanced_preprocessing_metrics.json\n"
     ]
    }
   ],
   "source": [
    "# Sauvegarde des métriques\n",
    "metrics_file = PROCESSED_DIR / \"advanced_preprocessing_metrics.json\"\n",
    "with open(metrics_file, 'w', encoding='utf-8') as f:\n",
    "    json.dump(quality_metrics, f, indent=2, ensure_ascii=False, default=str)\n",
    "print(f\"    Métriques sauvegardées: {metrics_file}\")\n",
    "\n",
    "\n",
    "\n"
   ]
  },
  {
   "cell_type": "code",
   "execution_count": 67,
   "id": "2eca07ea",
   "metadata": {},
   "outputs": [
    {
     "name": "stdout",
     "output_type": "stream",
     "text": [
      "    Export CSV résumé: C:\\Users\\beedi.goua_square-ma\\Desktop\\Gheb\\projet perso\\InsightDetector\\insight-detector\\data\\processed\\articles_preprocessed_summary.csv\n"
     ]
    }
   ],
   "source": [
    "# Export CSV léger pour analyse externe\n",
    "csv_file = PROCESSED_DIR / \"articles_preprocessed_summary.csv\"\n",
    "df_export = df_clean_dedup[[\n",
    "    'title', 'source', 'published', 'language', 'quality_score_advanced',\n",
    "    'entities_total', 'sentence_count', 'readability_score', 'text_complexity'\n",
    "]].copy()\n",
    "df_export.to_csv(csv_file, index=False, encoding='utf-8')\n",
    "print(f\"    Export CSV résumé: {csv_file}\")\n",
    "\n",
    "\n",
    "\n"
   ]
  },
  {
   "cell_type": "code",
   "execution_count": 68,
   "id": "abadccd6",
   "metadata": {},
   "outputs": [
    {
     "name": "stdout",
     "output_type": "stream",
     "text": [
      "    Corpus calibration JSON: C:\\Users\\beedi.goua_square-ma\\Desktop\\Gheb\\projet perso\\InsightDetector\\insight-detector\\data\\processed\\calibration_corpus_300.json\n"
     ]
    }
   ],
   "source": [
    "# Export JSON du corpus de calibration \n",
    "calibration_json = PROCESSED_DIR / \"calibration_corpus_300.json\"\n",
    "calibration_export = calibration_corpus[[\n",
    "    'id', 'title', 'text_cleaned', 'source', 'published', 'language',\n",
    "    'quality_score_advanced', 'entities_advanced'\n",
    "]].to_dict('records')\n",
    "\n",
    "with open(calibration_json, 'w', encoding='utf-8') as f:\n",
    "    json.dump(calibration_export, f, ensure_ascii=False, indent=2, default=str)\n",
    "print(f\"    Corpus calibration JSON: {calibration_json}\")\n"
   ]
  },
  {
   "cell_type": "code",
   "execution_count": 69,
   "id": "171d3071",
   "metadata": {},
   "outputs": [
    {
     "name": "stdout",
     "output_type": "stream",
     "text": [
      " RÉSULTATS FINAUX:\n",
      "   Source: enriched_articles.json\n",
      "   Mode: Enrichissement complémentaire\n",
      "   Articles traités: 200\n",
      "   Articles finaux: 128\n",
      "   Corpus de calibration: 186\n",
      "   Taux de déduplication: 36.0%\n"
     ]
    }
   ],
   "source": [
    "# Résumé des performances\n",
    "processing_time = (datetime.now() - datetime.fromisoformat(quality_metrics['processing_timestamp'])).total_seconds()\n",
    "\n",
    "print(f\" RÉSULTATS FINAUX:\")\n",
    "print(f\"   Source: {quality_metrics['source_file']}\")\n",
    "print(f\"   Mode: {'Enrichissement complémentaire' if ENRICHED_MODE else 'Pipeline complet'}\")\n",
    "print(f\"   Articles traités: {quality_metrics['total_articles_input']}\")\n",
    "print(f\"   Articles finaux: {quality_metrics['articles_after_deduplication']}\")\n",
    "print(f\"   Corpus de calibration: {quality_metrics['calibration_corpus_size']}\")\n",
    "print(f\"   Taux de déduplication: {quality_metrics['deduplication_rate']:.1%}\")"
   ]
  },
  {
   "cell_type": "code",
   "execution_count": 70,
   "id": "79e94ead",
   "metadata": {},
   "outputs": [
    {
     "name": "stdout",
     "output_type": "stream",
     "text": [
      "\n",
      " MÉTRIQUES DE QUALITÉ:\n",
      "   Score qualité moyen: 0.681\n",
      "   Entités par article: 23.1\n",
      "   Biais temporel détecté: 0.81\n",
      "   Biais géographique: -0.57\n"
     ]
    }
   ],
   "source": [
    "print(f\"\\n MÉTRIQUES DE QUALITÉ:\")\n",
    "print(f\"   Score qualité moyen: {quality_metrics['avg_quality_score']:.3f}\")\n",
    "print(f\"   Entités par article: {quality_metrics['entities_avg_per_article']:.1f}\")\n",
    "print(f\"   Biais temporel détecté: {quality_metrics['temporal_bias_detected']:.2f}\")\n",
    "print(f\"   Biais géographique: {quality_metrics['geographic_bias_detected']:.2f}\")"
   ]
  },
  {
   "cell_type": "code",
   "execution_count": 71,
   "id": "b2e75417",
   "metadata": {},
   "outputs": [
    {
     "name": "stdout",
     "output_type": "stream",
     "text": [
      "\n",
      " DISTRIBUTION LINGUISTIQUE:\n",
      "   fr: 128 articles (100.0%)\n"
     ]
    }
   ],
   "source": [
    "print(f\"\\n DISTRIBUTION LINGUISTIQUE:\")\n",
    "for lang, count in quality_metrics['language_distribution'].items():\n",
    "    pct = count / quality_metrics['articles_after_deduplication'] * 100\n",
    "    print(f\"   {lang}: {count} articles ({pct:.1f}%)\")\n"
   ]
  },
  {
   "cell_type": "code",
   "execution_count": 72,
   "id": "1c386cb4",
   "metadata": {},
   "outputs": [
    {
     "name": "stdout",
     "output_type": "stream",
     "text": [
      "\n",
      "FICHIERS GÉNÉRÉS:\n",
      "   1. articles_preprocessed_advanced.pkl - Dataset principal avec preprocessing avancé\n",
      "   2. calibration_corpus_stratified.pkl - Corpus stratifié pour calibration\n",
      "   3. advanced_preprocessing_metrics.json - Métriques détaillées\n",
      "   4. articles_preprocessed_summary.csv - Export CSV pour analyse\n"
     ]
    }
   ],
   "source": [
    "print(f\"\\nFICHIERS GÉNÉRÉS:\")\n",
    "print(f\"   1. {output_file.name} - Dataset principal avec preprocessing avancé\")\n",
    "print(f\"   2. {calibration_file.name} - Corpus stratifié pour calibration\")\n",
    "print(f\"   3. {metrics_file.name} - Métriques détaillées\")\n",
    "print(f\"   4. {csv_file.name} - Export CSV pour analyse\")\n"
   ]
  },
  {
   "cell_type": "code",
   "execution_count": 73,
   "id": "d0bdaedb",
   "metadata": {},
   "outputs": [
    {
     "name": "stdout",
     "output_type": "stream",
     "text": [
      "\n",
      "INSTRUCTIONS D'INSTALLATION SI ERREURS:\n",
      "   Si erreur spaCy: !python -m spacy download fr_core_news_lg\n",
      "   Si erreur FAISS: !pip install faiss-cpu\n",
      "   Si erreur sentence-transformers: !pip install sentence-transformers\n",
      "   Si erreur langdetect: !pip install langdetect\n",
      "   Si erreur ftfy: !pip install ftfy\n"
     ]
    }
   ],
   "source": [
    "print(f\"\\nINSTRUCTIONS D'INSTALLATION SI ERREURS:\")\n",
    "print(f\"   Si erreur spaCy: !python -m spacy download fr_core_news_lg\")\n",
    "print(f\"   Si erreur FAISS: !pip install faiss-cpu\")\n",
    "print(f\"   Si erreur sentence-transformers: !pip install sentence-transformers\")\n",
    "print(f\"   Si erreur langdetect: !pip install langdetect\")\n",
    "print(f\"   Si erreur ftfy: !pip install ftfy\")"
   ]
  }
 ],
 "metadata": {
  "kernelspec": {
   "display_name": "venv",
   "language": "python",
   "name": "python3"
  },
  "language_info": {
   "codemirror_mode": {
    "name": "ipython",
    "version": 3
   },
   "file_extension": ".py",
   "mimetype": "text/x-python",
   "name": "python",
   "nbconvert_exporter": "python",
   "pygments_lexer": "ipython3",
   "version": "3.11.8"
  }
 },
 "nbformat": 4,
 "nbformat_minor": 5
}
