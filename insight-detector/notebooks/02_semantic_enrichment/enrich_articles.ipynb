{
 "cells": [
  {
   "cell_type": "code",
   "execution_count": 28,
   "id": "696f03d7",
   "metadata": {},
   "outputs": [
    {
     "name": "stdout",
     "output_type": "stream",
     "text": [
      "The autoreload extension is already loaded. To reload it, use:\n",
      "  %reload_ext autoreload\n"
     ]
    }
   ],
   "source": [
    "# lancer le notebook collect_articles.ipynb pour collecter les articles avant de lancer celui-ci\n",
    "\n",
    "# Auto-reload pour développement interactif\n",
    "%load_ext autoreload\n",
    "%autoreload 2\n",
    "\n",
    "import sys\n",
    "from pathlib import Path\n",
    "import json\n",
    "from tqdm import tqdm\n",
    "import pandas as pd\n",
    "import matplotlib.pyplot as plt\n",
    "import seaborn as sns\n",
    "from datetime import datetime\n",
    "from collections import defaultdict\n",
    "\n",
    "# Configuration\n",
    "base_dir = Path().resolve().parent.parent\n",
    "sys.path.append(str(base_dir / \"src\"))\n",
    "\n",
    "# Répertoires\n",
    "outputs_dir = base_dir / \"outputs\"\n",
    "data_dir = base_dir / \"data\"\n",
    "exports_dir = data_dir / \"exports\"\n",
    "exports_dir.mkdir(parents=True, exist_ok=True)\n",
    "\n",
    "from config.database import engine, SessionLocal\n",
    "from data.models import Base\n",
    "from data.database_manager import DatabaseManager\n",
    "from features.enricher import ArticleEnricher\n",
    "\n"
   ]
  },
  {
   "cell_type": "code",
   "execution_count": 29,
   "id": "ed0492c2",
   "metadata": {},
   "outputs": [
    {
     "name": "stdout",
     "output_type": "stream",
     "text": [
      "ÉTAPE 1: Chargement du JSON de collecte\n"
     ]
    }
   ],
   "source": [
    "\n",
    "print(\"ÉTAPE 1: Chargement du JSON de collecte\")\n",
    "\n",
    "# Configuration\n",
    "MAX_ARTICLES = 200  # Limite pour éviter les runs trop longs\n",
    "MIN_TEXT_LENGTH = 200  # Seuil minimum pour enrichissement\n",
    "\n",
    "# Recherche exhaustive de tous les fichiers JSON potentiels\n",
    "search_locations = [\n",
    "    base_dir / \"data\" / \"exports\",\n",
    "    base_dir / \"outputs\", \n",
    "    base_dir / \"data\",\n",
    "    base_dir,\n",
    "    Path().resolve()  # Répertoire courant du notebook\n",
    "]\n",
    "\n",
    "\n",
    "\n",
    "\n"
   ]
  },
  {
   "cell_type": "code",
   "execution_count": 30,
   "id": "0e133b92",
   "metadata": {},
   "outputs": [
    {
     "name": "stdout",
     "output_type": "stream",
     "text": [
      "EXPLORATION DES RÉPERTOIRES:\n",
      "\n",
      "C:\\Users\\beedi.goua_square-ma\\Desktop\\Gheb\\projet perso\\InsightDetector\\insight-detector\\data\\exports\n",
      "   Répertoire existe | 1 fichiers JSON trouvés:\n",
      "      raw_articles.json\n",
      "         2025-07-26 08:23\n",
      "         1.1h | 2550.9KB\n",
      "\n",
      "C:\\Users\\beedi.goua_square-ma\\Desktop\\Gheb\\projet perso\\InsightDetector\\insight-detector\\outputs\n",
      "   Répertoire existe | Aucun fichier JSON\n",
      "\n",
      "C:\\Users\\beedi.goua_square-ma\\Desktop\\Gheb\\projet perso\\InsightDetector\\insight-detector\\data\n",
      "   Répertoire existe | Aucun fichier JSON\n",
      "\n",
      "C:\\Users\\beedi.goua_square-ma\\Desktop\\Gheb\\projet perso\\InsightDetector\\insight-detector\n",
      "   Répertoire existe | Aucun fichier JSON\n",
      "\n",
      "C:\\Users\\beedi.goua_square-ma\\Desktop\\Gheb\\projet perso\\InsightDetector\\insight-detector\\notebooks\\02_semantic_enrichment\n",
      "   Répertoire existe | Aucun fichier JSON\n"
     ]
    }
   ],
   "source": [
    "print(\"EXPLORATION DES RÉPERTOIRES:\")\n",
    "\n",
    "all_json_files = []\n",
    "\n",
    "for location in search_locations:\n",
    "    print(f\"\\n{location}\")\n",
    "    \n",
    "    if location.exists():\n",
    "        # Rechercher tous les fichiers JSON\n",
    "        json_files = list(location.glob(\"*.json\"))\n",
    "        \n",
    "        if json_files:\n",
    "            print(f\"   Répertoire existe | {len(json_files)} fichiers JSON trouvés:\")\n",
    "            for json_file in json_files:\n",
    "                file_time = datetime.fromtimestamp(json_file.stat().st_mtime)\n",
    "                file_age_hours = (datetime.now() - file_time).total_seconds() / 3600\n",
    "                file_size_kb = json_file.stat().st_size / 1024\n",
    "                \n",
    "                print(f\"      {json_file.name}\")\n",
    "                print(f\"         {file_time.strftime('%Y-%m-%d %H:%M')}\")\n",
    "                print(f\"         {file_age_hours:.1f}h | {file_size_kb:.1f}KB\")\n",
    "                \n",
    "                all_json_files.append({\n",
    "                    'path': json_file,\n",
    "                    'name': json_file.name,\n",
    "                    'time': file_time,\n",
    "                    'age_hours': file_age_hours,\n",
    "                    'size_kb': file_size_kb\n",
    "                })\n",
    "        else:\n",
    "            print(f\"   Répertoire existe | Aucun fichier JSON\")\n",
    "    else:\n",
    "        print(f\"   Répertoire n'existe pas\")\n",
    "\n",
    "# Utilisation de la liste des fichiers JSON trouvés\n",
    "if not all_json_files:\n",
    "    print(\"AUCUN FICHIER JSON TROUVÉ\")\n",
    "    print(\"Solutions:\")\n",
    "    print(\"   1. Exécutez d'abord le notebook de collecte\")\n",
    "    print(\"   2. Vérifiez que la collecte génère un fichier JSON\")\n",
    "    exit(1)\n",
    "\n",
    "\n",
    "\n",
    "\n",
    "\n"
   ]
  },
  {
   "cell_type": "code",
   "execution_count": 31,
   "id": "2e76e29d",
   "metadata": {},
   "outputs": [
    {
     "name": "stdout",
     "output_type": "stream",
     "text": [
      "\n",
      "ANALYSE DES CANDIDATS:\n",
      "   1. raw_articles.json (score: 222.4)\n",
      "      2025-07-26 08:23 | 1.1h | 2550.9KB\n",
      "\n",
      "FICHIER SÉLECTIONNÉ: raw_articles.json\n",
      "   Chemin: C:\\Users\\beedi.goua_square-ma\\Desktop\\Gheb\\projet perso\\InsightDetector\\insight-detector\\data\\exports\\raw_articles.json\n",
      "   Modifié: 2025-07-26 08:23:31\n",
      "   Âge: 1.1 heures\n",
      "   Taille: 2550.9 KB\n"
     ]
    }
   ],
   "source": [
    "# Tri par âge (plus récent en premier) et taille (plus gros en premier)\n",
    "recent_files = [f for f in all_json_files if f['age_hours'] < 48]  # Moins de 48h\n",
    "\n",
    "if not recent_files:\n",
    "    print(\"Aucun fichier JSON récent (< 48h), utilisation du plus récent disponible\")\n",
    "    recent_files = sorted(all_json_files, key=lambda x: x['time'], reverse=True)[:3]\n",
    "\n",
    "# Sélection du meilleur candidat\n",
    "def score_file(file_info):\n",
    "    \"\"\"Score un fichier JSON selon plusieurs critères\"\"\"\n",
    "    score = 0\n",
    "    name = file_info['name'].lower()\n",
    "    \n",
    "    # Bonus pour noms pertinents\n",
    "    if 'article' in name:\n",
    "        score += 100\n",
    "    if 'collect' in name or 'raw' in name:\n",
    "        score += 50\n",
    "    if 'enriched' in name:\n",
    "        score -= 50  # Éviter les fichiers déjà enrichis\n",
    "    \n",
    "    # Bonus pour récence (inversement proportionnel à l'âge)\n",
    "    score += max(0, 48 - file_info['age_hours'])\n",
    "    \n",
    "    # Bonus pour taille (fichiers plus gros = plus d'articles)\n",
    "    score += min(file_info['size_kb'] / 100, 50)  # Cap à 50 points\n",
    "    \n",
    "    return score\n",
    "\n",
    "# Tri par score\n",
    "scored_files = [(f, score_file(f)) for f in recent_files]\n",
    "scored_files.sort(key=lambda x: x[1], reverse=True)\n",
    "\n",
    "print(f\"\\nANALYSE DES CANDIDATS:\")\n",
    "for i, (file_info, score) in enumerate(scored_files[:5], 1):\n",
    "    print(f\"   {i}. {file_info['name']} (score: {score:.1f})\")\n",
    "    print(f\"      {file_info['time'].strftime('%Y-%m-%d %H:%M')} | {file_info['age_hours']:.1f}h | {file_info['size_kb']:.1f}KB\")\n",
    "\n",
    "# Sélection du meilleur fichier\n",
    "best_file_info = scored_files[0][0]\n",
    "latest_file = best_file_info['path']\n",
    "latest_time = best_file_info['time']\n",
    "\n",
    "print(f\"\\nFICHIER SÉLECTIONNÉ: {latest_file.name}\")\n",
    "print(f\"   Chemin: {latest_file}\")\n",
    "print(f\"   Modifié: {latest_time.strftime('%Y-%m-%d %H:%M:%S')}\")\n",
    "print(f\"   Âge: {best_file_info['age_hours']:.1f} heures\")\n",
    "print(f\"   Taille: {best_file_info['size_kb']:.1f} KB\")\n"
   ]
  },
  {
   "cell_type": "code",
   "execution_count": 32,
   "id": "b1ae4f61",
   "metadata": {},
   "outputs": [
    {
     "name": "stdout",
     "output_type": "stream",
     "text": [
      "Fichier JSON valide détecté\n"
     ]
    }
   ],
   "source": [
    "# Vérification rapide du contenu\n",
    "try:\n",
    "    # Test de lecture pour vérifier la validité\n",
    "    with open(latest_file, 'r', encoding='utf-8') as f:\n",
    "        # Lire juste le début pour validation\n",
    "        content_preview = f.read(1000)\n",
    "        if not content_preview.strip().startswith('['):\n",
    "            print(\"Attention: Le fichier ne semble pas être une liste JSON\")\n",
    "    \n",
    "    print(\"Fichier JSON valide détecté\")\n",
    "    \n",
    "except Exception as e:\n",
    "    print(f\"Erreur validation fichier: {e}\")\n",
    "    # Essayer le fichier suivant\n",
    "    if len(scored_files) > 1:\n",
    "        print(\"Essai du fichier suivant...\")\n",
    "        best_file_info = scored_files[1][0]\n",
    "        latest_file = best_file_info['path']\n",
    "        latest_time = best_file_info['time']\n",
    "        print(f\"Fichier alternatif: {latest_file.name}\")\n",
    "    else:\n",
    "        exit(1)\n",
    "\n",
    "\n"
   ]
  },
  {
   "cell_type": "code",
   "execution_count": 33,
   "id": "923e4802",
   "metadata": {},
   "outputs": [
    {
     "name": "stdout",
     "output_type": "stream",
     "text": [
      "\n",
      "CHARGEMENT: raw_articles.json\n",
      "Articles chargés: 586\n",
      "Âge du fichier: 1.1 heures\n"
     ]
    }
   ],
   "source": [
    "# Chargement du JSON\n",
    "print(f\"\\nCHARGEMENT: {latest_file.name}\")\n",
    "try:\n",
    "    with open(latest_file, 'r', encoding='utf-8') as f:\n",
    "        raw_articles = json.load(f)\n",
    "    \n",
    "    print(f\"Articles chargés: {len(raw_articles)}\")\n",
    "    file_age = (datetime.now() - latest_time).total_seconds() / 3600\n",
    "    print(f\"Âge du fichier: {file_age:.1f} heures\")\n",
    "    \n",
    "except Exception as e:\n",
    "    print(f\"Erreur chargement: {e}\")\n",
    "    exit(1)"
   ]
  },
  {
   "cell_type": "code",
   "execution_count": 34,
   "id": "ec4ed67b",
   "metadata": {},
   "outputs": [
    {
     "name": "stdout",
     "output_type": "stream",
     "text": [
      "Analyse du contenu:\n"
     ]
    }
   ],
   "source": [
    "\n",
    "# ÉTAPE 2: ANALYSE ET FILTRAGE DES ARTICLES\n",
    "\n",
    "# Analyse des articles\n",
    "analysis = {\n",
    "    \"total\": len(raw_articles),\n",
    "    \"with_text\": 0,\n",
    "    \"sufficient_text\": 0,\n",
    "    \"with_summary_only\": 0,\n",
    "    \"empty_content\": 0,\n",
    "    \"candidates\": []\n",
    "}\n",
    "\n",
    "print(\"Analyse du contenu:\")\n",
    "\n",
    "for article in raw_articles:\n",
    "    text = article.get('text', '')\n",
    "    summary = article.get('summary', '')\n",
    "    \n",
    "    text_length = len(text) if text else 0\n",
    "    summary_length = len(summary) if summary else 0\n",
    "    total_content_length = text_length + summary_length\n",
    "    \n",
    "    # Catégorisation\n",
    "    if text_length >= MIN_TEXT_LENGTH:\n",
    "        analysis[\"with_text\"] += 1\n",
    "        analysis[\"sufficient_text\"] += 1\n",
    "        analysis[\"candidates\"].append(article)\n",
    "    elif text_length > 0 or summary_length >= 100:\n",
    "        analysis[\"with_summary_only\"] += 1\n",
    "        # Inclure aussi les articles avec résumé substantiel\n",
    "        if total_content_length >= MIN_TEXT_LENGTH:\n",
    "            analysis[\"candidates\"].append(article)\n",
    "    else:\n",
    "        analysis[\"empty_content\"] += 1\n",
    "\n"
   ]
  },
  {
   "cell_type": "code",
   "execution_count": 35,
   "id": "fa060fc9",
   "metadata": {},
   "outputs": [
    {
     "name": "stdout",
     "output_type": "stream",
     "text": [
      "   Total articles: 586\n",
      "   Avec texte complet (≥200): 542\n",
      "   Avec résumé seulement: 42\n",
      "   Contenu insuffisant: 2\n",
      "   Candidats à enrichir: 580\n"
     ]
    }
   ],
   "source": [
    "print(f\"   Total articles: {analysis['total']}\")\n",
    "print(f\"   Avec texte complet (≥{MIN_TEXT_LENGTH}): {analysis['sufficient_text']}\")\n",
    "print(f\"   Avec résumé seulement: {analysis['with_summary_only']}\")\n",
    "print(f\"   Contenu insuffisant: {analysis['empty_content']}\")\n",
    "print(f\"   Candidats à enrichir: {len(analysis['candidates'])}\")\n",
    "\n"
   ]
  },
  {
   "cell_type": "code",
   "execution_count": 36,
   "id": "2f00d478",
   "metadata": {},
   "outputs": [
    {
     "name": "stdout",
     "output_type": "stream",
     "text": [
      "Limitation: 580 → 200 articles\n",
      "\n",
      "ARTICLES SÉLECTIONNÉS POUR ENRICHISSEMENT: 200\n"
     ]
    }
   ],
   "source": [
    "# Sélection finale et tri\n",
    "articles_to_enrich = analysis[\"candidates\"]\n",
    "\n",
    "if not articles_to_enrich:\n",
    "    print(\"AUCUN ARTICLE CANDIDAT\")\n",
    "    print(\"Solutions:\")\n",
    "    print(f\"   - Réduire MIN_TEXT_LENGTH (actuellement {MIN_TEXT_LENGTH})\")\n",
    "    print(\"   - Vérifier que la collecte a récupéré le contenu complet\")\n",
    "    exit(1)\n",
    "\n",
    "# Tri par qualité du contenu (texte le plus long en premier)\n",
    "articles_to_enrich.sort(\n",
    "    key=lambda x: len(x.get('text', '') + x.get('summary', '')), \n",
    "    reverse=True\n",
    ")\n",
    "\n",
    "# Limitation pour éviter les runs trop longs\n",
    "if len(articles_to_enrich) > MAX_ARTICLES:\n",
    "    print(f\"Limitation: {len(articles_to_enrich)} → {MAX_ARTICLES} articles\")\n",
    "    articles_to_enrich = articles_to_enrich[:MAX_ARTICLES]\n",
    "\n",
    "print(f\"\\nARTICLES SÉLECTIONNÉS POUR ENRICHISSEMENT: {len(articles_to_enrich)}\")"
   ]
  },
  {
   "cell_type": "code",
   "execution_count": 37,
   "id": "3add05f3",
   "metadata": {},
   "outputs": [
    {
     "name": "stdout",
     "output_type": "stream",
     "text": [
      "\n",
      "APERÇU (5 premiers):\n",
      "   1. Top 10 AI Content Generator & Writer Tools in 2022\n",
      "       | 18555+18203 chars\n",
      "   2. How I Fine-Tuned Granite-Vision 2B to Beat a 90B M...\n",
      "      feed | 35793+233 chars\n",
      "   3. When LLMs Try to Reason: Experiments in Text and V...\n",
      "      feed | 31948+723 chars\n",
      "   4. \"On n'a fait que du Tetris\" : on vous raconte l'hi...\n",
      "      titres.rss | 31889+258 chars\n",
      "   5. How Not to Mislead with Your Data-Driven Story\n",
      "      feed | 27673+575 chars\n"
     ]
    }
   ],
   "source": [
    "\n",
    "\n",
    "# Aperçu des articles sélectionnés\n",
    "print(f\"\\nAPERÇU (5 premiers):\")\n",
    "for i, article in enumerate(articles_to_enrich[:5], 1):\n",
    "    title = article['title'][:50] + \"...\" if len(article['title']) > 50 else article['title']\n",
    "    text_len = len(article.get('text', ''))\n",
    "    summary_len = len(article.get('summary', ''))\n",
    "    source_name = article.get('source', '').split('/')[-1] if article.get('source') else 'N/A'\n",
    "    \n",
    "    print(f\"   {i}. {title}\")\n",
    "    print(f\"      {source_name} | {text_len}+{summary_len} chars\")\n",
    "\n",
    "\n"
   ]
  },
  {
   "cell_type": "code",
   "execution_count": 38,
   "id": "931213b1",
   "metadata": {},
   "outputs": [
    {
     "name": "stdout",
     "output_type": "stream",
     "text": [
      "Estimation: 200 articles × 20s = 66m 40s\n",
      "ArticleEnricher initialisé\n"
     ]
    }
   ],
   "source": [
    "# ÉTAPE 3: ENRICHISSEMENT IA\n",
    "\n",
    "# Estimation du temps\n",
    "estimated_time_per_article = 20  # secondes\n",
    "total_time = len(articles_to_enrich) * estimated_time_per_article\n",
    "print(f\"Estimation: {len(articles_to_enrich)} articles × {estimated_time_per_article}s = {total_time//60}m {total_time%60}s\")\n",
    "\n",
    "# Initialisation de l'enricher\n",
    "try:\n",
    "    enricher = ArticleEnricher()\n",
    "    print(\"ArticleEnricher initialisé\")\n",
    "except Exception as e:\n",
    "    print(f\"Erreur initialisation enricher: {e}\")\n",
    "    exit(1)\n"
   ]
  },
  {
   "cell_type": "code",
   "execution_count": 39,
   "id": "fb4ef911",
   "metadata": {},
   "outputs": [],
   "source": [
    "# Enrichissement avec suivi détaillé\n",
    "enriched_articles = []\n",
    "enrichment_stats = {\n",
    "    \"success\": 0,\n",
    "    \"partial\": 0,\n",
    "    \"failed\": 0,\n",
    "    \"start_time\": datetime.now()\n",
    "}\n"
   ]
  },
  {
   "cell_type": "code",
   "execution_count": 40,
   "id": "79bd80a2",
   "metadata": {},
   "outputs": [
    {
     "name": "stdout",
     "output_type": "stream",
     "text": [
      "\n",
      "Enrichissement en cours...\n"
     ]
    },
    {
     "name": "stderr",
     "output_type": "stream",
     "text": [
      "Enrichissement:   0%|          | 0/200 [00:00<?, ?it/s]"
     ]
    },
    {
     "name": "stdout",
     "output_type": "stream",
     "text": [
      "\n",
      "Progrès: 1/200 | Restant: ~2m\n"
     ]
    },
    {
     "name": "stderr",
     "output_type": "stream",
     "text": [
      "Enrichissement:   5%|▌         | 10/200 [00:32<04:55,  1.56s/it]"
     ]
    },
    {
     "name": "stdout",
     "output_type": "stream",
     "text": [
      "\n",
      "Progrès: 11/200 | Restant: ~9m\n"
     ]
    },
    {
     "name": "stderr",
     "output_type": "stream",
     "text": [
      "Enrichissement:  10%|█         | 20/200 [00:42<02:50,  1.06it/s]"
     ]
    },
    {
     "name": "stdout",
     "output_type": "stream",
     "text": [
      "\n",
      "Progrès: 21/200 | Restant: ~6m\n"
     ]
    },
    {
     "name": "stderr",
     "output_type": "stream",
     "text": [
      "Enrichissement:  15%|█▌        | 30/200 [00:52<02:59,  1.06s/it]"
     ]
    },
    {
     "name": "stdout",
     "output_type": "stream",
     "text": [
      "\n",
      "Progrès: 31/200 | Restant: ~4m\n"
     ]
    },
    {
     "name": "stderr",
     "output_type": "stream",
     "text": [
      "Enrichissement:  20%|██        | 40/200 [00:59<01:32,  1.72it/s]"
     ]
    },
    {
     "name": "stdout",
     "output_type": "stream",
     "text": [
      "\n",
      "Progrès: 41/200 | Restant: ~3m\n"
     ]
    },
    {
     "name": "stderr",
     "output_type": "stream",
     "text": [
      "Enrichissement:  25%|██▌       | 50/200 [01:06<01:51,  1.35it/s]"
     ]
    },
    {
     "name": "stdout",
     "output_type": "stream",
     "text": [
      "\n",
      "Progrès: 51/200 | Restant: ~3m\n"
     ]
    },
    {
     "name": "stderr",
     "output_type": "stream",
     "text": [
      "Enrichissement:  30%|███       | 60/200 [01:12<01:21,  1.73it/s]"
     ]
    },
    {
     "name": "stdout",
     "output_type": "stream",
     "text": [
      "\n",
      "Progrès: 61/200 | Restant: ~2m\n"
     ]
    },
    {
     "name": "stderr",
     "output_type": "stream",
     "text": [
      "Enrichissement:  35%|███▌      | 70/200 [01:19<01:27,  1.49it/s]"
     ]
    },
    {
     "name": "stdout",
     "output_type": "stream",
     "text": [
      "\n",
      "Progrès: 71/200 | Restant: ~2m\n"
     ]
    },
    {
     "name": "stderr",
     "output_type": "stream",
     "text": [
      "Enrichissement:  40%|████      | 80/200 [01:24<00:53,  2.26it/s]"
     ]
    },
    {
     "name": "stdout",
     "output_type": "stream",
     "text": [
      "\n",
      "Progrès: 81/200 | Restant: ~2m\n"
     ]
    },
    {
     "name": "stderr",
     "output_type": "stream",
     "text": [
      "Enrichissement:  45%|████▌     | 90/200 [01:29<00:54,  2.01it/s]"
     ]
    },
    {
     "name": "stdout",
     "output_type": "stream",
     "text": [
      "\n",
      "Progrès: 91/200 | Restant: ~1m\n"
     ]
    },
    {
     "name": "stderr",
     "output_type": "stream",
     "text": [
      "Enrichissement:  50%|█████     | 100/200 [01:33<00:50,  1.98it/s]"
     ]
    },
    {
     "name": "stdout",
     "output_type": "stream",
     "text": [
      "\n",
      "Progrès: 101/200 | Restant: ~1m\n"
     ]
    },
    {
     "name": "stderr",
     "output_type": "stream",
     "text": [
      "Enrichissement:  55%|█████▌    | 110/200 [01:38<00:38,  2.32it/s]"
     ]
    },
    {
     "name": "stdout",
     "output_type": "stream",
     "text": [
      "\n",
      "Progrès: 111/200 | Restant: ~1m\n"
     ]
    },
    {
     "name": "stderr",
     "output_type": "stream",
     "text": [
      "Enrichissement:  60%|██████    | 120/200 [01:43<00:35,  2.28it/s]"
     ]
    },
    {
     "name": "stdout",
     "output_type": "stream",
     "text": [
      "\n",
      "Progrès: 121/200 | Restant: ~1m\n"
     ]
    },
    {
     "name": "stderr",
     "output_type": "stream",
     "text": [
      "Enrichissement:  65%|██████▌   | 130/200 [01:48<00:29,  2.38it/s]"
     ]
    },
    {
     "name": "stdout",
     "output_type": "stream",
     "text": [
      "\n",
      "Progrès: 131/200 | Restant: ~0m\n"
     ]
    },
    {
     "name": "stderr",
     "output_type": "stream",
     "text": [
      "Enrichissement:  70%|███████   | 140/200 [01:52<00:24,  2.44it/s]"
     ]
    },
    {
     "name": "stdout",
     "output_type": "stream",
     "text": [
      "\n",
      "Progrès: 141/200 | Restant: ~0m\n"
     ]
    },
    {
     "name": "stderr",
     "output_type": "stream",
     "text": [
      "Enrichissement:  75%|███████▌  | 150/200 [01:58<00:32,  1.53it/s]"
     ]
    },
    {
     "name": "stdout",
     "output_type": "stream",
     "text": [
      "\n",
      "Progrès: 151/200 | Restant: ~0m\n"
     ]
    },
    {
     "name": "stderr",
     "output_type": "stream",
     "text": [
      "Enrichissement:  80%|████████  | 160/200 [02:02<00:15,  2.58it/s]"
     ]
    },
    {
     "name": "stdout",
     "output_type": "stream",
     "text": [
      "\n",
      "Progrès: 161/200 | Restant: ~0m\n"
     ]
    },
    {
     "name": "stderr",
     "output_type": "stream",
     "text": [
      "Enrichissement:  85%|████████▌ | 170/200 [02:07<00:13,  2.20it/s]"
     ]
    },
    {
     "name": "stdout",
     "output_type": "stream",
     "text": [
      "\n",
      "Progrès: 171/200 | Restant: ~0m\n"
     ]
    },
    {
     "name": "stderr",
     "output_type": "stream",
     "text": [
      "Enrichissement:  90%|█████████ | 180/200 [02:10<00:08,  2.43it/s]"
     ]
    },
    {
     "name": "stdout",
     "output_type": "stream",
     "text": [
      "\n",
      "Progrès: 181/200 | Restant: ~0m\n"
     ]
    },
    {
     "name": "stderr",
     "output_type": "stream",
     "text": [
      "Enrichissement:  95%|█████████▌| 190/200 [02:14<00:03,  2.84it/s]"
     ]
    },
    {
     "name": "stdout",
     "output_type": "stream",
     "text": [
      "\n",
      "Progrès: 191/200 | Restant: ~0m\n"
     ]
    },
    {
     "name": "stderr",
     "output_type": "stream",
     "text": [
      "Enrichissement: 100%|██████████| 200/200 [02:18<00:00,  1.44it/s]\n"
     ]
    }
   ],
   "source": [
    "print(f\"\\nEnrichissement en cours...\")\n",
    "\n",
    "for i, article in enumerate(tqdm(articles_to_enrich, desc=\"Enrichissement\"), 1):\n",
    "    try:\n",
    "        # Affichage du progrès\n",
    "        if i % 10 == 1:  # Afficher chaque 10 articles\n",
    "            elapsed = (datetime.now() - enrichment_stats[\"start_time\"]).total_seconds()\n",
    "            remaining = (elapsed / i) * (len(articles_to_enrich) - i)\n",
    "            print(f\"\\nProgrès: {i}/{len(articles_to_enrich)} | Restant: ~{remaining//60:.0f}m\")\n",
    "        \n",
    "        # Enrichissement de l'article\n",
    "        enriched_article = enricher.enrich(article)\n",
    "        \n",
    "        # Vérification de la qualité de l'enrichissement\n",
    "        enrichment_quality = sum([\n",
    "            bool(enriched_article.get('quality_score')),\n",
    "            bool(enriched_article.get('language')),\n",
    "            bool(enriched_article.get('entities')),\n",
    "            bool(enriched_article.get('embedding'))\n",
    "        ])\n",
    "        \n",
    "        if enrichment_quality >= 3:\n",
    "            enrichment_stats[\"success\"] += 1\n",
    "        elif enrichment_quality >= 1:\n",
    "            enrichment_stats[\"partial\"] += 1\n",
    "        else:\n",
    "            enrichment_stats[\"failed\"] += 1\n",
    "        \n",
    "        enriched_articles.append(enriched_article)\n",
    "        \n",
    "    except Exception as e:\n",
    "        print(f\"\\nErreur article {i}: {e}\")\n",
    "        # Garder l'article original en cas d'échec\n",
    "        enriched_articles.append(article)\n",
    "        enrichment_stats[\"failed\"] += 1"
   ]
  },
  {
   "cell_type": "code",
   "execution_count": 41,
   "id": "088fc17f",
   "metadata": {},
   "outputs": [
    {
     "name": "stdout",
     "output_type": "stream",
     "text": [
      "\n",
      "STATISTIQUES D'ENRICHISSEMENT:\n",
      "   Succès complets: 200\n",
      "   Succès partiels: 0\n",
      "   Échecs: 0\n",
      "   Durée totale: 2m 21s\n",
      "   Moyenne: 0.7s/article\n"
     ]
    }
   ],
   "source": [
    "# Statistiques d'enrichissement\n",
    "enrichment_stats[\"end_time\"] = datetime.now()\n",
    "total_duration = (enrichment_stats[\"end_time\"] - enrichment_stats[\"start_time\"]).total_seconds()\n",
    "\n",
    "print(f\"\\nSTATISTIQUES D'ENRICHISSEMENT:\")\n",
    "print(f\"   Succès complets: {enrichment_stats['success']}\")\n",
    "print(f\"   Succès partiels: {enrichment_stats['partial']}\")\n",
    "print(f\"   Échecs: {enrichment_stats['failed']}\")\n",
    "print(f\"   Durée totale: {total_duration//60:.0f}m {total_duration%60:.0f}s\")\n",
    "print(f\"   Moyenne: {total_duration/len(articles_to_enrich):.1f}s/article\")\n",
    "\n"
   ]
  },
  {
   "cell_type": "code",
   "execution_count": 42,
   "id": "d20189e3",
   "metadata": {},
   "outputs": [
    {
     "name": "stdout",
     "output_type": "stream",
     "text": [
      "Base de données initialisée\n",
      "Sauvegarde de 200 articles enrichis...\n"
     ]
    }
   ],
   "source": [
    "# ÉTAPE 4: SAUVEGARDE EN BASE DE DONNÉES\n",
    "\n",
    "# Initialisation BDD\n",
    "Base.metadata.create_all(bind=engine)\n",
    "session = SessionLocal()\n",
    "db = DatabaseManager(session=session)\n",
    "\n",
    "print(\"Base de données initialisée\")\n",
    "\n",
    "# Sauvegarde des articles enrichis\n",
    "save_stats = {\n",
    "    \"saved\": 0,\n",
    "    \"duplicates\": 0,\n",
    "    \"errors\": 0\n",
    "}\n",
    "\n",
    "print(f\"Sauvegarde de {len(enriched_articles)} articles enrichis...\")\n",
    "\n",
    "\n"
   ]
  },
  {
   "cell_type": "code",
   "execution_count": 43,
   "id": "6f7bdc48",
   "metadata": {},
   "outputs": [
    {
     "name": "stderr",
     "output_type": "stream",
     "text": [
      "Sauvegarde: 100%|██████████| 200/200 [00:00<00:00, 1103.76it/s]\n"
     ]
    }
   ],
   "source": [
    "\n",
    "for i, article in enumerate(tqdm(enriched_articles, desc=\"Sauvegarde\"), 1):\n",
    "    try:\n",
    "        article_id = db.create_article(article)\n",
    "        \n",
    "        if article_id:\n",
    "            save_stats[\"saved\"] += 1\n",
    "        else:\n",
    "            save_stats[\"duplicates\"] += 1\n",
    "            \n",
    "    except Exception as e:\n",
    "        print(f\"\\nErreur sauvegarde article {i}: {e}\")\n",
    "        save_stats[\"errors\"] += 1\n"
   ]
  },
  {
   "cell_type": "code",
   "execution_count": 44,
   "id": "15201b84",
   "metadata": {},
   "outputs": [
    {
     "name": "stdout",
     "output_type": "stream",
     "text": [
      "\n",
      "STATISTIQUES DE SAUVEGARDE:\n",
      "   Articles sauvés: 200\n",
      "   Doublons ignorés: 0\n",
      "   Erreurs: 0\n"
     ]
    }
   ],
   "source": [
    "print(f\"\\nSTATISTIQUES DE SAUVEGARDE:\")\n",
    "print(f\"   Articles sauvés: {save_stats['saved']}\")\n",
    "print(f\"   Doublons ignorés: {save_stats['duplicates']}\")\n",
    "print(f\"   Erreurs: {save_stats['errors']}\")\n",
    "\n"
   ]
  },
  {
   "cell_type": "code",
   "execution_count": 45,
   "id": "f5c35156",
   "metadata": {},
   "outputs": [
    {
     "name": "stdout",
     "output_type": "stream",
     "text": [
      "Export JSON: enriched_articles.json\n",
      "Export léger: enriched_light.json\n"
     ]
    }
   ],
   "source": [
    "#  ÉTAPE 5: EXPORT DES ARTICLES ENRICHIS\n",
    "\n",
    "\n",
    "# Export JSON complet\n",
    "timestamp = datetime.now().strftime(\"%Y%m%d_%H%M%S\")\n",
    "enriched_file = exports_dir / f\"enriched_articles.json\"\n",
    "\n",
    "try:\n",
    "    with open(enriched_file, 'w', encoding='utf-8') as f:\n",
    "        json.dump(enriched_articles, f, ensure_ascii=False, indent=2)\n",
    "    \n",
    "    print(f\"Export JSON: {enriched_file.name}\")\n",
    "    \n",
    "except Exception as e:\n",
    "    print(f\"Erreur export: {e}\")\n",
    "\n",
    "# Export version légère (sans embeddings)\n",
    "light_articles = []\n",
    "for article in enriched_articles:\n",
    "    light_article = {\n",
    "        \"id\": article.get(\"id\"),\n",
    "        \"title\": article.get(\"title\"),\n",
    "        \"summary\": article.get(\"summary\"),\n",
    "        \"published\": article.get(\"published\"),\n",
    "        \"source\": article.get(\"source\"),\n",
    "        \"url\": article.get(\"url\"),\n",
    "        \"language\": article.get(\"language\"),\n",
    "        \"quality_score\": article.get(\"quality_score\"),\n",
    "        \"entities\": article.get(\"entities\")\n",
    "    }\n",
    "    light_articles.append(light_article)\n",
    "\n",
    "light_file = exports_dir / f\"enriched_light.json\"\n",
    "\n",
    "try:\n",
    "    with open(light_file, 'w', encoding='utf-8') as f:\n",
    "        json.dump(light_articles, f, ensure_ascii=False, indent=2)\n",
    "    \n",
    "    print(f\"Export léger: {light_file.name}\")\n",
    "    \n",
    "except Exception as e:\n",
    "    print(f\"Erreur export léger: {e}\")\n"
   ]
  },
  {
   "cell_type": "code",
   "execution_count": 46,
   "id": "339c961e",
   "metadata": {},
   "outputs": [
    {
     "name": "stdout",
     "output_type": "stream",
     "text": [
      "Scores de qualité:\n",
      "   Moyenne: 0.21\n",
      "   Médiane: 0.22\n",
      "   Min: 0.11\n",
      "   Max: 0.27\n",
      "\n",
      "Langues détectées:\n",
      "   fr: 130 articles\n",
      "   en: 70 articles\n"
     ]
    },
    {
     "data": {
      "image/png": "[encoded data removed]",
      "text/plain": [
       "<Figure size 1200x500 with 2 Axes>"
      ]
     },
     "metadata": {},
     "output_type": "display_data"
    }
   ],
   "source": [
    "# ÉTAPE 6: ANALYSES ET VISUALISATIONS\n",
    "\n",
    "# Conversion en DataFrame pour analyses\n",
    "df = pd.DataFrame(enriched_articles)\n",
    "\n",
    "# Analyse des enrichissements\n",
    "if 'quality_score' in df.columns:\n",
    "    quality_scores = df['quality_score'].dropna()\n",
    "    print(f\"Scores de qualité:\")\n",
    "    print(f\"   Moyenne: {quality_scores.mean():.2f}\")\n",
    "    print(f\"   Médiane: {quality_scores.median():.2f}\")\n",
    "    print(f\"   Min: {quality_scores.min():.2f}\")\n",
    "    print(f\"   Max: {quality_scores.max():.2f}\")\n",
    "\n",
    "if 'language' in df.columns:\n",
    "    languages = df['language'].value_counts()\n",
    "    print(f\"\\nLangues détectées:\")\n",
    "    for lang, count in languages.head().items():\n",
    "        print(f\"   {lang}: {count} articles\")\n",
    "\n",
    "# Graphiques simples\n",
    "fig, axes = plt.subplots(1, 2, figsize=(12, 5))\n",
    "\n",
    "# Distribution des scores de qualité\n",
    "if 'quality_score' in df.columns and df['quality_score'].notna().sum() > 0:\n",
    "    df['quality_score'].hist(bins=20, ax=axes[0], alpha=0.7)\n",
    "    axes[0].set_title('Distribution des scores de qualité')\n",
    "    axes[0].set_xlabel('Score qualité')\n",
    "    axes[0].set_ylabel('Nombre d\\'articles')\n",
    "\n",
    "# Répartition par langue\n",
    "if 'language' in df.columns and df['language'].notna().sum() > 0:\n",
    "    lang_counts = df['language'].value_counts().head(10)\n",
    "    lang_counts.plot(kind='bar', ax=axes[1])\n",
    "    axes[1].set_title('Articles par langue')\n",
    "    axes[1].set_xlabel('Langue')\n",
    "    axes[1].set_ylabel('Nombre d\\'articles')\n",
    "    axes[1].tick_params(axis='x', rotation=45)\n",
    "\n",
    "plt.tight_layout()\n",
    "plt.show()\n",
    "\n"
   ]
  },
  {
   "cell_type": "code",
   "execution_count": 47,
   "id": "6ada09dc",
   "metadata": {},
   "outputs": [
    {
     "name": "stdout",
     "output_type": "stream",
     "text": [
      "RÉSUMÉ COMPLET:\n",
      "   Source: raw_articles.json\n",
      "   Articles chargés: 586\n",
      "   Articles sélectionnés: 200\n",
      "   Articles enrichis: 200\n",
      "   Articles sauvés en BDD: 200\n",
      "   Temps total: 2m 25s\n"
     ]
    }
   ],
   "source": [
    "#  ÉTAPE 7: RAPPORT FINAL\n",
    "\n",
    "\n",
    "# Résumé du pipeline\n",
    "total_pipeline_time = (datetime.now() - enrichment_stats[\"start_time\"]).total_seconds()\n",
    "\n",
    "print(f\"RÉSUMÉ COMPLET:\")\n",
    "print(f\"   Source: {latest_file.name}\")\n",
    "print(f\"   Articles chargés: {len(raw_articles)}\")\n",
    "print(f\"   Articles sélectionnés: {len(articles_to_enrich)}\")\n",
    "print(f\"   Articles enrichis: {len(enriched_articles)}\")\n",
    "print(f\"   Articles sauvés en BDD: {save_stats['saved']}\")\n",
    "print(f\"   Temps total: {total_pipeline_time//60:.0f}m {total_pipeline_time%60:.0f}s\")\n"
   ]
  },
  {
   "cell_type": "code",
   "execution_count": 48,
   "id": "858e4372",
   "metadata": {},
   "outputs": [
    {
     "name": "stdout",
     "output_type": "stream",
     "text": [
      "\n",
      "TAUX DE SUCCÈS:\n",
      "   Sélection: 34.1% (200/586)\n",
      "   Enrichissement: 100.0% (200/200)\n",
      "   Sauvegarde: 100.0% (200/200)\n"
     ]
    }
   ],
   "source": [
    "\n",
    "print(f\"\\nTAUX DE SUCCÈS:\")\n",
    "total_input = len(raw_articles)\n",
    "if total_input > 0:\n",
    "    selection_rate = len(articles_to_enrich) / total_input * 100\n",
    "    enrichment_success_rate = enrichment_stats[\"success\"] / len(articles_to_enrich) * 100\n",
    "    save_success_rate = save_stats[\"saved\"] / len(enriched_articles) * 100\n",
    "    \n",
    "    print(f\"   Sélection: {selection_rate:.1f}% ({len(articles_to_enrich)}/{total_input})\")\n",
    "    print(f\"   Enrichissement: {enrichment_success_rate:.1f}% ({enrichment_stats['success']}/{len(articles_to_enrich)})\")\n",
    "    print(f\"   Sauvegarde: {save_success_rate:.1f}% ({save_stats['saved']}/{len(enriched_articles)})\")\n",
    "\n"
   ]
  },
  {
   "cell_type": "code",
   "execution_count": 49,
   "id": "b3b32eb2",
   "metadata": {},
   "outputs": [
    {
     "name": "stdout",
     "output_type": "stream",
     "text": [
      "\n",
      "FICHIERS GÉNÉRÉS:\n",
      "   enriched_articles.json\n",
      "   enriched_light.json\n"
     ]
    }
   ],
   "source": [
    "print(f\"\\nFICHIERS GÉNÉRÉS:\")\n",
    "print(f\"   {enriched_file.name}\")\n",
    "print(f\"   {light_file.name}\")\n",
    "\n",
    "\n",
    "\n",
    "# Nettoyage\n",
    "session.close()"
   ]
  }
 ],
 "metadata": {
  "kernelspec": {
   "display_name": "venv",
   "language": "python",
   "name": "python3"
  },
  "language_info": {
   "codemirror_mode": {
    "name": "ipython",
    "version": 3
   },
   "file_extension": ".py",
   "mimetype": "text/x-python",
   "name": "python",
   "nbconvert_exporter": "python",
   "pygments_lexer": "ipython3",
   "version": "3.11.8"
  }
 },
 "nbformat": 4,
 "nbformat_minor": 5
}
