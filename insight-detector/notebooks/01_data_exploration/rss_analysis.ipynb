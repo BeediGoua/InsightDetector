{
 "cells": [
  {
   "cell_type": "markdown",
   "id": "8b51d8a1",
   "metadata": {},
   "source": [
    "# Analyse des flux RSS - InsightDetector\n",
    "\n",
    "Ce notebook effectue une analyse complète des articles collectés depuis les flux RSS configurés.\n",
    "\n",
    "## Sommaire\n",
    "\n",
    "1. [Configuration et imports](#1-configuration-et-imports)\n",
    "2. [Collecte des données](#2-collecte-des-données) \n",
    "3. [Traitement et stockage](#3-traitement-et-stockage)\n",
    "4. [Analyses statistiques de base](#4-analyses-statistiques-de-base)\n",
    "5. [Analyses temporelles avancées](#5-analyses-temporelles-avancées)\n",
    "6. [Analyse des mots-clés et contenus](#6-analyse-des-mots-clés-et-contenus)\n",
    "7. [Visualisations interactives](#7-visualisations-interactives)\n",
    "8. [Métriques de qualité](#8-métriques-de-qualité)\n",
    "9. [Conclusions et recommandations](#9-conclusions-et-recommandations)\n",
    "\n",
    "---\n",
    "\n",
    "## 1. Configuration et imports\n",
    "\n"
   ]
  },
  {
   "cell_type": "code",
   "execution_count": 1,
   "id": "8b0759bf",
   "metadata": {},
   "outputs": [],
   "source": [
    "# Auto-reload des modules modifiés (pratique pour développement)\n",
    "%load_ext autoreload\n",
    "%autoreload 2\n",
    "\n",
    "# Imports standards\n",
    "import sys\n",
    "from pathlib import Path\n",
    "\n",
    "# Définition du répertoire racine du projet \n",
    "project_root = Path().resolve().parents[1] if \"notebooks\" in str(Path().resolve()) else Path().resolve()\n",
    "\n",
    "# Définition des chemins utilisés\n",
    "src_dir = project_root / \"src\"\n",
    "data_dir = project_root / \"data\"\n",
    "outputs_dir = project_root / \"outputs\"\n",
    "notebooks_dir = project_root / \"notebooks\"\n",
    "\n",
    "# Création des dossiers s'ils n'existent pas\n",
    "for d in [data_dir, outputs_dir]:\n",
    "    d.mkdir(parents=True, exist_ok=True)\n",
    "\n",
    "# \n",
    "src_path = str(src_dir.resolve())\n",
    "if src_path not in sys.path:\n",
    "    sys.path.insert(0, src_path)\n",
    "\n",
    "\n"
   ]
  },
  {
   "cell_type": "code",
   "execution_count": 2,
   "id": "ec1b84b0",
   "metadata": {},
   "outputs": [
    {
     "name": "stdout",
     "output_type": "stream",
     "text": [
      "DATABASE_URL détecté : sqlite:///data/insight.db\n"
     ]
    }
   ],
   "source": [
    "# Imports principaux\n",
    "from data.rss_collector import RSSCollector\n",
    "from data.article_parser import ArticleParser\n",
    "from data.database_manager import DatabaseManager\n",
    "from config.database import SessionLocal\n",
    "\n",
    "import pandas as pd\n",
    "import numpy as np\n",
    "import time\n",
    "import logging\n",
    "from datetime import datetime, timedelta\n",
    "import warnings\n",
    "from collections import Counter\n",
    "import re\n",
    "\n",
    "# Visualisation\n",
    "import matplotlib.pyplot as plt\n",
    "import seaborn as sns\n",
    "import plotly.express as px\n",
    "import plotly.graph_objects as go\n",
    "from plotly.subplots import make_subplots\n"
   ]
  },
  {
   "cell_type": "code",
   "execution_count": 3,
   "id": "5e62dd1e",
   "metadata": {},
   "outputs": [
    {
     "name": "stdout",
     "output_type": "stream",
     "text": [
      "Connexion réussie à la base : sqlite:///data/insight.db\n"
     ]
    }
   ],
   "source": [
    "\n",
    "import os\n",
    "from dotenv import load_dotenv\n",
    "from sqlalchemy import create_engine\n",
    "\n",
    "# Charger .env\n",
    "load_dotenv(dotenv_path=\"../../.env\")  # adapte le chemin si besoin\n",
    "\n",
    "# Récupérer la vraie DATABASE_URL\n",
    "db_url = os.getenv(\"DATABASE_URL\")\n",
    "if db_url is None:\n",
    "    raise ValueError(\"DATABASE_URL manquant dans le fichier .env\")\n",
    "\n",
    "# Création moteur SQLAlchemy\n",
    "connect_args = {\"check_same_thread\": False} if db_url.startswith(\"sqlite\") else {}\n",
    "engine = create_engine(db_url, connect_args=connect_args)\n",
    "\n",
    "# Test connexion\n",
    "with engine.connect() as conn:\n",
    "    print(f\"Connexion réussie à la base : {db_url}\")\n"
   ]
  },
  {
   "cell_type": "code",
   "execution_count": 4,
   "id": "d2e76291",
   "metadata": {},
   "outputs": [],
   "source": [
    "# Pour accéder au dossier src/ depuis le notebook\n",
    "import sys\n",
    "sys.path.append(\".\")\n",
    "\n",
    "# Importation des composants ORM\n",
    "from config.database import engine\n",
    "from data.models import Base\n",
    "\n",
    "# Création des tables dans la base PostgreSQL\n",
    "Base.metadata.create_all(bind=engine)\n",
    "\n"
   ]
  },
  {
   "cell_type": "code",
   "execution_count": 5,
   "id": "9e219a17",
   "metadata": {},
   "outputs": [
    {
     "name": "stdout",
     "output_type": "stream",
     "text": [
      "Tables dans la base de données :\n",
      "  → articles\n"
     ]
    }
   ],
   "source": [
    "from sqlalchemy import text\n",
    "\n",
    "with engine.connect() as conn:\n",
    "    result = conn.execute(\n",
    "        text(\"SELECT name FROM sqlite_master WHERE type='table';\")  # pour SQLite\n",
    "    )\n",
    "    print(\"Tables dans la base de données :\")\n",
    "    for row in result:\n",
    "        print(\"  →\", row[0])\n",
    "        \n"
   ]
  },
  {
   "cell_type": "code",
   "execution_count": 6,
   "id": "cd20fab2",
   "metadata": {},
   "outputs": [
    {
     "name": "stdout",
     "output_type": "stream",
     "text": [
      "Installation de beautifulsoup4...\n"
     ]
    }
   ],
   "source": [
    "# Installation et imports avec gestion d'erreurs\n",
    "import sys\n",
    "import subprocess\n",
    "import importlib\n",
    "\n",
    "# Function pour installer les packages manquants\n",
    "def install_package(package):\n",
    "    subprocess.check_call([sys.executable, \"-m\", \"pip\", \"install\", package])\n",
    "\n",
    "# Liste des packages requis\n",
    "required_packages = [\n",
    "    \"lxml_html_clean\",\n",
    "    \"pandas\", \n",
    "    \"matplotlib\", \n",
    "    \"seaborn\", \n",
    "    \"plotly\", \n",
    "    \"feedparser\",\n",
    "    \"beautifulsoup4\"\n",
    "]\n",
    "\n",
    "# Installer les packages manquants\n",
    "for package in required_packages:\n",
    "    try:\n",
    "        importlib.import_module(package)\n",
    "    except ImportError:\n",
    "        print(f\"Installation de {package}...\")\n",
    "        try:\n",
    "            install_package(package)\n",
    "        except:\n",
    "            print(f\"Impossible d'installer {package}\")\n",
    "\n",
    "# Imports principaux avec gestion d'erreur\n",
    "try:\n",
    "    import sys\n",
    "    sys.path.append('C:/Users/beedi.goua_square-ma/Desktop/Gheb/projet perso/InsightDetector/insight-detector/src')\n",
    "    \n",
    "    from data.rss_collector import RSSCollector\n",
    "    from data.article_parser import ArticleParser\n",
    "    from data.database_manager import DatabaseManager\n",
    "    from config.database import SessionLocal\n",
    "except ImportError as e:\n",
    "    print(f\"Erreur d'import modules projet: {e}\")\n",
    "    print(\" Vérifiez que vous êtes dans le bon répertoire et que les modules existent\")\n"
   ]
  },
  {
   "cell_type": "code",
   "execution_count": 7,
   "id": "66aecc62",
   "metadata": {},
   "outputs": [
    {
     "name": "stdout",
     "output_type": "stream",
     "text": [
      "Configuration et imports terminés\n",
      " Plotly disponible: Oui\n",
      "  Sources RSS configurées: 10\n"
     ]
    }
   ],
   "source": [
    "\n",
    "import pandas as pd\n",
    "import numpy as np\n",
    "import time\n",
    "import logging\n",
    "from datetime import datetime, timedelta\n",
    "import warnings\n",
    "from collections import Counter\n",
    "import re\n",
    "\n",
    "# Visualisation (avec gestion d'erreurs)\n",
    "try:\n",
    "    import matplotlib.pyplot as plt\n",
    "    import seaborn as sns\n",
    "    plt.style.use('seaborn-v0_8')\n",
    "except:\n",
    "    plt.style.use('default')\n",
    "    \n",
    "try:\n",
    "    import plotly.express as px\n",
    "    import plotly.graph_objects as go\n",
    "    from plotly.subplots import make_subplots\n",
    "    plotly_available = True\n",
    "except ImportError:\n",
    "    print(\"Plotly non disponible - visualisations interactives désactivées\")\n",
    "    plotly_available = False\n",
    "\n",
    "# Configuration\n",
    "warnings.filterwarnings('ignore')\n",
    "pd.set_option('display.max_columns', None)\n",
    "\n",
    "# Configuration logging\n",
    "logging.basicConfig(\n",
    "    level=logging.INFO,\n",
    "    format='%(asctime)s - %(levelname)s - %(message)s'\n",
    ")\n",
    "logger = logging.getLogger(__name__)\n",
    "\n",
    "# Flux RSS utilisés\n",
    "RSS_SOURCES = [\n",
    "    \"https://www.lemonde.fr/rss/une.xml\",\n",
    "    \"https://www.france24.com/fr/rss\", \n",
    "    \"https://www.rfi.fr/fr/rss\",\n",
    "    \"https://www.lexpress.fr/rss/actualite.xml\",\n",
    "    \"https://www.courrierinternational.com/feed/all/rss.xml\",\n",
    "    \"https://www.nouvelobs.com/rss.xml\",\n",
    "    \"https://www.lesechos.fr/rss/rss_une.xml\",\n",
    "    \"https://www.euronews.com/rss?level=theme&name=news\",\n",
    "    \"https://www.huffingtonpost.fr/feeds/index.xml\",\n",
    "    \"https://rss.nytimes.com/services/xml/rss/nyt/World.xml\"\n",
    "]\n",
    "\n",
    "print(\"Configuration et imports terminés\")\n",
    "print(f\" Plotly disponible: {'Oui' if plotly_available else 'Non'}\")\n",
    "print(f\"  Sources RSS configurées: {len(RSS_SOURCES)}\")"
   ]
  },
  {
   "cell_type": "code",
   "execution_count": 8,
   "id": "2e076731",
   "metadata": {},
   "outputs": [
    {
     "name": "stderr",
     "output_type": "stream",
     "text": [
      "2025-07-23 19:48:57,138 - INFO - Composants initialisés avec succès\n"
     ]
    }
   ],
   "source": [
    "# Initialisation des composants avec gestion d'erreurs\n",
    "session = None\n",
    "collector = None\n",
    "parser = None\n",
    "db = None\n",
    "\n",
    "try:\n",
    "    collector = RSSCollector(RSS_SOURCES)\n",
    "    parser = ArticleParser()\n",
    "    session = SessionLocal()\n",
    "    db = DatabaseManager(session)\n",
    "    logger.info(\"Composants initialisés avec succès\")\n",
    "    \n",
    "    # Variables pour tracking des métriques\n",
    "    metrics = {\n",
    "        'sources_success': {},\n",
    "        'sources_errors': {},\n",
    "        'total_fetched': 0,\n",
    "        'total_processed': 0,\n",
    "        'total_inserted': 0,\n",
    "        'total_duplicates': 0,\n",
    "        'processing_errors': []\n",
    "    }\n",
    "    \n",
    "except Exception as e:\n",
    "    logger.error(f\"Erreur lors de l'initialisation: {e}\")\n",
    "    if session:\n",
    "        session.close()\n",
    "    raise"
   ]
  },
  {
   "cell_type": "markdown",
   "id": "cyxnk8a5gh4",
   "metadata": {},
   "source": [
    "## 2. Collecte des données\n",
    "\n",
    "Initialisation des composants et collecte des articles depuis les flux RSS configurés."
   ]
  },
  {
   "cell_type": "code",
   "execution_count": 9,
   "id": "4c9b8d87",
   "metadata": {},
   "outputs": [
    {
     "name": "stderr",
     "output_type": "stream",
     "text": [
      "2025-07-23 19:48:57,337 - INFO - Début de la collecte des flux RSS...\n",
      "2025-07-23 19:48:57,339 - INFO - Lecture du flux RSS : https://www.lemonde.fr/rss/une.xml\n",
      "2025-07-23 19:48:57,759 - INFO - Lecture du flux RSS : https://www.france24.com/fr/rss\n",
      "2025-07-23 19:48:58,110 - INFO - Lecture du flux RSS : https://www.rfi.fr/fr/rss\n",
      "2025-07-23 19:48:58,557 - INFO - Lecture du flux RSS : https://www.lexpress.fr/rss/actualite.xml\n",
      "2025-07-23 19:48:59,942 - INFO - Lecture du flux RSS : https://www.courrierinternational.com/feed/all/rss.xml\n",
      "2025-07-23 19:49:00,446 - INFO - Lecture du flux RSS : https://www.nouvelobs.com/rss.xml\n",
      "2025-07-23 19:49:00,951 - INFO - Lecture du flux RSS : https://www.lesechos.fr/rss/rss_une.xml\n",
      "2025-07-23 19:49:01,252 - INFO - Lecture du flux RSS : https://www.euronews.com/rss?level=theme&name=news\n",
      "2025-07-23 19:49:01,638 - INFO - Lecture du flux RSS : https://www.huffingtonpost.fr/feeds/index.xml\n",
      "2025-07-23 19:49:02,277 - INFO - Lecture du flux RSS : https://rss.nytimes.com/services/xml/rss/nyt/World.xml\n",
      "2025-07-23 19:49:02,723 - INFO - 510 articles collectés en 5.39s\n"
     ]
    },
    {
     "name": "stdout",
     "output_type": "stream",
     "text": [
      "Résumé de la collecte:\n",
      "   • Total articles: 510\n",
      "   • Temps de collecte: 5.39s\n",
      "   • Articles par seconde: 94.7\n",
      "\n",
      "Articles par source:\n",
      "   • https://www.nouvelobs.com/rss.xml: 200 articles\n",
      "   • https://www.lexpress.fr/rss/actualite.xml: 100 articles\n",
      "   • https://rss.nytimes.com/services/xml/rss/nyt/World.xml: 55 articles\n",
      "   • https://www.euronews.com/rss?level=theme&name=news: 50 articles\n",
      "   • https://www.rfi.fr/fr/rss: 24 articles\n",
      "   • https://www.france24.com/fr/rss: 23 articles\n",
      "   • https://www.courrierinternational.com/feed/all/rss.xml: 20 articles\n",
      "   • https://www.huffingtonpost.fr/feeds/index.xml: 20 articles\n",
      "   • https://www.lemonde.fr/rss/une.xml: 18 articles\n"
     ]
    }
   ],
   "source": [
    "# Collecte robuste des articles avec métriques détaillées\n",
    "articles = []\n",
    "start_time = time.time()\n",
    "\n",
    "try:\n",
    "    logger.info(\"Début de la collecte des flux RSS...\")\n",
    "    articles = collector.fetch_feeds()\n",
    "    metrics['total_fetched'] = len(articles)\n",
    "    \n",
    "    # Analyse des sources par succès/échec\n",
    "    for article in articles:\n",
    "        source = article.get('source', 'Unknown')\n",
    "        metrics['sources_success'][source] = metrics['sources_success'].get(source, 0) + 1\n",
    "    \n",
    "    collection_time = time.time() - start_time\n",
    "    \n",
    "    logger.info(f\"{len(articles)} articles collectés en {collection_time:.2f}s\")\n",
    "    print(f\"Résumé de la collecte:\")\n",
    "    print(f\"   • Total articles: {len(articles)}\")\n",
    "    print(f\"   • Temps de collecte: {collection_time:.2f}s\")\n",
    "    print(f\"   • Articles par seconde: {len(articles)/collection_time:.1f}\")\n",
    "    \n",
    "    # Affichage par source\n",
    "    if articles:\n",
    "        print(\"\\nArticles par source:\")\n",
    "        for source, count in sorted(metrics['sources_success'].items(), key=lambda x: x[1], reverse=True):\n",
    "            print(f\"   • {source}: {count} articles\")\n",
    "    \n",
    "except Exception as e:\n",
    "    logger.error(f\"Erreur lors de la collecte: {e}\")\n",
    "    metrics['processing_errors'].append(f\"Collecte: {str(e)}\")\n",
    "    print(f\"Échec de la collecte: {e}\")"
   ]
  },
  {
   "cell_type": "code",
   "execution_count": 10,
   "id": "0c24340a",
   "metadata": {},
   "outputs": [
    {
     "name": "stderr",
     "output_type": "stream",
     "text": [
      "2025-07-23 19:49:03,126 - INFO - Début du traitement de 510 articles...\n",
      "2025-07-23 19:49:03,127 - INFO - Téléchargement de l'article : https://www.lemonde.fr/international/live/2025/07/23/en-direct-gaza-une-grande-proportion-des-habitants-de-l-enclave-meurt-de-faim-selon-le-chef-de-l-oms_6622839_3210.html\n",
      "2025-07-23 19:49:04,349 - INFO - Téléchargement de l'article : https://www.lemonde.fr/planete/article/2025/07/23/le-changement-climatique-est-une-menace-urgente-et-existentielle-declare-la-cij-dans-un-avis-historique_6623222_3244.html\n",
      "2025-07-23 19:49:04,914 - INFO - Téléchargement de l'article : https://www.lemonde.fr/politique/article/2025/07/23/l-emploi-des-seniors-atteint-un-niveau-record-en-2024_6623248_823448.html\n",
      "2025-07-23 19:49:06,034 - INFO - Téléchargement de l'article : https://www.lemonde.fr/international/article/2025/07/23/un-sommet-ue-chine-sous-le-signe-de-la-discorde_6623249_3210.html\n",
      "2025-07-23 19:49:06,627 - INFO - Téléchargement de l'article : https://www.lemonde.fr/planete/article/2025/07/23/des-particules-de-dioxyde-de-titane-suspecte-d-etre-cancerogene-retrouvees-dans-le-lait-y-compris-maternel_6623262_3244.html\n",
      "2025-07-23 19:49:07,335 - INFO - Téléchargement de l'article : https://www.lemonde.fr/series-d-ete/article/2025/07/23/petrus-pas-de-chateau-mais-un-terroir-miraculeux_6623124_3451060.html\n",
      "2025-07-23 19:49:08,065 - INFO - Téléchargement de l'article : https://www.lemonde.fr/international/live/2025/07/23/en-direct-guerre-en-ukraine-les-pourparlers-entre-russes-et-ukrainiens-ont-debute-a-istanbul_6622319_3210.html\n",
      "2025-07-23 19:49:09,221 - INFO - Téléchargement de l'article : https://www.lemonde.fr/politique/article/2025/07/23/le-general-fabien-mandon-nomme-chef-d-etat-major-des-armees-francaises-en-remplacement-de-thierry-burkhard_6623198_823448.html\n",
      "2025-07-23 19:49:09,879 - INFO - Téléchargement de l'article : https://www.lemonde.fr/sport/article/2025/07/23/affaire-joel-chenal-l-ancien-entraineur-suspendu-provisoirement-par-la-federation-francaise-de-ski_6623258_3242.html\n",
      "2025-07-23 19:49:10,722 - INFO - Téléchargement de l'article : https://www.lemonde.fr/disparitions/article/2025/07/23/la-mort-de-jerome-peignot-ecrivain-homme-de-radio-et-historien_6623247_3382.html\n",
      "2025-07-23 19:49:11,702 - INFO - Téléchargement de l'article : https://www.lemonde.fr/planete/article/2025/07/23/quatorze-departements-en-vigilance-orange-aux-pluies-et-inondations-mercredi-et-jeudi_6623256_3244.html\n"
     ]
    },
    {
     "name": "stdout",
     "output_type": "stream",
     "text": [
      "Progression: 10/510 (2.0%) - Insérés: 10, Doublons: 0\n"
     ]
    },
    {
     "name": "stderr",
     "output_type": "stream",
     "text": [
      "2025-07-23 19:49:12,345 - INFO - Téléchargement de l'article : https://www.lemonde.fr/societe/article/2025/07/23/kurdes-tues-a-paris-william-malet-renvoye-aux-assises-pour-assassinats-racistes-mais-pas-terroristes_6623259_3224.html\n",
      "2025-07-23 19:49:12,934 - INFO - Téléchargement de l'article : https://www.lemonde.fr/international/article/2025/07/23/a-mi-mandat-la-legislature-espagnole-bloquee_6623254_3210.html\n",
      "2025-07-23 19:49:13,572 - INFO - Téléchargement de l'article : https://www.lemonde.fr/economie/article/2025/07/23/le-relais-reprend-la-collecte-des-vetements-de-seconde-main-apres-l-annonce-d-une-revalorisation-de-la-retribution-des-operateurs-du-tri_6623243_3234.html\n",
      "2025-07-23 19:49:14,135 - INFO - Téléchargement de l'article : https://www.lemonde.fr/economie/article/2025/07/23/droits-de-douane-pourquoi-le-japon-se-satisfait-d-une-taxe-de-15-avec-les-etats-unis_6623241_3234.html\n",
      "2025-07-23 19:49:14,679 - INFO - Téléchargement de l'article : https://www.lemonde.fr/economie/article/2025/07/23/l-allemagne-leve-son-veto-a-la-livraison-d-eurofighter-a-la-turquie_6623261_3234.html\n",
      "2025-07-23 19:49:15,188 - INFO - Téléchargement de l'article : https://www.lemonde.fr/actualite-medias/article/2025/07/23/prisma-media-veut-racheter-les-magazines-ici-paris-et-france-dimanche_6623264_3236.html\n",
      "2025-07-23 19:49:15,987 - INFO - Téléchargement de l'article : https://www.lemonde.fr/sport/article/2025/07/23/tour-de-france-2025-le-resume-de-la-victoire-au-sprint-de-jonathan-milan-a-valence-lors-de-la-17-etape_6623253_3242.html\n",
      "2025-07-23 19:49:17,548 - INFO - Téléchargement de l'article : https://www.france24.com/fr/europe/20250723-deux-soldats-israeliens-en-vacances-en-belgique-rattrapes-par-une-plainte-pour-crimes-de-guerre-gaza\n",
      "2025-07-23 19:49:18,147 - INFO - Téléchargement de l'article : https://www.france24.com/fr/europe/20250723-loi-corruption-en-ukraine-volodymyr-zelensky-seme-le-trouble-justice-independance\n",
      "2025-07-23 19:49:19,033 - INFO - Téléchargement de l'article : https://www.france24.com/fr/vid%C3%A9o/20250723-la-cour-internationale-de-justice-ouvre-la-voie-aux-r%C3%A9parations-climatiques\n"
     ]
    },
    {
     "name": "stdout",
     "output_type": "stream",
     "text": [
      "Progression: 20/510 (3.9%) - Insérés: 20, Doublons: 0\n"
     ]
    },
    {
     "name": "stderr",
     "output_type": "stream",
     "text": [
      "2025-07-23 19:49:19,576 - WARNING - Article trop court ou vide : https://www.france24.com/fr/vid%C3%A9o/20250723-la-cour-internationale-de-justice-ouvre-la-voie-aux-r%C3%A9parations-climatiques\n",
      "2025-07-23 19:49:19,580 - INFO - Téléchargement de l'article : https://www.france24.com/fr/vid%C3%A9o/20250723-n%C3%A9gociations-ukraine-russie-des-positions-irr%C3%A9conciliables\n",
      "2025-07-23 19:49:20,197 - INFO - Téléchargement de l'article : https://www.france24.com/fr/vid%C3%A9o/20250723-l-union-europ%C3%A9enne-demande-des-explications-%C3%A0-zelensky-concernant-la-lutte-anticorruption\n",
      "2025-07-23 19:49:20,680 - INFO - Téléchargement de l'article : https://www.france24.com/fr/vid%C3%A9o/20250723-que-demandent-les-russes-et-les-ukrainiens-aux-n%C3%A9gociations-%C3%A0-istanbul\n",
      "2025-07-23 19:49:21,267 - INFO - Téléchargement de l'article : https://www.france24.com/fr/sports/20250723-tour-de-france-jonathan-milan-remporte-au-sprint-la-17e-%C3%A9tape-et-et-pr%C3%A9serve-son-maillot-vert-pogacar\n",
      "2025-07-23 19:49:21,979 - INFO - Téléchargement de l'article : https://www.france24.com/fr/vid%C3%A9o/20250723-le-pr%C3%A9sident-tunisien-montre-des-photos-d-enfants-affam%C3%A9s-de-gaza-%C3%A0-un-conseiller-de-trump\n",
      "2025-07-23 19:49:22,399 - WARNING - Article trop court ou vide : https://www.france24.com/fr/vid%C3%A9o/20250723-le-pr%C3%A9sident-tunisien-montre-des-photos-d-enfants-affam%C3%A9s-de-gaza-%C3%A0-un-conseiller-de-trump\n",
      "2025-07-23 19:49:22,401 - INFO - Téléchargement de l'article : https://www.france24.com/fr/vid%C3%A9o/20250723-gr%C3%A8ce-la-canicule-s-intensifie-et-le-manque-d-eau-inqui%C3%A8te\n",
      "2025-07-23 19:49:22,753 - WARNING - Article trop court ou vide : https://www.france24.com/fr/vid%C3%A9o/20250723-gr%C3%A8ce-la-canicule-s-intensifie-et-le-manque-d-eau-inqui%C3%A8te\n",
      "2025-07-23 19:49:22,756 - INFO - Téléchargement de l'article : https://www.france24.com/fr/info-en-continu/20250723-climat-la-cour-internationale-de-justice-ouvre-la-voie-%C3%A0-une-obligation-de-r%C3%A9parations-pour-les-pays-pollueurs\n",
      "2025-07-23 19:49:23,275 - INFO - Téléchargement de l'article : https://www.france24.com/fr/vid%C3%A9o/20250723-la-corse-qui-accueille-pr%C3%A8s-de-trois-millions-de-touristes-par-an-est-elle-trop-ch%C3%A8re\n",
      "2025-07-23 19:49:23,644 - WARNING - Article trop court ou vide : https://www.france24.com/fr/vid%C3%A9o/20250723-la-corse-qui-accueille-pr%C3%A8s-de-trois-millions-de-touristes-par-an-est-elle-trop-ch%C3%A8re\n",
      "2025-07-23 19:49:23,645 - INFO - Téléchargement de l'article : https://www.france24.com/fr/vid%C3%A9o/20250723-rd-congo-le-chol%C3%A9ra-se-propage-dans-les-quartiers-d%C3%A9favoris%C3%A9s-de-kinshasa\n",
      "2025-07-23 19:49:24,474 - INFO - Téléchargement de l'article : https://www.france24.com/fr/vid%C3%A9o/20250723-larmes-de-joie-au-venezuela-au-retour-de-migrants-lib%C3%A9r%C3%A9s-de-prison\n"
     ]
    },
    {
     "name": "stdout",
     "output_type": "stream",
     "text": [
      "Progression: 30/510 (5.9%) - Insérés: 26, Doublons: 0\n"
     ]
    },
    {
     "name": "stderr",
     "output_type": "stream",
     "text": [
      "2025-07-23 19:49:24,891 - WARNING - Article trop court ou vide : https://www.france24.com/fr/vid%C3%A9o/20250723-larmes-de-joie-au-venezuela-au-retour-de-migrants-lib%C3%A9r%C3%A9s-de-prison\n",
      "2025-07-23 19:49:24,892 - INFO - Téléchargement de l'article : https://www.france24.com/fr/vid%C3%A9o/20250723-%C3%A9tats-unis-la-vid%C3%A9o-d-un-policier-frappant-un-homme-noir-suscite-l-indignation\n",
      "2025-07-23 19:49:25,290 - WARNING - Article trop court ou vide : https://www.france24.com/fr/vid%C3%A9o/20250723-%C3%A9tats-unis-la-vid%C3%A9o-d-un-policier-frappant-un-homme-noir-suscite-l-indignation\n",
      "2025-07-23 19:49:25,290 - INFO - Téléchargement de l'article : https://www.france24.com/fr/vid%C3%A9o/20250723-trump-annonce-un-accord-commerical-%C3%A9norme-avec-le-japon\n",
      "2025-07-23 19:49:25,828 - INFO - Téléchargement de l'article : https://www.france24.com/fr/vid%C3%A9o/20250723-guerre-en-ukraine-troisi%C3%A8me-round-de-n%C3%A9gociations-avec-la-russie-en-turquie\n",
      "2025-07-23 19:49:26,291 - INFO - Téléchargement de l'article : https://www.france24.com/fr/vid%C3%A9o/20250723-david-contre-goliath-r%C3%A9cit-de-l-avis-tr%C3%A8s-attendu-de-la-cij-sur-le-climat\n",
      "2025-07-23 19:49:26,785 - INFO - Téléchargement de l'article : https://www.france24.com/fr/vid%C3%A9o/20250723-proc%C3%A8s-pour-corruption-les-magistrats-r%C3%A9pliquent-vigoureusement-aux-accusations-de-rachida-dati\n",
      "2025-07-23 19:49:27,351 - INFO - Téléchargement de l'article : https://www.france24.com/fr/vid%C3%A9o/20250723-ukraine-une-d%C3%A9l%C3%A9gation-russe-en-route-pour-la-turquie-pour-des-pourparlers-avec-kyiv\n",
      "2025-07-23 19:49:27,807 - INFO - Téléchargement de l'article : https://www.france24.com/fr/vid%C3%A9o/20250723-famine-de-masse-%C3%A0-gaza-une-centaine-d-ong-tire-la-sonnette-d-alarme\n",
      "2025-07-23 19:49:28,291 - INFO - Téléchargement de l'article : https://www.france24.com/fr/europe/20250723-cybercriminalit%C3%A9-administrateur-pr%C3%A9sum%C3%A9-forum-russophone-arr%C3%AAt%C3%A9-ukraine-europol-xss\n",
      "2025-07-23 19:49:28,843 - INFO - Téléchargement de l'article : https://www.france24.com/fr/info-en-continu/20250723-le-g%C3%A9n%C3%A9ral-fabien-mandon-nouveau-chef-d-%C3%A9tat-major-des-arm%C3%A9es-fran%C3%A7aises-1\n",
      "2025-07-23 19:49:29,567 - INFO - Téléchargement de l'article : https://www.france24.com/fr/vid%C3%A9o/20250723-%C3%A0-tel-aviv-des-isra%C3%A9liens-manifestent-pour-d%C3%A9noncer-la-famine-%C3%A0-gaza\n"
     ]
    },
    {
     "name": "stdout",
     "output_type": "stream",
     "text": [
      "Progression: 40/510 (7.8%) - Insérés: 34, Doublons: 0\n"
     ]
    },
    {
     "name": "stderr",
     "output_type": "stream",
     "text": [
      "2025-07-23 19:49:29,997 - WARNING - Article trop court ou vide : https://www.france24.com/fr/vid%C3%A9o/20250723-%C3%A0-tel-aviv-des-isra%C3%A9liens-manifestent-pour-d%C3%A9noncer-la-famine-%C3%A0-gaza\n",
      "2025-07-23 19:49:29,999 - INFO - Téléchargement de l'article : https://www.rfi.fr/fr/europe/20250723-ukraine-toll%C3%A9-apr%C3%A8s-l-adoption-d-une-loi-qui-supprime-l-ind%C3%A9pendance-des-agences-anticorruption\n",
      "2025-07-23 19:49:30,590 - INFO - Téléchargement de l'article : https://www.rfi.fr/fr/asie-pacifique/20250723-un-sommet-ue-chine-dans-un-climat-de-tensions-commerciales-et-g%C3%A9opolitiques\n",
      "2025-07-23 19:49:31,092 - INFO - Téléchargement de l'article : https://www.rfi.fr/fr/france/20250723-perquisition-au-si%C3%A8ge-de-l-office-anti-stup%C3%A9fiants-%C3%A0-nanterre-dans-le-cadre-d-un-trafic-de-coca%C3%AFne\n",
      "2025-07-23 19:49:31,548 - INFO - Téléchargement de l'article : https://www.rfi.fr/fr/sports/20250723-tour-de-france-2025-l-italien-jonathan-milan-s-impose-%C3%A0-valence-pour-sa-deuxi%C3%A8me-victoire-d-%C3%A9tape\n",
      "2025-07-23 19:49:32,034 - INFO - Téléchargement de l'article : https://www.rfi.fr/fr/%C3%A9conomie/20250723-ukraine-toll%C3%A9-apr%C3%A8s-l-adoption-d-une-loi-qui-supprime-l-ind%C3%A9pendance-des-agences-anticorruption\n",
      "2025-07-23 19:49:32,806 - INFO - Téléchargement de l'article : https://www.rfi.fr/fr/afrique/20250723-environnement-l-op%C3%A9ration-sama-2-r%C3%A9pertorie-92-cas-de-trafic-d-esp%C3%A8ces-menac%C3%A9es-en-afrique\n",
      "2025-07-23 19:49:33,414 - INFO - Téléchargement de l'article : https://www.rfi.fr/fr/afrique/20250723-mozambique-l-opposant-venancio-mondlane-inculp%C3%A9-d-incitation-au-terrorisme\n",
      "2025-07-23 19:49:34,008 - INFO - Téléchargement de l'article : https://www.rfi.fr/fr/afrique/20250723-mali-les-%C3%A9tats-unis-r%C3%A9affirment-leur-engagement-dans-les-domaines-s%C3%A9curitaires-et-%C3%A9conomiques\n",
      "2025-07-23 19:49:34,648 - INFO - Téléchargement de l'article : https://www.rfi.fr/fr/moyen-orient/20250723-isra%C3%ABl-les-familles-des-otages-inqui%C3%A8tes-apr%C3%A8s-l-offensive-terrestre-%C3%A0-deir-al-balah\n",
      "2025-07-23 19:49:35,437 - INFO - Téléchargement de l'article : https://www.rfi.fr/fr/afrique/20250723-est-rdc-pddrcs-programme-d%C3%A9sarmement-nord-kivu-annonce-reprendre-activit%C3%A9s-fldr-groupes-arm%C3%A9s\n"
     ]
    },
    {
     "name": "stdout",
     "output_type": "stream",
     "text": [
      "Progression: 50/510 (9.8%) - Insérés: 43, Doublons: 0\n"
     ]
    },
    {
     "name": "stderr",
     "output_type": "stream",
     "text": [
      "2025-07-23 19:49:36,083 - INFO - Téléchargement de l'article : https://www.rfi.fr/fr/afrique/20250723-congo-brazzaville-saison-pluies-froid-inhabituel-habitants-climat-rarement-fra%C3%AEche\n",
      "2025-07-23 19:49:36,675 - INFO - Téléchargement de l'article : https://www.rfi.fr/fr/france/20250723-france-la-justice-ordonne-un-proc%C3%A8s-pour-corruption-contre-rachida-dati-la-ministre-attaque-les-magistrats\n",
      "2025-07-23 19:49:37,272 - INFO - Téléchargement de l'article : https://www.rfi.fr/fr/culture/20250723-les-chor%C3%A9graphes-tunisiens-selma-et-sofiane-ouissi-en-un-mot-un-geste-et-un-silence\n",
      "2025-07-23 19:49:37,887 - INFO - Téléchargement de l'article : https://www.rfi.fr/fr/culture/20250723-avignon-2025-laaroussa-quartet-le-corps-libre-des-femmes-poti%C3%A8res-en-tunisie\n",
      "2025-07-23 19:49:38,431 - INFO - Téléchargement de l'article : https://www.rfi.fr/fr/moyen-orient/20250723-gaza-71-000-enfants-risquent-mourir-malnutrition-aigu%C3%AB-alerte-unicef-baptiste-chapuis\n",
      "2025-07-23 19:49:38,985 - INFO - Téléchargement de l'article : https://www.rfi.fr/fr/afrique/20250723-rdc-kinshasa-habitants-attaquer-d%C3%A9chets-plastiques-inondent-capitale-environnement-pollution-poubelle\n",
      "2025-07-23 19:49:39,539 - INFO - Téléchargement de l'article : https://www.rfi.fr/fr/france/20250723-france-gouvernement-attaquer-troubles-sommeil-mauvaise-qualit%C3%A9-impacts-sant%C3%A9-mentale-physique-fatigue-%C3%A9conomie-sieste-travail-route\n",
      "2025-07-23 19:49:40,070 - INFO - Téléchargement de l'article : https://www.rfi.fr/fr/afrique/20250723-ouganda-le-pr%C3%A9sident-museveni-promet-de-nettoyer-son-parti-apr%C3%A8s-des-primaires-violentes\n",
      "2025-07-23 19:49:40,629 - INFO - Téléchargement de l'article : https://www.rfi.fr/fr/afrique/20250723-tunisie-m%C3%A9moire-oubli%C3%A9e-guerre-bizerte-colonisation-france-arm%C3%A9e-base-olfa-lamloum\n",
      "2025-07-23 19:49:41,380 - INFO - Téléchargement de l'article : https://www.rfi.fr/fr/am%C3%A9riques/20250723-canada-incendies-catastrophe-%C3%A9cologique-sociale-autochtones-megafeux-nations-environnement\n"
     ]
    },
    {
     "name": "stdout",
     "output_type": "stream",
     "text": [
      "Progression: 60/510 (11.8%) - Insérés: 53, Doublons: 0\n"
     ]
    },
    {
     "name": "stderr",
     "output_type": "stream",
     "text": [
      "2025-07-23 19:49:41,921 - INFO - Téléchargement de l'article : https://www.rfi.fr/fr/sports/20250723-mma-ciryl-gane-affrontera-tom-aspinall-en-octobre-pour-la-ceinture-des-poids-lourds\n",
      "2025-07-23 19:49:42,467 - INFO - Téléchargement de l'article : https://www.rfi.fr/fr/sports/20250723-sport-l-activit%C3%A9-physique-peut-elle-aider-%C3%A0-pr%C3%A9venir-les-calculs-r%C3%A9naux\n",
      "2025-07-23 19:49:42,950 - INFO - Téléchargement de l'article : https://www.rfi.fr/fr/afrique/20250723-le-nigeria-r%C3%A9vise-son-pib-%C3%A0-la-hausse-de-30-en-2024-apr%C3%A8s-l-int%C3%A9gration-de-nouveaux-secteurs\n",
      "2025-07-23 19:49:43,477 - INFO - Téléchargement de l'article : https://www.rfi.fr/fr/afrique/20250723-guin%C3%A9e-conakry-reprend-contr%C3%B4le-transport-bauxite-maximiser-revenus-m%C3%A9taux-mines-min%C3%A9rais-%C3%A9conomie-exportation\n",
      "2025-07-23 19:49:43,989 - INFO - Téléchargement de l'article : https://www.lexpress.fr/idees-et-debats/loi-duplomb-linstrumentalisation-des-ecologistes-radicaux-coute-cher-a-la-france-7PVH6UPXGVGVHN67TUDVEF7SUY/\n",
      "2025-07-23 19:49:44,566 - INFO - Téléchargement de l'article : https://www.lexpress.fr/idees-et-debats/ian-garner-vladimir-poutine-nest-pas-le-stratege-machiavelique-quil-pretend-etre-6C5FDJYLVNFWVBTEJ6JBMQJ6SQ/\n",
      "2025-07-23 19:49:45,148 - INFO - Téléchargement de l'article : https://www.lexpress.fr/monde/europe/ukraine-la-troublante-offensive-des-autorites-contre-les-institutions-anticorruption-T6U22OAYWZECZPTNEJNTO3K7AM/\n",
      "2025-07-23 19:49:45,650 - INFO - Téléchargement de l'article : https://www.lexpress.fr/monde/proche-moyen-orient/gaza-une-famine-de-masse-se-propage-alertent-une-centaine-dong-YGRNHVBZWRE2HOXHE7WOYEMKQI/\n",
      "2025-07-23 19:49:46,208 - INFO - Téléchargement de l'article : https://www.lexpress.fr/monde/amerique/les-bonnes-affaires-de-donald-trump-jamais-un-president-ne-setait-autant-enrichi-a-la-maison-blanche-X52UVUHWRBHILAVPXEGJQEOVKI/\n",
      "2025-07-23 19:49:46,899 - INFO - Téléchargement de l'article : https://www.lexpress.fr/sciences-sante/bien-manger-pour-garder-la-forme-les-astuces-dune-experte-de-la-nutrition-5BDC32DXORF73DPVRXUS3ODSBY/\n"
     ]
    },
    {
     "name": "stdout",
     "output_type": "stream",
     "text": [
      "Progression: 70/510 (13.7%) - Insérés: 63, Doublons: 0\n"
     ]
    },
    {
     "name": "stderr",
     "output_type": "stream",
     "text": [
      "2025-07-23 19:49:47,420 - INFO - Téléchargement de l'article : https://www.lexpress.fr/monde/proche-moyen-orient/incendies-explosions-liran-victime-dune-campagne-de-sabotage-israelienne-HYAQ5PECTVHYHGFNXNROZ6I3YU/\n",
      "2025-07-23 19:49:47,898 - INFO - Téléchargement de l'article : https://www.lexpress.fr/sciences-sante/lutte-contre-lobesite-wegovy-et-mounjaro-vont-ils-tuer-la-prevention-G2XU2IBZOFCJRN5UGXLROHOF7E/\n",
      "2025-07-23 19:49:48,523 - INFO - Téléchargement de l'article : https://www.lexpress.fr/politique/bruno-retailleau-contre-emmanuel-macron-gare-au-syndrome-du-vilain-petit-canard-YBX2WLQ75VGMHJOKIMDZXQ3VNI/\n",
      "2025-07-23 19:49:49,041 - INFO - Téléchargement de l'article : https://www.lexpress.fr/societe/le-general-fabien-mandon-nomme-chef-detat-major-des-armees-francaises-22LC6O34HVE4PEAKZCRCDFE2OU/\n",
      "2025-07-23 19:49:49,507 - INFO - Téléchargement de l'article : https://www.lexpress.fr/monde/afrique/tensions-avec-lalgerie-bruno-retailleau-durcit-encore-le-ton-SGMPBRL2SJF75CVBCKW33MY2DI/\n",
      "2025-07-23 19:49:49,973 - INFO - Téléchargement de l'article : https://www.lexpress.fr/monde/europe/guerre-en-ukraine-des-negociations-entre-kiev-et-moscou-attendues-aujourdhui-a-istanbul-HK6SX4HUWJATFP2WQHUZCWJ7UY/\n",
      "2025-07-23 19:49:51,452 - INFO - Téléchargement de l'article : https://www.lexpress.fr/societe/loi-duplomb-contre-petition-la-bataille-autour-de-lacetamipride-6ICZQJPC7VC3LLRTNKVMYCTB7U/\n",
      "2025-07-23 19:49:51,907 - WARNING - Article trop court ou vide : https://www.lexpress.fr/societe/loi-duplomb-contre-petition-la-bataille-autour-de-lacetamipride-6ICZQJPC7VC3LLRTNKVMYCTB7U/\n",
      "2025-07-23 19:49:51,907 - INFO - Téléchargement de l'article : https://www.lexpress.fr/monde/proche-moyen-orient/famine-a-gaza-la-situation-saggrave-en-labsence-dun-cessez-le-feu-6MBO62WFCJFUBCNOYFJ7G4P3SU/\n",
      "2025-07-23 19:49:52,850 - INFO - Téléchargement de l'article : https://www.lexpress.fr/societe/loi-duplomb-ailleurs-en-europe-ces-petitions-qui-ont-fait-bouger-les-choses-56OGSJCYX5FFLATSCYVADZDSMA/\n",
      "2025-07-23 19:49:53,581 - INFO - Téléchargement de l'article : https://www.lexpress.fr/monde/amerique/empetre-dans-laffaire-epstein-donald-trump-lance-une-offensive-contre-barack-obama-AN3AVH6IIVCE7PQQTL4WEVRTLA/\n"
     ]
    },
    {
     "name": "stdout",
     "output_type": "stream",
     "text": [
      "Progression: 80/510 (15.7%) - Insérés: 72, Doublons: 0\n"
     ]
    },
    {
     "name": "stderr",
     "output_type": "stream",
     "text": [
      "2025-07-23 19:49:54,146 - INFO - Téléchargement de l'article : https://www.lexpress.fr/politique/francois-de-rugy-sur-la-loi-duplomb-cette-petition-est-le-degre-01-du-soulevement-populaire-O67UYM3ALZHFVEBCUSGKIIBNX4/\n",
      "2025-07-23 19:49:54,690 - INFO - Téléchargement de l'article : https://www.lexpress.fr/societe/cinema-ce-succes-tres-discret-qui-en-dit-long-sur-la-france-par-anne-rosencher-ETPXNROVNFA5NAZDWIWCXFICRI/\n",
      "2025-07-23 19:49:55,210 - INFO - Téléchargement de l'article : https://www.lexpress.fr/politique/le-macronisme-sachevera-avec-emmanuel-macron-bruno-retailleau-provoque-un-nouveau-tolle-UJJY65RZVFBVTODXUKB2LOAH2Q/\n",
      "2025-07-23 19:49:55,822 - INFO - Téléchargement de l'article : https://www.lexpress.fr/economie/droits-de-douane-de-donald-trump-le-japon-echappe-a-des-surtaxes-de-25-II2Y4VDH4FGK3DKNFB4PDBW554/\n",
      "2025-07-23 19:49:56,336 - INFO - Téléchargement de l'article : https://www.lexpress.fr/culture/au-centre-pompidou-lanarchie-photographique-de-wolfgang-tillmans-NT4PRPJHJVHCXGKBDUK6VNXM2U/\n",
      "2025-07-23 19:49:56,881 - INFO - Téléchargement de l'article : https://www.lexpress.fr/podcasts/laloupe/1979-margaret-thatcher-et-deng-xiaoping-bouleversent-leconomie-mondiale-77IPAX7ODRBJDLKHWOCT4GC7WU/\n",
      "2025-07-23 19:49:57,956 - INFO - Téléchargement de l'article : https://www.lexpress.fr/economie/entreprises/loffensive-de-lvmh-dans-les-lunettes-de-luxe-du-made-in-italy-a-linternalisation-MQDIMKEOPFDZHPLDI5MAPK6XOM/\n",
      "2025-07-23 19:49:58,480 - INFO - Téléchargement de l'article : https://www.lexpress.fr/monde/2-septembre-2025-le-jour-ou-le-jusquau-boutisme-de-vladimir-poutine-sera-teste-5R3NS5S2FNEPLGS3DJ7PF2UKCE/\n",
      "2025-07-23 19:49:58,950 - INFO - Téléchargement de l'article : https://www.lexpress.fr/sciences-sante/loi-duplomb-leclairage-dun-chercheur-de-linserm-cest-grace-a-un-vide-scientifique-que-prospere-la-3GYP5KSJ2ZFNJPH5S3CJEUH5RI/\n",
      "2025-07-23 19:49:59,734 - INFO - Téléchargement de l'article : https://www.lexpress.fr/monde/amerique/les-etats-unis-de-donald-trump-se-retirent-a-nouveau-de-lunesco-73BOB5GDHRDNVO3XQXXNRS77YA/\n"
     ]
    },
    {
     "name": "stdout",
     "output_type": "stream",
     "text": [
      "Progression: 90/510 (17.6%) - Insérés: 82, Doublons: 0\n"
     ]
    },
    {
     "name": "stderr",
     "output_type": "stream",
     "text": [
      "2025-07-23 19:50:00,363 - INFO - Téléchargement de l'article : https://www.lexpress.fr/economie/droits-de-douane-de-donald-trump-cette-autre-menace-americaine-qui-plane-sur-la-chine-VSTNVJDOSZEA3K2LANCC3NURZM/\n",
      "2025-07-23 19:50:01,578 - INFO - Téléchargement de l'article : https://www.lexpress.fr/monde/europe/guerre-en-ukraine-ce-que-lon-sait-des-nouveaux-pourparlers-prevus-en-turquie-ce-mercredi-WW4YQKOX45AC5NLBFE2CRG2PA4/\n",
      "2025-07-23 19:50:02,069 - INFO - Téléchargement de l'article : https://www.lexpress.fr/monde/europe/espagne-derriere-la-fievre-anti-immigres-des-relais-extremistes-bases-a-letranger-HJXRFHBAQBHOLDTZLMKCZPUXQU/\n",
      "2025-07-23 19:50:02,553 - INFO - Téléchargement de l'article : https://www.lexpress.fr/sciences-sante/a-quoi-ressembleront-les-regimes-de-demain-les-previsions-de-la-nutritionniste-americaine-holly-TTX5WQPEWFASXHL7FKA2SLUUXQ/\n",
      "2025-07-23 19:50:03,125 - INFO - Téléchargement de l'article : https://www.lexpress.fr/societe/justice/affaire-renault-nissan-rachida-dati-et-carlos-ghosn-renvoyes-en-proces-pour-corruption-FOJQPFKM65GJDA64TMXWVYQIOI/\n",
      "2025-07-23 19:50:03,678 - INFO - Téléchargement de l'article : https://www.lexpress.fr/monde/amerique/la-grogne-monte-a-la-nasa-contre-les-coupes-budgetaires-de-donald-trump-7AUASXTGMJCCDH6H3BJ66ZPCJA/\n",
      "2025-07-23 19:50:04,192 - INFO - Téléchargement de l'article : https://www.lexpress.fr/monde/asie/face-aux-menaces-dans-la-region-la-coree-du-nord-mise-sur-le-redoutable-navire-de-guerre-choe-hyon-VOFBSODFMRDCTG7NRJ6RUCHDCQ/\n",
      "2025-07-23 19:50:04,728 - INFO - Téléchargement de l'article : https://www.lexpress.fr/monde/proche-moyen-orient/liran-nabandonnera-pas-lenrichissement-duranium-une-question-de-fierte-nationale-WHB6TRENDJDPFD7L7JGEGWUJXQ/\n",
      "2025-07-23 19:50:05,373 - INFO - Téléchargement de l'article : https://www.lexpress.fr/societe/justice/narcotrafic-17-premiers-detenus-transferes-vers-une-prison-de-haute-securite-SGSQDSCCTJBINCUORXE3SS5NOQ/\n",
      "2025-07-23 19:50:06,148 - INFO - Téléchargement de l'article : https://www.lexpress.fr/sciences-sante/sante/covid-19-et-anxiete-cette-nouvelle-etude-qui-contredit-les-idees-recues-XEESVCUK3RBCZNFOS33SVFBAWY/\n"
     ]
    },
    {
     "name": "stdout",
     "output_type": "stream",
     "text": [
      "Progression: 100/510 (19.6%) - Insérés: 92, Doublons: 0\n"
     ]
    },
    {
     "name": "stderr",
     "output_type": "stream",
     "text": [
      "2025-07-23 19:50:06,694 - INFO - Téléchargement de l'article : https://www.lexpress.fr/politique/georges-ibrahim-abdallah-ne-doit-pas-sa-liberation-a-ses-soutiens-tres-politiques-par-jean-marc-IAA2JPKNLBHHZCPWZPAVIUZ27Y/\n",
      "2025-07-23 19:50:07,244 - INFO - Téléchargement de l'article : https://www.lexpress.fr/economie/emploi/management/pourquoi-prendre-lascenseur-au-travail-nous-met-il-autant-mal-a-laise-UNTISWDDVJAN5NEUTJJAPRKDZE/\n",
      "2025-07-23 19:50:07,804 - INFO - Téléchargement de l'article : https://www.lexpress.fr/economie/politique-economique/avec-ou-sans-loi-duplomb-lagriculture-francaise-se-meurt-AGPZQK4MCFDJ3JMAOVNDGQXOJA/\n",
      "2025-07-23 19:50:08,340 - INFO - Téléchargement de l'article : https://www.lexpress.fr/monde/recherches-extremistes-traque-aux-vpn-en-russie-les-internautes-toujours-plus-surveilles-NI6ZUDVCXVBLTFYD7L4X4M4U44/\n",
      "2025-07-23 19:50:08,885 - INFO - Téléchargement de l'article : https://www.lexpress.fr/politique/lr/rachida-dati-face-a-michel-barnier-a-paris-le-poison-du-soupcon-avant-la-legislative-partielle-LBNV32G2AFH4NDCYWY77KSJDIY/\n",
      "2025-07-23 19:50:09,404 - INFO - Téléchargement de l'article : https://www.lexpress.fr/podcasts/laloupe/1979-en-france-la-question-europeenne-fracture-les-partis-politiques-V46I3UNUGVH3HCON2TBT3KDNAY/\n",
      "2025-07-23 19:50:09,973 - INFO - Téléchargement de l'article : https://www.lexpress.fr/societe/en-plein-ete-ces-piscines-municipales-contraintes-de-fermer-faute-de-maitres-nageurs-75PLZOTRGBDHDN7OGLWDAJ52TU/\n",
      "2025-07-23 19:50:10,498 - INFO - Téléchargement de l'article : https://www.lexpress.fr/politique/rn-ete-2024-lappartement-secret-ou-marine-le-pen-et-jordan-bardella-ont-imagine-leur-gouvernement-NJWHZQWSJ5A37F5YR6WXUVVU3M/\n",
      "2025-07-23 19:50:11,005 - INFO - Téléchargement de l'article : https://www.lexpress.fr/societe/justice/des-docks-du-havre-a-dubai-lascension-et-la-chute-de-bibi-lun-des-plus-gros-narcotrafiquants-LAHDW44D5FAS5GDXI5WGBX4TOA/\n",
      "2025-07-23 19:50:11,823 - INFO - Téléchargement de l'article : https://www.lexpress.fr/monde/europe/ukraine-la-russie-juge-quil-faudra-beaucoup-de-travail-pour-rapprocher-les-positions-TW2OBU6MMZBGDAKIYEM6CWRRSI/\n"
     ]
    },
    {
     "name": "stdout",
     "output_type": "stream",
     "text": [
      "Progression: 110/510 (21.6%) - Insérés: 102, Doublons: 0\n"
     ]
    },
    {
     "name": "stderr",
     "output_type": "stream",
     "text": [
      "2025-07-23 19:50:12,386 - INFO - Téléchargement de l'article : https://www.lexpress.fr/societe/justice/accusations-dingerence-etrangere-le-reseau-x-soppose-a-la-justice-francaise-WADY7EU7FVF4JGYEDYKXPQ3UUY/\n",
      "2025-07-23 19:50:12,853 - INFO - Téléchargement de l'article : https://www.lexpress.fr/monde/europe/depuis-1945-jamais-les-enfants-nont-autant-souffert-de-la-guerre-lalerte-de-la-presidente-dunicef-AO6KC2KPP5C5HODB4YBB53IBCU/\n",
      "2025-07-23 19:50:13,453 - INFO - Téléchargement de l'article : https://www.lexpress.fr/monde/proche-moyen-orient/apres-le-madleen-le-handala-ce-que-lon-sait-du-nouveau-navire-en-route-pour-gaza-N2NHPB6PNFDYBFJCVCHXXPBJS4/\n",
      "2025-07-23 19:50:14,053 - INFO - Téléchargement de l'article : https://www.lexpress.fr/monde/proche-moyen-orient/gaza-israel-etend-ses-operations-terrestres-dans-une-nouvelle-zone-au-centre-du-territoire-FKDEYGC2YRBVLI7E36FT4ATAD4/\n",
      "2025-07-23 19:50:15,775 - INFO - Téléchargement de l'article : https://www.lexpress.fr/monde/proche-moyen-orient/nucleaire-iranien-le-snapback-cette-arme-que-leurope-menace-dutiliser-contre-liran-VQKXJYCRSFETRMGYS5QTS5WTVI/\n",
      "2025-07-23 19:50:16,261 - INFO - Téléchargement de l'article : https://www.lexpress.fr/economie/politique-economique/budget-europeen-comment-ursula-von-der-leyen-a-reussi-a-mecontenter-tout-le-monde-SMBSY3CNKNHETCVDTPWSVH5XEA/\n",
      "2025-07-23 19:50:16,776 - INFO - Téléchargement de l'article : https://www.lexpress.fr/societe/nouvelle-caledonie-laccord-demmanuel-macron-et-manuel-valls-est-plus-fragile-que-celui-de-rocard-HDO6MFHWDNGSNPMWQFDDEN37EU/\n",
      "2025-07-23 19:50:17,388 - INFO - Téléchargement de l'article : https://www.lexpress.fr/sciences-sante/sante/rougeole-au-royaume-uni-la-desinformation-sur-les-vaccins-relancee-par-la-mort-dun-enfant-SCTE5BRLJFDELBSAPSQPI6NNL4/\n",
      "2025-07-23 19:50:17,867 - INFO - Téléchargement de l'article : https://www.lexpress.fr/monde/europe/sommet-chine-ue-ces-dossiers-a-lorigine-des-tensions-entre-pekin-et-bruxelles-XVUPZ5RGDFBCVNXHBKXNCI7CZ4/\n",
      "2025-07-23 19:50:18,603 - INFO - Téléchargement de l'article : https://www.lexpress.fr/idees-et-debats/budget-2026-ces-quatre-malentendus-que-beaucoup-ont-pris-soin-de-dissimuler-par-jean-francois-cope-OHHJNZEL3VAOJHWPESPH3BOZCM/\n"
     ]
    },
    {
     "name": "stdout",
     "output_type": "stream",
     "text": [
      "Progression: 120/510 (23.5%) - Insérés: 112, Doublons: 0\n"
     ]
    },
    {
     "name": "stderr",
     "output_type": "stream",
     "text": [
      "2025-07-23 19:50:19,111 - INFO - Téléchargement de l'article : https://www.lexpress.fr/politique/quel-avenir-pour-la-loi-duplomb-quatre-questions-apres-le-succes-inedit-de-la-petition-contre-le-NLNARHBPJVFQJL7WOWXRRX5WCU/\n",
      "2025-07-23 19:50:19,683 - INFO - Téléchargement de l'article : https://www.lexpress.fr/idees-et-debats/la-grande-arnaque-des-livres-de-developpement-personnel-a-la-plage-par-julia-de-funes-IVHZBPZ2TJBKBGWT4PZZFKKGAE/\n",
      "2025-07-23 19:50:20,196 - INFO - Téléchargement de l'article : https://www.lexpress.fr/idees-et-debats/vladimir-poutine-et-le-sexe-du-male-alpha-obscene-au-patriarche-conservateur-ADLSZV36URCUXB4FDAVLZUI5Z4/\n",
      "2025-07-23 19:50:20,731 - INFO - Téléchargement de l'article : https://www.lexpress.fr/economie/politique-economique/ecoles-abandonnees-casernes-desaffectees-la-verite-sur-la-gestion-immobiliere-de-letat-FD6TL3GGURF3ZIN6ASCPRWR6F4/\n",
      "2025-07-23 19:50:21,309 - INFO - Téléchargement de l'article : https://www.lexpress.fr/economie/dette-ces-hedge-funds-qui-pourraient-faire-basculer-la-france-dans-la-crise-5HDPYM4U2FDCVCGKUKX6VP53TA/\n",
      "2025-07-23 19:50:21,912 - INFO - Téléchargement de l'article : https://www.lexpress.fr/podcasts/laloupe/en-1979-la-revolution-en-iran-bouleverse-le-moyen-orient-5HBNAO3TVFFJVHQEFLG2A2BHW4/\n",
      "2025-07-23 19:50:22,416 - INFO - Téléchargement de l'article : https://www.lexpress.fr/monde/proche-moyen-orient/gaza-la-defense-civile-fait-etat-de-44-morts-apres-des-tirs-israeliens-sur-une-foule-attendant-de-LBOFOUIB3REO3N2VOPQYKGZP6E/\n",
      "2025-07-23 19:50:22,951 - INFO - Téléchargement de l'article : https://www.lexpress.fr/monde/amerique/etats-unis-declin-du-soutien-a-la-politique-migratoire-de-donald-trump-apres-six-mois-au-pouvoir-YCXD7MVEBFGK7GD5SMUZJCLKMQ/\n",
      "2025-07-23 19:50:23,559 - INFO - Téléchargement de l'article : https://www.lexpress.fr/sciences-sante/comment-bien-manger-pour-rester-mince-et-en-bonne-sante-les-conseils-de-la-science-LH5PAE3245F6TADSDWKD2SXRQM/\n",
      "2025-07-23 19:50:24,353 - INFO - Téléchargement de l'article : https://www.lexpress.fr/monde/proche-moyen-orient/israel-et-la-syrie-saccordent-sur-un-cessez-le-feu-mais-les-violences-se-poursuivent-DLBLVJ5X6VBGPJ7TIPG3KISQ64/\n"
     ]
    },
    {
     "name": "stdout",
     "output_type": "stream",
     "text": [
      "Progression: 130/510 (25.5%) - Insérés: 122, Doublons: 0\n"
     ]
    },
    {
     "name": "stderr",
     "output_type": "stream",
     "text": [
      "2025-07-23 19:50:25,547 - INFO - Téléchargement de l'article : https://www.lexpress.fr/monde/asie/terres-rares-face-aux-restrictions-a-lexportation-chinoise-les-fabricants-occidentaux-cherchent-des-RGPETSXCWVHHHFGQX4M2GRO2VU/\n",
      "2025-07-23 19:50:26,110 - INFO - Téléchargement de l'article : https://www.lexpress.fr/economie/emploi/management/les-tracances-nouveau-luxe-ou-piege-dore-des-cadres-par-caroline-diard-4ZMNSZCJC5FH3JFG4N4NAX2NPA/\n",
      "2025-07-23 19:50:26,585 - INFO - Téléchargement de l'article : https://www.lexpress.fr/monde/proche-moyen-orient/nucleaire-iranien-nouvelles-discussions-cette-semaine-avec-teheran-sous-la-menace-du-snapback-5EETN5B4I5ACVGBAIEYRZ36NXM/\n",
      "2025-07-23 19:50:27,084 - INFO - Téléchargement de l'article : https://www.lexpress.fr/monde/proche-moyen-orient/guerre-contre-israel-liran-dit-avoir-remplace-ses-systemes-antiaeriens-endommages-J6Z3VWLU4NBT7P5TJLCJ6EAJIU/\n",
      "2025-07-23 19:50:27,532 - INFO - Téléchargement de l'article : https://www.lexpress.fr/monde/asie/japon-revers-electoral-projete-pour-le-premier-ministre-shigeru-ishiba-JYRWULBFRBEVLCWS2EWWMF74RQ/\n",
      "2025-07-23 19:50:28,125 - INFO - Téléchargement de l'article : https://www.lexpress.fr/monde/amerique/fin-de-contrats-avec-spacex-limpossible-rupture-entre-donald-trump-et-elon-musk-VT7LX2H5VNBTXHXYLZ5KMJTQHA/\n",
      "2025-07-23 19:50:28,598 - INFO - Téléchargement de l'article : https://www.lexpress.fr/monde/europe/guerre-en-ukraine-kiev-propose-a-moscou-de-nouveaux-pourparlers-2BZ3ROQOAJCJFN2JO4A6PIMSSM/\n",
      "2025-07-23 19:50:29,181 - INFO - Téléchargement de l'article : https://www.lexpress.fr/sciences-sante/sciences/alexei-grinbaum-cea-tout-se-passe-comme-si-les-ia-etaient-conscientes-GKMOWMXGGNF4VE3KAY77QNT4U4/\n",
      "2025-07-23 19:50:29,744 - INFO - Téléchargement de l'article : https://www.lexpress.fr/monde/proche-moyen-orient/axe-de-la-resistance-malgre-les-revers-liran-cherche-a-rearmer-ses-allies-TUCPWTTS2BFZ7LKQGIT3OC5CGM/\n",
      "2025-07-23 19:50:30,446 - INFO - Téléchargement de l'article : https://www.lexpress.fr/monde/amerique/six-mois-de-donald-trump-a-la-maison-blanche-une-croissance-sous-tension-une-democratie-sous-IVL5P3DKKNDQTJZTJ7B764QUZM/\n"
     ]
    },
    {
     "name": "stdout",
     "output_type": "stream",
     "text": [
      "Progression: 140/510 (27.5%) - Insérés: 132, Doublons: 0\n"
     ]
    },
    {
     "name": "stderr",
     "output_type": "stream",
     "text": [
      "2025-07-23 19:50:31,020 - INFO - Téléchargement de l'article : https://www.lexpress.fr/idees-et-debats/ben-chu-bbc-si-les-etats-unis-se-retirent-de-leconomie-mondiale-les-autres-pourraient-tenir-bon-PIT2WTECDNAQBFKSHGSCS2XG24/\n",
      "2025-07-23 19:50:31,595 - INFO - Téléchargement de l'article : https://www.lexpress.fr/economie/entreprises/handilab-le-pari-du-business-au-service-du-handicap-WPPMTE6OAJGNLBQJIWQY7LFDM4/\n",
      "2025-07-23 19:50:32,075 - INFO - Téléchargement de l'article : https://www.lexpress.fr/monde/amerique/ils-multiplient-les-bebes-pour-sauver-lhumanite-aux-etats-unis-le-grand-retour-des-natalistes-R2HBF7L4UFAQNCYQO4IDUU2BMM/\n",
      "2025-07-23 19:50:32,557 - INFO - Téléchargement de l'article : https://www.lexpress.fr/politique/la-petition-dune-etudiante-pourrait-relancer-le-debat-sur-la-controversee-loi-duplomb-2BLNPRKZYJEGNLO4222OJPEZL4/\n",
      "2025-07-23 19:50:33,036 - INFO - Téléchargement de l'article : https://www.lexpress.fr/monde/proche-moyen-orient/syrie-les-entreprises-belliqueuses-israeliennes-se-heurtent-aux-ambitions-diplomatiques-de-trump-Z3LSWO7DDBBFPESHHIUJ2EX6HM/\n",
      "2025-07-23 19:50:33,554 - INFO - Téléchargement de l'article : https://www.lexpress.fr/sciences-sante/le-physicien-lyderic-bocquet-ens-dans-linfiniment-petit-les-fluides-se-comportent-etrangement-PPAZM4Q3INF7DDGWH3MXICRFBE/\n",
      "2025-07-23 19:50:34,155 - INFO - Téléchargement de l'article : https://www.lexpress.fr/monde/europe/lallemagne-se-veut-chef-de-file-dune-nouvelle-politique-dimmigration-europeenne-QSKTPYVG3NHDZAWTQOT44VG5XM/\n",
      "2025-07-23 19:50:34,637 - INFO - Téléchargement de l'article : https://www.lexpress.fr/monde/afrique/la-rdc-et-le-m23-signent-un-accord-de-cessez-le-feu-au-qatar-KZX4DRIU5FERBJ6J2SAVU6QSYU/\n",
      "2025-07-23 19:50:35,206 - INFO - Téléchargement de l'article : https://www.lexpress.fr/monde/europe/on-les-envoie-sur-le-front-combattre-les-leurs-marc-levy-raconte-son-enquete-sur-les-enfants-MZWWPQAEJJHF3PMQ3YBSIJC7GI/\n",
      "2025-07-23 19:50:35,919 - INFO - Téléchargement de l'article : https://www.lexpress.fr/economie/emploi/taux-demploi-les-francais-ne-travaillent-pas-moins-mais-ils-sont-moins-a-travailler-YK73TCESRVHXDBQPCV6MXDUPNI/\n"
     ]
    },
    {
     "name": "stdout",
     "output_type": "stream",
     "text": [
      "Progression: 150/510 (29.4%) - Insérés: 142, Doublons: 0\n"
     ]
    },
    {
     "name": "stderr",
     "output_type": "stream",
     "text": [
      "2025-07-23 19:50:36,444 - INFO - Téléchargement de l'article : https://www.lexpress.fr/societe/les-festivals-francais-vont-ils-disparaitre-cette-crise-silencieuse-qui-menace-tout-un-modele-5LJAJ6UZXRHWVIBEXJMCXI47SA/\n",
      "2025-07-23 19:50:36,962 - INFO - Téléchargement de l'article : https://www.lexpress.fr/culture/quand-chateaubriand-et-musset-ecrivaient-fashionables-ces-anglicismes-qui-ne-datent-pas-dhier-SLLHFFEANVF37J7UYQP2DHP7FY/\n",
      "2025-07-23 19:50:37,502 - INFO - Téléchargement de l'article : https://www.lexpress.fr/culture/art/lannee-cezanne-a-aix-en-provence-un-reve-dart-au-jas-de-bouffan-T66YWKMCOREWPEHYIGZ6U5ASNU/\n",
      "2025-07-23 19:50:38,112 - INFO - Téléchargement de l'article : https://www.lexpress.fr/argent/placements/bertrand-merveille-notre-epargne-est-progressivement-placee-sous-influence-americaine-7VAFLISSXJAVJO5WVK5TVZI4VA/\n",
      "2025-07-23 19:50:38,722 - INFO - Téléchargement de l'article : https://www.lexpress.fr/monde/entre-la-france-et-lalgerie-soixante-ans-de-guerres-despionnage-JD2XJYYEAJCX5BJ5SOKRQBJAYA/\n",
      "2025-07-23 19:50:39,292 - INFO - Téléchargement de l'article : https://www.lexpress.fr/monde/amerique/affaire-epstein-trump-attaque-en-justice-le-wall-street-journal-et-reclame-des-milliards-3CHNTXV2RVH53GT66AJ75NOPJA/\n",
      "2025-07-23 19:50:39,910 - INFO - Téléchargement de l'article : https://www.lexpress.fr/monde/europe/de-mark-rutte-au-roi-des-pays-bas-luniversite-de-leyde-incubateur-de-decideurs-europeens-5XQRVA7VB5AONFFQG4PK5XBRAE/\n",
      "2025-07-23 19:50:40,507 - INFO - Téléchargement de l'article : https://www.lexpress.fr/economie/high-tech/ia-entre-meta-google-et-microsoft-la-chasse-aux-cerveaux-vire-a-la-foire-dempoigne-7CLY5D752FHRVFNKVNUJZURHBI/\n",
      "2025-07-23 19:50:41,046 - INFO - Téléchargement de l'article : https://www.lexpress.fr/monde/proche-moyen-orient/adel-bakawan-pour-israel-la-menace-turque-serait-encore-plus-grande-que-celle-de-liran-UJDDHJ267ZAGZKHQKZIRXGVPKA/\n",
      "2025-07-23 19:50:41,831 - INFO - Téléchargement de l'article : https://www.lexpress.fr/sciences-sante/sante/transitions-de-genre-lautorite-de-sante-publie-ses-recommandations-sur-la-prise-en-charge-medicale-2DQFB4ZTVVHW5FRKVAY2CUPX7A/\n"
     ]
    },
    {
     "name": "stdout",
     "output_type": "stream",
     "text": [
      "Progression: 160/510 (31.4%) - Insérés: 152, Doublons: 0\n"
     ]
    },
    {
     "name": "stderr",
     "output_type": "stream",
     "text": [
      "2025-07-23 19:50:42,447 - INFO - Téléchargement de l'article : https://www.lexpress.fr/monde/proche-moyen-orient/syrie-le-cessez-le-feu-deja-menace-par-de-nouveaux-affrontements-JVDLKEAA5FETFPYPRJI2YYSGHY/\n",
      "2025-07-23 19:50:42,980 - INFO - Téléchargement de l'article : https://www.lexpress.fr/politique/gestion-de-lelysee-sous-emmanuel-macron-la-cour-des-comptes-salue-des-progres-mais-74RIEP3AERFTFCLVTHB3YZKYTU/\n",
      "2025-07-23 19:50:43,436 - INFO - Téléchargement de l'article : https://www.lexpress.fr/monde/europe/espagne-comment-une-agression-a-ete-transformee-en-arme-de-desinformation-anti-immigration-VWFCF7CK25CBTFWLKY7I3CEABM/\n",
      "2025-07-23 19:50:43,918 - INFO - Téléchargement de l'article : https://www.lexpress.fr/monde/europe/guerre-en-ukraine-lunion-europeenne-adopte-un-18e-paquet-de-sanctions-contre-la-russie-B7V7F7P67JAAPKP4CBJQQCF2DU/\n",
      "2025-07-23 19:50:44,393 - INFO - Téléchargement de l'article : https://www.courrierinternational.com/article/economie-apres-l-accord-commercial-signe-avec-washington-les-actions-japonaises-bondissent-a-tokyo_233429\n",
      "2025-07-23 19:50:44,650 - ERROR - Échec parsing https://www.courrierinternational.com/article/economie-apres-l-accord-commercial-signe-avec-washington-les-actions-japonaises-bondissent-a-tokyo_233429 : Article `download()` failed with 406 Client Error: Not Acceptable for url: https://www.courrierinternational.com/article/economie-apres-l-accord-commercial-signe-avec-washington-les-actions-japonaises-bondissent-a-tokyo_233429 on URL https://www.courrierinternational.com/article/economie-apres-l-accord-commercial-signe-avec-washington-les-actions-japonaises-bondissent-a-tokyo_233429\n",
      "2025-07-23 19:50:44,652 - INFO - Téléchargement de l'article : https://www.courrierinternational.com/article/vu-de-l-etranger-le-couvre-feu-pour-mineurs-reponse-desesperee-des-villes-francaises-aux-violences_233425\n",
      "2025-07-23 19:50:44,849 - ERROR - Échec parsing https://www.courrierinternational.com/article/vu-de-l-etranger-le-couvre-feu-pour-mineurs-reponse-desesperee-des-villes-francaises-aux-violences_233425 : Article `download()` failed with 406 Client Error: Not Acceptable for url: https://www.courrierinternational.com/article/vu-de-l-etranger-le-couvre-feu-pour-mineurs-reponse-desesperee-des-villes-francaises-aux-violences_233425 on URL https://www.courrierinternational.com/article/vu-de-l-etranger-le-couvre-feu-pour-mineurs-reponse-desesperee-des-villes-francaises-aux-violences_233425\n",
      "2025-07-23 19:50:44,849 - INFO - Téléchargement de l'article : https://www.courrierinternational.com/article/polemique-escorte-et-suv-blanc-l-etat-indonesien-en-fait-il-trop-pour-bobby-le-chat-du-president_233433\n",
      "2025-07-23 19:50:45,037 - ERROR - Échec parsing https://www.courrierinternational.com/article/polemique-escorte-et-suv-blanc-l-etat-indonesien-en-fait-il-trop-pour-bobby-le-chat-du-president_233433 : Article `download()` failed with 406 Client Error: Not Acceptable for url: https://www.courrierinternational.com/article/polemique-escorte-et-suv-blanc-l-etat-indonesien-en-fait-il-trop-pour-bobby-le-chat-du-president_233433 on URL https://www.courrierinternational.com/article/polemique-escorte-et-suv-blanc-l-etat-indonesien-en-fait-il-trop-pour-bobby-le-chat-du-president_233433\n",
      "2025-07-23 19:50:45,037 - INFO - Téléchargement de l'article : https://www.courrierinternational.com/article/football-les-anglaises-miraculees-filent-en-finale-de-l-euro-grace-a-leurs-remplacantes-de-choc_233424\n",
      "2025-07-23 19:50:45,207 - ERROR - Échec parsing https://www.courrierinternational.com/article/football-les-anglaises-miraculees-filent-en-finale-de-l-euro-grace-a-leurs-remplacantes-de-choc_233424 : Article `download()` failed with 406 Client Error: Not Acceptable for url: https://www.courrierinternational.com/article/football-les-anglaises-miraculees-filent-en-finale-de-l-euro-grace-a-leurs-remplacantes-de-choc_233424 on URL https://www.courrierinternational.com/article/football-les-anglaises-miraculees-filent-en-finale-de-l-euro-grace-a-leurs-remplacantes-de-choc_233424\n",
      "2025-07-23 19:50:45,211 - INFO - Téléchargement de l'article : https://www.courrierinternational.com/article/vu-de-kiev-un-recul-terrible-des-organes-anticorruption-en-ukraine_233435\n",
      "2025-07-23 19:50:45,389 - ERROR - Échec parsing https://www.courrierinternational.com/article/vu-de-kiev-un-recul-terrible-des-organes-anticorruption-en-ukraine_233435 : Article `download()` failed with 406 Client Error: Not Acceptable for url: https://www.courrierinternational.com/article/vu-de-kiev-un-recul-terrible-des-organes-anticorruption-en-ukraine_233435 on URL https://www.courrierinternational.com/article/vu-de-kiev-un-recul-terrible-des-organes-anticorruption-en-ukraine_233435\n",
      "2025-07-23 19:50:45,391 - INFO - Téléchargement de l'article : https://www.courrierinternational.com/article/etats-unis-empetre-dans-l-affaire-epstein-trump-fait-diversion-en-attaquant-obama_233415\n",
      "2025-07-23 19:50:45,590 - ERROR - Échec parsing https://www.courrierinternational.com/article/etats-unis-empetre-dans-l-affaire-epstein-trump-fait-diversion-en-attaquant-obama_233415 : Article `download()` failed with 406 Client Error: Not Acceptable for url: https://www.courrierinternational.com/article/etats-unis-empetre-dans-l-affaire-epstein-trump-fait-diversion-en-attaquant-obama_233415 on URL https://www.courrierinternational.com/article/etats-unis-empetre-dans-l-affaire-epstein-trump-fait-diversion-en-attaquant-obama_233415\n",
      "2025-07-23 19:50:45,591 - INFO - Téléchargement de l'article : https://www.courrierinternational.com/article/metal-la-presse-britannique-rend-hommage-a-ozzy-osbourne-prince-des-tenebres-et-roi-de-la-deglingue_233409\n",
      "2025-07-23 19:50:45,780 - ERROR - Échec parsing https://www.courrierinternational.com/article/metal-la-presse-britannique-rend-hommage-a-ozzy-osbourne-prince-des-tenebres-et-roi-de-la-deglingue_233409 : Article `download()` failed with 406 Client Error: Not Acceptable for url: https://www.courrierinternational.com/article/metal-la-presse-britannique-rend-hommage-a-ozzy-osbourne-prince-des-tenebres-et-roi-de-la-deglingue_233409 on URL https://www.courrierinternational.com/article/metal-la-presse-britannique-rend-hommage-a-ozzy-osbourne-prince-des-tenebres-et-roi-de-la-deglingue_233409\n",
      "2025-07-23 19:50:45,780 - INFO - Téléchargement de l'article : https://www.courrierinternational.com/article/temoignage-j-ai-tellement-faim-le-cri-dechirant-d-une-journaliste-a-gaza_233390\n",
      "2025-07-23 19:50:45,941 - ERROR - Échec parsing https://www.courrierinternational.com/article/temoignage-j-ai-tellement-faim-le-cri-dechirant-d-une-journaliste-a-gaza_233390 : Article `download()` failed with 406 Client Error: Not Acceptable for url: https://www.courrierinternational.com/article/temoignage-j-ai-tellement-faim-le-cri-dechirant-d-une-journaliste-a-gaza_233390 on URL https://www.courrierinternational.com/article/temoignage-j-ai-tellement-faim-le-cri-dechirant-d-une-journaliste-a-gaza_233390\n",
      "2025-07-23 19:50:45,941 - INFO - Téléchargement de l'article : https://www.courrierinternational.com/article/guerre-en-ukraine-vers-une-conscription-continue-et-sans-pause-en-russie_233420\n",
      "2025-07-23 19:50:46,120 - ERROR - Échec parsing https://www.courrierinternational.com/article/guerre-en-ukraine-vers-une-conscription-continue-et-sans-pause-en-russie_233420 : Article `download()` failed with 406 Client Error: Not Acceptable for url: https://www.courrierinternational.com/article/guerre-en-ukraine-vers-une-conscription-continue-et-sans-pause-en-russie_233420 on URL https://www.courrierinternational.com/article/guerre-en-ukraine-vers-une-conscription-continue-et-sans-pause-en-russie_233420\n",
      "2025-07-23 19:50:46,123 - INFO - Téléchargement de l'article : https://www.courrierinternational.com/article/recits-on-nous-a-tabasses-des-venezueliens-racontent-l-enfer-de-leur-detention-au-salvador_233413\n",
      "2025-07-23 19:50:46,299 - ERROR - Échec parsing https://www.courrierinternational.com/article/recits-on-nous-a-tabasses-des-venezueliens-racontent-l-enfer-de-leur-detention-au-salvador_233413 : Article `download()` failed with 406 Client Error: Not Acceptable for url: https://www.courrierinternational.com/article/recits-on-nous-a-tabasses-des-venezueliens-racontent-l-enfer-de-leur-detention-au-salvador_233413 on URL https://www.courrierinternational.com/article/recits-on-nous-a-tabasses-des-venezueliens-racontent-l-enfer-de-leur-detention-au-salvador_233413\n",
      "2025-07-23 19:50:46,300 - INFO - Téléchargement de l'article : https://www.courrierinternational.com/article/football-americain-trump-peut-il-imposer-un-retour-au-nom-peaux-rouges-a-l-equipe-de-washington_233414\n",
      "2025-07-23 19:50:46,509 - ERROR - Échec parsing https://www.courrierinternational.com/article/football-americain-trump-peut-il-imposer-un-retour-au-nom-peaux-rouges-a-l-equipe-de-washington_233414 : Article `download()` failed with 406 Client Error: Not Acceptable for url: https://www.courrierinternational.com/article/football-americain-trump-peut-il-imposer-un-retour-au-nom-peaux-rouges-a-l-equipe-de-washington_233414 on URL https://www.courrierinternational.com/article/football-americain-trump-peut-il-imposer-un-retour-au-nom-peaux-rouges-a-l-equipe-de-washington_233414\n",
      "2025-07-23 19:50:46,509 - INFO - Téléchargement de l'article : https://www.courrierinternational.com/article/le-mot-du-jour-le-president-ougandais-s-octroie-un-enieme-surnom-ronflant-mais-que-signifie-t-il_233418\n",
      "2025-07-23 19:50:46,677 - ERROR - Échec parsing https://www.courrierinternational.com/article/le-mot-du-jour-le-president-ougandais-s-octroie-un-enieme-surnom-ronflant-mais-que-signifie-t-il_233418 : Article `download()` failed with 406 Client Error: Not Acceptable for url: https://www.courrierinternational.com/article/le-mot-du-jour-le-president-ougandais-s-octroie-un-enieme-surnom-ronflant-mais-que-signifie-t-il_233418 on URL https://www.courrierinternational.com/article/le-mot-du-jour-le-president-ougandais-s-octroie-un-enieme-surnom-ronflant-mais-que-signifie-t-il_233418\n",
      "2025-07-23 19:50:46,679 - INFO - Téléchargement de l'article : https://www.courrierinternational.com/une/une-du-jour-google-utilise-plus-de-deux-milliards-de-smartphones-pour-detecter-des-seismes_233398\n",
      "2025-07-23 19:50:46,966 - ERROR - Échec parsing https://www.courrierinternational.com/une/une-du-jour-google-utilise-plus-de-deux-milliards-de-smartphones-pour-detecter-des-seismes_233398 : Article `download()` failed with 406 Client Error: Not Acceptable for url: https://www.courrierinternational.com/une/une-du-jour-google-utilise-plus-de-deux-milliards-de-smartphones-pour-detecter-des-seismes_233398 on URL https://www.courrierinternational.com/une/une-du-jour-google-utilise-plus-de-deux-milliards-de-smartphones-pour-detecter-des-seismes_233398\n",
      "2025-07-23 19:50:46,966 - INFO - Téléchargement de l'article : https://www.courrierinternational.com/article/vote-en-irak-la-suppression-de-l-encre-electorale-fait-craindre-des-fraudes_233412\n",
      "2025-07-23 19:50:47,137 - ERROR - Échec parsing https://www.courrierinternational.com/article/vote-en-irak-la-suppression-de-l-encre-electorale-fait-craindre-des-fraudes_233412 : Article `download()` failed with 406 Client Error: Not Acceptable for url: https://www.courrierinternational.com/article/vote-en-irak-la-suppression-de-l-encre-electorale-fait-craindre-des-fraudes_233412 on URL https://www.courrierinternational.com/article/vote-en-irak-la-suppression-de-l-encre-electorale-fait-craindre-des-fraudes_233412\n",
      "2025-07-23 19:50:47,140 - INFO - Téléchargement de l'article : https://www.courrierinternational.com/article/extreme-droite-les-expatries-inquiets-d-un-virage-xenophobe-apres-les-elections-japonaises_233419\n",
      "2025-07-23 19:50:47,321 - ERROR - Échec parsing https://www.courrierinternational.com/article/extreme-droite-les-expatries-inquiets-d-un-virage-xenophobe-apres-les-elections-japonaises_233419 : Article `download()` failed with 406 Client Error: Not Acceptable for url: https://www.courrierinternational.com/article/extreme-droite-les-expatries-inquiets-d-un-virage-xenophobe-apres-les-elections-japonaises_233419 on URL https://www.courrierinternational.com/article/extreme-droite-les-expatries-inquiets-d-un-virage-xenophobe-apres-les-elections-japonaises_233419\n",
      "2025-07-23 19:50:47,322 - INFO - Téléchargement de l'article : https://www.courrierinternational.com/article/gaza-des-manifestants-empechent-des-touristes-israeliens-de-debarquer-sur-l-ile-grecque-de-syros_233417\n",
      "2025-07-23 19:50:47,498 - ERROR - Échec parsing https://www.courrierinternational.com/article/gaza-des-manifestants-empechent-des-touristes-israeliens-de-debarquer-sur-l-ile-grecque-de-syros_233417 : Article `download()` failed with 406 Client Error: Not Acceptable for url: https://www.courrierinternational.com/article/gaza-des-manifestants-empechent-des-touristes-israeliens-de-debarquer-sur-l-ile-grecque-de-syros_233417 on URL https://www.courrierinternational.com/article/gaza-des-manifestants-empechent-des-touristes-israeliens-de-debarquer-sur-l-ile-grecque-de-syros_233417\n",
      "2025-07-23 19:50:47,498 - INFO - Téléchargement de l'article : https://www.courrierinternational.com/article/societe-un-toutou-bichonne-au-royaume-uni-est-il-vraiment-plus-heureux-qu-un-chien-errant-en-inde_232128\n",
      "2025-07-23 19:50:47,677 - ERROR - Échec parsing https://www.courrierinternational.com/article/societe-un-toutou-bichonne-au-royaume-uni-est-il-vraiment-plus-heureux-qu-un-chien-errant-en-inde_232128 : Article `download()` failed with 406 Client Error: Not Acceptable for url: https://www.courrierinternational.com/article/societe-un-toutou-bichonne-au-royaume-uni-est-il-vraiment-plus-heureux-qu-un-chien-errant-en-inde_232128 on URL https://www.courrierinternational.com/article/societe-un-toutou-bichonne-au-royaume-uni-est-il-vraiment-plus-heureux-qu-un-chien-errant-en-inde_232128\n",
      "2025-07-23 19:50:47,677 - INFO - Téléchargement de l'article : https://www.courrierinternational.com/article/a-la-une-de-l-hebdo-tous-fous-de-nos-animaux_233364\n",
      "2025-07-23 19:50:47,850 - ERROR - Échec parsing https://www.courrierinternational.com/article/a-la-une-de-l-hebdo-tous-fous-de-nos-animaux_233364 : Article `download()` failed with 406 Client Error: Not Acceptable for url: https://www.courrierinternational.com/article/a-la-une-de-l-hebdo-tous-fous-de-nos-animaux_233364 on URL https://www.courrierinternational.com/article/a-la-une-de-l-hebdo-tous-fous-de-nos-animaux_233364\n",
      "2025-07-23 19:50:47,850 - INFO - Téléchargement de l'article : https://www.courrierinternational.com/article/temoignage-plaidoyer-pour-un-parti-des-expatries-a-bruxelles_233305\n",
      "2025-07-23 19:50:48,348 - ERROR - Échec parsing https://www.courrierinternational.com/article/temoignage-plaidoyer-pour-un-parti-des-expatries-a-bruxelles_233305 : Article `download()` failed with 406 Client Error: Not Acceptable for url: https://www.courrierinternational.com/article/temoignage-plaidoyer-pour-un-parti-des-expatries-a-bruxelles_233305 on URL https://www.courrierinternational.com/article/temoignage-plaidoyer-pour-un-parti-des-expatries-a-bruxelles_233305\n",
      "2025-07-23 19:50:48,348 - INFO - Téléchargement de l'article : https://www.courrierinternational.com/video/video-affaire-epstein-trump-rattrape-par-la-theorie-du-complot-qu-il-a-lui-meme-alimentee_233358\n",
      "2025-07-23 19:50:48,579 - ERROR - Échec parsing https://www.courrierinternational.com/video/video-affaire-epstein-trump-rattrape-par-la-theorie-du-complot-qu-il-a-lui-meme-alimentee_233358 : Article `download()` failed with 406 Client Error: Not Acceptable for url: https://www.courrierinternational.com/video/video-affaire-epstein-trump-rattrape-par-la-theorie-du-complot-qu-il-a-lui-meme-alimentee_233358 on URL https://www.courrierinternational.com/video/video-affaire-epstein-trump-rattrape-par-la-theorie-du-complot-qu-il-a-lui-meme-alimentee_233358\n",
      "2025-07-23 19:50:48,579 - INFO - Téléchargement de l'article : https://www.nouvelobs.com/politique/20250723.OBS106164/avons-nous-vraiment-beaucoup-de-jours-feries-en-france.html\n",
      "2025-07-23 19:50:49,288 - INFO - Téléchargement de l'article : https://www.nouvelobs.com/monde/20250723.OBS106163/reparations-pour-les-pays-pollueurs-obligations-climatiques-le-resume-des-annonces-de-la-cour-internationale-de-justice.html\n",
      "2025-07-23 19:50:49,923 - INFO - Téléchargement de l'article : https://www.nouvelobs.com/justice/20250723.OBS106162/tentative-d-assassinat-d-un-politique-espagnol-un-trafiquant-francais-soupconne-d-etre-un-tueur-a-gages-de-l-iran-sera-juge-en-espagne.html\n",
      "2025-07-23 19:50:50,500 - INFO - Téléchargement de l'article : https://www.nouvelobs.com/politique/20250723.OBS106161/de-la-justice-aux-journalistes-les-trois-declarations-les-plus-trumpistes-de-rachida-dati.html\n",
      "2025-07-23 19:50:50,644 - ERROR - Échec parsing https://www.nouvelobs.com/politique/20250723.OBS106161/de-la-justice-aux-journalistes-les-trois-declarations-les-plus-trumpistes-de-rachida-dati.html : Article `download()` failed with 406 Client Error: Not Acceptable for url: https://www.nouvelobs.com/politique/20250723.OBS106161/de-la-justice-aux-journalistes-les-trois-declarations-les-plus-trumpistes-de-rachida-dati.html on URL https://www.nouvelobs.com/politique/20250723.OBS106161/de-la-justice-aux-journalistes-les-trois-declarations-les-plus-trumpistes-de-rachida-dati.html\n",
      "2025-07-23 19:50:50,645 - INFO - Téléchargement de l'article : https://www.nouvelobs.com/politique/20250723.OBS106160/vingt-six-ministres-d-emmanuel-macron-mis-en-examen-depuis-2017-comme-le-dit-francois-ruffin-c-est-inexact-mais-toujours-trop.html\n",
      "2025-07-23 19:50:51,480 - INFO - Téléchargement de l'article : https://www.nouvelobs.com/tribunes/20250723.OBS106159/genocides-le-monde-en-deuil-permanent-le-droit-en-faillite.html\n"
     ]
    },
    {
     "name": "stdout",
     "output_type": "stream",
     "text": [
      "Progression: 190/510 (37.3%) - Insérés: 161, Doublons: 0\n"
     ]
    },
    {
     "name": "stderr",
     "output_type": "stream",
     "text": [
      "2025-07-23 19:50:52,245 - INFO - Téléchargement de l'article : https://www.nouvelobs.com/musique/20250723.OBS106158/que-marianne-etait-jolie-quand-michel-delpech-chante-une-certaine-idee-de-la-france-et-de-la-revolution.html\n",
      "2025-07-23 19:50:52,852 - INFO - Téléchargement de l'article : https://www.nouvelobs.com/politique/20250723.OBS106157/moi-je-suis-fait-pour-les-tempetes-emmanuel-carrere-a-suivi-emmanuel-macron-dans-les-coulisses-du-g7.html\n",
      "2025-07-23 19:50:53,425 - INFO - Téléchargement de l'article : https://www.nouvelobs.com/politique/20250723.OBS106156/les-coulisses-du-g7-racontees-par-emmanuel-carrere.html\n",
      "2025-07-23 19:50:53,930 - INFO - Téléchargement de l'article : https://www.nouvelobs.com/justice/20250723.OBS106155/pedocriminel-arrete-de-justesse-pres-d-orleans-c-est-vraiment-monsieur-tout-le-monde.html\n",
      "2025-07-23 19:50:54,469 - INFO - Téléchargement de l'article : https://www.nouvelobs.com/social/20250723.OBS106154/pourquoi-mal-travailler-coute-plus-cher-que-de-ne-pas-travailler.html\n",
      "2025-07-23 19:50:54,992 - INFO - Téléchargement de l'article : https://www.nouvelobs.com/teleobs/20250723.OBS106153/papa-t-etais-ou-en-algerie-le-silence-des-appeles.html\n",
      "2025-07-23 19:50:55,568 - INFO - Téléchargement de l'article : https://www.nouvelobs.com/ecologie/20250723.OBS106152/au-canada-une-saison-des-feux-deja-catastrophique-avec-pres-de-6-millions-d-hectares-brules.html\n",
      "2025-07-23 19:50:55,681 - ERROR - Échec parsing https://www.nouvelobs.com/ecologie/20250723.OBS106152/au-canada-une-saison-des-feux-deja-catastrophique-avec-pres-de-6-millions-d-hectares-brules.html : Article `download()` failed with 406 Client Error: Not Acceptable for url: https://www.nouvelobs.com/ecologie/20250723.OBS106152/au-canada-une-saison-des-feux-deja-catastrophique-avec-pres-de-6-millions-d-hectares-brules.html on URL https://www.nouvelobs.com/ecologie/20250723.OBS106152/au-canada-une-saison-des-feux-deja-catastrophique-avec-pres-de-6-millions-d-hectares-brules.html\n",
      "2025-07-23 19:50:55,683 - INFO - Téléchargement de l'article : https://www.nouvelobs.com/teleobs/20250723.OBS106151/le-panache-l-eloquence-de-joachim-arseguel.html\n",
      "2025-07-23 19:50:55,795 - ERROR - Échec parsing https://www.nouvelobs.com/teleobs/20250723.OBS106151/le-panache-l-eloquence-de-joachim-arseguel.html : Article `download()` failed with 406 Client Error: Not Acceptable for url: https://www.nouvelobs.com/teleobs/20250723.OBS106151/le-panache-l-eloquence-de-joachim-arseguel.html on URL https://www.nouvelobs.com/teleobs/20250723.OBS106151/le-panache-l-eloquence-de-joachim-arseguel.html\n",
      "2025-07-23 19:50:55,796 - INFO - Téléchargement de l'article : https://www.nouvelobs.com/opinions/20250723.OBS106150/loi-duplomb-les-lecons-d-un-sursaut-ecolo.html\n",
      "2025-07-23 19:50:57,000 - INFO - Téléchargement de l'article : https://www.nouvelobs.com/bibliobs/20250723.OBS106149/je-vous-dedie-mon-silence-par-mario-vargas-llosa-un-dernier-roman-comme-un-hommage-a-balzac-et-flaubert.html\n",
      "2025-07-23 19:50:57,137 - ERROR - Échec parsing https://www.nouvelobs.com/bibliobs/20250723.OBS106149/je-vous-dedie-mon-silence-par-mario-vargas-llosa-un-dernier-roman-comme-un-hommage-a-balzac-et-flaubert.html : Article `download()` failed with 406 Client Error: Not Acceptable for url: https://www.nouvelobs.com/bibliobs/20250723.OBS106149/je-vous-dedie-mon-silence-par-mario-vargas-llosa-un-dernier-roman-comme-un-hommage-a-balzac-et-flaubert.html on URL https://www.nouvelobs.com/bibliobs/20250723.OBS106149/je-vous-dedie-mon-silence-par-mario-vargas-llosa-un-dernier-roman-comme-un-hommage-a-balzac-et-flaubert.html\n",
      "2025-07-23 19:50:57,138 - INFO - Téléchargement de l'article : https://www.nouvelobs.com/culture/20250723.OBS106148/ozzy-osbourne-est-mort-et-l-enfer-est-en-deuil.html\n"
     ]
    },
    {
     "name": "stdout",
     "output_type": "stream",
     "text": [
      "Progression: 200/510 (39.2%) - Insérés: 169, Doublons: 0\n"
     ]
    },
    {
     "name": "stderr",
     "output_type": "stream",
     "text": [
      "2025-07-23 19:50:58,054 - INFO - Téléchargement de l'article : https://www.nouvelobs.com/economie/20250723.OBS106147/qui-va-vraiment-payer-le-budget-bayrou-debat-entre-les-economistes-anne-sophie-alsif-et-henri-sterdyniak.html\n",
      "2025-07-23 19:50:59,767 - INFO - Téléchargement de l'article : https://www.nouvelobs.com/chroniques/20250723.OBS106146/j-ai-teste-pour-vous-le-bain-de-foret.html\n",
      "2025-07-23 19:50:59,951 - ERROR - Échec parsing https://www.nouvelobs.com/chroniques/20250723.OBS106146/j-ai-teste-pour-vous-le-bain-de-foret.html : Article `download()` failed with 406 Client Error: Not Acceptable for url: https://www.nouvelobs.com/chroniques/20250723.OBS106146/j-ai-teste-pour-vous-le-bain-de-foret.html on URL https://www.nouvelobs.com/chroniques/20250723.OBS106146/j-ai-teste-pour-vous-le-bain-de-foret.html\n",
      "2025-07-23 19:50:59,952 - INFO - Téléchargement de l'article : https://www.nouvelobs.com/politique/20250723.OBS106145/contre-l-hegemonie-culturelle-des-droites-dures-menons-une-bataille-politique-et-budgetaire.html\n",
      "2025-07-23 19:51:00,602 - INFO - Téléchargement de l'article : https://www.nouvelobs.com/politique/20250723.OBS106144/bruno-retailleau-estime-que-le-macronisme-alimente-l-impuissance-elisabeth-borne-l-accuse-de-vouloir-diviser.html\n",
      "2025-07-23 19:51:00,764 - ERROR - Échec parsing https://www.nouvelobs.com/politique/20250723.OBS106144/bruno-retailleau-estime-que-le-macronisme-alimente-l-impuissance-elisabeth-borne-l-accuse-de-vouloir-diviser.html : Article `download()` failed with 406 Client Error: Not Acceptable for url: https://www.nouvelobs.com/politique/20250723.OBS106144/bruno-retailleau-estime-que-le-macronisme-alimente-l-impuissance-elisabeth-borne-l-accuse-de-vouloir-diviser.html on URL https://www.nouvelobs.com/politique/20250723.OBS106144/bruno-retailleau-estime-que-le-macronisme-alimente-l-impuissance-elisabeth-borne-l-accuse-de-vouloir-diviser.html\n",
      "2025-07-23 19:51:00,766 - INFO - Téléchargement de l'article : https://www.nouvelobs.com/justice/20250723.OBS106143/il-y-a-un-probleme-avec-la-justice-renvoyee-en-proces-pour-corruption-avec-carlos-ghosn-rachida-dati-charge-violemment-les-magistrats.html\n",
      "2025-07-23 19:51:00,898 - ERROR - Échec parsing https://www.nouvelobs.com/justice/20250723.OBS106143/il-y-a-un-probleme-avec-la-justice-renvoyee-en-proces-pour-corruption-avec-carlos-ghosn-rachida-dati-charge-violemment-les-magistrats.html : Article `download()` failed with 406 Client Error: Not Acceptable for url: https://www.nouvelobs.com/justice/20250723.OBS106143/il-y-a-un-probleme-avec-la-justice-renvoyee-en-proces-pour-corruption-avec-carlos-ghosn-rachida-dati-charge-violemment-les-magistrats.html on URL https://www.nouvelobs.com/justice/20250723.OBS106143/il-y-a-un-probleme-avec-la-justice-renvoyee-en-proces-pour-corruption-avec-carlos-ghosn-rachida-dati-charge-violemment-les-magistrats.html\n",
      "2025-07-23 19:51:00,900 - INFO - Téléchargement de l'article : https://www.nouvelobs.com/politique/20250723.OBS106142/la-mise-en-ligne-des-decisions-de-justice-inquiete-la-loi-duplomb-divise-renaissance-retrouvez-les-indiscretions-du-nouvel-obs.html\n",
      "2025-07-23 19:51:01,042 - ERROR - Échec parsing https://www.nouvelobs.com/politique/20250723.OBS106142/la-mise-en-ligne-des-decisions-de-justice-inquiete-la-loi-duplomb-divise-renaissance-retrouvez-les-indiscretions-du-nouvel-obs.html : Article `download()` failed with 406 Client Error: Not Acceptable for url: https://www.nouvelobs.com/politique/20250723.OBS106142/la-mise-en-ligne-des-decisions-de-justice-inquiete-la-loi-duplomb-divise-renaissance-retrouvez-les-indiscretions-du-nouvel-obs.html on URL https://www.nouvelobs.com/politique/20250723.OBS106142/la-mise-en-ligne-des-decisions-de-justice-inquiete-la-loi-duplomb-divise-renaissance-retrouvez-les-indiscretions-du-nouvel-obs.html\n",
      "2025-07-23 19:51:01,044 - INFO - Téléchargement de l'article : https://www.nouvelobs.com/societe/20250723.OBS106141/elle-me-parle-de-meteo-de-son-chien-du-linge-qui-seche-plus-je-vois-ma-belle-mere-plus-elle-m-insupporte.html\n",
      "2025-07-23 19:51:01,773 - INFO - Téléchargement de l'article : https://www.nouvelobs.com/justice/20250723.OBS106140/eric-routier-est-tombe-fou-amoureux-de-la-femme-parfaite-une-camgirl-roumaine-qui-etait-en-fait-un-brouteur-ivoirien.html\n",
      "2025-07-23 19:51:02,651 - INFO - Téléchargement de l'article : https://www.nouvelobs.com/histoire/20250723.OBS106139/il-y-a-80-ans-au-proces-du-marechal-petain-il-a-tres-peu-ete-question-du-sort-des-juifs.html\n",
      "2025-07-23 19:51:02,781 - ERROR - Échec parsing https://www.nouvelobs.com/histoire/20250723.OBS106139/il-y-a-80-ans-au-proces-du-marechal-petain-il-a-tres-peu-ete-question-du-sort-des-juifs.html : Article `download()` failed with 406 Client Error: Not Acceptable for url: https://www.nouvelobs.com/histoire/20250723.OBS106139/il-y-a-80-ans-au-proces-du-marechal-petain-il-a-tres-peu-ete-question-du-sort-des-juifs.html on URL https://www.nouvelobs.com/histoire/20250723.OBS106139/il-y-a-80-ans-au-proces-du-marechal-petain-il-a-tres-peu-ete-question-du-sort-des-juifs.html\n",
      "2025-07-23 19:51:02,784 - INFO - Téléchargement de l'article : https://www.nouvelobs.com/ecologie/20250722.OBS106138/interpol-leve-la-notice-rouge-visant-le-militant-ecologiste-paul-watson.html\n"
     ]
    },
    {
     "name": "stdout",
     "output_type": "stream",
     "text": [
      "Progression: 210/510 (41.2%) - Insérés: 174, Doublons: 0\n"
     ]
    },
    {
     "name": "stderr",
     "output_type": "stream",
     "text": [
      "2025-07-23 19:51:02,908 - ERROR - Échec parsing https://www.nouvelobs.com/ecologie/20250722.OBS106138/interpol-leve-la-notice-rouge-visant-le-militant-ecologiste-paul-watson.html : Article `download()` failed with 406 Client Error: Not Acceptable for url: https://www.nouvelobs.com/ecologie/20250722.OBS106138/interpol-leve-la-notice-rouge-visant-le-militant-ecologiste-paul-watson.html on URL https://www.nouvelobs.com/ecologie/20250722.OBS106138/interpol-leve-la-notice-rouge-visant-le-militant-ecologiste-paul-watson.html\n",
      "2025-07-23 19:51:02,909 - INFO - Téléchargement de l'article : https://www.nouvelobs.com/societe/20250722.OBS106137/le-gouvernement-publie-une-feuille-de-route-pour-un-sommeil-de-qualite-pour-contrer-les-1h30-de-moins-par-nuit-en-50-ans.html\n",
      "2025-07-23 19:51:03,431 - INFO - Téléchargement de l'article : https://www.nouvelobs.com/culture/20250722.OBS106136/ozzy-osbourne-legende-du-heavy-metal-et-chanteur-de-black-sabbath-est-mort.html\n",
      "2025-07-23 19:51:03,981 - INFO - Téléchargement de l'article : https://www.nouvelobs.com/ecologie/20250722.OBS106135/maprimerenov-va-rouvrir-le-30-septembre-pour-les-renovations-globales-mais-avec-des-conditions-d-acces-resserrees.html\n",
      "2025-07-23 19:51:04,570 - INFO - Téléchargement de l'article : https://www.nouvelobs.com/cinema/20250722.OBS106134/pooja-sir-les-4-fantastiques-sorry-baby-les-films-a-voir-ou-pas-cette-semaine.html\n",
      "2025-07-23 19:51:04,710 - ERROR - Échec parsing https://www.nouvelobs.com/cinema/20250722.OBS106134/pooja-sir-les-4-fantastiques-sorry-baby-les-films-a-voir-ou-pas-cette-semaine.html : Article `download()` failed with 406 Client Error: Not Acceptable for url: https://www.nouvelobs.com/cinema/20250722.OBS106134/pooja-sir-les-4-fantastiques-sorry-baby-les-films-a-voir-ou-pas-cette-semaine.html on URL https://www.nouvelobs.com/cinema/20250722.OBS106134/pooja-sir-les-4-fantastiques-sorry-baby-les-films-a-voir-ou-pas-cette-semaine.html\n",
      "2025-07-23 19:51:04,711 - INFO - Téléchargement de l'article : https://www.nouvelobs.com/justice/20250722.OBS106133/rachida-dati-bientot-jugee-pour-corruption-ce-que-dit-l-ordonnance-de-renvoi-des-juges-d-instruction.html\n",
      "2025-07-23 19:51:04,839 - ERROR - Échec parsing https://www.nouvelobs.com/justice/20250722.OBS106133/rachida-dati-bientot-jugee-pour-corruption-ce-que-dit-l-ordonnance-de-renvoi-des-juges-d-instruction.html : Article `download()` failed with 406 Client Error: Not Acceptable for url: https://www.nouvelobs.com/justice/20250722.OBS106133/rachida-dati-bientot-jugee-pour-corruption-ce-que-dit-l-ordonnance-de-renvoi-des-juges-d-instruction.html on URL https://www.nouvelobs.com/justice/20250722.OBS106133/rachida-dati-bientot-jugee-pour-corruption-ce-que-dit-l-ordonnance-de-renvoi-des-juges-d-instruction.html\n",
      "2025-07-23 19:51:04,840 - INFO - Téléchargement de l'article : https://www.nouvelobs.com/cinema/20250722.OBS106132/my-father-s-son-un-ambitieux-drame-memoriel-et-dystopique.html\n",
      "2025-07-23 19:51:04,966 - ERROR - Échec parsing https://www.nouvelobs.com/cinema/20250722.OBS106132/my-father-s-son-un-ambitieux-drame-memoriel-et-dystopique.html : Article `download()` failed with 406 Client Error: Not Acceptable for url: https://www.nouvelobs.com/cinema/20250722.OBS106132/my-father-s-son-un-ambitieux-drame-memoriel-et-dystopique.html on URL https://www.nouvelobs.com/cinema/20250722.OBS106132/my-father-s-son-un-ambitieux-drame-memoriel-et-dystopique.html\n",
      "2025-07-23 19:51:04,966 - INFO - Téléchargement de l'article : https://www.nouvelobs.com/cinema/20250722.OBS106131/frantz-fanon-ces-annees-que-le-psychiatre-et-figure-de-l-anticolonialisme-passa-a-l-hopital-de-blida.html\n",
      "2025-07-23 19:51:05,097 - ERROR - Échec parsing https://www.nouvelobs.com/cinema/20250722.OBS106131/frantz-fanon-ces-annees-que-le-psychiatre-et-figure-de-l-anticolonialisme-passa-a-l-hopital-de-blida.html : Article `download()` failed with 406 Client Error: Not Acceptable for url: https://www.nouvelobs.com/cinema/20250722.OBS106131/frantz-fanon-ces-annees-que-le-psychiatre-et-figure-de-l-anticolonialisme-passa-a-l-hopital-de-blida.html on URL https://www.nouvelobs.com/cinema/20250722.OBS106131/frantz-fanon-ces-annees-que-le-psychiatre-et-figure-de-l-anticolonialisme-passa-a-l-hopital-de-blida.html\n",
      "2025-07-23 19:51:05,098 - INFO - Téléchargement de l'article : https://www.nouvelobs.com/cinema/20250722.OBS106130/aux-jours-qui-viennent-un-film-entre-thriller-conjugal-et-melo-familiale.html\n",
      "2025-07-23 19:51:05,506 - ERROR - Échec parsing https://www.nouvelobs.com/cinema/20250722.OBS106130/aux-jours-qui-viennent-un-film-entre-thriller-conjugal-et-melo-familiale.html : Article `download()` failed with 406 Client Error: Not Acceptable for url: https://www.nouvelobs.com/cinema/20250722.OBS106130/aux-jours-qui-viennent-un-film-entre-thriller-conjugal-et-melo-familiale.html on URL https://www.nouvelobs.com/cinema/20250722.OBS106130/aux-jours-qui-viennent-un-film-entre-thriller-conjugal-et-melo-familiale.html\n",
      "2025-07-23 19:51:05,508 - INFO - Téléchargement de l'article : https://www.nouvelobs.com/cinema/20250722.OBS106129/vittoria-un-film-entre-documentaire-et-fiction-qui-prouve-que-le-cinema-italien-n-est-pas-mort.html\n",
      "2025-07-23 19:51:05,642 - ERROR - Échec parsing https://www.nouvelobs.com/cinema/20250722.OBS106129/vittoria-un-film-entre-documentaire-et-fiction-qui-prouve-que-le-cinema-italien-n-est-pas-mort.html : Article `download()` failed with 406 Client Error: Not Acceptable for url: https://www.nouvelobs.com/cinema/20250722.OBS106129/vittoria-un-film-entre-documentaire-et-fiction-qui-prouve-que-le-cinema-italien-n-est-pas-mort.html on URL https://www.nouvelobs.com/cinema/20250722.OBS106129/vittoria-un-film-entre-documentaire-et-fiction-qui-prouve-que-le-cinema-italien-n-est-pas-mort.html\n",
      "2025-07-23 19:51:05,645 - INFO - Téléchargement de l'article : https://www.nouvelobs.com/cinema/20250722.OBS106128/the-things-you-kill-une-fable-politique-et-symbolique-sur-le-deni-de-culpabilite.html\n",
      "2025-07-23 19:51:05,792 - ERROR - Échec parsing https://www.nouvelobs.com/cinema/20250722.OBS106128/the-things-you-kill-une-fable-politique-et-symbolique-sur-le-deni-de-culpabilite.html : Article `download()` failed with 406 Client Error: Not Acceptable for url: https://www.nouvelobs.com/cinema/20250722.OBS106128/the-things-you-kill-une-fable-politique-et-symbolique-sur-le-deni-de-culpabilite.html on URL https://www.nouvelobs.com/cinema/20250722.OBS106128/the-things-you-kill-une-fable-politique-et-symbolique-sur-le-deni-de-culpabilite.html\n",
      "2025-07-23 19:51:05,794 - INFO - Téléchargement de l'article : https://www.nouvelobs.com/cinema/20250722.OBS106127/dangerous-animals-quand-un-serial-killer-donne-des-touristes-a-manger-aux-requins.html\n",
      "2025-07-23 19:51:05,914 - ERROR - Échec parsing https://www.nouvelobs.com/cinema/20250722.OBS106127/dangerous-animals-quand-un-serial-killer-donne-des-touristes-a-manger-aux-requins.html : Article `download()` failed with 406 Client Error: Not Acceptable for url: https://www.nouvelobs.com/cinema/20250722.OBS106127/dangerous-animals-quand-un-serial-killer-donne-des-touristes-a-manger-aux-requins.html on URL https://www.nouvelobs.com/cinema/20250722.OBS106127/dangerous-animals-quand-un-serial-killer-donne-des-touristes-a-manger-aux-requins.html\n",
      "2025-07-23 19:51:05,916 - INFO - Téléchargement de l'article : https://www.nouvelobs.com/cinema/20250722.OBS106126/sorry-baby-un-petit-film-d-une-grande-sensibilite-sur-la-readaptation-d-une-victime-d-agression-sexuelle.html\n",
      "2025-07-23 19:51:06,027 - ERROR - Échec parsing https://www.nouvelobs.com/cinema/20250722.OBS106126/sorry-baby-un-petit-film-d-une-grande-sensibilite-sur-la-readaptation-d-une-victime-d-agression-sexuelle.html : Article `download()` failed with 406 Client Error: Not Acceptable for url: https://www.nouvelobs.com/cinema/20250722.OBS106126/sorry-baby-un-petit-film-d-une-grande-sensibilite-sur-la-readaptation-d-une-victime-d-agression-sexuelle.html on URL https://www.nouvelobs.com/cinema/20250722.OBS106126/sorry-baby-un-petit-film-d-une-grande-sensibilite-sur-la-readaptation-d-une-victime-d-agression-sexuelle.html\n",
      "2025-07-23 19:51:06,029 - INFO - Téléchargement de l'article : https://www.nouvelobs.com/ecologie/20250722.OBS106125/des-pfas-detectes-dans-les-protections-feminines-reutilisables-revele-une-etude.html\n",
      "2025-07-23 19:51:06,579 - INFO - Téléchargement de l'article : https://www.nouvelobs.com/cinema/20250722.OBS106124/pooja-sir-un-polar-feministe-sous-tension-au-c-ur-de-la-societe-nepalaise.html\n",
      "2025-07-23 19:51:06,696 - ERROR - Échec parsing https://www.nouvelobs.com/cinema/20250722.OBS106124/pooja-sir-un-polar-feministe-sous-tension-au-c-ur-de-la-societe-nepalaise.html : Article `download()` failed with 406 Client Error: Not Acceptable for url: https://www.nouvelobs.com/cinema/20250722.OBS106124/pooja-sir-un-polar-feministe-sous-tension-au-c-ur-de-la-societe-nepalaise.html on URL https://www.nouvelobs.com/cinema/20250722.OBS106124/pooja-sir-un-polar-feministe-sous-tension-au-c-ur-de-la-societe-nepalaise.html\n",
      "2025-07-23 19:51:06,698 - INFO - Téléchargement de l'article : https://www.nouvelobs.com/cinema/20250722.OBS106123/le-reboot-des-4-fantastiques-partait-bien-mais-il-retombe-comme-un-souffle-malgre-pedro-pascal.html\n",
      "2025-07-23 19:51:06,817 - ERROR - Échec parsing https://www.nouvelobs.com/cinema/20250722.OBS106123/le-reboot-des-4-fantastiques-partait-bien-mais-il-retombe-comme-un-souffle-malgre-pedro-pascal.html : Article `download()` failed with 406 Client Error: Not Acceptable for url: https://www.nouvelobs.com/cinema/20250722.OBS106123/le-reboot-des-4-fantastiques-partait-bien-mais-il-retombe-comme-un-souffle-malgre-pedro-pascal.html on URL https://www.nouvelobs.com/cinema/20250722.OBS106123/le-reboot-des-4-fantastiques-partait-bien-mais-il-retombe-comme-un-souffle-malgre-pedro-pascal.html\n",
      "2025-07-23 19:51:06,818 - INFO - Téléchargement de l'article : https://www.nouvelobs.com/monde/20250722.OBS106122/je-pars-parce-que-je-veux-vivre-de-plus-en-plus-d-israeliens-quittent-leur-pays-depuis-le-7-octobre.html\n",
      "2025-07-23 19:51:07,296 - INFO - Téléchargement de l'article : https://www.nouvelobs.com/culture/20250722.OBS106121/festival-d-avignon-nos-5-coups-de-c-ur-du-off-a-voir-absolument.html\n",
      "2025-07-23 19:51:07,423 - ERROR - Échec parsing https://www.nouvelobs.com/culture/20250722.OBS106121/festival-d-avignon-nos-5-coups-de-c-ur-du-off-a-voir-absolument.html : Article `download()` failed with 406 Client Error: Not Acceptable for url: https://www.nouvelobs.com/culture/20250722.OBS106121/festival-d-avignon-nos-5-coups-de-c-ur-du-off-a-voir-absolument.html on URL https://www.nouvelobs.com/culture/20250722.OBS106121/festival-d-avignon-nos-5-coups-de-c-ur-du-off-a-voir-absolument.html\n",
      "2025-07-23 19:51:07,424 - INFO - Téléchargement de l'article : https://www.nouvelobs.com/opinions/20250722.OBS106120/affaire-dati-paris-merite-un-maire-pas-un-prevenu.html\n",
      "2025-07-23 19:51:08,139 - INFO - Téléchargement de l'article : https://www.nouvelobs.com/teleobs/20250722.OBS106119/maxxxine-machine-a-fantasmes.html\n",
      "2025-07-23 19:51:08,301 - ERROR - Échec parsing https://www.nouvelobs.com/teleobs/20250722.OBS106119/maxxxine-machine-a-fantasmes.html : Article `download()` failed with 406 Client Error: Not Acceptable for url: https://www.nouvelobs.com/teleobs/20250722.OBS106119/maxxxine-machine-a-fantasmes.html on URL https://www.nouvelobs.com/teleobs/20250722.OBS106119/maxxxine-machine-a-fantasmes.html\n",
      "2025-07-23 19:51:08,303 - INFO - Téléchargement de l'article : https://www.nouvelobs.com/tribunes/20250722.OBS106118/le-budget-bayrou-ne-repond-a-aucun-des-defis-majeurs-auxquels-la-france-fait-face.html\n"
     ]
    },
    {
     "name": "stdout",
     "output_type": "stream",
     "text": [
      "Progression: 230/510 (45.1%) - Insérés: 180, Doublons: 0\n"
     ]
    },
    {
     "name": "stderr",
     "output_type": "stream",
     "text": [
      "2025-07-23 19:51:08,446 - ERROR - Échec parsing https://www.nouvelobs.com/tribunes/20250722.OBS106118/le-budget-bayrou-ne-repond-a-aucun-des-defis-majeurs-auxquels-la-france-fait-face.html : Article `download()` failed with 406 Client Error: Not Acceptable for url: https://www.nouvelobs.com/tribunes/20250722.OBS106118/le-budget-bayrou-ne-repond-a-aucun-des-defis-majeurs-auxquels-la-france-fait-face.html on URL https://www.nouvelobs.com/tribunes/20250722.OBS106118/le-budget-bayrou-ne-repond-a-aucun-des-defis-majeurs-auxquels-la-france-fait-face.html\n",
      "2025-07-23 19:51:08,447 - INFO - Téléchargement de l'article : https://www.nouvelobs.com/teleobs/20250722.OBS106115/en-tongs-au-pied-de-l-himalaya-audrey-lamy-en-mere-courage.html\n",
      "2025-07-23 19:51:08,567 - ERROR - Échec parsing https://www.nouvelobs.com/teleobs/20250722.OBS106115/en-tongs-au-pied-de-l-himalaya-audrey-lamy-en-mere-courage.html : Article `download()` failed with 406 Client Error: Not Acceptable for url: https://www.nouvelobs.com/teleobs/20250722.OBS106115/en-tongs-au-pied-de-l-himalaya-audrey-lamy-en-mere-courage.html on URL https://www.nouvelobs.com/teleobs/20250722.OBS106115/en-tongs-au-pied-de-l-himalaya-audrey-lamy-en-mere-courage.html\n",
      "2025-07-23 19:51:08,567 - INFO - Téléchargement de l'article : https://www.nouvelobs.com/justice/20250722.OBS106113/rachida-dati-et-carlos-ghosn-renvoyes-en-proces-pour-corruption.html\n",
      "2025-07-23 19:51:09,080 - INFO - Téléchargement de l'article : https://www.nouvelobs.com/bibliobs/20250722.OBS106108/ce-que-ton-regard-promet-la-rencontre-entre-un-lievre-et-une-ecrivaine-qui-a-emerveille-angelina-jolie.html\n",
      "2025-07-23 19:51:09,646 - INFO - Téléchargement de l'article : https://www.nouvelobs.com/idees/20250722.OBS106106/socrate-a-la-pizzeria-tu-ne-peux-ni-affirmer-que-la-burratina-est-cremeuse-ni-qu-elle-ne-l-est-pas.html\n",
      "2025-07-23 19:51:10,275 - INFO - Téléchargement de l'article : https://www.nouvelobs.com/ecologie/20250722.OBS106105/la-loi-duplomb-en-reautorisant-l-acetamipride-fait-peser-trois-risques-majeurs-sur-la-biodiversite-l-eau-et-la-sante-humaine-les-voici.html\n",
      "2025-07-23 19:51:10,761 - INFO - Téléchargement de l'article : https://www.nouvelobs.com/societe/20250722.OBS106104/la-petition-ravive-les-debats-entre-nous-face-au-succes-de-la-mobilisation-contre-la-loi-duplomb-la-majorite-se-divise.html\n",
      "2025-07-23 19:51:10,896 - ERROR - Échec parsing https://www.nouvelobs.com/societe/20250722.OBS106104/la-petition-ravive-les-debats-entre-nous-face-au-succes-de-la-mobilisation-contre-la-loi-duplomb-la-majorite-se-divise.html : Article `download()` failed with 406 Client Error: Not Acceptable for url: https://www.nouvelobs.com/societe/20250722.OBS106104/la-petition-ravive-les-debats-entre-nous-face-au-succes-de-la-mobilisation-contre-la-loi-duplomb-la-majorite-se-divise.html on URL https://www.nouvelobs.com/societe/20250722.OBS106104/la-petition-ravive-les-debats-entre-nous-face-au-succes-de-la-mobilisation-contre-la-loi-duplomb-la-majorite-se-divise.html\n",
      "2025-07-23 19:51:10,896 - INFO - Téléchargement de l'article : https://www.nouvelobs.com/monde/20250722.OBS106103/la-france-demande-l-acces-a-gaza-pour-la-presse-pour-montrer-ce-qu-il-s-y-passe.html\n",
      "2025-07-23 19:51:11,413 - INFO - Téléchargement de l'article : https://www.nouvelobs.com/politique/20250722.OBS106102/petition-contre-la-loi-duplomb-face-a-une-mobilisation-citoyenne-inedite-le-camp-presidentiel-marche-sur-des-ufs.html\n",
      "2025-07-23 19:51:12,117 - INFO - Téléchargement de l'article : https://www.nouvelobs.com/societe/20250722.OBS106101/il-enchaine-les-verres-d-alcool-lui-parle-mal-oui-son-mari-est-malade-mais-ca-n-excuse-pas-tout.html\n",
      "2025-07-23 19:51:12,217 - ERROR - Échec parsing https://www.nouvelobs.com/societe/20250722.OBS106101/il-enchaine-les-verres-d-alcool-lui-parle-mal-oui-son-mari-est-malade-mais-ca-n-excuse-pas-tout.html : Article `download()` failed with 406 Client Error: Not Acceptable for url: https://www.nouvelobs.com/societe/20250722.OBS106101/il-enchaine-les-verres-d-alcool-lui-parle-mal-oui-son-mari-est-malade-mais-ca-n-excuse-pas-tout.html on URL https://www.nouvelobs.com/societe/20250722.OBS106101/il-enchaine-les-verres-d-alcool-lui-parle-mal-oui-son-mari-est-malade-mais-ca-n-excuse-pas-tout.html\n",
      "2025-07-23 19:51:12,219 - INFO - Téléchargement de l'article : https://www.nouvelobs.com/musique/20250722.OBS106100/musicien-et-cycliste-pascal-gabriel-a-mis-le-mont-ventoux-en-musique.html\n"
     ]
    },
    {
     "name": "stdout",
     "output_type": "stream",
     "text": [
      "Progression: 240/510 (47.1%) - Insérés: 186, Doublons: 0\n"
     ]
    },
    {
     "name": "stderr",
     "output_type": "stream",
     "text": [
      "2025-07-23 19:51:12,733 - INFO - Téléchargement de l'article : https://www.nouvelobs.com/medias/20250722.OBS106099/de-pulitzer-a-musk-la-democratie-a-toujours-ete-sous-influence-de-la-desinformation.html\n",
      "2025-07-23 19:51:13,227 - INFO - Téléchargement de l'article : https://www.nouvelobs.com/justice/20250722.OBS106098/mon-amour-j-ai-un-souci-il-me-faut-de-l-argent-comment-veronique-59-ans-a-ete-victime-d-arnaque-aux-sentiments.html\n",
      "2025-07-23 19:51:13,924 - INFO - Téléchargement de l'article : https://www.nouvelobs.com/monde/20250722.OBS106097/trump-et-l-affaire-epstein-ou-l-histoire-d-un-arroseur-arrose.html\n",
      "2025-07-23 19:51:14,622 - INFO - Téléchargement de l'article : https://www.nouvelobs.com/monde/20250721.OBS106096/guerre-en-ukraine-kiev-et-moscou-se-retrouveront-mercredi-en-turquie-pour-des-pourparlers.html\n",
      "2025-07-23 19:51:15,350 - INFO - Téléchargement de l'article : https://www.nouvelobs.com/medias/20250721.OBS106095/aucun-de-nous-n-a-le-souvenir-d-avoir-vu-un-collaborateur-mourir-de-faim-la-sdj-de-l-afp-alerte-sur-la-sante-des-journalistes-a-gaza.html\n",
      "2025-07-23 19:51:15,479 - ERROR - Échec parsing https://www.nouvelobs.com/medias/20250721.OBS106095/aucun-de-nous-n-a-le-souvenir-d-avoir-vu-un-collaborateur-mourir-de-faim-la-sdj-de-l-afp-alerte-sur-la-sante-des-journalistes-a-gaza.html : Article `download()` failed with 406 Client Error: Not Acceptable for url: https://www.nouvelobs.com/medias/20250721.OBS106095/aucun-de-nous-n-a-le-souvenir-d-avoir-vu-un-collaborateur-mourir-de-faim-la-sdj-de-l-afp-alerte-sur-la-sante-des-journalistes-a-gaza.html on URL https://www.nouvelobs.com/medias/20250721.OBS106095/aucun-de-nous-n-a-le-souvenir-d-avoir-vu-un-collaborateur-mourir-de-faim-la-sdj-de-l-afp-alerte-sur-la-sante-des-journalistes-a-gaza.html\n",
      "2025-07-23 19:51:15,480 - INFO - Téléchargement de l'article : https://www.nouvelobs.com/monde/20250721.OBS106094/guerre-a-gaza-israel-etend-ses-operations-25-pays-appellent-a-mettre-fin-immediatement-au-conflit.html\n",
      "2025-07-23 19:51:16,151 - INFO - Téléchargement de l'article : https://www.nouvelobs.com/politique/20250721.OBS106093/petition-contre-la-loi-duplomb-les-4-raisons-d-un-succes-inedit.html\n",
      "2025-07-23 19:51:16,740 - INFO - Téléchargement de l'article : https://www.nouvelobs.com/monde/20250721.OBS106092/liberation-de-georges-abdallah-le-parquet-general-forme-un-pourvoi-en-cassation.html\n",
      "2025-07-23 19:51:17,460 - INFO - Téléchargement de l'article : https://www.nouvelobs.com/cinema/20250721.OBS106091/renard-et-lapine-sauvent-la-foret-un-cartoon-ecolo-politique-et-inventif.html\n"
     ]
    },
    {
     "name": "stdout",
     "output_type": "stream",
     "text": [
      "Progression: 250/510 (49.0%) - Insérés: 194, Doublons: 0\n"
     ]
    },
    {
     "name": "stderr",
     "output_type": "stream",
     "text": [
      "2025-07-23 19:51:18,023 - INFO - Téléchargement de l'article : https://www.nouvelobs.com/politique/20250721.OBS106090/nous-malades-du-rein-prions-francois-bayrou-de-bien-vouloir-cesser-de-nous-faire-les-poches.html\n",
      "2025-07-23 19:51:18,679 - INFO - Téléchargement de l'article : https://www.nouvelobs.com/chroniques/20250721.OBS106089/le-bloc-notes-de-jerome-garcin-les-schneider-pere-et-fille.html\n",
      "2025-07-23 19:51:19,213 - INFO - Téléchargement de l'article : https://www.nouvelobs.com/teleobs/20250721.OBS106088/des-trains-pas-comme-les-autres-de-chicago-aux-rocheuses-la-vie-du-rail.html\n",
      "2025-07-23 19:51:19,816 - INFO - Téléchargement de l'article : https://www.nouvelobs.com/economie/20250721.OBS106087/pres-d-1-5-million-de-signatures-contre-la-loi-duplomb-face-au-naufrage-des-politiques-le-rebond-citoyen.html\n",
      "2025-07-23 19:51:20,359 - INFO - Téléchargement de l'article : https://www.nouvelobs.com/teleobs/20250721.OBS106086/la-ballade-des-sans-espoirs-beau-poetique-poignant.html\n",
      "2025-07-23 19:51:20,496 - ERROR - Échec parsing https://www.nouvelobs.com/teleobs/20250721.OBS106086/la-ballade-des-sans-espoirs-beau-poetique-poignant.html : Article `download()` failed with 406 Client Error: Not Acceptable for url: https://www.nouvelobs.com/teleobs/20250721.OBS106086/la-ballade-des-sans-espoirs-beau-poetique-poignant.html on URL https://www.nouvelobs.com/teleobs/20250721.OBS106086/la-ballade-des-sans-espoirs-beau-poetique-poignant.html\n",
      "2025-07-23 19:51:20,496 - INFO - Téléchargement de l'article : https://www.nouvelobs.com/justice/20250721.OBS106085/nouvelle-audition-declarations-le-point-sur-les-derniers-developpements-dans-l-affaire-jubillar.html\n",
      "2025-07-23 19:51:21,094 - INFO - Téléchargement de l'article : https://www.nouvelobs.com/politique/20250721.OBS106084/emmanuel-macron-conseil-constitutionnel-et-rip-les-recours-contre-la-loi-duplomb-au-dela-du-debat-a-l-assemblee.html\n",
      "2025-07-23 19:51:21,692 - INFO - Téléchargement de l'article : https://www.nouvelobs.com/ecologie/20250721.OBS106083/en-europe-ceux-qui-cherchent-a-surfer-sur-la-vague-trumpiste-seront-sanctionnes-dans-les-urnes.html\n",
      "2025-07-23 19:51:22,343 - INFO - Téléchargement de l'article : https://www.nouvelobs.com/ecologie/20250721.OBS106082/petition-contre-la-loi-duplomb-on-a-epluche-les-386-autres-textes-soumis-a-signatures-actuellement-en-ligne-sur-le-site-de-l-assemblee-nationale.html\n",
      "2025-07-23 19:51:23,072 - INFO - Téléchargement de l'article : https://www.nouvelobs.com/bibliobs/20250721.OBS106081/la-ronde-de-nuit-par-bora-chung-karma-fais-moi-peur.html\n"
     ]
    },
    {
     "name": "stdout",
     "output_type": "stream",
     "text": [
      "Progression: 260/510 (51.0%) - Insérés: 203, Doublons: 0\n"
     ]
    },
    {
     "name": "stderr",
     "output_type": "stream",
     "text": [
      "2025-07-23 19:51:23,572 - INFO - Téléchargement de l'article : https://www.nouvelobs.com/sciences/20250721.OBS106080/appendice-dents-de-sagesse-pourquoi-certaines-parties-de-notre-corps-sont-elles-inutiles.html\n",
      "2025-07-23 19:51:24,076 - INFO - Téléchargement de l'article : https://www.nouvelobs.com/tendances/20250721.OBS106079/le-congost-de-mont-rebei-une-randonnee-pour-defier-son-vertige.html\n",
      "2025-07-23 19:51:24,191 - ERROR - Échec parsing https://www.nouvelobs.com/tendances/20250721.OBS106079/le-congost-de-mont-rebei-une-randonnee-pour-defier-son-vertige.html : Article `download()` failed with 406 Client Error: Not Acceptable for url: https://www.nouvelobs.com/tendances/20250721.OBS106079/le-congost-de-mont-rebei-une-randonnee-pour-defier-son-vertige.html on URL https://www.nouvelobs.com/tendances/20250721.OBS106079/le-congost-de-mont-rebei-une-randonnee-pour-defier-son-vertige.html\n",
      "2025-07-23 19:51:24,191 - INFO - Téléchargement de l'article : https://www.nouvelobs.com/politique/20250721.OBS106078/on-culpabilise-le-patient-france-assos-sante-denonce-le-plan-d-economies-prevu-par-francois-bayrou.html\n",
      "2025-07-23 19:51:24,655 - INFO - Téléchargement de l'article : https://www.nouvelobs.com/culture/20250721.OBS106077/kurdwin-ayub-realisatrice-de-moon-il-y-a-toujours-une-cage-autour-des-femmes.html\n",
      "2025-07-23 19:51:25,134 - INFO - Téléchargement de l'article : https://www.nouvelobs.com/societe/20250721.OBS106076/un-mort-six-blesses-levee-des-vigilances-retour-sur-les-orages-et-les-inondations-qui-ont-frappe-une-partie-de-la-france.html\n",
      "2025-07-23 19:51:25,277 - ERROR - Échec parsing https://www.nouvelobs.com/societe/20250721.OBS106076/un-mort-six-blesses-levee-des-vigilances-retour-sur-les-orages-et-les-inondations-qui-ont-frappe-une-partie-de-la-france.html : Article `download()` failed with 406 Client Error: Not Acceptable for url: https://www.nouvelobs.com/societe/20250721.OBS106076/un-mort-six-blesses-levee-des-vigilances-retour-sur-les-orages-et-les-inondations-qui-ont-frappe-une-partie-de-la-france.html on URL https://www.nouvelobs.com/societe/20250721.OBS106076/un-mort-six-blesses-levee-des-vigilances-retour-sur-les-orages-et-les-inondations-qui-ont-frappe-une-partie-de-la-france.html\n",
      "2025-07-23 19:51:25,277 - INFO - Téléchargement de l'article : https://www.nouvelobs.com/monde/20250721.OBS106075/93-morts-dans-des-tirs-israeliens-nouvelle-offensive-en-vue-le-point-sur-la-situation-a-gaza.html\n",
      "2025-07-23 19:51:25,834 - INFO - Téléchargement de l'article : https://www.nouvelobs.com/societe/20250721.OBS106074/quand-mon-beau-pere-m-a-lance-tu-fais-n-importe-quoi-comme-d-habitude-ca-a-ete-un-detonateur.html\n",
      "2025-07-23 19:51:25,962 - ERROR - Échec parsing https://www.nouvelobs.com/societe/20250721.OBS106074/quand-mon-beau-pere-m-a-lance-tu-fais-n-importe-quoi-comme-d-habitude-ca-a-ete-un-detonateur.html : Article `download()` failed with 406 Client Error: Not Acceptable for url: https://www.nouvelobs.com/societe/20250721.OBS106074/quand-mon-beau-pere-m-a-lance-tu-fais-n-importe-quoi-comme-d-habitude-ca-a-ete-un-detonateur.html on URL https://www.nouvelobs.com/societe/20250721.OBS106074/quand-mon-beau-pere-m-a-lance-tu-fais-n-importe-quoi-comme-d-habitude-ca-a-ete-un-detonateur.html\n",
      "2025-07-23 19:51:25,966 - INFO - Téléchargement de l'article : https://www.nouvelobs.com/justice/20250721.OBS106073/roselyne-54-ans-pensait-etre-en-couple-avec-david-hallyday-elle-a-verse-60-000-euros-a-des-brouteurs.html\n",
      "2025-07-23 19:51:27,849 - INFO - Téléchargement de l'article : https://www.nouvelobs.com/monde/20250721.OBS106072/la-nouvelle-croisade-des-anti-avortement-en-italie.html\n",
      "2025-07-23 19:51:28,589 - INFO - Téléchargement de l'article : https://www.nouvelobs.com/politique/20250720.OBS106071/comment-gabriel-attal-veut-se-verdir-face-a-l-offensive-anti-ecolo-de-retailleau-ou-le-pen.html\n"
     ]
    },
    {
     "name": "stdout",
     "output_type": "stream",
     "text": [
      "Progression: 270/510 (52.9%) - Insérés: 210, Doublons: 0\n"
     ]
    },
    {
     "name": "stderr",
     "output_type": "stream",
     "text": [
      "2025-07-23 19:51:29,268 - INFO - Téléchargement de l'article : https://www.nouvelobs.com/politique/20250720.OBS106070/un-million-de-signatures-pour-la-petition-contre-la-loi-duplomb-cessez-le-feu-en-syrie-bayrou-et-son-budget-les-cinq-infos-a-retenir-du-week-end.html\n",
      "2025-07-23 19:51:29,902 - INFO - Téléchargement de l'article : https://www.nouvelobs.com/teleobs/20250720.OBS106069/dj-mehdi-made-in-france-un-beatmaker-incontournable.html\n",
      "2025-07-23 19:51:30,057 - ERROR - Échec parsing https://www.nouvelobs.com/teleobs/20250720.OBS106069/dj-mehdi-made-in-france-un-beatmaker-incontournable.html : Article `download()` failed with 406 Client Error: Not Acceptable for url: https://www.nouvelobs.com/teleobs/20250720.OBS106069/dj-mehdi-made-in-france-un-beatmaker-incontournable.html on URL https://www.nouvelobs.com/teleobs/20250720.OBS106069/dj-mehdi-made-in-france-un-beatmaker-incontournable.html\n",
      "2025-07-23 19:51:30,059 - INFO - Téléchargement de l'article : https://www.nouvelobs.com/musique/20250720.OBS106068/c-est-le-blaze-que-les-francais-m-ont-donne-l-incroyable-histoire-de-la-vraie-joe-le-taxi-chantee-par-vanessa-paradis.html\n",
      "2025-07-23 19:51:30,700 - INFO - Téléchargement de l'article : https://www.nouvelobs.com/rue89/20250720.OBS106067/avez-vous-deja-trouve-un-tresor.html\n",
      "2025-07-23 19:51:31,320 - INFO - Téléchargement de l'article : https://www.nouvelobs.com/histoire/20250720.OBS106066/en-1930-deja-les-etats-unis-augmentaient-les-droits-de-douane-et-ce-fut-une-catastrophe-pour-les-americains.html\n",
      "2025-07-23 19:51:31,456 - ERROR - Échec parsing https://www.nouvelobs.com/histoire/20250720.OBS106066/en-1930-deja-les-etats-unis-augmentaient-les-droits-de-douane-et-ce-fut-une-catastrophe-pour-les-americains.html : Article `download()` failed with 406 Client Error: Not Acceptable for url: https://www.nouvelobs.com/histoire/20250720.OBS106066/en-1930-deja-les-etats-unis-augmentaient-les-droits-de-douane-et-ce-fut-une-catastrophe-pour-les-americains.html on URL https://www.nouvelobs.com/histoire/20250720.OBS106066/en-1930-deja-les-etats-unis-augmentaient-les-droits-de-douane-et-ce-fut-une-catastrophe-pour-les-americains.html\n",
      "2025-07-23 19:51:31,456 - INFO - Téléchargement de l'article : https://www.nouvelobs.com/teleobs/20250720.OBS106065/jeanne-moreau-dans-la-lumiere-de-preverger-le-refuge-des-maures.html\n",
      "2025-07-23 19:51:31,566 - ERROR - Échec parsing https://www.nouvelobs.com/teleobs/20250720.OBS106065/jeanne-moreau-dans-la-lumiere-de-preverger-le-refuge-des-maures.html : Article `download()` failed with 406 Client Error: Not Acceptable for url: https://www.nouvelobs.com/teleobs/20250720.OBS106065/jeanne-moreau-dans-la-lumiere-de-preverger-le-refuge-des-maures.html on URL https://www.nouvelobs.com/teleobs/20250720.OBS106065/jeanne-moreau-dans-la-lumiere-de-preverger-le-refuge-des-maures.html\n",
      "2025-07-23 19:51:31,568 - INFO - Téléchargement de l'article : https://www.nouvelobs.com/politique/20250720.OBS106064/petition-contre-la-loi-duplomb-braun-pivet-se-dit-favorable-a-un-debat-en-septembre.html\n",
      "2025-07-23 19:51:32,202 - INFO - Téléchargement de l'article : https://www.nouvelobs.com/bibliobs/20250720.OBS106063/ryszard-kapuscinski-en-2006-le-pouvoir-aveugle-prive-le-tyran-de-tout-bon-sens.html\n",
      "2025-07-23 19:51:32,327 - ERROR - Échec parsing https://www.nouvelobs.com/bibliobs/20250720.OBS106063/ryszard-kapuscinski-en-2006-le-pouvoir-aveugle-prive-le-tyran-de-tout-bon-sens.html : Article `download()` failed with 406 Client Error: Not Acceptable for url: https://www.nouvelobs.com/bibliobs/20250720.OBS106063/ryszard-kapuscinski-en-2006-le-pouvoir-aveugle-prive-le-tyran-de-tout-bon-sens.html on URL https://www.nouvelobs.com/bibliobs/20250720.OBS106063/ryszard-kapuscinski-en-2006-le-pouvoir-aveugle-prive-le-tyran-de-tout-bon-sens.html\n",
      "2025-07-23 19:51:32,328 - INFO - Téléchargement de l'article : https://www.nouvelobs.com/teleobs/20250720.OBS106062/la-cour-des-miracles-ou-une-utopique-mixite-sociale.html\n",
      "2025-07-23 19:51:32,447 - ERROR - Échec parsing https://www.nouvelobs.com/teleobs/20250720.OBS106062/la-cour-des-miracles-ou-une-utopique-mixite-sociale.html : Article `download()` failed with 406 Client Error: Not Acceptable for url: https://www.nouvelobs.com/teleobs/20250720.OBS106062/la-cour-des-miracles-ou-une-utopique-mixite-sociale.html on URL https://www.nouvelobs.com/teleobs/20250720.OBS106062/la-cour-des-miracles-ou-une-utopique-mixite-sociale.html\n",
      "2025-07-23 19:51:32,449 - INFO - Téléchargement de l'article : https://www.nouvelobs.com/monde/20250720.OBS106061/gaza-57-palestiniens-tues-lors-d-une-distribution-humanitaire-une-nouvelle-offensive-de-tsahal-en-vue.html\n",
      "2025-07-23 19:51:32,971 - INFO - Téléchargement de l'article : https://www.nouvelobs.com/bibliobs/20250720.OBS106060/ralentir-sa-respiration-respecter-la-ponctuation-ne-pas-surjouer-les-bienfaits-de-la-lecture-a-voix-haute.html\n",
      "2025-07-23 19:51:33,108 - ERROR - Échec parsing https://www.nouvelobs.com/bibliobs/20250720.OBS106060/ralentir-sa-respiration-respecter-la-ponctuation-ne-pas-surjouer-les-bienfaits-de-la-lecture-a-voix-haute.html : Article `download()` failed with 406 Client Error: Not Acceptable for url: https://www.nouvelobs.com/bibliobs/20250720.OBS106060/ralentir-sa-respiration-respecter-la-ponctuation-ne-pas-surjouer-les-bienfaits-de-la-lecture-a-voix-haute.html on URL https://www.nouvelobs.com/bibliobs/20250720.OBS106060/ralentir-sa-respiration-respecter-la-ponctuation-ne-pas-surjouer-les-bienfaits-de-la-lecture-a-voix-haute.html\n",
      "2025-07-23 19:51:33,108 - INFO - Téléchargement de l'article : https://www.nouvelobs.com/societe/20250720.OBS106059/orages-savoie-haute-savoie-et-isere-en-vigilance-orange-inondations.html\n",
      "2025-07-23 19:51:33,629 - INFO - Téléchargement de l'article : https://www.nouvelobs.com/teleobs/20250720.OBS106058/dans-le-podcast-les-bronzes-font-du-stop-on-ne-veut-pas-etre-paranos-mais.html\n",
      "2025-07-23 19:51:33,757 - ERROR - Échec parsing https://www.nouvelobs.com/teleobs/20250720.OBS106058/dans-le-podcast-les-bronzes-font-du-stop-on-ne-veut-pas-etre-paranos-mais.html : Article `download()` failed with 406 Client Error: Not Acceptable for url: https://www.nouvelobs.com/teleobs/20250720.OBS106058/dans-le-podcast-les-bronzes-font-du-stop-on-ne-veut-pas-etre-paranos-mais.html on URL https://www.nouvelobs.com/teleobs/20250720.OBS106058/dans-le-podcast-les-bronzes-font-du-stop-on-ne-veut-pas-etre-paranos-mais.html\n",
      "2025-07-23 19:51:33,759 - INFO - Téléchargement de l'article : https://www.nouvelobs.com/faits-divers/20250720.OBS106057/neuf-policiers-blesses-vehicules-pris-pour-cibles-ce-que-l-on-sait-des-violences-urbaines-qui-ont-embrase-limoges.html\n",
      "2025-07-23 19:51:34,368 - INFO - Téléchargement de l'article : https://www.nouvelobs.com/economie/20250720.OBS106056/bayrou-se-donne-deux-mois-pour-achever-son-plan-de-rigueur-budgetaire.html\n",
      "2025-07-23 19:51:35,025 - INFO - Téléchargement de l'article : https://www.nouvelobs.com/monde/20250720.OBS106055/le-gouvernement-syrien-annonce-la-fin-d-une-semaine-de-combats-sanglants-a-soueida.html\n",
      "2025-07-23 19:51:35,623 - INFO - Téléchargement de l'article : https://www.nouvelobs.com/culture/20250720.OBS106054/don-mccullin-bientot-90-ans-et-toujours-un-regard-sans-concession-sur-le-monde.html\n",
      "2025-07-23 19:51:35,763 - ERROR - Échec parsing https://www.nouvelobs.com/culture/20250720.OBS106054/don-mccullin-bientot-90-ans-et-toujours-un-regard-sans-concession-sur-le-monde.html : Article `download()` failed with 406 Client Error: Not Acceptable for url: https://www.nouvelobs.com/culture/20250720.OBS106054/don-mccullin-bientot-90-ans-et-toujours-un-regard-sans-concession-sur-le-monde.html on URL https://www.nouvelobs.com/culture/20250720.OBS106054/don-mccullin-bientot-90-ans-et-toujours-un-regard-sans-concession-sur-le-monde.html\n",
      "2025-07-23 19:51:35,764 - INFO - Téléchargement de l'article : https://www.nouvelobs.com/ecologie/20250720.OBS106053/ca-ne-m-inspire-pas-grand-chose-laurent-duplomb-reagit-a-la-petition-qui-a-atteint-780-000-signatures.html\n",
      "2025-07-23 19:51:36,349 - INFO - Téléchargement de l'article : https://www.nouvelobs.com/chroniques/20250720.OBS106052/quand-marine-le-pen-et-valerie-pecresse-rivalisent-dans-la-demagogie-anti-ecolo.html\n",
      "2025-07-23 19:51:36,485 - ERROR - Échec parsing https://www.nouvelobs.com/chroniques/20250720.OBS106052/quand-marine-le-pen-et-valerie-pecresse-rivalisent-dans-la-demagogie-anti-ecolo.html : Article `download()` failed with 406 Client Error: Not Acceptable for url: https://www.nouvelobs.com/chroniques/20250720.OBS106052/quand-marine-le-pen-et-valerie-pecresse-rivalisent-dans-la-demagogie-anti-ecolo.html on URL https://www.nouvelobs.com/chroniques/20250720.OBS106052/quand-marine-le-pen-et-valerie-pecresse-rivalisent-dans-la-demagogie-anti-ecolo.html\n",
      "2025-07-23 19:51:36,486 - INFO - Téléchargement de l'article : https://www.nouvelobs.com/societe/20250720.OBS106051/henri-a-appris-le-tricot-sur-youtube-j-ai-besoin-de-ces-espaces-numeriques-ou-les-gens-sont-gentils.html\n",
      "2025-07-23 19:51:37,099 - INFO - Téléchargement de l'article : https://www.nouvelobs.com/monde/20250720.OBS106050/une-voiture-fonce-dans-la-foule-a-los-angeles-ce-que-l-on-sait-sur-l-attaque.html\n",
      "2025-07-23 19:51:37,697 - INFO - Téléchargement de l'article : https://www.nouvelobs.com/musique/20250720.OBS106049/je-chantais-dans-la-rue-payee-au-chapeau-clara-yse-raconte-ses-debuts-improbables-dans-la-chanson.html\n",
      "2025-07-23 19:51:37,825 - ERROR - Échec parsing https://www.nouvelobs.com/musique/20250720.OBS106049/je-chantais-dans-la-rue-payee-au-chapeau-clara-yse-raconte-ses-debuts-improbables-dans-la-chanson.html : Article `download()` failed with 406 Client Error: Not Acceptable for url: https://www.nouvelobs.com/musique/20250720.OBS106049/je-chantais-dans-la-rue-payee-au-chapeau-clara-yse-raconte-ses-debuts-improbables-dans-la-chanson.html on URL https://www.nouvelobs.com/musique/20250720.OBS106049/je-chantais-dans-la-rue-payee-au-chapeau-clara-yse-raconte-ses-debuts-improbables-dans-la-chanson.html\n",
      "2025-07-23 19:51:37,829 - INFO - Téléchargement de l'article : https://www.nouvelobs.com/politique/20250720.OBS106048/il-pense-qu-il-a-un-coup-a-jouer-les-secrets-du-retour-de-dominique-de-villepin.html\n",
      "2025-07-23 19:51:38,435 - INFO - Téléchargement de l'article : https://www.nouvelobs.com/politique/20250720.OBS106047/les-grosses-tetes-de-mitterrand-et-du-ps-il-y-a-50-ans-dans-le-nouvel-obs.html\n",
      "2025-07-23 19:51:38,961 - INFO - Téléchargement de l'article : https://www.nouvelobs.com/histoire/20250719.OBS106046/ce-19-juillet-ou-paris-a-decouvert-le-metro.html\n",
      "2025-07-23 19:51:39,525 - INFO - Téléchargement de l'article : https://www.nouvelobs.com/teleobs/20250719.OBS106045/the-white-lotus-ou-le-bucher-des-vanites.html\n",
      "2025-07-23 19:51:39,651 - ERROR - Échec parsing https://www.nouvelobs.com/teleobs/20250719.OBS106045/the-white-lotus-ou-le-bucher-des-vanites.html : Article `download()` failed with 406 Client Error: Not Acceptable for url: https://www.nouvelobs.com/teleobs/20250719.OBS106045/the-white-lotus-ou-le-bucher-des-vanites.html on URL https://www.nouvelobs.com/teleobs/20250719.OBS106045/the-white-lotus-ou-le-bucher-des-vanites.html\n",
      "2025-07-23 19:51:39,651 - INFO - Téléchargement de l'article : https://www.nouvelobs.com/monde/20250719.OBS106044/des-dizaines-de-partisans-du-groupe-interdit-palestine-action-arretes-a-londres-et-dans-tout-le-royaume-uni.html\n",
      "2025-07-23 19:51:40,254 - INFO - Téléchargement de l'article : https://www.nouvelobs.com/idees/20250719.OBS106043/superman-tarzan-captain-america-des-1938-l-amerique-a-erige-la-virilite-comme-modele-de-masculinite.html\n",
      "2025-07-23 19:51:40,808 - INFO - Téléchargement de l'article : https://www.nouvelobs.com/teleobs/20250719.OBS106042/en-guerre-c-est-la-lutte-finale.html\n",
      "2025-07-23 19:51:40,931 - ERROR - Échec parsing https://www.nouvelobs.com/teleobs/20250719.OBS106042/en-guerre-c-est-la-lutte-finale.html : Article `download()` failed with 406 Client Error: Not Acceptable for url: https://www.nouvelobs.com/teleobs/20250719.OBS106042/en-guerre-c-est-la-lutte-finale.html on URL https://www.nouvelobs.com/teleobs/20250719.OBS106042/en-guerre-c-est-la-lutte-finale.html\n",
      "2025-07-23 19:51:40,935 - INFO - Téléchargement de l'article : https://www.nouvelobs.com/monde/20250719.OBS106041/au-moins-28-morts-dans-le-naufrage-d-un-bateau-touristique-en-baie-d-halong-au-vietnam.html\n",
      "2025-07-23 19:51:41,556 - INFO - Téléchargement de l'article : https://www.nouvelobs.com/bibliobs/20250719.OBS106040/mais-quel-est-le-secret-de-la-longevite-de-leonard-et-de-son-createur-turk.html\n",
      "2025-07-23 19:51:41,687 - ERROR - Échec parsing https://www.nouvelobs.com/bibliobs/20250719.OBS106040/mais-quel-est-le-secret-de-la-longevite-de-leonard-et-de-son-createur-turk.html : Article `download()` failed with 406 Client Error: Not Acceptable for url: https://www.nouvelobs.com/bibliobs/20250719.OBS106040/mais-quel-est-le-secret-de-la-longevite-de-leonard-et-de-son-createur-turk.html on URL https://www.nouvelobs.com/bibliobs/20250719.OBS106040/mais-quel-est-le-secret-de-la-longevite-de-leonard-et-de-son-createur-turk.html\n",
      "2025-07-23 19:51:41,687 - INFO - Téléchargement de l'article : https://www.nouvelobs.com/justice/20250719.OBS106039/l-open-data-pour-les-decisions-de-justice-ce-danger-pour-l-etat-de-droit-que-personne-n-avait-predit.html\n",
      "2025-07-23 19:51:42,270 - INFO - Téléchargement de l'article : https://www.nouvelobs.com/teleobs/20250719.OBS106038/nosferatu-un-drole-de-non-film.html\n",
      "2025-07-23 19:51:42,776 - INFO - Téléchargement de l'article : https://www.nouvelobs.com/ecologie/20250719.OBS106037/la-petition-contre-la-loi-duplomb-sur-le-site-de-l-assemblee-nationale-bat-tous-les-records-pour-rien.html\n",
      "2025-07-23 19:51:43,299 - INFO - Téléchargement de l'article : https://www.nouvelobs.com/tendances/20250719.OBS106036/l-ete-de-sophie-fontanel-marcelle-et-sa-chemise-repassee-en-toute-occasion.html\n",
      "2025-07-23 19:51:43,427 - ERROR - Échec parsing https://www.nouvelobs.com/tendances/20250719.OBS106036/l-ete-de-sophie-fontanel-marcelle-et-sa-chemise-repassee-en-toute-occasion.html : Article `download()` failed with 406 Client Error: Not Acceptable for url: https://www.nouvelobs.com/tendances/20250719.OBS106036/l-ete-de-sophie-fontanel-marcelle-et-sa-chemise-repassee-en-toute-occasion.html on URL https://www.nouvelobs.com/tendances/20250719.OBS106036/l-ete-de-sophie-fontanel-marcelle-et-sa-chemise-repassee-en-toute-occasion.html\n",
      "2025-07-23 19:51:43,429 - INFO - Téléchargement de l'article : https://www.nouvelobs.com/monde/20250719.OBS106035/los-angeles-une-voiture-fonce-dans-la-foule-faisant-au-moins-20-blesses.html\n",
      "2025-07-23 19:51:43,913 - INFO - Téléchargement de l'article : https://www.nouvelobs.com/bibliobs/20250719.OBS106034/on-ne-mange-pas-les-cannibales-par-stephanie-artarit-un-polar-qui-reveille-la-bete-en-nous.html\n",
      "2025-07-23 19:51:44,040 - ERROR - Échec parsing https://www.nouvelobs.com/bibliobs/20250719.OBS106034/on-ne-mange-pas-les-cannibales-par-stephanie-artarit-un-polar-qui-reveille-la-bete-en-nous.html : Article `download()` failed with 406 Client Error: Not Acceptable for url: https://www.nouvelobs.com/bibliobs/20250719.OBS106034/on-ne-mange-pas-les-cannibales-par-stephanie-artarit-un-polar-qui-reveille-la-bete-en-nous.html on URL https://www.nouvelobs.com/bibliobs/20250719.OBS106034/on-ne-mange-pas-les-cannibales-par-stephanie-artarit-un-polar-qui-reveille-la-bete-en-nous.html\n",
      "2025-07-23 19:51:44,040 - INFO - Téléchargement de l'article : https://www.nouvelobs.com/economie/20250719.OBS106033/qu-est-ce-que-la-dermatose-nodulaire-maladie-detectee-en-savoie-ayant-entraine-l-euthanasie-de-cheptels-entiers-de-vaches.html\n",
      "2025-07-23 19:51:44,167 - ERROR - Échec parsing https://www.nouvelobs.com/economie/20250719.OBS106033/qu-est-ce-que-la-dermatose-nodulaire-maladie-detectee-en-savoie-ayant-entraine-l-euthanasie-de-cheptels-entiers-de-vaches.html : Article `download()` failed with 406 Client Error: Not Acceptable for url: https://www.nouvelobs.com/economie/20250719.OBS106033/qu-est-ce-que-la-dermatose-nodulaire-maladie-detectee-en-savoie-ayant-entraine-l-euthanasie-de-cheptels-entiers-de-vaches.html on URL https://www.nouvelobs.com/economie/20250719.OBS106033/qu-est-ce-que-la-dermatose-nodulaire-maladie-detectee-en-savoie-ayant-entraine-l-euthanasie-de-cheptels-entiers-de-vaches.html\n",
      "2025-07-23 19:51:44,168 - INFO - Téléchargement de l'article : https://www.nouvelobs.com/tendances/20250719.OBS106032/randonnee-de-nuit-au-sommet-du-parmelan-quand-l-equilibre-devient-un-exercice-de-style.html\n",
      "2025-07-23 19:51:44,296 - ERROR - Échec parsing https://www.nouvelobs.com/tendances/20250719.OBS106032/randonnee-de-nuit-au-sommet-du-parmelan-quand-l-equilibre-devient-un-exercice-de-style.html : Article `download()` failed with 406 Client Error: Not Acceptable for url: https://www.nouvelobs.com/tendances/20250719.OBS106032/randonnee-de-nuit-au-sommet-du-parmelan-quand-l-equilibre-devient-un-exercice-de-style.html on URL https://www.nouvelobs.com/tendances/20250719.OBS106032/randonnee-de-nuit-au-sommet-du-parmelan-quand-l-equilibre-devient-un-exercice-de-style.html\n",
      "2025-07-23 19:51:44,297 - INFO - Téléchargement de l'article : https://www.nouvelobs.com/teleobs/20250719.OBS106031/la-notion-d-hospitalite-dans-le-podcast-nature-et-environnement.html\n",
      "2025-07-23 19:51:44,826 - INFO - Téléchargement de l'article : https://www.nouvelobs.com/monde/20250719.OBS106030/syrie-damas-annonce-un-cessez-le-feu-et-le-deploiement-de-ses-forces-a-soueida.html\n",
      "2025-07-23 19:51:45,427 - INFO - Téléchargement de l'article : https://www.nouvelobs.com/culture/20250719.OBS106029/des-monstres-non-une-humanite-mediocre-au-festival-d-avignon-une-soiree-historique-en-hommage-a-gisele-pelicot.html\n",
      "2025-07-23 19:51:45,980 - INFO - Téléchargement de l'article : https://www.nouvelobs.com/monde/20250719.OBS106028/trump-epstein-et-une-plainte-a-10-milliards-de-dollars-le-tourbillon-de-l-affaire-en-7-actes.html\n",
      "2025-07-23 19:51:46,807 - INFO - Téléchargement de l'article : https://www.nouvelobs.com/culture/20250719.OBS106027/l-etrange-ete-le-voyage-a-nantes-quand-la-ville-se-devoile.html\n",
      "2025-07-23 19:51:47,427 - INFO - Téléchargement de l'article : https://www.nouvelobs.com/food/20250719.OBS106026/la-recette-des-fajitas-tex-mex-pour-une-escapade-outre-atlantique-le-temps-d-un-repas.html\n",
      "2025-07-23 19:51:48,036 - INFO - Téléchargement de l'article : https://www.nouvelobs.com/justice/20250719.OBS106025/j-ai-perdu-l-equilibre-au-proces-de-l-homme-accuse-d-avoir-agresse-jack-lang-lors-d-une-manifestation-contre-la-pedocriminalite.html\n",
      "2025-07-23 19:51:48,653 - INFO - Téléchargement de l'article : https://www.nouvelobs.com/idees/20250719.OBS106024/reseaux-sociaux-porno-junk-food-le-mythe-du-shoot-de-dopamine.html\n",
      "2025-07-23 19:51:49,164 - INFO - Téléchargement de l'article : https://www.nouvelobs.com/politique/20250719.OBS106023/budget-2026-le-bon-sens-supposement-unanime-sur-la-dette-est-au-service-d-une-veritable-politique-de-classe.html\n",
      "2025-07-23 19:51:49,768 - INFO - Téléchargement de l'article : https://www.nouvelobs.com/bibliobs/20250719.OBS106022/peut-on-se-vanter-d-avoir-prepare-une-salade-de-tomates.html\n",
      "2025-07-23 19:51:49,907 - ERROR - Échec parsing https://www.nouvelobs.com/bibliobs/20250719.OBS106022/peut-on-se-vanter-d-avoir-prepare-une-salade-de-tomates.html : Article `download()` failed with 406 Client Error: Not Acceptable for url: https://www.nouvelobs.com/bibliobs/20250719.OBS106022/peut-on-se-vanter-d-avoir-prepare-une-salade-de-tomates.html on URL https://www.nouvelobs.com/bibliobs/20250719.OBS106022/peut-on-se-vanter-d-avoir-prepare-une-salade-de-tomates.html\n",
      "2025-07-23 19:51:49,910 - INFO - Téléchargement de l'article : https://www.nouvelobs.com/horoscope/20250719.OBS106021/l-horoscope-d-abigail-assor-du-20-au-26-juillet.html\n",
      "2025-07-23 19:51:50,591 - INFO - Téléchargement de l'article : https://www.nouvelobs.com/societe/20250718.OBS106020/garges-les-gonesse-apres-les-accusations-de-violences-de-policiers-sur-un-adolescent-une-information-judiciaire-ouverte.html\n",
      "2025-07-23 19:51:51,265 - INFO - Téléchargement de l'article : https://www.nouvelobs.com/ecologie/20250718.OBS106019/l-incendie-de-martigues-est-contenu-mais-350-pompiers-sont-toujours-engages.html\n",
      "2025-07-23 19:51:51,396 - ERROR - Échec parsing https://www.nouvelobs.com/ecologie/20250718.OBS106019/l-incendie-de-martigues-est-contenu-mais-350-pompiers-sont-toujours-engages.html : Article `download()` failed with 406 Client Error: Not Acceptable for url: https://www.nouvelobs.com/ecologie/20250718.OBS106019/l-incendie-de-martigues-est-contenu-mais-350-pompiers-sont-toujours-engages.html on URL https://www.nouvelobs.com/ecologie/20250718.OBS106019/l-incendie-de-martigues-est-contenu-mais-350-pompiers-sont-toujours-engages.html\n",
      "2025-07-23 19:51:51,398 - INFO - Téléchargement de l'article : https://www.nouvelobs.com/monde/20250718.OBS106018/bracelet-electronique-atteinte-a-la-souverainete-la-pression-judiciaire-s-accroit-sur-l-ex-president-bresilien-jair-bolsonaro.html\n",
      "2025-07-23 19:51:52,048 - INFO - Téléchargement de l'article : https://www.nouvelobs.com/monde/20250718.OBS106017/pourquoi-israel-prend-la-defense-des-druzes-en-syrie.html\n",
      "2025-07-23 19:51:52,620 - INFO - Téléchargement de l'article : https://www.nouvelobs.com/monde/20250718.OBS106016/chaque-partie-fait-monter-les-encheres-pas-d-avancees-concretes-dans-les-negociations-pour-un-cessez-le-feu-a-gaza.html\n",
      "2025-07-23 19:51:53,166 - INFO - Téléchargement de l'article : https://www.nouvelobs.com/societe/20250718.OBS106015/on-n-en-peut-plus-mais-on-ne-les-laissera-jamais-seuls-la-s-ur-de-l-otage-francaise-en-iran-cecile-kohler-temoigne.html\n",
      "2025-07-23 19:51:53,792 - INFO - Téléchargement de l'article : https://www.nouvelobs.com/societe/20250718.OBS106014/non-les-anti-trans-n-ont-pas-gagne-malgre-l-absence-de-consensus-medical-sur-les-transitions-de-genre-chez-les-mineurs.html\n",
      "2025-07-23 19:51:54,371 - INFO - Téléchargement de l'article : https://www.nouvelobs.com/justice/20250718.OBS106013/affaire-le-scouarnec-ouverture-d-une-information-judiciaire-pour-non-empechement-de-crimes.html\n",
      "2025-07-23 19:51:54,495 - ERROR - Échec parsing https://www.nouvelobs.com/justice/20250718.OBS106013/affaire-le-scouarnec-ouverture-d-une-information-judiciaire-pour-non-empechement-de-crimes.html : Article `download()` failed with 406 Client Error: Not Acceptable for url: https://www.nouvelobs.com/justice/20250718.OBS106013/affaire-le-scouarnec-ouverture-d-une-information-judiciaire-pour-non-empechement-de-crimes.html on URL https://www.nouvelobs.com/justice/20250718.OBS106013/affaire-le-scouarnec-ouverture-d-une-information-judiciaire-pour-non-empechement-de-crimes.html\n",
      "2025-07-23 19:51:54,495 - INFO - Téléchargement de l'article : https://www.nouvelobs.com/culture/20250718.OBS106012/au-festival-off-d-avignon-les-femmes-donnent-de-la-voix.html\n",
      "2025-07-23 19:51:54,618 - ERROR - Échec parsing https://www.nouvelobs.com/culture/20250718.OBS106012/au-festival-off-d-avignon-les-femmes-donnent-de-la-voix.html : Article `download()` failed with 406 Client Error: Not Acceptable for url: https://www.nouvelobs.com/culture/20250718.OBS106012/au-festival-off-d-avignon-les-femmes-donnent-de-la-voix.html on URL https://www.nouvelobs.com/culture/20250718.OBS106012/au-festival-off-d-avignon-les-femmes-donnent-de-la-voix.html\n",
      "2025-07-23 19:51:54,619 - INFO - Téléchargement de l'article : https://www.nouvelobs.com/chroniques/20250718.OBS106011/cher-superman-bienvenue-chez-les-super-wokes.html\n",
      "2025-07-23 19:51:54,734 - ERROR - Échec parsing https://www.nouvelobs.com/chroniques/20250718.OBS106011/cher-superman-bienvenue-chez-les-super-wokes.html : Article `download()` failed with 406 Client Error: Not Acceptable for url: https://www.nouvelobs.com/chroniques/20250718.OBS106011/cher-superman-bienvenue-chez-les-super-wokes.html on URL https://www.nouvelobs.com/chroniques/20250718.OBS106011/cher-superman-bienvenue-chez-les-super-wokes.html\n",
      "2025-07-23 19:51:54,734 - INFO - Téléchargement de l'article : https://www.nouvelobs.com/teleobs/20250718.OBS106010/inde-des-dieux-et-des-hommes-au-pays-de-tous-les-obstacles.html\n",
      "2025-07-23 19:51:55,323 - INFO - Téléchargement de l'article : https://www.nouvelobs.com/politique/20250718.OBS106009/plus-de-200-000-signatures-contre-la-loi-duplomb-la-petition-peut-elle-aboutir.html\n",
      "2025-07-23 19:51:55,977 - INFO - Téléchargement de l'article : https://www.nouvelobs.com/teleobs/20250718.OBS106008/les-harkis-ces-oublies-de-la-france.html\n",
      "2025-07-23 19:51:56,547 - INFO - Téléchargement de l'article : https://www.nouvelobs.com/ecologie/20250718.OBS106007/un-alignement-sur-les-positions-du-rn-plongerait-la-france-dans-un-enfer-energetique.html\n",
      "2025-07-23 19:51:56,685 - ERROR - Échec parsing https://www.nouvelobs.com/ecologie/20250718.OBS106007/un-alignement-sur-les-positions-du-rn-plongerait-la-france-dans-un-enfer-energetique.html : Article `download()` failed with 406 Client Error: Not Acceptable for url: https://www.nouvelobs.com/ecologie/20250718.OBS106007/un-alignement-sur-les-positions-du-rn-plongerait-la-france-dans-un-enfer-energetique.html on URL https://www.nouvelobs.com/ecologie/20250718.OBS106007/un-alignement-sur-les-positions-du-rn-plongerait-la-france-dans-un-enfer-energetique.html\n",
      "2025-07-23 19:51:56,687 - INFO - Téléchargement de l'article : https://www.nouvelobs.com/ecologie/20250718.OBS106006/neonicotinoides-comment-les-votes-des-deputes-ont-evolue-sur-la-question-en-10-ans.html\n",
      "2025-07-23 19:51:57,250 - INFO - Téléchargement de l'article : https://www.nouvelobs.com/bibliobs/20250718.OBS106005/ceronetti-fellini-queneau-naipaul-l-editeur-et-ecrivain-samuel-brussell-convoque-le-souvenir-de-ses-maitres.html\n",
      "2025-07-23 19:51:57,376 - ERROR - Échec parsing https://www.nouvelobs.com/bibliobs/20250718.OBS106005/ceronetti-fellini-queneau-naipaul-l-editeur-et-ecrivain-samuel-brussell-convoque-le-souvenir-de-ses-maitres.html : Article `download()` failed with 406 Client Error: Not Acceptable for url: https://www.nouvelobs.com/bibliobs/20250718.OBS106005/ceronetti-fellini-queneau-naipaul-l-editeur-et-ecrivain-samuel-brussell-convoque-le-souvenir-de-ses-maitres.html on URL https://www.nouvelobs.com/bibliobs/20250718.OBS106005/ceronetti-fellini-queneau-naipaul-l-editeur-et-ecrivain-samuel-brussell-convoque-le-souvenir-de-ses-maitres.html\n",
      "2025-07-23 19:51:57,378 - INFO - Téléchargement de l'article : https://www.nouvelobs.com/monde/20250718.OBS106004/aix-marseille-universite-accueillera-31-scientifiques-americains-des-la-rentree.html\n",
      "2025-07-23 19:51:57,920 - INFO - Téléchargement de l'article : https://www.nouvelobs.com/culture/20250718.OBS106003/on-assiste-a-la-destruction-du-service-public-de-la-culture.html\n",
      "2025-07-23 19:51:58,771 - ERROR - Échec parsing https://www.nouvelobs.com/culture/20250718.OBS106003/on-assiste-a-la-destruction-du-service-public-de-la-culture.html : Article `download()` failed with 406 Client Error: Not Acceptable for url: https://www.nouvelobs.com/culture/20250718.OBS106003/on-assiste-a-la-destruction-du-service-public-de-la-culture.html on URL https://www.nouvelobs.com/culture/20250718.OBS106003/on-assiste-a-la-destruction-du-service-public-de-la-culture.html\n",
      "2025-07-23 19:51:58,772 - INFO - Téléchargement de l'article : https://www.nouvelobs.com/ecologie/20250718.OBS106002/toitures-en-zinc-vegetalisation-les-architectes-des-batiments-de-france-freinent-ils-l-adaptation-des-villes-aux-canicules.html\n",
      "2025-07-23 19:51:58,896 - ERROR - Échec parsing https://www.nouvelobs.com/ecologie/20250718.OBS106002/toitures-en-zinc-vegetalisation-les-architectes-des-batiments-de-france-freinent-ils-l-adaptation-des-villes-aux-canicules.html : Article `download()` failed with 406 Client Error: Not Acceptable for url: https://www.nouvelobs.com/ecologie/20250718.OBS106002/toitures-en-zinc-vegetalisation-les-architectes-des-batiments-de-france-freinent-ils-l-adaptation-des-villes-aux-canicules.html on URL https://www.nouvelobs.com/ecologie/20250718.OBS106002/toitures-en-zinc-vegetalisation-les-architectes-des-batiments-de-france-freinent-ils-l-adaptation-des-villes-aux-canicules.html\n",
      "2025-07-23 19:51:58,898 - INFO - Téléchargement de l'article : https://www.nouvelobs.com/tendances/20250718.OBS106001/faut-il-encore-boire-des-sex-on-the-beach.html\n",
      "2025-07-23 19:51:59,418 - INFO - Téléchargement de l'article : https://www.nouvelobs.com/justice/20250718.OBS106000/serge-atlaoui-ex-condamne-a-mort-en-indonesie-a-ete-libere-apres-20-ans-de-prison.html\n",
      "2025-07-23 19:51:59,997 - INFO - Téléchargement de l'article : https://www.nouvelobs.com/justice/20250718.OBS105999/dons-de-mbappe-a-des-policiers-pour-180-300-euros-et-accusation-de-travail-irregulier-pourquoi-le-parquet-a-t-il-ouvert-une-enquete.html\n",
      "2025-07-23 19:52:00,124 - ERROR - Échec parsing https://www.nouvelobs.com/justice/20250718.OBS105999/dons-de-mbappe-a-des-policiers-pour-180-300-euros-et-accusation-de-travail-irregulier-pourquoi-le-parquet-a-t-il-ouvert-une-enquete.html : Article `download()` failed with 406 Client Error: Not Acceptable for url: https://www.nouvelobs.com/justice/20250718.OBS105999/dons-de-mbappe-a-des-policiers-pour-180-300-euros-et-accusation-de-travail-irregulier-pourquoi-le-parquet-a-t-il-ouvert-une-enquete.html on URL https://www.nouvelobs.com/justice/20250718.OBS105999/dons-de-mbappe-a-des-policiers-pour-180-300-euros-et-accusation-de-travail-irregulier-pourquoi-le-parquet-a-t-il-ouvert-une-enquete.html\n",
      "2025-07-23 19:52:00,124 - INFO - Téléchargement de l'article : https://www.nouvelobs.com/societe/20250718.OBS105998/deux-pompiers-blesses-240-hectares-brules-le-point-sur-l-incendie-qui-ravage-martigues.html\n",
      "2025-07-23 19:52:00,816 - INFO - Téléchargement de l'article : https://www.nouvelobs.com/societe/20250718.OBS105997/alain-chasseur-de-tresors-depuis-40-ans-l-or-rend-fou-surtout-quand-on-le-trouve.html\n",
      "2025-07-23 19:52:01,405 - INFO - Téléchargement de l'article : https://www.nouvelobs.com/societe/20250718.OBS105996/clementine-a-appris-la-couture-sur-youtube-j-ai-fini-par-me-marier-dans-une-robe-que-j-ai-cousue-moi-meme.html\n",
      "2025-07-23 19:52:02,048 - INFO - Téléchargement de l'article : https://www.nouvelobs.com/monde/20250718.OBS105995/trois-questions-sur-le-nouveau-bateau-de-la-coalition-de-la-flottille-de-la-liberte-qui-veut-ravitailler-gaza-et-defie-israel.html\n",
      "2025-07-23 19:52:02,580 - INFO - Téléchargement de l'article : https://www.nouvelobs.com/societe/20250718.OBS105994/mehdi-etudiant-chercher-un-logement-a-paris-est-un-combat-de-boxe-dont-personne-ne-sort-indemne.html\n",
      "2025-07-23 19:52:03,104 - INFO - Téléchargement de l'article : https://www.nouvelobs.com/ecologie/20250717.OBS105993/bretagne-100-hectares-brules-dans-la-foret-de-broceliande-pres-de-rennes.html\n",
      "2025-07-23 19:52:03,278 - ERROR - Échec parsing https://www.nouvelobs.com/ecologie/20250717.OBS105993/bretagne-100-hectares-brules-dans-la-foret-de-broceliande-pres-de-rennes.html : Article `download()` failed with 406 Client Error: Not Acceptable for url: https://www.nouvelobs.com/ecologie/20250717.OBS105993/bretagne-100-hectares-brules-dans-la-foret-de-broceliande-pres-de-rennes.html on URL https://www.nouvelobs.com/ecologie/20250717.OBS105993/bretagne-100-hectares-brules-dans-la-foret-de-broceliande-pres-de-rennes.html\n",
      "2025-07-23 19:52:03,278 - INFO - Téléchargement de l'article : https://www.nouvelobs.com/politique/20250717.OBS105992/apres-rachida-dati-et-michel-barnier-le-rn-thierry-mariani-candidat-a-la-legislative-partielle-a-paris.html\n",
      "2025-07-23 19:52:04,067 - INFO - Téléchargement de l'article : https://www.nouvelobs.com/monde/20250717.OBS105991/union-europeenne-ce-que-contient-la-reforme-decriee-de-la-pac.html\n"
     ]
    },
    {
     "name": "stdout",
     "output_type": "stream",
     "text": [
      "Progression: 350/510 (68.6%) - Insérés: 262, Doublons: 0\n"
     ]
    },
    {
     "name": "stderr",
     "output_type": "stream",
     "text": [
      "2025-07-23 19:52:04,673 - INFO - Téléchargement de l'article : https://www.nouvelobs.com/justice/20250717.OBS105990/affaire-hedi-a-marseille-usage-disproportionne-de-la-force-responsabilite-de-la-hierarchie-ce-qu-il-faut-retenir-du-rapport-de-l-igpn.html\n",
      "2025-07-23 19:52:04,847 - ERROR - Échec parsing https://www.nouvelobs.com/justice/20250717.OBS105990/affaire-hedi-a-marseille-usage-disproportionne-de-la-force-responsabilite-de-la-hierarchie-ce-qu-il-faut-retenir-du-rapport-de-l-igpn.html : Article `download()` failed with 406 Client Error: Not Acceptable for url: https://www.nouvelobs.com/justice/20250717.OBS105990/affaire-hedi-a-marseille-usage-disproportionne-de-la-force-responsabilite-de-la-hierarchie-ce-qu-il-faut-retenir-du-rapport-de-l-igpn.html on URL https://www.nouvelobs.com/justice/20250717.OBS105990/affaire-hedi-a-marseille-usage-disproportionne-de-la-force-responsabilite-de-la-hierarchie-ce-qu-il-faut-retenir-du-rapport-de-l-igpn.html\n",
      "2025-07-23 19:52:04,848 - INFO - Téléchargement de l'article : https://www.nouvelobs.com/societe/20250717.OBS105989/accusations-de-violences-policieres-que-s-est-il-passe-a-garges-les-gonesse.html\n",
      "2025-07-23 19:52:05,391 - INFO - Téléchargement de l'article : https://www.nouvelobs.com/musique/20250717.OBS105988/suzanne-la-mythique-muse-hippie-derriere-le-tube-planetaire-de-leonard-cohen.html\n",
      "2025-07-23 19:52:05,538 - ERROR - Échec parsing https://www.nouvelobs.com/musique/20250717.OBS105988/suzanne-la-mythique-muse-hippie-derriere-le-tube-planetaire-de-leonard-cohen.html : Article `download()` failed with 406 Client Error: Not Acceptable for url: https://www.nouvelobs.com/musique/20250717.OBS105988/suzanne-la-mythique-muse-hippie-derriere-le-tube-planetaire-de-leonard-cohen.html on URL https://www.nouvelobs.com/musique/20250717.OBS105988/suzanne-la-mythique-muse-hippie-derriere-le-tube-planetaire-de-leonard-cohen.html\n",
      "2025-07-23 19:52:05,538 - INFO - Téléchargement de l'article : https://www.nouvelobs.com/culture/20250717.OBS105987/le-nouveau-superman-une-allegorie-du-conflit-a-gaza-le-film-interroge-les-internautes.html\n",
      "2025-07-23 19:52:06,095 - INFO - Téléchargement de l'article : https://www.nouvelobs.com/medias/20250717.OBS105986/lolita-pille-ardisson-etait-un-tueur-symbolique-de-femmes.html\n",
      "2025-07-23 19:52:06,656 - INFO - Téléchargement de l'article : https://www.nouvelobs.com/monde/20250717.OBS105985/trump-ne-cesse-de-donner-des-ultimatums-a-poutine-sur-l-ukraine-mais-qu-espere-t-il-encore.html\n",
      "2025-07-23 19:52:07,232 - INFO - Téléchargement de l'article : https://www.nouvelobs.com/teleobs/20250717.OBS105984/stonehouse-depute-amant-et-espion-l-homme-qui-mentait-trop.html\n",
      "2025-07-23 19:52:07,965 - INFO - Téléchargement de l'article : https://www.nouvelobs.com/teleobs/20250717.OBS105983/starsky-hutch-une-adaptation-kitsch-mais-stylee.html\n",
      "2025-07-23 19:52:08,675 - INFO - Téléchargement de l'article : https://www.nouvelobs.com/monde/20250717.OBS105982/une-frappe-israelienne-sur-l-eglise-catholique-de-gaza-fait-deux-morts-selon-la-defense-civile-la-france-condamne-un-bombardement-inadmissible.html\n",
      "2025-07-23 19:52:08,921 - ERROR - Échec parsing https://www.nouvelobs.com/monde/20250717.OBS105982/une-frappe-israelienne-sur-l-eglise-catholique-de-gaza-fait-deux-morts-selon-la-defense-civile-la-france-condamne-un-bombardement-inadmissible.html : Article `download()` failed with 406 Client Error: Not Acceptable for url: https://www.nouvelobs.com/monde/20250717.OBS105982/une-frappe-israelienne-sur-l-eglise-catholique-de-gaza-fait-deux-morts-selon-la-defense-civile-la-france-condamne-un-bombardement-inadmissible.html on URL https://www.nouvelobs.com/monde/20250717.OBS105982/une-frappe-israelienne-sur-l-eglise-catholique-de-gaza-fait-deux-morts-selon-la-defense-civile-la-france-condamne-un-bombardement-inadmissible.html\n",
      "2025-07-23 19:52:08,921 - INFO - Téléchargement de l'article : https://www.nouvelobs.com/economie/20250717.OBS105981/budget-2026-ces-cinq-mesures-de-francois-bayrou-qui-visent-les-classes-moyennes-et-les-plus-modestes.html\n",
      "2025-07-23 19:52:09,126 - ERROR - Échec parsing https://www.nouvelobs.com/economie/20250717.OBS105981/budget-2026-ces-cinq-mesures-de-francois-bayrou-qui-visent-les-classes-moyennes-et-les-plus-modestes.html : Article `download()` failed with 406 Client Error: Not Acceptable for url: https://www.nouvelobs.com/economie/20250717.OBS105981/budget-2026-ces-cinq-mesures-de-francois-bayrou-qui-visent-les-classes-moyennes-et-les-plus-modestes.html on URL https://www.nouvelobs.com/economie/20250717.OBS105981/budget-2026-ces-cinq-mesures-de-francois-bayrou-qui-visent-les-classes-moyennes-et-les-plus-modestes.html\n",
      "2025-07-23 19:52:09,127 - INFO - Téléchargement de l'article : https://www.nouvelobs.com/monde/20250717.OBS105980/qui-controle-gaza-israel-continue-de-diviser-pour-mieux-regner.html\n",
      "2025-07-23 19:52:09,332 - ERROR - Échec parsing https://www.nouvelobs.com/monde/20250717.OBS105980/qui-controle-gaza-israel-continue-de-diviser-pour-mieux-regner.html : Article `download()` failed with 406 Client Error: Not Acceptable for url: https://www.nouvelobs.com/monde/20250717.OBS105980/qui-controle-gaza-israel-continue-de-diviser-pour-mieux-regner.html on URL https://www.nouvelobs.com/monde/20250717.OBS105980/qui-controle-gaza-israel-continue-de-diviser-pour-mieux-regner.html\n",
      "2025-07-23 19:52:09,334 - INFO - Téléchargement de l'article : https://www.nouvelobs.com/politique/20250717.OBS105979/cecile-duflot-sur-le-budget-de-francois-bayrou-tout-le-monde-va-payer-sauf-les-ultrariches.html\n",
      "2025-07-23 19:52:09,972 - INFO - Téléchargement de l'article : https://www.nouvelobs.com/bibliobs/20250717.OBS105978/me-tenir-droite-par-denis-soula-la-mechante-de-l-histoire-se-raconte.html\n",
      "2025-07-23 19:52:10,282 - ERROR - Échec parsing https://www.nouvelobs.com/bibliobs/20250717.OBS105978/me-tenir-droite-par-denis-soula-la-mechante-de-l-histoire-se-raconte.html : Article `download()` failed with 406 Client Error: Not Acceptable for url: https://www.nouvelobs.com/bibliobs/20250717.OBS105978/me-tenir-droite-par-denis-soula-la-mechante-de-l-histoire-se-raconte.html on URL https://www.nouvelobs.com/bibliobs/20250717.OBS105978/me-tenir-droite-par-denis-soula-la-mechante-de-l-histoire-se-raconte.html\n",
      "2025-07-23 19:52:10,283 - INFO - Téléchargement de l'article : https://www.nouvelobs.com/economie/20250717.OBS105977/musee-des-horreurs-la-cfdt-vent-debout-contre-la-possibilite-de-monetiser-la-cinquieme-semaine-de-conges-payes.html\n",
      "2025-07-23 19:52:10,468 - ERROR - Échec parsing https://www.nouvelobs.com/economie/20250717.OBS105977/musee-des-horreurs-la-cfdt-vent-debout-contre-la-possibilite-de-monetiser-la-cinquieme-semaine-de-conges-payes.html : Article `download()` failed with 406 Client Error: Not Acceptable for url: https://www.nouvelobs.com/economie/20250717.OBS105977/musee-des-horreurs-la-cfdt-vent-debout-contre-la-possibilite-de-monetiser-la-cinquieme-semaine-de-conges-payes.html on URL https://www.nouvelobs.com/economie/20250717.OBS105977/musee-des-horreurs-la-cfdt-vent-debout-contre-la-possibilite-de-monetiser-la-cinquieme-semaine-de-conges-payes.html\n",
      "2025-07-23 19:52:10,468 - INFO - Téléchargement de l'article : https://www.nouvelobs.com/societe/20250717.OBS105976/l-attention-a-l-autre-qu-implique-la-gentillesse-desarme-le-ressentiment-et-la-colere-meme-dans-le-monde-du-travail.html\n",
      "2025-07-23 19:52:11,008 - INFO - Téléchargement de l'article : https://www.nouvelobs.com/ecologie/20250717.OBS105975/plan-bayrou-les-mauvaises-economies-sur-la-transition-ecologique.html\n",
      "2025-07-23 19:52:11,610 - INFO - Téléchargement de l'article : https://www.nouvelobs.com/monde/20250717.OBS105974/assassin-ou-resistant-pourquoi-certains-jeunes-militants-ont-fait-de-georges-ibrahim-abdallah-leur-nouveau-heros.html\n",
      "2025-07-23 19:52:12,239 - INFO - Téléchargement de l'article : https://www.nouvelobs.com/justice/20250717.OBS105973/cinq-choses-a-savoir-sur-georges-ibrahim-abdallah-militant-propalestinien-qui-va-etre-libere-apres-40-ans-de-prison.html\n",
      "2025-07-23 19:52:12,365 - ERROR - Échec parsing https://www.nouvelobs.com/justice/20250717.OBS105973/cinq-choses-a-savoir-sur-georges-ibrahim-abdallah-militant-propalestinien-qui-va-etre-libere-apres-40-ans-de-prison.html : Article `download()` failed with 406 Client Error: Not Acceptable for url: https://www.nouvelobs.com/justice/20250717.OBS105973/cinq-choses-a-savoir-sur-georges-ibrahim-abdallah-militant-propalestinien-qui-va-etre-libere-apres-40-ans-de-prison.html on URL https://www.nouvelobs.com/justice/20250717.OBS105973/cinq-choses-a-savoir-sur-georges-ibrahim-abdallah-militant-propalestinien-qui-va-etre-libere-apres-40-ans-de-prison.html\n",
      "2025-07-23 19:52:12,367 - INFO - Téléchargement de l'article : https://www.nouvelobs.com/monde/20250717.OBS105972/violences-racistes-sur-fonds-de-tensions-sur-l-immigration-que-s-est-il-passe-a-torre-pacheco-en-espagne.html\n",
      "2025-07-23 19:52:12,495 - ERROR - Échec parsing https://www.nouvelobs.com/monde/20250717.OBS105972/violences-racistes-sur-fonds-de-tensions-sur-l-immigration-que-s-est-il-passe-a-torre-pacheco-en-espagne.html : Article `download()` failed with 406 Client Error: Not Acceptable for url: https://www.nouvelobs.com/monde/20250717.OBS105972/violences-racistes-sur-fonds-de-tensions-sur-l-immigration-que-s-est-il-passe-a-torre-pacheco-en-espagne.html on URL https://www.nouvelobs.com/monde/20250717.OBS105972/violences-racistes-sur-fonds-de-tensions-sur-l-immigration-que-s-est-il-passe-a-torre-pacheco-en-espagne.html\n",
      "2025-07-23 19:52:12,496 - INFO - Téléchargement de l'article : https://www.nouvelobs.com/societe/20250717.OBS105971/un-jour-je-trouverai-didier-66-ans-cherche-un-tresor-dans-son-jardin-depuis-quinze-ans.html\n",
      "2025-07-23 19:52:13,035 - INFO - Téléchargement de l'article : https://www.nouvelobs.com/histoire/20250717.OBS105970/on-ne-peut-pas-enterrer-le-8-mai-et-en-meme-temps-pantheoniser-missak-manouchian.html\n",
      "2025-07-23 19:52:13,657 - INFO - Téléchargement de l'article : https://www.nouvelobs.com/societe/20250717.OBS105969/cela-n-a-rien-d-une-attitude-nunuche-quatre-penseurs-louent-les-vertus-de-la-gentillesse.html\n",
      "2025-07-23 19:52:14,289 - INFO - Téléchargement de l'article : https://www.nouvelobs.com/monde/20250717.OBS105968/la-diplomatie-des-otages-est-une-infamie-n-oublions-pas-ses-victimes-cet-ete.html\n",
      "2025-07-23 19:52:14,865 - INFO - Téléchargement de l'article : https://www.nouvelobs.com/opinions/20250717.OBS105967/les-plateaux-d-ardisson-recreaient-la-violence-sociale-vecue-dehors.html\n",
      "2025-07-23 19:52:16,424 - INFO - Téléchargement de l'article : https://www.nouvelobs.com/economie/20250717.OBS105966/dans-les-secrets-des-traders-de-matieres-premieres-ces-boites-noires-aussi-puissantes-que-des-etats.html\n",
      "2025-07-23 19:52:17,051 - INFO - Téléchargement de l'article : https://www.nouvelobs.com/politique/20250716.OBS105965/legislative-partielle-rachida-dati-envisage-elle-aussi-de-se-presenter-a-paris.html\n",
      "2025-07-23 19:52:17,713 - INFO - Téléchargement de l'article : https://www.nouvelobs.com/societe/20250716.OBS105964/francofolies-rock-en-seine-we-love-green-quand-la-guerre-a-gaza-s-invite-dans-les-festivals-de-musique-de-l-ete.html\n",
      "2025-07-23 19:52:18,357 - INFO - Téléchargement de l'article : https://www.nouvelobs.com/societe/20250716.OBS105963/test-quel-gentil-etes-vous.html\n",
      "2025-07-23 19:52:19,061 - INFO - Téléchargement de l'article : https://www.nouvelobs.com/monde/20250716.OBS105962/bombardement-du-quartier-general-de-l-armee-a-damas-bilan-humain-ce-que-l-on-sait-des-frappes-israeliennes-en-syrie.html\n",
      "2025-07-23 19:52:19,856 - INFO - Téléchargement de l'article : https://www.nouvelobs.com/societe/20250716.OBS105961/et-la-gentillesse-bordel-pourquoi-il-est-temps-de-reaffirmer-la-force-de-cette-qualite-longtemps-meprisee.html\n"
     ]
    },
    {
     "name": "stdout",
     "output_type": "stream",
     "text": [
      "Progression: 380/510 (74.5%) - Insérés: 283, Doublons: 0\n"
     ]
    },
    {
     "name": "stderr",
     "output_type": "stream",
     "text": [
      "2025-07-23 19:52:20,373 - INFO - Téléchargement de l'article : https://www.nouvelobs.com/idees/20250716.OBS105960/la-force-de-la-gentillesse.html\n",
      "2025-07-23 19:52:20,961 - INFO - Téléchargement de l'article : https://www.nouvelobs.com/politique/20250716.OBS105959/feries-supprimes-augmentations-d-impots-la-droite-et-les-macronistes-partagent-le-constat-de-bayrou-mais-pas-toutes-les-mesures.html\n",
      "2025-07-23 19:52:21,596 - INFO - Téléchargement de l'article : https://www.nouvelobs.com/monde/20250716.OBS105958/qui-est-julien-moinil-alias-batman-le-procureur-de-bruxelles-place-sous-protection-maximale.html\n",
      "2025-07-23 19:52:22,182 - INFO - Téléchargement de l'article : https://www.nouvelobs.com/teleobs/20250716.OBS105957/evy-moi-echappee-belle.html\n",
      "2025-07-23 19:52:22,740 - INFO - Téléchargement de l'article : https://www.euronews.com/2025/07/23/thailand-closes-some-border-crossings-with-cambodia-after-soldier-loses-leg-in-landmine-ex\n",
      "2025-07-23 19:52:23,347 - INFO - Téléchargement de l'article : https://www.euronews.com/2025/07/23/syria-asks-turkey-for-defence-support-after-sectarian-clashes-officials-in-ankara-say\n",
      "2025-07-23 19:52:23,962 - INFO - Téléchargement de l'article : https://www.euronews.com/video/2025/07/23/states-must-act-now-climate-activists-protest-outside-icj\n",
      "2025-07-23 19:52:24,530 - WARNING - Article trop court ou vide : https://www.euronews.com/video/2025/07/23/states-must-act-now-climate-activists-protest-outside-icj\n",
      "2025-07-23 19:52:24,533 - INFO - Téléchargement de l'article : https://www.euronews.com/video/2025/07/23/latest-news-bulletin-july-23rd-evening\n",
      "2025-07-23 19:52:25,031 - WARNING - Article trop court ou vide : https://www.euronews.com/video/2025/07/23/latest-news-bulletin-july-23rd-evening\n",
      "2025-07-23 19:52:25,043 - INFO - Téléchargement de l'article : https://www.euronews.com/2025/07/23/ambassador-to-westarctica-indian-police-arrest-man-over-fake-embassy-scam\n",
      "2025-07-23 19:52:25,494 - WARNING - Article trop court ou vide : https://www.euronews.com/2025/07/23/ambassador-to-westarctica-indian-police-arrest-man-over-fake-embassy-scam\n",
      "2025-07-23 19:52:25,494 - INFO - Téléchargement de l'article : https://www.euronews.com/2025/07/23/german-satirist-acquitted-over-social-media-posts-about-trump-assassination-attempt\n",
      "2025-07-23 19:52:26,131 - INFO - Téléchargement de l'article : https://www.euronews.com/my-europe/2025/07/23/eu-and-japan-strengthen-trade-alliance-amid-global-tensions\n",
      "2025-07-23 19:52:26,822 - INFO - Téléchargement de l'article : https://www.euronews.com/2025/07/23/two-dead-and-two-seriously-injured-in-shooting-in-northern-ireland-police-say\n",
      "2025-07-23 19:52:27,595 - INFO - Téléchargement de l'article : https://www.euronews.com/2025/07/23/second-aid-convoy-heads-to-suwayda-after-clashes-between-bedouins-and-druze\n",
      "2025-07-23 19:52:28,240 - INFO - Téléchargement de l'article : https://www.euronews.com/2025/07/23/indonesian-police-arrest-44-suspected-of-starting-forest-fires-spreading-toxic-haze\n",
      "2025-07-23 19:52:28,861 - INFO - Téléchargement de l'article : https://www.euronews.com/video/2025/07/23/agadirs-crocodile-park-launches-moroccos-first-zipline-over-live-reptiles\n",
      "2025-07-23 19:52:29,925 - WARNING - Article trop court ou vide : https://www.euronews.com/video/2025/07/23/agadirs-crocodile-park-launches-moroccos-first-zipline-over-live-reptiles\n",
      "2025-07-23 19:52:29,927 - INFO - Téléchargement de l'article : https://www.euronews.com/2025/07/23/israeli-woman-arrested-on-suspicion-of-plot-to-kill-pm-netanyahu-broadcaster-kan-reports\n",
      "2025-07-23 19:52:30,659 - INFO - Téléchargement de l'article : https://www.euronews.com/2025/07/23/more-than-100-organisations-sound-the-alarm-about-imminent-famine-in-gaza\n",
      "2025-07-23 19:52:31,289 - INFO - Téléchargement de l'article : https://www.euronews.com/2025/07/23/taliban-deny-that-british-couple-detained-in-afghan-prison-are-being-mistreated\n",
      "2025-07-23 19:52:31,941 - INFO - Téléchargement de l'article : https://www.euronews.com/2025/07/23/zelenskyys-toughest-battle-people-of-ukraine-protest-over-anti-corruption-crackdown\n",
      "2025-07-23 19:52:33,116 - INFO - Téléchargement de l'article : https://www.euronews.com/video/2025/07/23/kyiv-sees-rare-wartime-protest-over-anti-corruption-legislation\n"
     ]
    },
    {
     "name": "stdout",
     "output_type": "stream",
     "text": [
      "Progression: 400/510 (78.4%) - Insérés: 299, Doublons: 0\n"
     ]
    },
    {
     "name": "stderr",
     "output_type": "stream",
     "text": [
      "2025-07-23 19:52:33,653 - WARNING - Article trop court ou vide : https://www.euronews.com/video/2025/07/23/kyiv-sees-rare-wartime-protest-over-anti-corruption-legislation\n",
      "2025-07-23 19:52:33,653 - INFO - Téléchargement de l'article : https://www.euronews.com/video/2025/07/23/latest-news-bulletin-july-23rd-midday\n",
      "2025-07-23 19:52:34,241 - WARNING - Article trop court ou vide : https://www.euronews.com/video/2025/07/23/latest-news-bulletin-july-23rd-midday\n",
      "2025-07-23 19:52:34,258 - INFO - Téléchargement de l'article : https://www.euronews.com/video/2025/07/23/typhoon-fails-to-stop-wedding-in-flooded-church-in-philippines\n",
      "2025-07-23 19:52:34,889 - WARNING - Article trop court ou vide : https://www.euronews.com/video/2025/07/23/typhoon-fails-to-stop-wedding-in-flooded-church-in-philippines\n",
      "2025-07-23 19:52:34,889 - INFO - Téléchargement de l'article : https://www.euronews.com/2025/07/23/trump-administration-can-end-deportation-protections-for-afghans-court-rules\n",
      "2025-07-23 19:52:35,531 - INFO - Téléchargement de l'article : https://www.euronews.com/video/2025/07/23/prince-of-darkness-mourned-by-fans-on-hollywood-walk-of-fame\n",
      "2025-07-23 19:52:36,029 - WARNING - Article trop court ou vide : https://www.euronews.com/video/2025/07/23/prince-of-darkness-mourned-by-fans-on-hollywood-walk-of-fame\n",
      "2025-07-23 19:52:36,029 - INFO - Téléchargement de l'article : https://www.euronews.com/2025/07/23/exclusive-who-are-syrias-druze-and-why-are-they-under-attack\n",
      "2025-07-23 19:52:36,648 - INFO - Téléchargement de l'article : https://www.euronews.com/video/2025/07/23/latest-news-bulletin-july-23rd-morning\n",
      "2025-07-23 19:52:37,237 - WARNING - Article trop court ou vide : https://www.euronews.com/video/2025/07/23/latest-news-bulletin-july-23rd-morning\n",
      "2025-07-23 19:52:37,237 - INFO - Téléchargement de l'article : https://www.euronews.com/business/2025/07/23/eu-and-japan-prepare-delicate-balancing-act-with-us\n",
      "2025-07-23 19:52:37,912 - INFO - Téléchargement de l'article : https://www.euronews.com/2025/07/22/world-health-organisation-reveals-details-of-israeli-attacks-on-facilities-in-deir-al-bala\n",
      "2025-07-23 19:52:38,545 - INFO - Téléchargement de l'article : https://www.euronews.com/2025/07/22/initial-probe-into-south-koreas-jeju-air-crash-angers-families-by-hinting-at-pilot-error\n",
      "2025-07-23 19:52:39,317 - INFO - Téléchargement de l'article : https://www.euronews.com/2025/07/22/us-prosecutors-want-to-speak-to-ghislaine-maxwell-as-scrutiny-grows-over-epstein-files\n"
     ]
    },
    {
     "name": "stdout",
     "output_type": "stream",
     "text": [
      "Progression: 410/510 (80.4%) - Insérés: 304, Doublons: 0\n"
     ]
    },
    {
     "name": "stderr",
     "output_type": "stream",
     "text": [
      "2025-07-23 19:52:39,940 - INFO - Téléchargement de l'article : https://www.euronews.com/video/2025/07/22/latest-news-bulletin-july-22nd-evening\n",
      "2025-07-23 19:52:40,507 - WARNING - Article trop court ou vide : https://www.euronews.com/video/2025/07/22/latest-news-bulletin-july-22nd-evening\n",
      "2025-07-23 19:52:40,510 - INFO - Téléchargement de l'article : https://www.euronews.com/2025/07/22/afp-journalists-at-risk-of-starving-to-death-in-gaza-without-intervention-news-agency-says\n",
      "2025-07-23 19:52:41,124 - INFO - Téléchargement de l'article : https://www.euronews.com/video/2025/07/22/displaced-gazans-live-in-tents-at-bombed-stadium-in-gaza-city\n",
      "2025-07-23 19:52:41,691 - WARNING - Article trop court ou vide : https://www.euronews.com/video/2025/07/22/displaced-gazans-live-in-tents-at-bombed-stadium-in-gaza-city\n",
      "2025-07-23 19:52:41,695 - INFO - Téléchargement de l'article : https://www.euronews.com/video/2025/07/22/giant-trolls-made-from-trash-warn-against-environmental-destruction\n",
      "2025-07-23 19:52:42,716 - WARNING - Article trop court ou vide : https://www.euronews.com/video/2025/07/22/giant-trolls-made-from-trash-warn-against-environmental-destruction\n",
      "2025-07-23 19:52:42,718 - INFO - Téléchargement de l'article : https://www.euronews.com/2025/07/22/lithuania-blames-russia-for-large-rise-in-gps-jamming-incidents\n",
      "2025-07-23 19:52:43,253 - INFO - Téléchargement de l'article : https://www.euronews.com/2025/07/22/donald-trump-warns-that-us-could-strike-irans-nuclear-sites-again-if-necessary\n",
      "2025-07-23 19:52:43,850 - INFO - Téléchargement de l'article : https://www.euronews.com/2025/07/22/cyprus-heatwave-alert-temperatures-forecast-to-soar-to-41c-amid-extreme-weather-warning\n",
      "2025-07-23 19:52:44,469 - INFO - Téléchargement de l'article : https://www.euronews.com/video/2025/07/22/dead-humpback-whale-washes-ashore-in-rio-de-janeiro\n",
      "2025-07-23 19:52:45,057 - WARNING - Article trop court ou vide : https://www.euronews.com/video/2025/07/22/dead-humpback-whale-washes-ashore-in-rio-de-janeiro\n",
      "2025-07-23 19:52:45,060 - INFO - Téléchargement de l'article : https://www.euronews.com/video/2025/07/22/latest-news-bulletin-july-22nd-midday\n",
      "2025-07-23 19:52:45,665 - WARNING - Article trop court ou vide : https://www.euronews.com/video/2025/07/22/latest-news-bulletin-july-22nd-midday\n",
      "2025-07-23 19:52:45,669 - INFO - Téléchargement de l'article : https://www.euronews.com/2025/07/22/more-than-100-women-freed-after-spanish-police-dismantle-human-trafficking-ring\n",
      "2025-07-23 19:52:46,345 - INFO - Téléchargement de l'article : https://www.euronews.com/video/2025/07/22/tourists-watch-cooling-lava-as-icelands-volcanic-activity-slows\n",
      "2025-07-23 19:52:46,933 - WARNING - Article trop court ou vide : https://www.euronews.com/video/2025/07/22/tourists-watch-cooling-lava-as-icelands-volcanic-activity-slows\n",
      "2025-07-23 19:52:46,937 - INFO - Téléchargement de l'article : https://www.euronews.com/2025/07/22/stranded-uk-f-35-fighter-jet-leaves-india-after-triggering-barrage-of-memes\n",
      "2025-07-23 19:52:47,564 - INFO - Téléchargement de l'article : https://www.euronews.com/video/2025/07/22/japan-steps-up-bear-safety-measures-after-recent-attacks\n",
      "2025-07-23 19:52:48,093 - WARNING - Article trop court ou vide : https://www.euronews.com/video/2025/07/22/japan-steps-up-bear-safety-measures-after-recent-attacks\n",
      "2025-07-23 19:52:48,096 - INFO - Téléchargement de l'article : https://www.euronews.com/2025/07/22/germanys-interior-minister-backs-polish-border-measures-during-visit\n",
      "2025-07-23 19:52:48,716 - INFO - Téléchargement de l'article : https://www.euronews.com/video/2025/07/22/latest-news-bulletin-july-22nd-morning\n",
      "2025-07-23 19:52:49,340 - WARNING - Article trop court ou vide : https://www.euronews.com/video/2025/07/22/latest-news-bulletin-july-22nd-morning\n",
      "2025-07-23 19:52:49,345 - INFO - Téléchargement de l'article : https://www.euronews.com/2025/07/22/judge-gives-ex-officer-nearly-3-years-in-breonna-taylor-raid-rebuffs-doj-call-for-no-priso\n",
      "2025-07-23 19:52:49,943 - INFO - Téléchargement de l'article : https://www.euronews.com/2025/07/21/un-concerned-by-talibans-arrest-of-afghan-women-and-girls-for-dress-code-violations\n",
      "2025-07-23 19:52:50,537 - INFO - Téléchargement de l'article : https://www.euronews.com/2025/07/21/no-signs-of-beating-on-body-of-hungarian-man-who-died-in-transcarpathia-hospital-nurse-say\n",
      "2025-07-23 19:52:51,140 - INFO - Téléchargement de l'article : https://www.euronews.com/video/2025/07/21/latest-news-bulletin-july-21st-evening\n",
      "2025-07-23 19:52:51,657 - WARNING - Article trop court ou vide : https://www.euronews.com/video/2025/07/21/latest-news-bulletin-july-21st-evening\n",
      "2025-07-23 19:52:51,661 - INFO - Téléchargement de l'article : https://www.euronews.com/2025/07/21/egypts-government-provides-free-train-tickets-so-sudanese-refugees-can-return-home\n",
      "2025-07-23 19:52:52,286 - INFO - Téléchargement de l'article : https://www.euronews.com/2025/07/21/israeli-military-launches-first-ground-operation-into-central-gaza-city-of-deir-al-balah\n",
      "2025-07-23 19:52:52,912 - INFO - Téléchargement de l'article : https://www.euronews.com/2025/07/21/syrian-forces-evacuate-bedouin-families-out-of-suwayda-as-shaky-ceasefire-holds\n",
      "2025-07-23 19:52:53,487 - INFO - Téléchargement de l'article : https://www.euronews.com/2025/07/21/iran-to-consult-with-russia-and-china-ahead-of-friday-nuclear-talks-with-european-nations\n",
      "2025-07-23 19:52:54,081 - INFO - Téléchargement de l'article : https://www.euronews.com/2025/07/21/far-right-japanese-first-party-sanseito-emerges-as-fourth-largest-opposition-force-in-parl\n",
      "2025-07-23 19:52:54,649 - INFO - Téléchargement de l'article : https://www.huffingtonpost.fr/international/article/la-cour-internationale-de-justice-rend-un-avis-inedit-sur-les-obligations-climatiques-des-pays_252921.html\n",
      "2025-07-23 19:52:55,202 - INFO - Téléchargement de l'article : https://www.huffingtonpost.fr/politique/article/un-depute-lfi-a-t-il-ete-entrave-en-voulant-visiter-la-prison-haute-securite-de-gerald-darmanin_252916.html\n",
      "2025-07-23 19:52:55,600 - INFO - Téléchargement de l'article : https://www.huffingtonpost.fr/culture/video/comme-dangerous-animals-ces-films-de-requins-qui-vous-couperont-l-envie-de-barboter-dans-la-mer_252709.html\n",
      "2025-07-23 19:52:56,118 - INFO - Téléchargement de l'article : https://www.huffingtonpost.fr/politique/article/emmanuel-macron-va-promulguer-la-loi-duplomb-malgre-la-petition-selon-annie-genevard_252920.html\n",
      "2025-07-23 19:52:56,545 - INFO - Téléchargement de l'article : https://www.huffingtonpost.fr/france/article/canicule-sante-publique-france-dresse-un-premier-bilan-sur-les-morts-en-exces-au-debut-de-l-ete_252919.html\n",
      "2025-07-23 19:52:57,164 - INFO - Téléchargement de l'article : https://www.huffingtonpost.fr/culture/video/le-nouveau-film-hunger-games-est-tourne-en-espagne-et-des-randonneurs-sont-tombes-sur-l-arene_252911.html\n"
     ]
    },
    {
     "name": "stdout",
     "output_type": "stream",
     "text": [
      "Progression: 440/510 (86.3%) - Insérés: 325, Doublons: 0\n"
     ]
    },
    {
     "name": "stderr",
     "output_type": "stream",
     "text": [
      "2025-07-23 19:52:57,587 - INFO - Téléchargement de l'article : https://www.huffingtonpost.fr/international/article/la-russie-lance-en-mer-sa-tempete-de-juillet-une-operation-militaire-d-envergure_252917.html\n",
      "2025-07-23 19:52:58,010 - INFO - Téléchargement de l'article : https://www.huffingtonpost.fr/france/article/meteo-france-place-14-departements-dont-ceux-de-l-ile-de-france-en-vigilance-orange-pluies-et-inondations_252918.html\n",
      "2025-07-23 19:52:58,418 - INFO - Téléchargement de l'article : https://www.huffingtonpost.fr/life/video/face-a-la-tendance-dangereuse-des-burn-lines-sur-les-reseaux-sociaux-les-dermatos-sonnent-l-alerte_252913.html\n",
      "2025-07-23 19:52:58,845 - INFO - Téléchargement de l'article : https://www.huffingtonpost.fr/international/video/en-ukraine-volodymyr-zelensky-fait-face-a-de-premieres-manifestations-depuis-le-debut-de-la-guerre_252909.html\n",
      "2025-07-23 19:52:59,347 - INFO - Téléchargement de l'article : https://www.huffingtonpost.fr/international/article/menacee-par-la-montee-des-oceans-quasiment-toute-la-population-des-tuvalu-se-prepare-a-partir_252915.html\n",
      "2025-07-23 19:52:59,773 - INFO - Téléchargement de l'article : https://www.huffingtonpost.fr/international/article/burger-king-ou-mcdo-l-interview-de-netanyahu-par-deux-influenceurs-pro-trump-s-est-retournee-contre-eux_252912.html\n",
      "2025-07-23 19:53:00,177 - INFO - Téléchargement de l'article : https://www.huffingtonpost.fr/tech-futurs/article/donald-trump-veut-gagner-la-course-a-l-ia-au-prix-encore-une-fois-de-l-environnement_252900.html\n",
      "2025-07-23 19:53:00,600 - INFO - Téléchargement de l'article : https://www.huffingtonpost.fr/culture/article/sarah-michelle-gellar-devrait-bien-reprendre-son-role-de-buffy-c-est-elle-qui-le-dit_252901.html\n",
      "2025-07-23 19:53:01,007 - INFO - Téléchargement de l'article : https://www.huffingtonpost.fr/france/article/france-travail-vise-par-une-cyberattaque-qui-concerne-potentiellement-340-000-demandeurs-d-emploi_252914.html\n",
      "2025-07-23 19:53:01,745 - INFO - Téléchargement de l'article : https://www.huffingtonpost.fr/culture/article/fka-twigs-et-shia-labeouf-ont-trouve-un-accord-en-amont-du-proces-pour-agression-sexuelle_252907.html\n"
     ]
    },
    {
     "name": "stdout",
     "output_type": "stream",
     "text": [
      "Progression: 450/510 (88.2%) - Insérés: 335, Doublons: 0\n"
     ]
    },
    {
     "name": "stderr",
     "output_type": "stream",
     "text": [
      "2025-07-23 19:53:02,267 - INFO - Téléchargement de l'article : https://www.huffingtonpost.fr/politique/article/trump-ou-tony-montana-jusqu-ou-ira-la-strategie-de-defense-de-rachida-dati_252896.html\n",
      "2025-07-23 19:53:02,649 - INFO - Téléchargement de l'article : https://www.huffingtonpost.fr/justice/article/rachida-dati-met-la-justice-en-cause-le-president-du-tribunal-de-paris-prend-position-comme-rarement_252908.html\n",
      "2025-07-23 19:53:03,091 - INFO - Téléchargement de l'article : https://www.huffingtonpost.fr/politique/article/a-l-extreme-droite-le-soutien-inconditionnel-a-israel-secoue-par-la-situation-a-gaza_252903.html\n",
      "2025-07-23 19:53:03,561 - INFO - Téléchargement de l'article : https://www.huffingtonpost.fr/politique/article/loi-duplomb-delphine-batho-denonce-la-degradation-de-sa-permanence-parlementaire-et-accuse-la-fnsea_252906.html\n",
      "2025-07-23 19:53:03,963 - INFO - Téléchargement de l'article : https://www.nytimes.com/2025/07/23/world/asia/unesco-china-us.html\n",
      "2025-07-23 19:53:04,593 - INFO - Téléchargement de l'article : https://www.nytimes.com/2025/07/23/world/europe/zelensky-protests-ukraine-corruption.html\n",
      "2025-07-23 19:53:05,190 - INFO - Téléchargement de l'article : https://www.nytimes.com/2025/07/23/world/middleeast/aid-groups-gaza-starvation.html\n",
      "2025-07-23 19:53:05,734 - INFO - Téléchargement de l'article : https://www.nytimes.com/2025/07/23/world/europe/trump-visit-scotland-golf-resorts.html\n",
      "2025-07-23 19:53:06,343 - INFO - Téléchargement de l'article : https://www.nytimes.com/2025/07/23/world/middleeast/iran-fires-sabotage.html\n",
      "2025-07-23 19:53:07,080 - INFO - Téléchargement de l'article : https://www.nytimes.com/2025/07/23/world/americas/venezuela-american-convicted-murder.html\n"
     ]
    },
    {
     "name": "stdout",
     "output_type": "stream",
     "text": [
      "Progression: 460/510 (90.2%) - Insérés: 345, Doublons: 0\n"
     ]
    },
    {
     "name": "stderr",
     "output_type": "stream",
     "text": [
      "2025-07-23 19:53:07,641 - INFO - Téléchargement de l'article : https://www.nytimes.com/2025/07/23/world/europe/louis-vuitton-netherlands-money-laundering.html\n",
      "2025-07-23 19:53:08,158 - INFO - Téléchargement de l'article : https://www.nytimes.com/2025/07/23/world/asia/chinese-hackers-microsoft-sharepoint.html\n",
      "2025-07-23 19:53:08,691 - INFO - Téléchargement de l'article : https://www.nytimes.com/2025/07/23/world/europe/uk-migrant-trafficking.html\n",
      "2025-07-23 19:53:09,341 - INFO - Téléchargement de l'article : https://www.nytimes.com/2025/07/22/world/middleeast/iran-nationalism-israel-us-attacks.html\n",
      "2025-07-23 19:53:09,905 - INFO - Téléchargement de l'article : https://www.nytimes.com/2025/07/22/world/middleeast/israel-gaza-deir-al-balah-who.html\n",
      "2025-07-23 19:53:10,460 - INFO - Téléchargement de l'article : https://www.nytimes.com/2025/07/22/world/asia/bangladesh-plane-crash-school-children.html\n",
      "2025-07-23 19:53:11,049 - INFO - Téléchargement de l'article : https://www.nytimes.com/2025/07/23/world/europe/russia-ukraine-peace-talks.html\n",
      "2025-07-23 19:53:11,622 - INFO - Téléchargement de l'article : https://www.nytimes.com/2025/07/22/world/africa/congo-gold-mine-collapse.html\n",
      "2025-07-23 19:53:12,571 - INFO - Téléchargement de l'article : https://www.nytimes.com/2025/07/23/world/asia/air-india-crash-victims-uk-modi-visit.html\n",
      "2025-07-23 19:53:13,234 - INFO - Téléchargement de l'article : https://www.nytimes.com/2025/07/23/business/economy/trump-tariffs-japan.html\n"
     ]
    },
    {
     "name": "stdout",
     "output_type": "stream",
     "text": [
      "Progression: 470/510 (92.2%) - Insérés: 355, Doublons: 0\n"
     ]
    },
    {
     "name": "stderr",
     "output_type": "stream",
     "text": [
      "2025-07-23 19:53:13,753 - INFO - Téléchargement de l'article : https://www.nytimes.com/2025/07/23/climate/icj-hague-climate-change.html\n",
      "2025-07-23 19:53:14,328 - INFO - Téléchargement de l'article : https://www.nytimes.com/2025/07/23/arts/music/ozzy-osbourne-wildest-moments.html\n",
      "2025-07-23 19:53:14,880 - INFO - Téléchargement de l'article : https://www.nytimes.com/2025/07/23/science/archaeology-feathers-dinosaurs-mirasaura.html\n",
      "2025-07-23 19:53:15,478 - INFO - Téléchargement de l'article : https://www.nytimes.com/2025/07/23/science/fungus-spun-atlas-mychorrhizal.html\n",
      "2025-07-23 19:53:16,090 - INFO - Téléchargement de l'article : https://www.nytimes.com/2025/07/23/world/unesco-trump-us-withdrawal.html\n",
      "2025-07-23 19:53:16,814 - INFO - Téléchargement de l'article : https://www.nytimes.com/2025/07/23/world/middleeast/a-long-overdue-reporting-trip-through-syria.html\n",
      "2025-07-23 19:53:17,350 - INFO - Téléchargement de l'article : https://www.nytimes.com/2025/07/23/world/australia/virgin-airlines-plane-battery-fire.html\n",
      "2025-07-23 19:53:17,816 - INFO - Téléchargement de l'article : https://www.nytimes.com/2025/07/23/briefing/wednesday-briefing-israel-expands-gaza-offensive.html\n",
      "2025-07-23 19:53:19,095 - INFO - Téléchargement de l'article : https://www.nytimes.com/2025/07/22/climate/new-mexico-navajo-power.html\n",
      "2025-07-23 19:53:19,822 - INFO - Téléchargement de l'article : https://www.nytimes.com/2025/07/22/climate/montana-grizzly-bears-guard-dogs.html\n"
     ]
    },
    {
     "name": "stdout",
     "output_type": "stream",
     "text": [
      "Progression: 480/510 (94.1%) - Insérés: 365, Doublons: 0\n"
     ]
    },
    {
     "name": "stderr",
     "output_type": "stream",
     "text": [
      "2025-07-23 19:53:20,546 - INFO - Téléchargement de l'article : https://www.nytimes.com/2025/07/22/climate/north-carolina-peat-restoration.html\n",
      "2025-07-23 19:53:21,156 - INFO - Téléchargement de l'article : https://www.nytimes.com/2025/07/22/climate/pennsylvania-pittsburgh-light-pollution.html\n",
      "2025-07-23 19:53:21,665 - INFO - Téléchargement de l'article : https://www.nytimes.com/article/rip-current-survival-escape-tips.html\n",
      "2025-07-23 19:53:23,225 - INFO - Téléchargement de l'article : https://www.nytimes.com/2025/07/22/travel/visa-integrity-fee-trump-big-beautiful-bill.html\n",
      "2025-07-23 19:53:23,706 - INFO - Téléchargement de l'article : https://www.nytimes.com/2025/07/22/world/canada/carney-trade-deal-trump.html\n",
      "2025-07-23 19:53:24,311 - INFO - Téléchargement de l'article : https://www.nytimes.com/2025/07/22/briefing/israel-gaza-philippines-trade-us-ozzy-osbourne.html\n",
      "2025-07-23 19:53:25,003 - INFO - Téléchargement de l'article : https://www.nytimes.com/2025/07/22/world/middleeast/syria-military-killings-human-rights.html\n",
      "2025-07-23 19:53:25,539 - INFO - Téléchargement de l'article : https://www.nytimes.com/2025/07/22/world/europe/zelensky-protests-corruption.html\n",
      "2025-07-23 19:53:26,072 - INFO - Téléchargement de l'article : https://www.nytimes.com/2025/07/22/us/politics/trump-indonesia-trade-deal.html\n",
      "2025-07-23 19:53:26,881 - INFO - Téléchargement de l'article : https://www.nytimes.com/2025/07/22/climate/fema-urban-search-rescue-chief-resigns.html\n"
     ]
    },
    {
     "name": "stdout",
     "output_type": "stream",
     "text": [
      "Progression: 490/510 (96.1%) - Insérés: 375, Doublons: 0\n"
     ]
    },
    {
     "name": "stderr",
     "output_type": "stream",
     "text": [
      "2025-07-23 19:53:27,401 - INFO - Téléchargement de l'article : https://www.nytimes.com/2025/07/22/world/europe/russia-ukraine-talks.html\n",
      "2025-07-23 19:53:27,906 - INFO - Téléchargement de l'article : https://www.nytimes.com/2025/07/22/climate/antonio-guterres-energy-transition-speech-economics.html\n",
      "2025-07-23 19:53:28,523 - INFO - Téléchargement de l'article : https://www.nytimes.com/2025/07/22/world/europe/air-india-crash-report-boeing.html\n",
      "2025-07-23 19:53:29,016 - INFO - Téléchargement de l'article : https://www.nytimes.com/2025/07/22/world/europe/zelensky-ukraine-corruption.html\n",
      "2025-07-23 19:53:29,536 - INFO - Téléchargement de l'article : https://www.nytimes.com/2025/07/22/world/europe/us-withdraw-unesco.html\n",
      "2025-07-23 19:53:30,145 - INFO - Téléchargement de l'article : https://www.nytimes.com/2025/07/22/world/asia/india-uk-f35-jet-kerala-airport.html\n",
      "2025-07-23 19:53:30,659 - INFO - Téléchargement de l'article : https://www.nytimes.com/2025/07/22/world/europe/austria-stocker-military-spending.html\n",
      "2025-07-23 19:53:31,534 - INFO - Téléchargement de l'article : https://www.nytimes.com/2025/07/22/world/europe/fiona-hill-trump-russia-uk-defense.html\n",
      "2025-07-23 19:53:31,981 - INFO - Téléchargement de l'article : https://www.nytimes.com/2025/07/22/us/politics/trump-trade-philippines-marcos.html\n",
      "2025-07-23 19:53:32,672 - INFO - Téléchargement de l'article : https://www.nytimes.com/2025/07/22/briefing/bangladesh-plane-crash-gaza-israel-hamas-ukraine-russia.html\n"
     ]
    },
    {
     "name": "stdout",
     "output_type": "stream",
     "text": [
      "Progression: 500/510 (98.0%) - Insérés: 385, Doublons: 0\n"
     ]
    },
    {
     "name": "stderr",
     "output_type": "stream",
     "text": [
      "2025-07-23 19:53:33,240 - INFO - Téléchargement de l'article : https://www.nytimes.com/2025/07/22/world/europe/italy-mother-child-dead-police.html\n",
      "2025-07-23 19:53:33,866 - INFO - Téléchargement de l'article : https://www.nytimes.com/2025/07/22/world/asia/bed-sharing-parents-children-sleep-asia.html\n",
      "2025-07-23 19:53:34,457 - INFO - Téléchargement de l'article : https://www.nytimes.com/2025/07/21/briefing/bangladesh-plane-crash-gaza-israel-hamas-ukraine-russia.html\n",
      "2025-07-23 19:53:35,030 - INFO - Téléchargement de l'article : https://www.nytimes.com/2025/07/21/climate/extreme-fire-weather-forests.html\n",
      "2025-07-23 19:53:35,534 - INFO - Téléchargement de l'article : https://www.nytimes.com/2025/07/21/us/politics/china-exit-ban-us-government-employee.html\n",
      "2025-07-23 19:53:36,056 - INFO - Téléchargement de l'article : https://www.nytimes.com/2025/07/21/climate/metals-company-seabed-mining-trump.html\n",
      "2025-07-23 19:53:36,707 - INFO - Téléchargement de l'article : https://www.nytimes.com/2025/07/21/world/asia/japan-election-analysis.html\n",
      "2025-07-23 19:53:37,666 - INFO - Téléchargement de l'article : https://www.nytimes.com/2025/07/21/world/middleeast/syria-clashes-druse-bedouin-evacuations.html\n",
      "2025-07-23 19:53:38,476 - INFO - Téléchargement de l'article : https://www.nytimes.com/2025/07/21/world/asia/jeju-air-crash-engine-report.html\n",
      "2025-07-23 19:53:39,289 - INFO - Traitement terminé: 395 articles insérés\n"
     ]
    },
    {
     "name": "stdout",
     "output_type": "stream",
     "text": [
      "Progression: 510/510 (100.0%) - Insérés: 395, Doublons: 0\n",
      "\n",
      "Résumé du traitement:\n",
      "   • Articles traités: 395/510\n",
      "   • Articles insérés: 395\n",
      "   • Doublons détectés: 0\n",
      "   • Erreurs: 0\n",
      "   • Temps total: 276.16s\n",
      "   • Taux de succès: 77.5%\n"
     ]
    }
   ],
   "source": [
    "# Traitement optimisé des articles avec métriques détaillées\n",
    "processed = []\n",
    "processing_start = time.time()\n",
    "\n",
    "if articles:\n",
    "    logger.info(f\"Début du traitement de {len(articles)} articles...\")\n",
    "    \n",
    "    for i, article in enumerate(articles, 1):\n",
    "        try:\n",
    "            # Extraction du texte avec timeout\n",
    "            start_extract = time.time()\n",
    "            article[\"text\"] = parser.extract_text(article[\"url\"])\n",
    "            extract_time = time.time() - start_extract\n",
    "            \n",
    "            if not article[\"text\"] or len(article[\"text\"]) < 100:\n",
    "                logger.debug(f\"Article {i}: texte trop court ou vide ({article.get('url', 'URL inconnue')})\")\n",
    "                continue\n",
    "            \n",
    "            # Tentative d'insertion en base\n",
    "            try:\n",
    "                db.create_article(article)\n",
    "                metrics['total_inserted'] += 1\n",
    "                processed.append(article)\n",
    "                logger.debug(f\"Article {i}: inséré avec succès (extraction: {extract_time:.2f}s)\")\n",
    "                \n",
    "            except Exception as db_error:\n",
    "                if \"UNIQUE constraint failed\" in str(db_error) or \"duplicate key\" in str(db_error):\n",
    "                    metrics['total_duplicates'] += 1\n",
    "                    logger.debug(f\"Article {i}: doublons détecté\")\n",
    "                else:\n",
    "                    error_msg = f\"Insertion article {i}: {str(db_error)}\"\n",
    "                    metrics['processing_errors'].append(error_msg)\n",
    "                    logger.warning(error_msg)\n",
    "            \n",
    "            metrics['total_processed'] += 1\n",
    "            \n",
    "            # Pause adaptative pour éviter la surcharge\n",
    "            time.sleep(0.1 if i % 10 != 0 else 0.3)\n",
    "            \n",
    "            # Progress indicator\n",
    "            if i % 10 == 0 or i == len(articles):\n",
    "                progress = (i / len(articles)) * 100\n",
    "                print(f\"Progression: {i}/{len(articles)} ({progress:.1f}%) - \"\n",
    "                      f\"Insérés: {metrics['total_inserted']}, \"\n",
    "                      f\"Doublons: {metrics['total_duplicates']}\")\n",
    "                \n",
    "        except Exception as e:\n",
    "            error_msg = f\"Erreur traitement article {i}: {str(e)}\"\n",
    "            metrics['processing_errors'].append(error_msg)\n",
    "            logger.error(error_msg)\n",
    "            continue\n",
    "\n",
    "processing_time = time.time() - processing_start\n",
    "\n",
    "# Résumé final\n",
    "print(f\"\\nRésumé du traitement:\")\n",
    "print(f\"   • Articles traités: {metrics['total_processed']}/{len(articles)}\")\n",
    "print(f\"   • Articles insérés: {metrics['total_inserted']}\")\n",
    "print(f\"   • Doublons détectés: {metrics['total_duplicates']}\")\n",
    "print(f\"   • Erreurs: {len(metrics['processing_errors'])}\")\n",
    "print(f\"   • Temps total: {processing_time:.2f}s\")\n",
    "print(f\"   • Taux de succès: {(metrics['total_inserted']/len(articles)*100):.1f}%\")\n",
    "\n",
    "if metrics['processing_errors']:\n",
    "    print(f\"\\nDernières erreurs:\")\n",
    "    for error in metrics['processing_errors'][-3:]:  # Affiche les 3 dernières erreurs\n",
    "        print(f\"   • {error}\")\n",
    "        \n",
    "logger.info(f\"Traitement terminé: {metrics['total_inserted']} articles insérés\")"
   ]
  },
  {
   "cell_type": "markdown",
   "id": "q9mq23q2xjh",
   "metadata": {},
   "source": [
    "## 3. Traitement et stockage\n",
    "\n",
    "Extraction du texte complet et insertion en base de données avec gestion d'erreurs avancée."
   ]
  },
  {
   "cell_type": "code",
   "execution_count": 16,
   "id": "b78c0afa",
   "metadata": {},
   "outputs": [
    {
     "name": "stdout",
     "output_type": "stream",
     "text": [
      "Statistiques du dataset :\n",
      "   • Nombre d'articles : 395\n",
      "   • Période couverte : inconnue (aucune date valide)\n",
      "   • Sources uniques : 8\n",
      "   • Articles avec date : 0\n",
      "\n",
      " Métriques de contenu :\n",
      "   • Longueur moyenne titre : 84 caractères\n",
      "   • Longueur moyenne texte : 3413 caractères\n",
      "   • Temps de lecture moyen : 2.2 minutes\n",
      "   • Articles > 1000 caractères : 342\n",
      "\n",
      "Aperçu des articles :\n",
      "                                                                                                                                                    title                              source published  text_length  reading_time\n",
      "0                                 En direct, Gaza : « Ce cauchemar aux proportions historiques doit cesser immédiatement », déclare un dirigeant de l’ONU  https://www.lemonde.fr/rss/une.xml       NaT         2365           1.6\n",
      "1  La CIJ estime que la « violation » des obligations climatiques constitue « un fait internationalement illicite engageant la responsabilité » des Etats  https://www.lemonde.fr/rss/une.xml       NaT         6628           4.3\n",
      "2                                                                                                   L’emploi des seniors atteint un niveau record en 2024  https://www.lemonde.fr/rss/une.xml       NaT         1592           1.0\n"
     ]
    }
   ],
   "source": [
    "# Création et enrichissement du DataFrame\n",
    "if processed:\n",
    "    df = pd.DataFrame(processed)\n",
    "\n",
    "    # Nettoyage et enrichissement\n",
    "    df[\"published\"] = pd.to_datetime(df[\"published\"], errors='coerce')\n",
    "    df[\"title_length\"] = df[\"title\"].fillna(\"\").str.len()\n",
    "    df[\"text_length\"] = df[\"text\"].fillna(\"\").str.len()\n",
    "    df[\"summary_length\"] = df[\"summary\"].fillna(\"\").str.len()\n",
    "\n",
    "    # Extraction de features temporelles\n",
    "    df[\"published_date\"] = df[\"published\"].dt.date\n",
    "    df[\"published_hour\"] = df[\"published\"].dt.hour\n",
    "    df[\"published_weekday\"] = df[\"published\"].dt.day_name()\n",
    "    df[\"published_month\"] = df[\"published\"].dt.month\n",
    "\n",
    "    # Qualité du texte\n",
    "    df[\"words_count\"] = df[\"text\"].fillna(\"\").str.split().str.len()\n",
    "    df[\"reading_time\"] = (df[\"words_count\"] / 250).round(1)  # lecture estimée\n",
    "\n",
    "    # Statistiques robustes\n",
    "    print(\"Statistiques du dataset :\")\n",
    "    print(f\"   • Nombre d'articles : {len(df)}\")\n",
    "\n",
    "    # Gestion du cas où toutes les dates sont NaT\n",
    "    if df[\"published\"].notna().sum() > 0:\n",
    "        min_date = df[\"published\"].min().strftime(\"%Y-%m-%d\")\n",
    "        max_date = df[\"published\"].max().strftime(\"%Y-%m-%d\")\n",
    "        print(f\"   • Période couverte : {min_date} à {max_date}\")\n",
    "    else:\n",
    "        print(\"   • Période couverte : inconnue (aucune date valide)\")\n",
    "\n",
    "    print(f\"   • Sources uniques : {df['source'].nunique()}\")\n",
    "    print(f\"   • Articles avec date : {df['published'].notna().sum()}\")\n",
    "\n",
    "    print(\"\\n Métriques de contenu :\")\n",
    "    print(f\"   • Longueur moyenne titre : {df['title_length'].mean():.0f} caractères\")\n",
    "    print(f\"   • Longueur moyenne texte : {df['text_length'].mean():.0f} caractères\")\n",
    "    print(f\"   • Temps de lecture moyen : {df['reading_time'].mean():.1f} minutes\")\n",
    "    print(f\"   • Articles > 1000 caractères : {(df['text_length'] > 1000).sum()}\")\n",
    "\n",
    "    # Affichage\n",
    "    print(\"\\nAperçu des articles :\")\n",
    "    display_cols = ['title', 'source', 'published', 'text_length', 'reading_time']\n",
    "    print(df[display_cols].head(3).to_string())\n",
    "\n",
    "else:\n",
    "    print(\"Aucun article traité pour l'analyse.\")\n",
    "    df = pd.DataFrame()\n"
   ]
  },
  {
   "cell_type": "code",
   "execution_count": null,
   "id": "40a1ad74",
   "metadata": {},
   "outputs": [
    {
     "name": "stdout",
     "output_type": "stream",
     "text": [
      "Exemple de dates extraites :\n",
      "Series([], Name: published, dtype: datetime64[ns])\n",
      "Dates valides : 0 / 395\n"
     ]
    }
   ],
   "source": [
    "print(\"Exemple de dates extraites :\")\n",
    "print(df[\"published\"].dropna().head())\n",
    "print(\"Dates valides :\", df[\"published\"].notna().sum(), \"/\", len(df))\n"
   ]
  },
  {
   "cell_type": "markdown",
   "id": "m8oog2sztqi",
   "metadata": {},
   "source": [
    "## 4. Analyses statistiques de base\n",
    "\n",
    "Création du DataFrame et calcul des métriques de base pour l'analyse."
   ]
  },
  {
   "cell_type": "markdown",
   "id": "blazdaxpdkh",
   "metadata": {},
   "source": [
    "## 5. Analyses temporelles avancées\n",
    "\n",
    "Analyse des patterns de publication dans le temps."
   ]
  },
  {
   "cell_type": "code",
   "execution_count": 19,
   "id": "e22c43d0",
   "metadata": {},
   "outputs": [
    {
     "name": "stdout",
     "output_type": "stream",
     "text": [
      "title      0.0\n",
      "summary    0.0\n",
      "dtype: float64\n",
      "Articles vides (aucun titre/summary) : 0\n"
     ]
    }
   ],
   "source": [
    "print(df[['title', 'summary']].isna().mean())\n",
    "print(\"Articles vides (aucun titre/summary) :\", ((df[\"title\"].isna()) & (df[\"summary\"].isna())).sum())\n"
   ]
  },
  {
   "cell_type": "code",
   "execution_count": 20,
   "id": "65c63cd1",
   "metadata": {},
   "outputs": [
    {
     "data": {
      "image/png": "[encoded data removed]",
      "text/plain": [
       "<Figure size 1600x600 with 2 Axes>"
      ]
     },
     "metadata": {},
     "output_type": "display_data"
    },
    {
     "name": "stdout",
     "output_type": "stream",
     "text": [
      "Insights textuels:\n",
      "   • Mots uniques titres    : 2201\n",
      "   • Mots uniques résumés   : 3628\n",
      "   • Diversité lexicale titres : 0.639\n",
      "\n",
      "Top 5 titres :\n",
      "   • trump : 29\n",
      "   • gaza : 26\n",
      "   • contre : 24\n",
      "   • qui : 24\n",
      "   • ukraine : 23\n",
      "\n",
      "Top 5 résumés :\n",
      "   • qui : 67\n",
      "   • été : 31\n",
      "   • juillet : 30\n",
      "   • cette : 29\n",
      "   • contre : 28\n",
      "\n",
      "Diversité des sources :\n",
      "   • Source principale : https://www.nouvelobs.com/rss.xml (131 articles)\n",
      "   • Répartition       : {'https://www.nouvelobs.com/rss.xml': 33.2, 'https://www.lexpress.fr/rss/actualite.xml': 25.1, 'https://rss.nytimes.com/services/xml/rss/nyt/World.xml': 13.9, 'https://www.euronews.com/rss?level=theme&name=news': 8.1, 'https://www.rfi.fr/fr/rss': 6.1, 'https://www.huffingtonpost.fr/feeds/index.xml': 5.1, 'https://www.lemonde.fr/rss/une.xml': 4.6, 'https://www.france24.com/fr/rss': 4.1}\n"
     ]
    }
   ],
   "source": [
    "import re\n",
    "from collections import Counter\n",
    "import matplotlib.pyplot as plt\n",
    "\n",
    "# Analyse des mots-clés et thèmes\n",
    "if not df.empty and df[\"title\"].notna().sum() > 0 and df[\"summary\"].notna().sum() > 0:\n",
    "\n",
    "    # Préparation des données textuelles\n",
    "    all_titles = ' '.join(df['title'].fillna('').str.lower())\n",
    "    all_summaries = ' '.join(df['summary'].fillna('').str.lower())\n",
    "\n",
    "    # Stop words FR + EN (liste simple, à enrichir au besoin)\n",
    "    stop_words = {\n",
    "        'le', 'de', 'et', 'à', 'un', 'il', 'être', 'en', 'avoir', 'que', 'pour',\n",
    "        'dans', 'ce', 'son', 'une', 'sur', 'avec', 'ne', 'se', 'pas', 'tout', 'plus',\n",
    "        'par', 'grand', 'comme', 'mais', 'faire', 'du', 'sa', 'les',\n",
    "        'des', 'la', 'au', 'aux', 'nous', 'vous', 'ils', 'elle', 'sont', 'ont', 'est',\n",
    "        'the', 'and', 'or', 'but', 'in', 'on', 'at', 'to', 'for', 'of', 'with',\n",
    "        'by', 'an', 'a', 'is', 'are', 'was', 'were', 'be', 'been', 'have', 'has', 'had'\n",
    "    }\n",
    "\n",
    "    # Extraction des mots des titres\n",
    "    title_words = re.findall(r'\\b[a-zA-Zàâäéèêëïîôöùûüç]{3,}\\b', all_titles)\n",
    "    title_words = [word for word in title_words if word not in stop_words]\n",
    "    title_word_freq = Counter(title_words).most_common(20)\n",
    "\n",
    "    # Extraction des mots des résumés\n",
    "    summary_words = re.findall(r'\\b[a-zA-Zàâäéèêëïîôöùûüç]{3,}\\b', all_summaries)\n",
    "    summary_words = [word for word in summary_words if word not in stop_words]\n",
    "    summary_word_freq = Counter(summary_words).most_common(20)\n",
    "\n",
    "    # Visualisation\n",
    "    fig, axes = plt.subplots(1, 2, figsize=(16, 6))\n",
    "    fig.suptitle('Analyse des Mots-Clés', fontsize=16)\n",
    "\n",
    "    if title_word_freq:\n",
    "        words, counts = zip(*title_word_freq)\n",
    "        axes[0].barh(range(len(words)), counts, color='lightblue')\n",
    "        axes[0].set_yticks(range(len(words)))\n",
    "        axes[0].set_yticklabels(words)\n",
    "        axes[0].set_xlabel('Fréquence')\n",
    "        axes[0].set_title('Titres')\n",
    "        axes[0].invert_yaxis()\n",
    "\n",
    "    if summary_word_freq:\n",
    "        words, counts = zip(*summary_word_freq)\n",
    "        axes[1].barh(range(len(words)), counts, color='lightcoral')\n",
    "        axes[1].set_yticks(range(len(words)))\n",
    "        axes[1].set_yticklabels(words)\n",
    "        axes[1].set_xlabel('Fréquence')\n",
    "        axes[1].set_title('Résumés')\n",
    "        axes[1].invert_yaxis()\n",
    "\n",
    "    plt.tight_layout()\n",
    "    plt.show()\n",
    "\n",
    "    # Statistiques textuelles\n",
    "    print(\"Insights textuels:\")\n",
    "    print(f\"   • Mots uniques titres    : {len(set(title_words))}\")\n",
    "    print(f\"   • Mots uniques résumés   : {len(set(summary_words))}\")\n",
    "    if len(title_words) > 0:\n",
    "        print(f\"   • Diversité lexicale titres : {len(set(title_words)) / len(title_words):.3f}\")\n",
    "    else:\n",
    "        print(\"   • Diversité lexicale titres : N/A\")\n",
    "\n",
    "    # Top mots\n",
    "    print(\"\\nTop 5 titres :\")\n",
    "    for word, count in title_word_freq[:5]:\n",
    "        print(f\"   • {word} : {count}\")\n",
    "\n",
    "    print(\"\\nTop 5 résumés :\")\n",
    "    for word, count in summary_word_freq[:5]:\n",
    "        print(f\"   • {word} : {count}\")\n",
    "\n",
    "    # Sources\n",
    "    source_counts = df['source'].value_counts()\n",
    "    if not source_counts.empty:\n",
    "        print(\"\\nDiversité des sources :\")\n",
    "        print(f\"   • Source principale : {source_counts.index[0]} ({source_counts.iloc[0]} articles)\")\n",
    "        print(f\"   • Répartition       : {(source_counts / len(df) * 100).round(1).to_dict()}\")\n",
    "\n",
    "else:\n",
    "    print(\"Pas de données suffisantes pour l'analyse textuelle.\")\n"
   ]
  },
  {
   "cell_type": "markdown",
   "id": "ipobig7g9i",
   "metadata": {},
   "source": [
    "## 6. Analyse des mots-clés et contenus\n",
    "\n",
    "Analyse textuelle pour identifier les thèmes et mots-clés dominants."
   ]
  },
  {
   "cell_type": "code",
   "execution_count": 23,
   "id": "78effd36",
   "metadata": {},
   "outputs": [
    {
     "data": {
      "application/vnd.plotly.v1+json": {
       "config": {
        "plotlyServerURL": "https://plot.ly"
       },
       "data": [
        {
         "customdata": [
          [
           "En direct, Gaza : « Ce cauchemar aux proportions historiques doit cesser immédiatement », déclare un dirigeant de l’ONU",
           392
          ],
          [
           "La CIJ estime que la « violation » des obligations climatiques constitue « un fait internationalement illicite engageant la responsabilité » des Etats",
           1074
          ],
          [
           "L’emploi des seniors atteint un niveau record en 2024",
           259
          ],
          [
           "Un sommet UE-Chine sous le signe de la discorde",
           235
          ],
          [
           "Des particules de dioxyde de titane, suspecté d’être cancérogène, retrouvées dans le lait y compris maternel",
           250
          ],
          [
           "Petrus, pas de château, mais un terroir miraculeux",
           171
          ],
          [
           "En direct, guerre en Ukraine : les pourparlers entre Russes et Ukrainiens ont débuté à Istanbul",
           379
          ],
          [
           "Le général Fabien Mandon remplace Thierry Burkhard comme chef d’état-major des armées françaises",
           342
          ],
          [
           "Affaire Joël Chenal : l’entraîneur suspendu provisoirement par la Fédération française de ski",
           461
          ],
          [
           "La mort de Jérôme Peignot, écrivain, homme de radio et historien",
           247
          ],
          [
           "Quatorze départements en vigilance orange aux pluies et inondations, mercredi et jeudi",
           285
          ],
          [
           "Kurdes tués à Paris : William Malet renvoyé aux assises pour assassinats racistes, mais pas terroristes",
           365
          ],
          [
           "A mi-mandat, la législature espagnole bloquée",
           206
          ],
          [
           "Le Relais reprend la collecte des vêtements de seconde main après l’annonce d’une revalorisation de la rétribution des opérateurs du tri",
           222
          ],
          [
           "Droits de douane : pourquoi le Japon se satisfait d’une taxe de 15 % avec les Etats-Unis",
           308
          ],
          [
           "L’Allemagne lève son veto à la livraison d’Eurofighter à la Turquie",
           241
          ],
          [
           "Prisma Media veut racheter les magazines « Ici Paris » et « France Dimanche »",
           429
          ],
          [
           "Tour de France 2025 : le résumé de la victoire au sprint de Jonathan Milan, à Valence lors de la 17ᵉ étape",
           751
          ]
         ],
         "hovertemplate": "Source RSS=https://www.lemonde.fr/rss/une.xml<br>Longueur du texte (caractères)=%{x}<br>Longueur du titre (caractères)=%{y}<br>reading_time=%{marker.size}<br>title=%{customdata[0]}<br>words_count=%{customdata[1]}<extra></extra>",
         "legendgroup": "https://www.lemonde.fr/rss/une.xml",
         "marker": {
          "color": "#636efa",
          "size": {
           "bdata": "mpmZmZmZ+T8zMzMzMzMRQAAAAAAAAPA/zczMzMzM7D8AAAAAAADwP2ZmZmZmZuY/AAAAAAAA+D9mZmZmZmb2P83MzMzMzPw/AAAAAAAA8D+amZmZmZnxPwAAAAAAAPg/mpmZmZmZ6T/NzMzMzMzsPzMzMzMzM/M/AAAAAAAA8D8zMzMzMzP7PwAAAAAAAAhA",
           "dtype": "f8"
          },
          "sizemode": "area",
          "sizeref": 0.028999999999999998,
          "symbol": "circle"
         },
         "mode": "markers",
         "name": "https://www.lemonde.fr/rss/une.xml",
         "orientation": "v",
         "showlegend": true,
         "type": "scatter",
         "x": {
          "bdata": "PQnkGTgGswWqBqoDCQkrCDMLygVTB9sIQAWFBUgHNwZiClkS",
          "dtype": "i2"
         },
         "xaxis": "x",
         "y": {
          "bdata": "dwCWADUALwBsADIAXwBgAF0AQABWAGcALQCIAFgAQwBNAGoA",
          "dtype": "i2"
         },
         "yaxis": "y"
        },
        {
         "customdata": [
          [
           "Deux soldats israéliens en vacances en Belgique rattrapés par une plainte pour crimes de guerre",
           1240
          ],
          [
           "Corruption en Ukraine : Volodymyr Zelensky sème le trouble",
           1438
          ],
          [
           "Négociations Ukraine - Russie : des positions irréconciliables ?",
           63
          ],
          [
           "L'Union Européenne demande des \"explications\" à Zelensky concernant la lutte anticorruption",
           50
          ],
          [
           "Que demandent les Russes et les Ukrainiens aux négociations à Istanbul ?",
           58
          ],
          [
           "Tour de France : Jonathan Milan remporte la 17e étape au sprint et préserve son maillot vert",
           279
          ],
          [
           "Climat : la CIJ ouvre la voie à une obligation de \"réparations\" pour les pays pollueurs",
           970
          ],
          [
           "RD Congo : le choléra se propage dans les quartiers défavorisés de Kinshasa",
           56
          ],
          [
           "Trump annonce un accord commercial \"énorme\" avec le Japon",
           77
          ],
          [
           "Guerre en Ukraine : troisième round de négociations avec la Russie en Turquie",
           79
          ],
          [
           "David contre Goliath : récit de l'avis très attendu de la CIJ sur le climat",
           47
          ],
          [
           "Procès pour corruption : les magistrats répliquent vigoureusement aux accusations de Rachida Dati",
           56
          ],
          [
           "Ukraine : une délégation russe en route pour la Turquie pour des pourparlers avec Kiev",
           79
          ],
          [
           "\"Famine de masse\" à Gaza : une centaine d'ONG tire la sonnette d'alarme",
           49
          ],
          [
           "Cybercriminalité : l'administrateur présumé d'un forum russophone arrêté en Ukraine",
           432
          ],
          [
           "France : le général Fabien Mandon nommé chef d’état-major des armées",
           669
          ]
         ],
         "hovertemplate": "Source RSS=https://www.france24.com/fr/rss<br>Longueur du texte (caractères)=%{x}<br>Longueur du titre (caractères)=%{y}<br>reading_time=%{marker.size}<br>title=%{customdata[0]}<br>words_count=%{customdata[1]}<extra></extra>",
         "legendgroup": "https://www.france24.com/fr/rss",
         "marker": {
          "color": "#EF553B",
          "size": {
           "bdata": "AAAAAAAAFEAzMzMzMzMXQDMzMzMzM9M/mpmZmZmZyT+amZmZmZnJP5qZmZmZmfE/MzMzMzMzD0CamZmZmZnJPzMzMzMzM9M/MzMzMzMz0z+amZmZmZnJP5qZmZmZmck/MzMzMzMz0z+amZmZmZnJPzMzMzMzM/s/mpmZmZmZBUA=",
           "dtype": "f8"
          },
          "sizemode": "area",
          "sizeref": 0.028999999999999998,
          "symbol": "circle"
         },
         "mode": "markers",
         "name": "https://www.france24.com/fr/rss",
         "orientation": "v",
         "showlegend": true,
         "type": "scatter",
         "x": {
          "bdata": "jR7cI7EBVwFxAawGUhhvAcsBEAI7AX4B+wE+AacLrRA=",
          "dtype": "i2"
         },
         "xaxis": "x",
         "y": {
          "bdata": "XzpAW0hcV0s5TUthVkdTRA==",
          "dtype": "i1"
         },
         "yaxis": "y"
        },
        {
         "customdata": [
          [
           "Ukraine: tollé après l’adoption d’une loi qui supprime l’indépendance des agences anticorruption",
           1139
          ],
          [
           "Un sommet UE-Chine dans un climat de tensions commerciales et géopolitiques",
           592
          ],
          [
           "Perquisition au siège de l'office anti-stupéfiants à Nanterre dans le cadre d'un trafic de cocaïne",
           355
          ],
          [
           "Tour de France 2025: l'Italien Jonathan Milan s’impose à Valence pour sa deuxième victoire d'étape",
           129
          ],
          [
           "Guerre commerciale: le secteur automobile nippon rassuré après l'accord avec les États-Unis",
           356
          ],
          [
           "Environnement: l'opération Sama-2 répertorie 92 cas de trafic d'espèces menacées en Afrique",
           324
          ],
          [
           "Mozambique: l'opposant Venancio Mondlane inculpé d'«incitation au terrorisme»",
           342
          ],
          [
           "Mali: les États-Unis réaffirment leur engagement dans les domaines sécuritaires et économiques",
           333
          ],
          [
           "Israël: les familles des otages inquiètes après l'offensive terrestre à Deir al-Balah, à Gaza",
           332
          ],
          [
           "RDC: le programme de désarmement au Nord-Kivu annonce reprendre ses activités",
           283
          ],
          [
           "Au Congo-Brazzaville, les habitants peinent avec une saison des pluies inhabituellement froide",
           289
          ],
          [
           "France: la justice ordonne un procès pour corruption contre Rachida Dati, la ministre attaque les magistrats",
           708
          ],
          [
           "Les chorégraphes tunisiens Selma et Sofiane Ouissi en un mot, un geste et un silence",
           186
          ],
          [
           "Avignon 2025: «Laaroussa Quartet», le corps libre des femmes potières en Tunisie",
           928
          ],
          [
           "Gaza: «71 000 enfants risquent de mourir de malnutrition aiguë», alerte l’Unicef",
           1053
          ],
          [
           "RDC: les Kinois veulent s'attaquer aux déchets plastiques qui inondent la capitale",
           425
          ],
          [
           "Le gouvernement français s'attaque aux troubles du sommeil et leur impact sur la santé",
           537
          ],
          [
           "Ouganda: le président Museveni promet de «nettoyer» son parti après des primaires violentes",
           428
          ],
          [
           "En Tunisie, la mémoire oubliée de la bataille de Bizerte",
           1181
          ],
          [
           "Au Canada, les incendies sont une catastrophe écologique et sociale",
           544
          ],
          [
           "MMA: Ciryl Gane affrontera Tom Aspinall en octobre pour la ceinture des poids lourds",
           185
          ],
          [
           "Sport: l'activité physique peut-elle aider à prévenir les calculs rénaux ?",
           68
          ],
          [
           "Le Nigeria révise son PIB à la hausse de 30% en 2024 après l'intégration de nouveaux secteurs",
           258
          ],
          [
           "La Guinée reprend le contrôle du transport de sa bauxite pour maximiser les revenus",
           334
          ]
         ],
         "hovertemplate": "Source RSS=https://www.rfi.fr/fr/rss<br>Longueur du texte (caractères)=%{x}<br>Longueur du titre (caractères)=%{y}<br>reading_time=%{marker.size}<br>title=%{customdata[0]}<br>words_count=%{customdata[1]}<extra></extra>",
         "legendgroup": "https://www.rfi.fr/fr/rss",
         "marker": {
          "color": "#00cc96",
          "size": {
           "bdata": "ZmZmZmZmEkAzMzMzMzMDQGZmZmZmZvY/AAAAAAAA4D9mZmZmZmb2P83MzMzMzPQ/ZmZmZmZm9j/NzMzMzMz0P83MzMzMzPQ/mpmZmZmZ8T8zMzMzMzPzP2ZmZmZmZgZAZmZmZmZm5j+amZmZmZkNQM3MzMzMzBBAMzMzMzMz+z/NzMzMzMwAQDMzMzMzM/s/zczMzMzMEkCamZmZmZkBQGZmZmZmZuY/MzMzMzMz0z8AAAAAAADwP83MzMzMzPQ/",
           "dtype": "f8"
          },
          "sizemode": "area",
          "sizeref": 0.028999999999999998,
          "symbol": "circle"
         },
         "mode": "markers",
         "name": "https://www.rfi.fr/fr/rss",
         "orientation": "v",
         "showlegend": true,
         "type": "scatter",
         "x": {
          "bdata": "AxxsDtII9gK3CDMI6QinCM4HCQf4BocRqAR1FoIZfArjDJEKyBt+DSoEwAFABv0H",
          "dtype": "i2"
         },
         "xaxis": "x",
         "y": {
          "bdata": "YEtiYltbTV5dTV5sVFBQUlZbOENUSl1T",
          "dtype": "i1"
         },
         "yaxis": "y"
        },
        {
         "customdata": [
          [
           "Loi Duplomb : \"L’instrumentalisation des écologistes radicaux coûte cher à la France\"",
           2306
          ],
          [
           "Ian Garner : \"Vladimir Poutine n’est pas le stratège machiavélique qu’il prétend être\"",
           1823
          ],
          [
           "Ukraine : la troublante offensive des autorités contre les institutions anticorruption",
           768
          ],
          [
           "Gaza : Israël nie être à l'origine d'une \"famine\" et accuse le Hamas",
           1212
          ],
          [
           "Les bonnes affaires de Donald Trump : jamais un président ne s’était autant enrichi à la Maison-Blanche",
           221
          ],
          [
           "Bien manger pour garder la forme : les astuces d’une experte de la nutrition",
           1123
          ],
          [
           "Incendies, explosions… L’Iran victime d’une campagne de sabotage israélienne ?",
           729
          ],
          [
           "Wegovy, Mounjaro... Contre l'obésité, le risque d'une médecine à deux vitesses ?",
           1599
          ],
          [
           "Bruno Retailleau contre Emmanuel Macron : gare au syndrome du vilain petit canard",
           732
          ],
          [
           "Le général Fabien Mandon nommé chef d’état-major des armées françaises",
           625
          ],
          [
           "Tensions avec l’Algérie : Bruno Retailleau durcit encore le ton",
           393
          ],
          [
           "Ukraine : le Kremlin s'attend à \"une discussion très compliquée\" lors des négociations à Istanbul",
           986
          ],
          [
           "Risque de famine à Gaza : la situation s’aggrave en l’absence d’un cessez-le-feu",
           415
          ],
          [
           "Loi Duplomb : ailleurs en Europe, ces pétitions qui ont fait bouger les choses",
           1386
          ],
          [
           "Empêtré dans l’affaire Epstein, Donald Trump lance une offensive contre Barack Obama",
           746
          ],
          [
           "François de Rugy sur la loi Duplomb : \"Cette pétition est le degré 0,1 du soulèvement populaire…\"",
           2613
          ],
          [
           "Ce succès très discret qui en dit long sur la France, par Anne Rosencher",
           509
          ],
          [
           "\"Le macronisme s’achèvera avec Emmanuel Macron\" : Bruno Retailleau provoque un nouveau tollé",
           949
          ],
          [
           "Droits de douane de Donald Trump : le Japon échappe à des surtaxes de 25 %",
           753
          ],
          [
           "Au Centre Pompidou, l’anarchie photographique de Wolfgang Tillmans",
           657
          ],
          [
           "Economie : en 1979, Margaret Thatcher et Deng Xiaoping bouleversent le système mondial",
           348
          ],
          [
           "L’offensive de LVMH dans les lunettes de luxe : du \"made in Italy\" à l’internalisation",
           1209
          ],
          [
           "2 septembre 2025 : le jour où le \"jusqu’au-boutisme\" de Vladimir Poutine sera testé",
           277
          ],
          [
           "Loi Duplomb, l’éclairage d’un chercheur de l’Inserm : \"C’est grâce à un vide scientifique que prospère la controverse\"",
           1548
          ],
          [
           "Les Etats-Unis de Donald Trump se retirent à nouveau de l’Unesco",
           760
          ],
          [
           "Droits de douane de Donald Trump : cette autre menace américaine qui plane sur la Chine",
           800
          ],
          [
           "Guerre en Ukraine : ce que l’on sait des nouveaux pourparlers prévus en Turquie ce mercredi",
           610
          ],
          [
           "Espagne : derrière la fièvre anti-immigrés, des relais extrémistes basés à l'étranger",
           859
          ],
          [
           "A quoi ressembleront les régimes de demain ? Les prévisions de la nutritionniste américaine Holly Nicastro",
           1520
          ],
          [
           "Affaire Renault-Nissan : Rachida Dati et Carlos Ghosn renvoyés en procès pour corruption",
           417
          ],
          [
           "La grogne monte à la Nasa contre les coupes budgétaires de Donald Trump",
           1251
          ],
          [
           "Face aux menaces dans la région, la Corée du Nord mise sur ses redoutables navires de guerre",
           519
          ],
          [
           "Gaza : l’ONU accuse Israël d'avoir tué plus de 1 000 personnes tentant d'obtenir de l'aide",
           1269
          ],
          [
           "Narcotrafic : 17 premiers détenus transférés vers une prison de haute sécurité",
           692
          ],
          [
           "Covid-19 et anxiété : cette nouvelle étude qui contredit les idées reçues",
           554
          ],
          [
           "Georges Ibrahim Abdallah ne doit pas sa libération à ses soutiens très politiques, par Jean-Marc Fedida",
           809
          ],
          [
           "Pourquoi prendre l’ascenseur au travail nous met-il autant mal à l’aise ?",
           745
          ],
          [
           "Avec ou sans loi Duplomb, l’agriculture française se meurt",
           282
          ],
          [
           "Recherches \"extrémistes\", traque aux VPN… En Russie, les internautes toujours plus surveillés",
           693
          ],
          [
           "Rachida Dati face à Michel Barnier : à Paris, le poison du soupçon avant la législative partielle",
           1198
          ],
          [
           "1979 : en France, la question européenne fracture les partis politiques",
           317
          ],
          [
           "En plein été, ces piscines municipales contraintes de fermer faute de maîtres-nageurs",
           1098
          ],
          [
           "RN, été 2024 : l’appartement secret où Marine Le Pen et Jordan Bardella ont imaginé leur gouvernement",
           856
          ],
          [
           "Des docks du Havre à Dubaï, l’ascension et la chute de \"Bibi\", l’un des plus gros narcotrafiquants français",
           1774
          ],
          [
           "Ukraine : la Russie juge qu’il faudra \"beaucoup de travail\" pour rapprocher les positions",
           958
          ],
          [
           "Accusations d’ingérence étrangère : le réseau X s’oppose à la justice française",
           693
          ],
          [
           "\"Depuis 1945, jamais les enfants n’ont autant souffert de la guerre\" : l’alerte de la présidente d’Unicef France",
           795
          ],
          [
           "Après le Madleen, le Handala : ce que l’on sait du nouveau navire en route pour Gaza",
           951
          ],
          [
           "Gaza : Israël étend ses opérations terrestres dans une nouvelle zone au centre du territoire",
           805
          ],
          [
           "Nucléaire iranien : le \"snapback\", cette arme que l’Europe menace d’utiliser contre Téhéran",
           717
          ],
          [
           "Budget européen : comment Ursula von der Leyen a réussi à mécontenter tout le monde",
           263
          ],
          [
           "Nouvelle-Calédonie : \"L’accord d’Emmanuel Macron et Manuel Valls est plus fragile que celui de Rocard\"",
           2072
          ],
          [
           "Rougeole : au Royaume-Uni, la désinformation sur les vaccins relancée par la mort d’un enfant",
           769
          ],
          [
           "Sommet Chine-UE : ces dossiers à l’origine des tensions entre Pékin et Bruxelles",
           782
          ],
          [
           "Budget 2026 : ces quatre malentendus que beaucoup ont pris soin de dissimuler, par Jean-François Copé",
           669
          ],
          [
           "Quel avenir pour la loi Duplomb ? Quatre questions après le succès inédit de la pétition contre le texte",
           1006
          ],
          [
           "La grande arnaque des livres de développement personnel à la plage, par Julia de Funès",
           640
          ],
          [
           "Vladimir Poutine et le sexe : l'histoire secrète d'une paranoïa au Kremlin",
           1530
          ],
          [
           "Ecoles abandonnées, hôtels particuliers désaffectés… La vérité sur la gestion immobilière de l’Etat",
           838
          ],
          [
           "Dette : ces hedge funds qui pourraient faire basculer la France dans la crise",
           993
          ],
          [
           "Iran : en 1979, la révolution qui va bouleverser le Moyen-Orient",
           405
          ],
          [
           "Gaza : la Défense civile fait état de 73 morts après des tirs israéliens sur une foule attendant de l'aide",
           612
          ],
          [
           "Etats-Unis : déclin du soutien à la politique migratoire de Donald Trump, après six mois au pouvoir",
           263
          ],
          [
           "Comment bien manger pour rester mince et en bonne santé ? Les conseils de la science",
           2893
          ],
          [
           "Syrie : Ahmed el-Charaa a reçu le rapport de la commission d'enquête sur les massacres d'alouites de mars dernier",
           2073
          ],
          [
           "Terres rares : face aux restrictions à l’exportation chinoise, les fabricants occidentaux cherchent des alternatives",
           554
          ],
          [
           "Les \"tracances\", nouveau luxe ou piège doré des cadres ?, par Caroline Diard",
           922
          ],
          [
           "Nucléaire iranien : nouvelles discussions cette semaine avec Téhéran, sous la menace du \"snapback\"",
           398
          ],
          [
           "Guerre contre Israël : l'Iran dit avoir remplacé ses systèmes antiaériens endommagés",
           384
          ],
          [
           "Japon : revers électoral projeté pour le Premier ministre Shigeru Ishiba",
           655
          ],
          [
           "Fin des contrats avec SpaceX ? L'impossible rupture entre Donald Trump et Elon Musk",
           498
          ],
          [
           "Guerre en Ukraine : Kiev propose à Moscou de nouveaux pourparlers",
           594
          ],
          [
           "Alexei Grinbaum (CEA) : \"Tout se passe comme si les IA étaient conscientes\"",
           2341
          ],
          [
           "Axe de la Résistance : malgré les revers, l'Iran cherche à réarmer ses alliés",
           466
          ],
          [
           "Six mois de Donald Trump à la Maison-Blanche : une croissance sous tension, une démocratie sous pression",
           1062
          ],
          [
           "Ben Chu (BBC) : \"Si les Etats-Unis se retirent de l’économie mondiale, les autres pourraient tenir bon\"",
           2873
          ],
          [
           "\"Handilab\" : le pari du business au service du handicap",
           893
          ],
          [
           "Ils multiplient les bébés pour sauver l'humanité : aux Etats-Unis, le grand retour des natalistes",
           1730
          ],
          [
           "La pétition d'une étudiante pourrait relancer le débat sur la controversée loi Duplomb",
           705
          ],
          [
           "Syrie : les desseins belliqueux d'Israël se heurtent aux ambitions diplomatiques de Donald Trump",
           688
          ],
          [
           "Le physicien Lydéric Bocquet (ENS) : \"Dans l'infiniment petit, les fluides se comportent étrangement...\"",
           2159
          ],
          [
           "L’Allemagne se veut chef de file d’une nouvelle politique d’immigration européenne",
           787
          ],
          [
           "La RDC et le M23 signent un accord de cessez-le-feu au Qatar",
           468
          ],
          [
           "\"On les envoie sur le front combattre les leurs\" : Marc Levy raconte son enquête sur les enfants d’Ukraine déportés en Russie",
           1341
          ],
          [
           "Taux d'emploi : les Français ne travaillent pas moins, mais ils sont moins à travailler",
           623
          ],
          [
           "Les festivals français vont-ils disparaître ? Cette crise silencieuse qui menace tout un modèle",
           1006
          ],
          [
           "Quand Chateaubriand et Musset écrivaient \"fashionables\" : ces anglicismes qui ne datent pas d’hier",
           345
          ],
          [
           "L'Année Cezanne à Aix-en-Provence : un \"rêve d'art\" au Jas de Bouffan",
           1134
          ],
          [
           "Bertrand Merveille : \"Notre épargne est progressivement placée sous influence américaine\"",
           690
          ],
          [
           "Entre la France et l'Algérie, soixante ans de guerres d'espionnage",
           358
          ],
          [
           "Affaire Epstein : Trump attaque en justice le Wall Street Journal et réclame des milliards",
           688
          ],
          [
           "De Mark Rutte au roi des Pays-Bas : l’université de Leyde, incubateur de décideurs européens",
           1448
          ],
          [
           "IA : entre Meta, Google et Microsoft, la chasse aux cerveaux vire à la foire d’empoigne",
           745
          ],
          [
           "Adel Bakawan : \"Pour Israël, la menace turque serait encore plus grande que celle de l’Iran\"",
           2047
          ],
          [
           "Transitions de genre : l’autorité de santé publie ses recommandations sur la prise en charge médicale",
           566
          ],
          [
           "Syrie : le cessez-le-feu déjà menacé par de nouveaux affrontements",
           779
          ],
          [
           "Gestion de l’Elysée sous Emmanuel Macron : la Cour des comptes salue des \"progrès\" mais…",
           452
          ],
          [
           "Espagne : comment une agression a été transformée en arme de désinformation anti-immigration",
           718
          ],
          [
           "Guerre en Ukraine : l’Union européenne adopte un 18e paquet de sanctions contre la Russie",
           461
          ]
         ],
         "hovertemplate": "Source RSS=https://www.lexpress.fr/rss/actualite.xml<br>Longueur du texte (caractères)=%{x}<br>Longueur du titre (caractères)=%{y}<br>reading_time=%{marker.size}<br>title=%{customdata[0]}<br>words_count=%{customdata[1]}<extra></extra>",
         "legendgroup": "https://www.lexpress.fr/rss/actualite.xml",
         "marker": {
          "color": "#ab63fa",
          "size": {
           "bdata": "ZmZmZmZmIkAzMzMzMzMdQM3MzMzMzAhAMzMzMzMzE0DNzMzMzMzsPwAAAAAAABJAMzMzMzMzB0CamZmZmZkZQDMzMzMzMwdAAAAAAAAABECamZmZmZn5PzMzMzMzMw9AMzMzMzMz+z8AAAAAAAAWQAAAAAAAAAhAAAAAAAAAJUAAAAAAAAAAQGZmZmZmZg5AAAAAAAAACEDNzMzMzMwEQGZmZmZmZvY/MzMzMzMzE0CamZmZmZnxP83MzMzMzBhAAAAAAAAACECamZmZmZkJQDMzMzMzMwNAMzMzMzMzC0BmZmZmZmYYQDMzMzMzM/s/AAAAAAAAFEDNzMzMzMwAQGZmZmZmZhRAZmZmZmZmBkCamZmZmZkBQJqZmZmZmQlAAAAAAAAACECamZmZmZnxP2ZmZmZmZgZAMzMzMzMzE0DNzMzMzMz0P5qZmZmZmRFAMzMzMzMzC0BmZmZmZmYcQGZmZmZmZg5AZmZmZmZmBkCamZmZmZkJQGZmZmZmZg5AmpmZmZmZCUAzMzMzMzMHQJqZmZmZmfE/mpmZmZmZIEDNzMzMzMwIQM3MzMzMzAhAmpmZmZmZBUAAAAAAAAAQQM3MzMzMzARAZmZmZmZmGEAzMzMzMzMLQAAAAAAAABBAmpmZmZmZ+T8zMzMzMzMDQJqZmZmZmfE/MzMzMzMzJ0CamZmZmZkgQJqZmZmZmQFAmpmZmZmZDUCamZmZmZn5PwAAAAAAAPg/zczMzMzMBEAAAAAAAAAAQDMzMzMzMwNAzczMzMzMIkBmZmZmZmb+P83MzMzMzBBAAAAAAAAAJ0DNzMzMzMwMQJqZmZmZmRtAZmZmZmZmBkBmZmZmZmYGQDMzMzMzMyFAzczMzMzMCEBmZmZmZmb+P5qZmZmZmRVAAAAAAAAABEAAAAAAAAAQQGZmZmZmZvY/AAAAAAAAEkBmZmZmZmYGQGZmZmZmZvY/ZmZmZmZmBkAzMzMzMzMXQAAAAAAAAAhAZmZmZmZmIEBmZmZmZmYCQM3MzMzMzAhAzczMzMzM/D8zMzMzMzMHQM3MzMzMzPw/",
           "dtype": "f8"
          },
          "sizemode": "area",
          "sizeref": 0.028999999999999998,
          "symbol": "circle"
         },
         "mode": "markers",
         "name": "https://www.lexpress.fr/rss/actualite.xml",
         "orientation": "v",
         "showlegend": true,
         "type": "scatter",
         "x": {
          "bdata": "dTnQK6ETNx41BQwbshJGKxYSmQ/WCV4Z7Aq3IrcSdj75CwUYExNUD2QILh6uBpUn/hPzE44PthV/KIwKgh99DDsfwRF8DuUTqhIKB8YRWB3eB6MaaRUmK/EX6BFlEy0XRhO7EocGvDN7E0YUZxAWGfAQlyVaFAwZqglbDkUG7kriMw0OcxgqCsQJHxFHDN4OezgRDHYbYke4Fvkq4BFOEXg1vxRCC58fYw5mGe4HvRv8ESgJBxHzI9gSCzFBDtsT4wq6Ef0K",
          "dtype": "i2"
         },
         "xaxis": "x",
         "y": {
          "bdata": "VVZWRGdMTlBRRj9hUE5UYUhcSkJWVlN2QFdbVWpYR1xaTklnSTpdYUdVZWtZT3BUXFtTZl1QZWhWSmNNQGpjVHF0TGJUSFNBS01oZzdhVmBoUjx9V19iRVlCWlxXXGVCWFxZ",
          "dtype": "i1"
         },
         "yaxis": "y"
        },
        {
         "customdata": [
          [
           "Avons-nous vraiment beaucoup de jours fériés en France ?",
           502
          ],
          [
           "« Réparations » pour les pays pollueurs, obligations climatiques… Le résumé des annonces de la Cour internationale de Justice",
           974
          ],
          [
           "Tentative d’assassinat d’un politique espagnol : un trafiquant français, soupçonné d’être un tueur à gages de l’Iran, sera jugé en Espagne",
           229
          ],
          [
           "Vingt-six ministres d’Emmanuel Macron mis en examen depuis 2017, comme le dit François Ruffin ? C’est inexact (mais toujours trop)",
           233
          ],
          [
           "Génocides : le monde en deuil permanent, le droit en faillite",
           872
          ],
          [
           "« Que Marianne était jolie » : quand Michel Delpech chante une certaine idée de la France… et de la Révolution",
           130
          ],
          [
           "« Moi, je suis fait pour les tempêtes » : Emmanuel Carrère a suivi Emmanuel Macron dans les coulisses du G7",
           188
          ],
          [
           "Les coulisses du G7 racontées par Emmanuel Carrère",
           126
          ],
          [
           "Pédocriminel arrêté de justesse près d’Orléans : « C’est vraiment monsieur Tout-le-Monde »",
           232
          ],
          [
           "Pourquoi mal travailler coûte plus cher que de ne pas travailler",
           669
          ],
          [
           "« Papa, t’étais où en Algérie ? » : le silence des appelés",
           483
          ],
          [
           "Loi Duplomb : les leçons d’un sursaut écolo",
           157
          ],
          [
           "Ozzy Osbourne est mort et l’enfer est en deuil",
           210
          ],
          [
           "Qui va vraiment payer le budget Bayrou ? Débat entre les économistes Anne-Sophie Alsif et Henri Sterdyniak",
           275
          ],
          [
           "« Contre l’hégémonie culturelle des droites dures, menons une bataille politique et budgétaire »",
           1131
          ],
          [
           "« Elle me parle de météo, de son chien, du linge qui sèche… Plus je vois ma belle-mère, plus elle m’insupporte »",
           328
          ],
          [
           "Eric, routier, est tombé fou amoureux de « la femme parfaite », une camgirl roumaine… qui était en fait un « brouteur » ivoirien",
           315
          ],
          [
           "« Une heure et demie de moins par nuit en 50 ans » : le gouvernement publie une feuille de route pour « un sommeil de qualité »",
           770
          ],
          [
           "Ozzy Osbourne, légende du heavy metal et chanteur de Black Sabbath, est mort",
           335
          ],
          [
           "MaPrimeRénov’ va rouvrir le 30 septembre pour les rénovations globales, mais avec des conditions d’accès resserrées",
           834
          ],
          [
           "Des PFAS détectés dans les protections féminines réutilisables, révèle une étude",
           486
          ],
          [
           "« Je pars parce que je veux vivre » : de plus en plus d’Israéliens quittent leur pays depuis le 7-Octobre",
           232
          ],
          [
           "Affaire Dati : Paris mérite un maire, pas un prévenu",
           748
          ],
          [
           "Rachida Dati et Carlos Ghosn renvoyés en procès pour corruption et trafic d’influence",
           497
          ],
          [
           "« Ce que ton regard promet » : la rencontre entre un lièvre et une écrivaine qui a émerveillé Angelina Jolie",
           316
          ],
          [
           "Socrate à la pizzeria : « Tu ne peux ni affirmer que la burratina est crémeuse, ni qu’elle ne l’est pas… »",
           169
          ],
          [
           "La loi Duplomb, en réautorisant l’acétamipride, fait peser trois risques majeurs sur la biodiversité, l’eau et la santé humaine : les voici",
           126
          ],
          [
           "La France demande l’accès à Gaza pour la presse, « pour montrer ce qu’il s’y passe »",
           512
          ],
          [
           "Pétition contre la loi Duplomb : face à une mobilisation citoyenne inédite, le camp présidentiel marche sur des œufs",
           797
          ],
          [
           "Musicien et cycliste, Pascal Gabriel a mis le mont Ventoux en musique",
           223
          ],
          [
           "De Pulitzer à Musk, la démocratie a toujours été sous influence de la désinformation",
           731
          ],
          [
           "« Mon amour, j’ai un souci ! Il me faut de l’argent ! » : comment Véronique, 59 ans, a été victime d’arnaque aux sentiments",
           285
          ],
          [
           "Trump et l’affaire Epstein, ou l’histoire de l’arroseur arrosé",
           221
          ],
          [
           "Guerre en Ukraine : Kiev et Moscou se retrouveront mercredi en Turquie pour des pourparlers",
           886
          ],
          [
           "Guerre à Gaza : Israël étend ses opérations, 25 pays appellent à mettre fin « immédiatement » au conflit",
           826
          ],
          [
           "Pétition contre la loi Duplomb : les 4 raisons d’un succès inédit",
           371
          ],
          [
           "Libération de Georges Abdallah : le parquet général forme un pourvoi en cassation",
           427
          ],
          [
           "« Renard et Lapine sauvent la forêt » : un cartoon écolo, politique et inventif",
           73
          ],
          [
           "Nous, malades du rein, prions François Bayrou de bien vouloir cesser de nous faire les poches",
           1042
          ],
          [
           "Le Bloc-notes de Jérôme Garcin : les Schneider, père et fille",
           118
          ],
          [
           "« Des trains pas comme les autres - De Chicago aux Rocheuses » : la vie du rail",
           469
          ],
          [
           "Près d’1,5 million de signatures contre la loi Duplomb : face au naufrage des politiques, le rebond citoyen",
           102
          ],
          [
           "Nouvelle audition, déclarations… le point sur les derniers développements dans l’affaire Jubillar",
           893
          ],
          [
           "Emmanuel Macron, Conseil constitutionnel et RIP : les recours contre la loi Duplomb au-delà du débat à l’Assemblée",
           298
          ],
          [
           "« En Europe, ceux qui cherchent à surfer sur la vague trumpiste seront sanctionnés dans les urnes »",
           588
          ],
          [
           "Pétition contre la loi Duplomb : on a épluché les 386 autres textes soumis à signatures actuellement en ligne sur le site de l’Assemblée nationale",
           1099
          ],
          [
           "« La Ronde de nuit », par Bora Chung : karma, fais-moi peur",
           212
          ],
          [
           "Appendice, dents de sagesse… Pourquoi certaines parties de notre corps sont-elles inutiles ?",
           211
          ],
          [
           "« On culpabilise le patient » : France Assos Santé dénonce le plan d’économies prévu par François Bayrou",
           239
          ],
          [
           "Kurdwin Ayub, réalisatrice de « Moon » : « Il y a toujours une cage autour des femmes »",
           243
          ],
          [
           "93 morts dans des tirs israéliens, nouvelle offensive en vue… Le point sur la situation à Gaza",
           981
          ],
          [
           "Roselyne, 54 ans, pensait être en couple avec David Hallyday : elle a versé 60 000 euros à des brouteurs",
           258
          ],
          [
           "La nouvelle croisade des anti-avortement en Italie",
           399
          ],
          [
           "Comment Gabriel Attal veut se verdir face à l’offensive anti-écolo de Retailleau ou Le Pen",
           214
          ],
          [
           "Un million de signatures pour la pétition contre la loi Duplomb, cessez-le-feu en Syrie, Bayrou et son budget… Les cinq infos à retenir du week-end",
           1291
          ],
          [
           "« C’est le blaze que les Français m’ont donné » : l’incroyable histoire de la vraie « Joe le taxi » chantée par Vanessa Paradis",
           168
          ],
          [
           "Avez-vous déjà trouvé un trésor ?",
           113
          ],
          [
           "La pétition contre la loi Duplomb franchit le million de signatures, Braun-Pivet favorable à un débat",
           429
          ],
          [
           "57 Gazaouis tués lors d’une distribution humanitaire, nouvelle offensive de Tsahal en vue",
           669
          ],
          [
           "Orages : Savoie, Haute-Savoie et Isère en vigilance orange inondations",
           394
          ],
          [
           "Neuf policiers blessés, véhicules pris pour cibles : ce que l’on sait des violences urbaines qui ont embrasé Limoges",
           553
          ],
          [
           "Bayrou se donne « deux mois » pour achever son plan de rigueur budgétaire",
           667
          ],
          [
           "Le gouvernement syrien annonce la fin d’une semaine de combats sanglants à Soueida",
           869
          ],
          [
           "« Ça ne m’inspire pas grand-chose » : Laurent Duplomb réagit à la pétition contre sa loi qui a franchi la barre du million de signatures",
           702
          ],
          [
           "Henri a appris le tricot sur YouTube : « J’ai besoin de ces espaces numériques où les gens sont gentils »",
           271
          ],
          [
           "Une voiture fonce dans la foule à Los Angeles : ce que l’on sait sur l’attaque",
           711
          ],
          [
           "« Il pense qu’il a un coup à jouer » : les secrets du retour de Dominique de Villepin",
           306
          ],
          [
           "Les « grosses têtes » de Mitterrand et du PS, il y a 50 ans dans « le Nouvel Obs »",
           197
          ],
          [
           "Ce 19 juillet où Paris a découvert le métro",
           123
          ],
          [
           "Des dizaines de partisans du groupe interdit « Palestine Action » arrêtés à Londres et dans tout le Royaume-Uni",
           469
          ],
          [
           "Superman, Tarzan, Captain America… Dès 1938, l’Amérique a érigé la virilité comme modèle de masculinité",
           262
          ],
          [
           "Au moins 34 morts dans le naufrage d’un bateau touristique en Baie d’Halong au Vietnam",
           601
          ],
          [
           "L’Open Data pour les décisions de justice, ce danger pour l’Etat de droit que personne n’avait prédit",
           319
          ],
          [
           "« Nosferatu » : un drôle de non-film",
           282
          ],
          [
           "La pétition contre la loi Duplomb sur le site de l’Assemblée nationale dépasse les 500 000 signatures… pour rien ?",
           1174
          ],
          [
           "Los Angeles : une voiture fonce dans la foule faisant au moins 28 blessés",
           309
          ],
          [
           "La notion d’hospitalité dans le podcast « Nature et environnement »",
           200
          ],
          [
           "Syrie : Damas annonce un cessez-le-feu et le déploiement de ses forces à Soueida",
           979
          ],
          [
           "« Des monstres ? Non, une humanité médiocre » : au festival d’Avignon, une soirée historique en hommage à Gisèle Pelicot",
           263
          ],
          [
           "Trump, Epstein et une plainte à « 10 milliards de dollars » : le tourbillon de l’affaire en 7 actes",
           2276
          ],
          [
           "« L’Etrange été. Le Voyage à Nantes » : quand la ville se dévoile",
           314
          ],
          [
           "La recette des fajitas tex-mex, pour une escapade outre-Atlantique le temps d’un repas",
           146
          ],
          [
           "« J’ai perdu l’équilibre » : au procès de l’homme accusé d’avoir agressé Jack Lang lors d’une manifestation contre la pédocriminalité",
           128
          ],
          [
           "Réseaux sociaux, porno, junk food… Le mythe du shoot de dopamine",
           209
          ],
          [
           "Budget 2026 : « Le “bon sens” supposément unanime sur la dette est au service d’une véritable politique de classe »",
           232
          ],
          [
           "L’horoscope d’Abigail Assor du 20 au 26 juillet",
           126
          ],
          [
           "Garges-lès-Gonesse : après les accusations de violences de policiers sur un adolescent, une information judiciaire ouverte",
           554
          ],
          [
           "Bracelet électronique, « atteinte à la souveraineté »… La pression judiciaire s’accroît sur l’ex président brésilien Jair Bolsonaro",
           772
          ],
          [
           "Pourquoi Israël prend la défense des Druzes en Syrie ?",
           282
          ],
          [
           "« Chaque partie fait monter les enchères » : pas d’avancées concrètes dans les négociations pour un cessez-le-feu à Gaza",
           224
          ],
          [
           "« On n’en peut plus, mais on ne les laissera jamais seuls » : la sœur de l’otage française en Iran Cécile Kohler témoigne",
           374
          ],
          [
           "« Non, les anti-trans n’ont pas gagné » malgré l’absence de consensus médical sur les transitions de genre chez les mineurs",
           199
          ],
          [
           "« Inde, des dieux et des hommes » : au pays de tous les obstacles",
           412
          ],
          [
           "Plus de 200 000 signatures contre la loi Duplomb : la pétition peut-elle aboutir ?",
           575
          ],
          [
           "« Les Harkis » : ces oubliés de la France",
           260
          ],
          [
           "Néonicotinoïdes : comment les votes des députés ont évolué sur la question en 10 ans ?",
           234
          ],
          [
           "Aix-Marseille Université accueillera 31 scientifiques américains dès la rentrée",
           514
          ],
          [
           "Faut-il encore boire des Sex on the Beach ?",
           672
          ],
          [
           "Serge Atlaoui, ex-condamné à mort en Indonésie, a été libéré après 20 ans de prison",
           1003
          ],
          [
           "Deux pompiers blessés, 240 hectares parcourus… Le point sur l’incendie qui ravage Martigues",
           596
          ],
          [
           "Alain, chasseur de trésors depuis 40 ans : « L’or rend fou, surtout quand on le trouve »",
           235
          ],
          [
           "Clémentine a appris la couture sur YouTube : « J’ai fini par me marier dans une robe que j’ai cousue moi-même »",
           272
          ],
          [
           "Trois questions sur le nouveau bateau de la Coalition de la Flottille de la Liberté qui veut ravitailler Gaza et défie Israël",
           291
          ],
          [
           "Mehdi, étudiant : « Chercher un logement à Paris est un combat de boxe dont personne ne sort indemne »",
           186
          ],
          [
           "Après Rachida Dati et Michel Barnier, le RN Thierry Mariani candidat à la législative partielle à Paris",
           371
          ],
          [
           "Union européenne : ce que contient la réforme décriée de la PAC",
           702
          ],
          [
           "Accusations de violences policières : que s’est-il passé à Garges-lès-Gonesse ?",
           580
          ],
          [
           "Le nouveau « Superman », une allégorie du conflit à Gaza ? Le film interroge les internautes",
           215
          ],
          [
           "Lolita Pille : « Ardisson était un tueur symbolique de femmes »",
           279
          ],
          [
           "Trump ne cesse de donner des ultimatums à Poutine sur l’Ukraine, mais qu’espère-t-il encore ?",
           282
          ],
          [
           "« Stonehouse : député, amant et espion » : l’homme qui mentait trop",
           414
          ],
          [
           "« Starsky & Hutch » : une adaptation kitsch mais stylée",
           306
          ],
          [
           "Cécile Duflot sur le budget de François Bayrou : « Tout le monde va payer sauf les ultrariches »",
           167
          ],
          [
           "« L’attention à l’autre qu’implique la gentillesse désarme le ressentiment et la colère, même dans le monde du travail »",
           179
          ],
          [
           "Plan Bayrou : les mauvaises économies sur la transition écologique",
           640
          ],
          [
           "Assassin ou résistant ? Pourquoi certains jeunes militants ont fait de Georges Ibrahim Abdallah leur nouveau héros",
           253
          ],
          [
           "« Un jour, je trouverai… » : Didier, 66 ans, cherche un trésor dans son jardin depuis quinze ans",
           258
          ],
          [
           "« On ne peut pas enterrer le 8-Mai et en même temps panthéoniser Missak Manouchian »",
           139
          ],
          [
           "« Cela n’a rien d’une attitude nunuche » : quatre penseurs louent les vertus de la gentillesse",
           239
          ],
          [
           "La « diplomatie des otages » est une infamie : n’oublions pas ses victimes cet été",
           826
          ],
          [
           "Les plateaux d’Ardisson recréaient « la violence sociale vécue dehors »",
           895
          ],
          [
           "Dans les secrets des traders de matières premières, ces boîtes noires aussi puissantes que des Etats",
           320
          ],
          [
           "Législative partielle : Rachida Dati envisage elle aussi de se présenter à Paris",
           654
          ],
          [
           "Francofolies, Rock en Seine, Glastonbury : quand la guerre à Gaza s’invite dans les festivals de musique de l’été",
           822
          ],
          [
           "Test : quel gentil êtes-vous ?",
           568
          ],
          [
           "Bombardement du quartier général de l’armée à Damas, bilan humain… Ce que l’on sait des frappes israéliennes en Syrie",
           923
          ],
          [
           "Et la gentillesse, bordel ? Pourquoi il est temps de réaffirmer la force de cette qualité longtemps méprisée",
           232
          ],
          [
           "La force de la gentillesse",
           66
          ],
          [
           "Fériés supprimés, « augmentations d’impôts »… La droite et les macronistes partagent le constat de Bayrou, mais pas toutes ses mesures",
           1192
          ],
          [
           "Qui est Julien Moinil, alias « Batman », le procureur de Bruxelles placé sous protection maximale ?",
           134
          ],
          [
           "« Evy & moi » : échappée belle",
           441
          ]
         ],
         "hovertemplate": "Source RSS=https://www.nouvelobs.com/rss.xml<br>Longueur du texte (caractères)=%{x}<br>Longueur du titre (caractères)=%{y}<br>reading_time=%{marker.size}<br>title=%{customdata[0]}<br>words_count=%{customdata[1]}<extra></extra>",
         "legendgroup": "https://www.nouvelobs.com/rss.xml",
         "marker": {
          "color": "#FFA15A",
          "size": {
           "bdata": "AAAAAAAAAEAzMzMzMzMPQM3MzMzMzOw/zczMzMzM7D8AAAAAAAAMQAAAAAAAAOA/mpmZmZmZ6T8AAAAAAADgP83MzMzMzOw/mpmZmZmZBUBmZmZmZmb+PzMzMzMzM+M/mpmZmZmZ6T+amZmZmZnxPwAAAAAAABJAzczMzMzM9D/NzMzMzMz0P83MzMzMzAhAzczMzMzM9D9mZmZmZmYKQGZmZmZmZv4/zczMzMzM7D8AAAAAAAAIQAAAAAAAAABAzczMzMzM9D9mZmZmZmbmPwAAAAAAAOA/AAAAAAAAAECamZmZmZkJQM3MzMzMzOw/MzMzMzMzB0CamZmZmZnxP83MzMzMzOw/AAAAAAAADEBmZmZmZmYKQAAAAAAAAPg/MzMzMzMz+z8zMzMzMzPTP83MzMzMzBBAAAAAAAAA4D9mZmZmZmb+P5qZmZmZmdk/zczMzMzMDEAzMzMzMzPzPzMzMzMzMwNAmpmZmZmZEUCamZmZmZnpP5qZmZmZmek/AAAAAAAA8D8AAAAAAADwPzMzMzMzMw9AAAAAAAAA8D+amZmZmZn5P83MzMzMzOw/zczMzMzMFEBmZmZmZmbmPwAAAAAAAOA/MzMzMzMz+z+amZmZmZkFQJqZmZmZmfk/mpmZmZmZAUCamZmZmZkFQAAAAAAAAAxAZmZmZmZmBkCamZmZmZnxP2ZmZmZmZgZAMzMzMzMz8z+amZmZmZnpPwAAAAAAAOA/ZmZmZmZm/j8AAAAAAADwPzMzMzMzMwNAzczMzMzM9D+amZmZmZnxP83MzMzMzBJAMzMzMzMz8z+amZmZmZnpPzMzMzMzMw9AmpmZmZmZ8T8zMzMzMzMiQM3MzMzMzPQ/MzMzMzMz4z8AAAAAAADgP5qZmZmZmek/zczMzMzM7D8AAAAAAADgP5qZmZmZmQFAzczMzMzMCECamZmZmZnxP83MzMzMzOw/AAAAAAAA+D+amZmZmZnpP5qZmZmZmfk/ZmZmZmZmAkAAAAAAAADwP83MzMzMzOw/zczMzMzMAECamZmZmZkFQAAAAAAAABBAMzMzMzMzA0DNzMzMzMzsP5qZmZmZmfE/MzMzMzMz8z9mZmZmZmbmPwAAAAAAAPg/ZmZmZmZmBkBmZmZmZmYCQM3MzMzMzOw/mpmZmZmZ8T+amZmZmZnxPzMzMzMzM/s/MzMzMzMz8z9mZmZmZmbmP2ZmZmZmZuY/zczMzMzMBEAAAAAAAADwPwAAAAAAAPA/MzMzMzMz4z8AAAAAAADwP2ZmZmZmZgpAzczMzMzMDEDNzMzMzMz0P83MzMzMzARAZmZmZmZmCkBmZmZmZmYCQJqZmZmZmQ1AzczMzMzM7D8zMzMzMzPTPzMzMzMzMxNAAAAAAAAA4D/NzMzMzMz8Pw==",
           "dtype": "f8"
          },
          "sizemode": "area",
          "sizeref": 0.028999999999999998,
          "symbol": "circle"
         },
         "mode": "markers",
         "name": "https://www.nouvelobs.com/rss.xml",
         "orientation": "v",
         "showlegend": true,
         "type": "scatter",
         "x": {
          "bdata": "+guSF6gFXwU/FfUCdgTsAtgFBxG4Cq4D4QSKBoobbAcXB6ESdgckFIoMbwWhElcMNQf3A/kCOgwFEzwFjBJTBv8E1BU6E/0IRwq1AcEZvQLOCqkCmxRiB6sOZxv6BAUF/gXKBSEW5gUXCQcFUh7tA6kCUAq+DgsJ4gw5D0oVlBAvBjoQ+QbuBOACVAssBjQOhge0BsYcAwfxBC8XHQaCNeAHSQPqAgoFVwXcAlIN/xHiBp4Fpgj6BJwJMA5ZBucF0gwXD5AXtA57BXYG0waiBOMIyhHZDBIFdgbSBj4KKwfgA1YEShA6BvMFbQO9BXUTjhWuB3APnhLUDPcVngWBARwbLgMvCg==",
          "dtype": "i2"
         },
         "xaxis": "x",
         "y": {
          "bdata": "OAB9AIoAggA9AG4AawAyAFoAQAA6ACsALgBqAGAAcACAAH8ATABzAFAAaQA0AFUAbABqAIsAVAB0AEUAVAB7AD4AWwBoAEEAUQBPAF0APQBPAGsAYQByAGMAkgA7AFwAaABXAF4AaAAyAFoAkwB/ACEAZQBZAEYAdABJAFIAiABpAE4AVQBSACsAbwBnAFYAZQAkAHIASQBDAFAAeABjAEEAVgCFAEAAcwAvAHoAgwA2AHgAeQB7AEEAUgApAFYATwArAFMAWwBYAG8AfQBmAGcAPwBPAFwAPwBdAEMANwBgAHgAQgByAGAAVABeAFIARwBkAFAAcQAeAHUAbAAaAIYAYwAeAA==",
          "dtype": "i2"
         },
         "yaxis": "y"
        },
        {
         "customdata": [
          [
           "Thailand closes some border crossings with Cambodia after soldier loses leg in landmine explosion",
           488
          ],
          [
           "Syria asks Turkey for defence support after sectarian clashes, officials in Ankara say",
           551
          ],
          [
           "German satirist acquitted over social media posts about Trump assassination attempt",
           333
          ],
          [
           "EU and Japan strengthen trade alliance amid global tensions",
           441
          ],
          [
           "Two children among three dead in shooting in Northern Ireland, police say",
           276
          ],
          [
           "Second aid convoy heads to Suwayda after clashes between Bedouins and Druze",
           582
          ],
          [
           "Indonesian police arrest 44 suspected of starting forest fires spreading toxic haze",
           357
          ],
          [
           "Israeli woman arrested on suspicion of plot to kill PM Netanyahu, broadcaster KAN reports",
           366
          ],
          [
           "More than 100 organisations sound the alarm about imminent famine in Gaza",
           496
          ],
          [
           "Taliban deny that British couple detained in Afghan prison are being mistreated",
           435
          ],
          [
           "Zelenskyy's toughest battle: People of Ukraine protest over anti-corruption crackdown",
           1297
          ],
          [
           "Trump administration can end deportation protections for Afghans, court rules",
           488
          ],
          [
           "Exclusive: Who are Syria's Druze and why are they under attack?",
           1651
          ],
          [
           "EU and Japan prepare delicate balancing act with US",
           393
          ],
          [
           "Over 1,000 aid-seekers killed in Gaza since May, UN human rights office says",
           743
          ],
          [
           "Initial probe into South Korea's Jeju Air crash angers families by hinting at pilot error",
           697
          ],
          [
           "US prosecutors want to speak to Ghislaine Maxwell as scrutiny grows over Epstein files",
           520
          ],
          [
           "AFP journalists at risk of starving to death in Gaza 'without intervention,' news agency says",
           326
          ],
          [
           "Lithuania blames Russia for large rise in GPS jamming incidents",
           370
          ],
          [
           "Donald Trump warns that US could strike Iran's nuclear sites again 'if necessary'",
           503
          ],
          [
           "Cyprus heatwave alert: Temperatures forecast to soar to 41°C amid extreme weather warning",
           308
          ],
          [
           "More than 100 women freed after Spanish police dismantle human trafficking ring",
           261
          ],
          [
           "Stranded UK F-35 fighter jet leaves India after triggering barrage of memes",
           386
          ],
          [
           "Germany supports Poland's measures to curb migration from Belarus",
           422
          ],
          [
           "Judge gives ex-officer nearly 3 years in Breonna Taylor raid, rebuffs DOJ call for no prison time",
           339
          ],
          [
           "UN concerned by Taliban's arrest of Afghan women and girls for dress code violations",
           346
          ],
          [
           "No signs of beating on body of Hungarian man who died in Transcarpathia hospital, nurse says",
           720
          ],
          [
           "Egypt funds free train rides for Sudanese refugees returning to Khartoum",
           531
          ],
          [
           "Israeli military launches first ground operation into central Gaza city of Deir al-Balah",
           444
          ],
          [
           "Syrian forces evacuate Bedouin families out of Suwayda as shaky ceasefire holds",
           783
          ],
          [
           "Iran to consult with Russia and China ahead of Friday nuclear talks with European nations",
           416
          ],
          [
           "Far-right 'Japanese First' party Sanseito emerges as fourth-largest opposition force in parliament",
           587
          ]
         ],
         "hovertemplate": "Source RSS=https://www.euronews.com/rss?level=theme&name=news<br>Longueur du texte (caractères)=%{x}<br>Longueur du titre (caractères)=%{y}<br>reading_time=%{marker.size}<br>title=%{customdata[0]}<br>words_count=%{customdata[1]}<extra></extra>",
         "legendgroup": "https://www.euronews.com/rss?level=theme&name=news",
         "marker": {
          "color": "#19d3f3",
          "size": {
           "bdata": "AAAAAAAAAECamZmZmZkBQM3MzMzMzPQ/zczMzMzM/D+amZmZmZnxP2ZmZmZmZgJAZmZmZmZm9j8AAAAAAAD4PwAAAAAAAABAMzMzMzMz+z/NzMzMzMwUQAAAAAAAAABAZmZmZmZmGkCamZmZmZn5PwAAAAAAAAhAZmZmZmZmBkDNzMzMzMwAQM3MzMzMzPQ/AAAAAAAA+D8AAAAAAAAAQDMzMzMzM/M/AAAAAAAA8D8AAAAAAAD4PzMzMzMzM/s/ZmZmZmZm9j9mZmZmZmb2PzMzMzMzMwdAzczMzMzMAEDNzMzMzMz8P83MzMzMzAhAMzMzMzMz+z9mZmZmZmYCQA==",
           "dtype": "f8"
          },
          "sizemode": "area",
          "sizeref": 0.028999999999999998,
          "symbol": "circle"
         },
         "mode": "markers",
         "name": "https://www.euronews.com/rss?level=theme&name=news",
         "orientation": "v",
         "showlegend": true,
         "type": "scatter",
         "x": {
          "bdata": "+wstDtQHzgqJBkcO4Aj8CKwMogodIQcMUigXCRoSURHSDJ4HuglhDGUH8wZMCboKIghiCCYRrAy+CqATPQrfDg==",
          "dtype": "i2"
         },
         "xaxis": "x",
         "y": {
          "bdata": "YVZTO0lLU1lJT1VNPzNMWVZdP1FZT0tBYVRcSFhPWWI=",
          "dtype": "i1"
         },
         "yaxis": "y"
        },
        {
         "customdata": [
          [
           "La Cour internationale de justice rend un avis inédit sur les obligations climatiques des pays",
           807
          ],
          [
           "Un député LFI a-t-il été entravé en voulant visiter la prison haute sécurité de Gérald Darmanin ?",
           724
          ],
          [
           "Comme « Dangerous Animals », ces films de requins qui vous couperont l’envie de barboter dans la mer",
           954
          ],
          [
           "Emmanuel Macron va promulguer la loi Duplomb malgré la pétition, selon Annie Genevard",
           571
          ],
          [
           "Canicule : Santé publique France dresse un premier bilan sur « les morts en excès » au début de l’été",
           434
          ],
          [
           "Le nouveau film « Hunger Games » est tourné en Espagne et des randonneurs sont tombés sur l’arène",
           437
          ],
          [
           "La Russie lance en mer sa « Tempête de Juillet », une opération militaire d’envergure",
           555
          ],
          [
           "Météo-France place 14 départements, dont ceux de l’Île-de-France, en vigilance orange pluie-inondation",
           440
          ],
          [
           "Face à la tendance dangereuse des « burn lines » sur les réseaux sociaux, les dermatos sonnent l’alerte",
           510
          ],
          [
           "En Ukraine, Volodymyr Zelensky fait face à de premières manifestations depuis le début de la guerre",
           673
          ],
          [
           "Menacée par la montée des océans, quasiment toute la population des Tuvalu se prépare à partir",
           502
          ],
          [
           "« Burger King ou McDo ? » : l’interview de Netanyahu par deux influenceurs pro-Trump s’est retournée contre eux",
           806
          ],
          [
           "Donald Trump veut « gagner la course à l’IA » au prix (encore une fois) de l’environnement",
           546
          ],
          [
           "Sarah Michelle Gellar devrait bien reprendre son rôle de Buffy, c’est elle qui le dit",
           608
          ],
          [
           "France Travail visé par une cyberattaque qui concerne potentiellement 340 000 demandeurs d’emploi",
           387
          ],
          [
           "FKA Twigs et Shia LaBeouf ont trouvé un accord, en amont du procès pour agression sexuelle",
           479
          ],
          [
           "« Trump » ou « Tony Montana », jusqu’où Rachida Dati ira avec sa stratégie de défense ?",
           849
          ],
          [
           "Rachida Dati met la justice en cause, le président du tribunal de Paris prend position comme rarement",
           566
          ],
          [
           "À l’extrême droite, le soutien inconditionnel à Israël secoué par la situation à Gaza",
           1053
          ],
          [
           "Loi Duplomb : Delphine Batho dénonce la dégradation de sa permanence parlementaire et accuse la FNSEA",
           366
          ]
         ],
         "hovertemplate": "Source RSS=https://www.huffingtonpost.fr/feeds/index.xml<br>Longueur du texte (caractères)=%{x}<br>Longueur du titre (caractères)=%{y}<br>reading_time=%{marker.size}<br>title=%{customdata[0]}<br>words_count=%{customdata[1]}<extra></extra>",
         "legendgroup": "https://www.huffingtonpost.fr/feeds/index.xml",
         "marker": {
          "color": "#FF6692",
          "size": {
           "bdata": "mpmZmZmZCUAzMzMzMzMHQGZmZmZmZg5AZmZmZmZmAkAzMzMzMzP7PzMzMzMzM/s/mpmZmZmZAUDNzMzMzMz8PwAAAAAAAABAmpmZmZmZBUAAAAAAAAAAQJqZmZmZmQlAmpmZmZmZAUAzMzMzMzMDQAAAAAAAAPg/ZmZmZmZm/j8zMzMzMzMLQGZmZmZmZgJAzczMzMzMEEAAAAAAAAD4Pw==",
           "dtype": "f8"
          },
          "sizemode": "area",
          "sizeref": 0.028999999999999998,
          "symbol": "circle"
         },
         "mode": "markers",
         "name": "https://www.huffingtonpost.fr/feeds/index.xml",
         "orientation": "v",
         "showlegend": true,
         "type": "scatter",
         "x": {
          "bdata": "ZhO8EZoWQA2GCu8Jbw2mCpsLhBAoDP8SeA3sDZcJdQvmE64Nuhj/CA==",
          "dtype": "i2"
         },
         "xaxis": "x",
         "y": {
          "bdata": "XmFkVWVhVWZnY15vWlVhWldlVWU=",
          "dtype": "i1"
         },
         "yaxis": "y"
        },
        {
         "customdata": [
          [
           "As Trump Quits UNESCO, China Expands Influence",
           177
          ],
          [
           "Zelensky Faces Criticism in Ukraine Over Effort to Rein In Corruption Agencies",
           161
          ],
          [
           "Aid Groups Blame Israel’s Gaza Restrictions for ‘Mass Starvation’",
           176
          ],
          [
           "A New Golf Course and Old Grudges Await Trump in Scotland",
           187
          ],
          [
           "Officials in Iran Suspect Sabotage in Wave of Fires and Explosions",
           154
          ],
          [
           "American Convicted of Murder Among Those Trump Rescued From Venezuela Prison",
           206
          ],
          [
           "Louis Vuitton Netherlands Entangled in Money-Laundering Case",
           186
          ],
          [
           "Chinese Hackers Are Exploiting Flaws in Widely Used Software, Microsoft Says",
           158
          ],
          [
           "Britain Moves to Curb Migrant Trafficking, and Ease Anger at Home",
           186
          ],
          [
           "Iran’s Leaders Turn to a New Brand of Nationalism After Israeli and U.S. Attacks",
           158
          ],
          [
           "Israel Expands Attacks in Central Gaza City and Raids W.H.O. Offices",
           167
          ],
          [
           "Bangladesh Mourns After Deadly Plane Crash During School Lunch Break",
           134
          ],
          [
           "With Russia and Ukraine to Meet Again, Here’s What to Know About the Peace Talks",
           119
          ],
          [
           "Gold Miners Feared Dead in Congo After Landslide",
           159
          ],
          [
           "2 U.K. Families Received ‘Wrong Remains’ of Air India Crash Victims, Lawyer Says",
           144
          ],
          [
           "Trump’s Tariffs Are the Highest in a Century. But After His Threats, They Seem Like a Relief.",
           282
          ],
          [
           "Top U.N. Court Says Countries Must Act on Climate Change",
           147
          ],
          [
           "Biting a Bat and 5 Other Wild Moments From Ozzy Osbourne’s Life",
           111
          ],
          [
           "Something Like Feathers Grew on a 247-Million-Year-Old Reptile",
           158
          ],
          [
           "New Global Atlas Highlights Surprising Hot Spots of Fungal Biodiversity",
           178
          ],
          [
           "What to Know About the U.S. Move to Withdraw From UNESCO",
           153
          ],
          [
           "A Long, Overdue Reporting Trip Through Syria",
           228
          ],
          [
           "Overhead Bin Fire on Virgin Flight May Have Been Caused by Portable Battery",
           267
          ],
          [
           "Wednesday Briefing: Israel Expands Gaza Offensive",
           140
          ],
          [
           "How Native Homes in New Mexico Are Tapping the Sun",
           243
          ],
          [
           "Grizzlies Were Raiding Montana Farms. Then Came Some Formidable Dogs.",
           255
          ],
          [
           "North Carolina’s Bogs Have a Dirty Secret, and That’s a Good Thing",
           193
          ],
          [
           "Why This Pennsylvania City Put Its Streetlights on a Dimmer",
           143
          ],
          [
           "Rip Current Survival Tips: What to Do if You Get Caught in One",
           213
          ],
          [
           "What to Know About the $250 Visa Integrity Fee for U.S. Tourists",
           231
          ],
          [
           "Canada Won’t Accept a Trade Deal With the U.S. at ‘Any Cost’",
           162
          ],
          [
           "Wednesday Briefing: Israel Expands Gaza Offensive",
           142
          ],
          [
           "Syrian Inquiry Says Military Leaders Did Not Order Sectarian Killings in March",
           204
          ],
          [
           "Zelensky Targeted in Wartime Protests in Ukraine for the First Time",
           168
          ],
          [
           "Trump Administration Keeps 19 Percent Tariff on Indonesia in Trade Deal",
           218
          ],
          [
           "FEMA Urban Search and Rescue Chief Resigns, Citing Agency ‘Chaos’, Colleagues Said",
           157
          ],
          [
           "Russia and Ukraine to Renew Talks, but Peace Remains Elusive",
           132
          ],
          [
           "U.S. Is Missing the Century’s ‘Greatest Economic Opportunity,’ U.N. Chief Says",
           147
          ],
          [
           "Air India Finds ‘No Issues’ After Inspections of Boeing Fuel Switches",
           147
          ],
          [
           "Zelensky’s Government Takes Aim at Ukraine’s Corruption Fighters",
           140
          ],
          [
           "U.S. Says It Will Withdraw From UNESCO, Again",
           129
          ],
          [
           "‘Bye, Bro’: British Fighter Jet, Stranded in India, Finally Leaves for Home",
           161
          ],
          [
           "Austria Prepares to Give Up ‘Dream’ of Disarmament",
           165
          ],
          [
           "Fiona Hill on Trump, Putin and Why Great Powers Fall",
           204
          ],
          [
           "Philippines’ Leader Meets With Trump to Clinch Trade Deal",
           189
          ],
          [
           "Tuesday Briefing: A Deadly Jet Crash in Bangladesh",
           186
          ],
          [
           "TV Show Helps Identify Mother and Child Found Dead in Rome Park, and a Suspect",
           200
          ],
          [
           "Sharing a Bed With Your Kid? It’s Totally Normal in Asia.",
           107
          ],
          [
           "Tuesday Briefing: A Deadly Jet Crash in Bangladesh",
           186
          ],
          [
           "Climate Change Is Making Fire Weather Worse for World’s Forests",
           176
          ],
          [
           "Chinese Officers Questioned U.S. Government Employee About His Army Service",
           176
          ],
          [
           "Seabed-Mining Firm Faces Legal Questions Over Trump Policy",
           181
          ],
          [
           "In Japan, Anti-Establishment Parties Resonate With Young Voters",
           193
          ],
          [
           "Syrian Government Evacuates Bedouin Families After Deadly Clashes",
           113
          ],
          [
           "Did Jeju Air Pilots Shut Down Wrong Engine Before Deadly Crash?",
           126
          ]
         ],
         "hovertemplate": "Source RSS=https://rss.nytimes.com/services/xml/rss/nyt/World.xml<br>Longueur du texte (caractères)=%{x}<br>Longueur du titre (caractères)=%{y}<br>reading_time=%{marker.size}<br>title=%{customdata[0]}<br>words_count=%{customdata[1]}<extra></extra>",
         "legendgroup": "https://rss.nytimes.com/services/xml/rss/nyt/World.xml",
         "marker": {
          "color": "#B6E880",
          "size": {
           "bdata": "ZmZmZmZm5j8zMzMzMzPjP2ZmZmZmZuY/ZmZmZmZm5j8zMzMzMzPjP5qZmZmZmek/ZmZmZmZm5j8zMzMzMzPjP2ZmZmZmZuY/MzMzMzMz4z9mZmZmZmbmPwAAAAAAAOA/AAAAAAAA4D8zMzMzMzPjPzMzMzMzM+M/mpmZmZmZ8T8zMzMzMzPjP5qZmZmZmdk/MzMzMzMz4z9mZmZmZmbmPzMzMzMzM+M/zczMzMzM7D+amZmZmZnxPzMzMzMzM+M/AAAAAAAA8D8AAAAAAADwP5qZmZmZmek/MzMzMzMz4z/NzMzMzMzsP83MzMzMzOw/MzMzMzMz4z8zMzMzMzPjP5qZmZmZmek/ZmZmZmZm5j/NzMzMzMzsPzMzMzMzM+M/AAAAAAAA4D8zMzMzMzPjPzMzMzMzM+M/MzMzMzMz4z8AAAAAAADgPzMzMzMzM+M/ZmZmZmZm5j+amZmZmZnpP5qZmZmZmek/ZmZmZmZm5j+amZmZmZnpP5qZmZmZmdk/ZmZmZmZm5j9mZmZmZmbmP2ZmZmZmZuY/ZmZmZmZm5j+amZmZmZnpPwAAAAAAAOA/AAAAAAAA4D8=",
           "dtype": "f8"
          },
          "sizemode": "area",
          "sizeref": 0.028999999999999998,
          "symbol": "circle"
         },
         "mode": "markers",
         "name": "https://rss.nytimes.com/services/xml/rss/nyt/World.xml",
         "orientation": "v",
         "showlegend": true,
         "type": "scatter",
         "x": {
          "bdata": "eQQcBGMEEgTdA5YErAQMBL8ElwPmAxsDuAKaAzoDdwarA3QCywOxBNcDHgXGBnoDpwX4BYIEfAO/BIsFuwOFAx4FYARkBfkDVgO3A5wDzANtA64D7wP/BGsELwSRBGoCLgQfBDIEXgTJBNUC+QI=",
          "dtype": "i2"
         },
         "xaxis": "x",
         "y": {
          "bdata": "Lk5BOUJMPExBUEREUDBQXTg/Pkc4LEsxMkVCOz5APDFOQ0dSPE5FQC1LMjQ5Mk45Mj9LOj9BPw==",
          "dtype": "i1"
         },
         "yaxis": "y"
        }
       ],
       "layout": {
        "height": 500,
        "legend": {
         "itemsizing": "constant",
         "orientation": "v",
         "title": {
          "text": "Source RSS"
         },
         "tracegroupgap": 0,
         "x": 1.02,
         "xanchor": "left",
         "y": 1,
         "yanchor": "top"
        },
        "showlegend": true,
        "template": {
         "data": {
          "bar": [
           {
            "error_x": {
             "color": "#2a3f5f"
            },
            "error_y": {
             "color": "#2a3f5f"
            },
            "marker": {
             "line": {
              "color": "#E5ECF6",
              "width": 0.5
             },
             "pattern": {
              "fillmode": "overlay",
              "size": 10,
              "solidity": 0.2
             }
            },
            "type": "bar"
           }
          ],
          "barpolar": [
           {
            "marker": {
             "line": {
              "color": "#E5ECF6",
              "width": 0.5
             },
             "pattern": {
              "fillmode": "overlay",
              "size": 10,
              "solidity": 0.2
             }
            },
            "type": "barpolar"
           }
          ],
          "carpet": [
           {
            "aaxis": {
             "endlinecolor": "#2a3f5f",
             "gridcolor": "white",
             "linecolor": "white",
             "minorgridcolor": "white",
             "startlinecolor": "#2a3f5f"
            },
            "baxis": {
             "endlinecolor": "#2a3f5f",
             "gridcolor": "white",
             "linecolor": "white",
             "minorgridcolor": "white",
             "startlinecolor": "#2a3f5f"
            },
            "type": "carpet"
           }
          ],
          "choropleth": [
           {
            "colorbar": {
             "outlinewidth": 0,
             "ticks": ""
            },
            "type": "choropleth"
           }
          ],
          "contour": [
           {
            "colorbar": {
             "outlinewidth": 0,
             "ticks": ""
            },
            "colorscale": [
             [
              0,
              "#0d0887"
             ],
             [
              0.1111111111111111,
              "#46039f"
             ],
             [
              0.2222222222222222,
              "#7201a8"
             ],
             [
              0.3333333333333333,
              "#9c179e"
             ],
             [
              0.4444444444444444,
              "#bd3786"
             ],
             [
              0.5555555555555556,
              "#d8576b"
             ],
             [
              0.6666666666666666,
              "#ed7953"
             ],
             [
              0.7777777777777778,
              "#fb9f3a"
             ],
             [
              0.8888888888888888,
              "#fdca26"
             ],
             [
              1,
              "#f0f921"
             ]
            ],
            "type": "contour"
           }
          ],
          "contourcarpet": [
           {
            "colorbar": {
             "outlinewidth": 0,
             "ticks": ""
            },
            "type": "contourcarpet"
           }
          ],
          "heatmap": [
           {
            "colorbar": {
             "outlinewidth": 0,
             "ticks": ""
            },
            "colorscale": [
             [
              0,
              "#0d0887"
             ],
             [
              0.1111111111111111,
              "#46039f"
             ],
             [
              0.2222222222222222,
              "#7201a8"
             ],
             [
              0.3333333333333333,
              "#9c179e"
             ],
             [
              0.4444444444444444,
              "#bd3786"
             ],
             [
              0.5555555555555556,
              "#d8576b"
             ],
             [
              0.6666666666666666,
              "#ed7953"
             ],
             [
              0.7777777777777778,
              "#fb9f3a"
             ],
             [
              0.8888888888888888,
              "#fdca26"
             ],
             [
              1,
              "#f0f921"
             ]
            ],
            "type": "heatmap"
           }
          ],
          "histogram": [
           {
            "marker": {
             "pattern": {
              "fillmode": "overlay",
              "size": 10,
              "solidity": 0.2
             }
            },
            "type": "histogram"
           }
          ],
          "histogram2d": [
           {
            "colorbar": {
             "outlinewidth": 0,
             "ticks": ""
            },
            "colorscale": [
             [
              0,
              "#0d0887"
             ],
             [
              0.1111111111111111,
              "#46039f"
             ],
             [
              0.2222222222222222,
              "#7201a8"
             ],
             [
              0.3333333333333333,
              "#9c179e"
             ],
             [
              0.4444444444444444,
              "#bd3786"
             ],
             [
              0.5555555555555556,
              "#d8576b"
             ],
             [
              0.6666666666666666,
              "#ed7953"
             ],
             [
              0.7777777777777778,
              "#fb9f3a"
             ],
             [
              0.8888888888888888,
              "#fdca26"
             ],
             [
              1,
              "#f0f921"
             ]
            ],
            "type": "histogram2d"
           }
          ],
          "histogram2dcontour": [
           {
            "colorbar": {
             "outlinewidth": 0,
             "ticks": ""
            },
            "colorscale": [
             [
              0,
              "#0d0887"
             ],
             [
              0.1111111111111111,
              "#46039f"
             ],
             [
              0.2222222222222222,
              "#7201a8"
             ],
             [
              0.3333333333333333,
              "#9c179e"
             ],
             [
              0.4444444444444444,
              "#bd3786"
             ],
             [
              0.5555555555555556,
              "#d8576b"
             ],
             [
              0.6666666666666666,
              "#ed7953"
             ],
             [
              0.7777777777777778,
              "#fb9f3a"
             ],
             [
              0.8888888888888888,
              "#fdca26"
             ],
             [
              1,
              "#f0f921"
             ]
            ],
            "type": "histogram2dcontour"
           }
          ],
          "mesh3d": [
           {
            "colorbar": {
             "outlinewidth": 0,
             "ticks": ""
            },
            "type": "mesh3d"
           }
          ],
          "parcoords": [
           {
            "line": {
             "colorbar": {
              "outlinewidth": 0,
              "ticks": ""
             }
            },
            "type": "parcoords"
           }
          ],
          "pie": [
           {
            "automargin": true,
            "type": "pie"
           }
          ],
          "scatter": [
           {
            "fillpattern": {
             "fillmode": "overlay",
             "size": 10,
             "solidity": 0.2
            },
            "type": "scatter"
           }
          ],
          "scatter3d": [
           {
            "line": {
             "colorbar": {
              "outlinewidth": 0,
              "ticks": ""
             }
            },
            "marker": {
             "colorbar": {
              "outlinewidth": 0,
              "ticks": ""
             }
            },
            "type": "scatter3d"
           }
          ],
          "scattercarpet": [
           {
            "marker": {
             "colorbar": {
              "outlinewidth": 0,
              "ticks": ""
             }
            },
            "type": "scattercarpet"
           }
          ],
          "scattergeo": [
           {
            "marker": {
             "colorbar": {
              "outlinewidth": 0,
              "ticks": ""
             }
            },
            "type": "scattergeo"
           }
          ],
          "scattergl": [
           {
            "marker": {
             "colorbar": {
              "outlinewidth": 0,
              "ticks": ""
             }
            },
            "type": "scattergl"
           }
          ],
          "scattermap": [
           {
            "marker": {
             "colorbar": {
              "outlinewidth": 0,
              "ticks": ""
             }
            },
            "type": "scattermap"
           }
          ],
          "scattermapbox": [
           {
            "marker": {
             "colorbar": {
              "outlinewidth": 0,
              "ticks": ""
             }
            },
            "type": "scattermapbox"
           }
          ],
          "scatterpolar": [
           {
            "marker": {
             "colorbar": {
              "outlinewidth": 0,
              "ticks": ""
             }
            },
            "type": "scatterpolar"
           }
          ],
          "scatterpolargl": [
           {
            "marker": {
             "colorbar": {
              "outlinewidth": 0,
              "ticks": ""
             }
            },
            "type": "scatterpolargl"
           }
          ],
          "scatterternary": [
           {
            "marker": {
             "colorbar": {
              "outlinewidth": 0,
              "ticks": ""
             }
            },
            "type": "scatterternary"
           }
          ],
          "surface": [
           {
            "colorbar": {
             "outlinewidth": 0,
             "ticks": ""
            },
            "colorscale": [
             [
              0,
              "#0d0887"
             ],
             [
              0.1111111111111111,
              "#46039f"
             ],
             [
              0.2222222222222222,
              "#7201a8"
             ],
             [
              0.3333333333333333,
              "#9c179e"
             ],
             [
              0.4444444444444444,
              "#bd3786"
             ],
             [
              0.5555555555555556,
              "#d8576b"
             ],
             [
              0.6666666666666666,
              "#ed7953"
             ],
             [
              0.7777777777777778,
              "#fb9f3a"
             ],
             [
              0.8888888888888888,
              "#fdca26"
             ],
             [
              1,
              "#f0f921"
             ]
            ],
            "type": "surface"
           }
          ],
          "table": [
           {
            "cells": {
             "fill": {
              "color": "#EBF0F8"
             },
             "line": {
              "color": "white"
             }
            },
            "header": {
             "fill": {
              "color": "#C8D4E3"
             },
             "line": {
              "color": "white"
             }
            },
            "type": "table"
           }
          ]
         },
         "layout": {
          "annotationdefaults": {
           "arrowcolor": "#2a3f5f",
           "arrowhead": 0,
           "arrowwidth": 1
          },
          "autotypenumbers": "strict",
          "coloraxis": {
           "colorbar": {
            "outlinewidth": 0,
            "ticks": ""
           }
          },
          "colorscale": {
           "diverging": [
            [
             0,
             "#8e0152"
            ],
            [
             0.1,
             "#c51b7d"
            ],
            [
             0.2,
             "#de77ae"
            ],
            [
             0.3,
             "#f1b6da"
            ],
            [
             0.4,
             "#fde0ef"
            ],
            [
             0.5,
             "#f7f7f7"
            ],
            [
             0.6,
             "#e6f5d0"
            ],
            [
             0.7,
             "#b8e186"
            ],
            [
             0.8,
             "#7fbc41"
            ],
            [
             0.9,
             "#4d9221"
            ],
            [
             1,
             "#276419"
            ]
           ],
           "sequential": [
            [
             0,
             "#0d0887"
            ],
            [
             0.1111111111111111,
             "#46039f"
            ],
            [
             0.2222222222222222,
             "#7201a8"
            ],
            [
             0.3333333333333333,
             "#9c179e"
            ],
            [
             0.4444444444444444,
             "#bd3786"
            ],
            [
             0.5555555555555556,
             "#d8576b"
            ],
            [
             0.6666666666666666,
             "#ed7953"
            ],
            [
             0.7777777777777778,
             "#fb9f3a"
            ],
            [
             0.8888888888888888,
             "#fdca26"
            ],
            [
             1,
             "#f0f921"
            ]
           ],
           "sequentialminus": [
            [
             0,
             "#0d0887"
            ],
            [
             0.1111111111111111,
             "#46039f"
            ],
            [
             0.2222222222222222,
             "#7201a8"
            ],
            [
             0.3333333333333333,
             "#9c179e"
            ],
            [
             0.4444444444444444,
             "#bd3786"
            ],
            [
             0.5555555555555556,
             "#d8576b"
            ],
            [
             0.6666666666666666,
             "#ed7953"
            ],
            [
             0.7777777777777778,
             "#fb9f3a"
            ],
            [
             0.8888888888888888,
             "#fdca26"
            ],
            [
             1,
             "#f0f921"
            ]
           ]
          },
          "colorway": [
           "#636efa",
           "#EF553B",
           "#00cc96",
           "#ab63fa",
           "#FFA15A",
           "#19d3f3",
           "#FF6692",
           "#B6E880",
           "#FF97FF",
           "#FECB52"
          ],
          "font": {
           "color": "#2a3f5f"
          },
          "geo": {
           "bgcolor": "white",
           "lakecolor": "white",
           "landcolor": "#E5ECF6",
           "showlakes": true,
           "showland": true,
           "subunitcolor": "white"
          },
          "hoverlabel": {
           "align": "left"
          },
          "hovermode": "closest",
          "mapbox": {
           "style": "light"
          },
          "paper_bgcolor": "white",
          "plot_bgcolor": "#E5ECF6",
          "polar": {
           "angularaxis": {
            "gridcolor": "white",
            "linecolor": "white",
            "ticks": ""
           },
           "bgcolor": "#E5ECF6",
           "radialaxis": {
            "gridcolor": "white",
            "linecolor": "white",
            "ticks": ""
           }
          },
          "scene": {
           "xaxis": {
            "backgroundcolor": "#E5ECF6",
            "gridcolor": "white",
            "gridwidth": 2,
            "linecolor": "white",
            "showbackground": true,
            "ticks": "",
            "zerolinecolor": "white"
           },
           "yaxis": {
            "backgroundcolor": "#E5ECF6",
            "gridcolor": "white",
            "gridwidth": 2,
            "linecolor": "white",
            "showbackground": true,
            "ticks": "",
            "zerolinecolor": "white"
           },
           "zaxis": {
            "backgroundcolor": "#E5ECF6",
            "gridcolor": "white",
            "gridwidth": 2,
            "linecolor": "white",
            "showbackground": true,
            "ticks": "",
            "zerolinecolor": "white"
           }
          },
          "shapedefaults": {
           "line": {
            "color": "#2a3f5f"
           }
          },
          "ternary": {
           "aaxis": {
            "gridcolor": "white",
            "linecolor": "white",
            "ticks": ""
           },
           "baxis": {
            "gridcolor": "white",
            "linecolor": "white",
            "ticks": ""
           },
           "bgcolor": "#E5ECF6",
           "caxis": {
            "gridcolor": "white",
            "linecolor": "white",
            "ticks": ""
           }
          },
          "title": {
           "x": 0.05
          },
          "xaxis": {
           "automargin": true,
           "gridcolor": "white",
           "linecolor": "white",
           "ticks": "",
           "title": {
            "standoff": 15
           },
           "zerolinecolor": "white",
           "zerolinewidth": 2
          },
          "yaxis": {
           "automargin": true,
           "gridcolor": "white",
           "linecolor": "white",
           "ticks": "",
           "title": {
            "standoff": 15
           },
           "zerolinecolor": "white",
           "zerolinewidth": 2
          }
         }
        },
        "title": {
         "text": "Relation Longueur Texte vs Longueur Titre (par source)"
        },
        "xaxis": {
         "anchor": "y",
         "domain": [
          0,
          1
         ],
         "title": {
          "text": "Longueur du texte (caractères)"
         }
        },
        "yaxis": {
         "anchor": "x",
         "domain": [
          0,
          1
         ],
         "title": {
          "text": "Longueur du titre (caractères)"
         }
        }
       }
      }
     },
     "metadata": {},
     "output_type": "display_data"
    },
    {
     "name": "stdout",
     "output_type": "stream",
     "text": [
      " Pas assez de données temporelles valides pour l'analyse temporelle\n"
     ]
    },
    {
     "data": {
      "application/vnd.plotly.v1+json": {
       "config": {
        "plotlyServerURL": "https://plot.ly"
       },
       "data": [
        {
         "bingroup": "x",
         "hovertemplate": "source=https://www.lemonde.fr/rss/une.xml<br>Longueur du texte (caractères)=%{x}<br>count=%{y}<extra></extra>",
         "legendgroup": "https://www.lemonde.fr/rss/une.xml",
         "marker": {
          "color": "#636efa",
          "pattern": {
           "shape": ""
          }
         },
         "name": "https://www.lemonde.fr/rss/une.xml",
         "nbinsx": 30,
         "orientation": "v",
         "showlegend": true,
         "type": "histogram",
         "x": {
          "bdata": "PQnkGTgGswWqBqoDCQkrCDMLygVTB9sIQAWFBUgHNwZiClkS",
          "dtype": "i2"
         },
         "xaxis": "x",
         "yaxis": "y"
        },
        {
         "bingroup": "x",
         "hovertemplate": "source=https://www.france24.com/fr/rss<br>Longueur du texte (caractères)=%{x}<br>count=%{y}<extra></extra>",
         "legendgroup": "https://www.france24.com/fr/rss",
         "marker": {
          "color": "#EF553B",
          "pattern": {
           "shape": ""
          }
         },
         "name": "https://www.france24.com/fr/rss",
         "nbinsx": 30,
         "orientation": "v",
         "showlegend": true,
         "type": "histogram",
         "x": {
          "bdata": "jR7cI7EBVwFxAawGUhhvAcsBEAI7AX4B+wE+AacLrRA=",
          "dtype": "i2"
         },
         "xaxis": "x",
         "yaxis": "y"
        },
        {
         "bingroup": "x",
         "hovertemplate": "source=https://www.rfi.fr/fr/rss<br>Longueur du texte (caractères)=%{x}<br>count=%{y}<extra></extra>",
         "legendgroup": "https://www.rfi.fr/fr/rss",
         "marker": {
          "color": "#00cc96",
          "pattern": {
           "shape": ""
          }
         },
         "name": "https://www.rfi.fr/fr/rss",
         "nbinsx": 30,
         "orientation": "v",
         "showlegend": true,
         "type": "histogram",
         "x": {
          "bdata": "AxxsDtII9gK3CDMI6QinCM4HCQf4BocRqAR1FoIZfArjDJEKyBt+DSoEwAFABv0H",
          "dtype": "i2"
         },
         "xaxis": "x",
         "yaxis": "y"
        },
        {
         "bingroup": "x",
         "hovertemplate": "source=https://www.lexpress.fr/rss/actualite.xml<br>Longueur du texte (caractères)=%{x}<br>count=%{y}<extra></extra>",
         "legendgroup": "https://www.lexpress.fr/rss/actualite.xml",
         "marker": {
          "color": "#ab63fa",
          "pattern": {
           "shape": ""
          }
         },
         "name": "https://www.lexpress.fr/rss/actualite.xml",
         "nbinsx": 30,
         "orientation": "v",
         "showlegend": true,
         "type": "histogram",
         "x": {
          "bdata": "dTnQK6ETNx41BQwbshJGKxYSmQ/WCV4Z7Aq3IrcSdj75CwUYExNUD2QILh6uBpUn/hPzE44PthV/KIwKgh99DDsfwRF8DuUTqhIKB8YRWB3eB6MaaRUmK/EX6BFlEy0XRhO7EocGvDN7E0YUZxAWGfAQlyVaFAwZqglbDkUG7kriMw0OcxgqCsQJHxFHDN4OezgRDHYbYke4Fvkq4BFOEXg1vxRCC58fYw5mGe4HvRv8ESgJBxHzI9gSCzFBDtsT4wq6Ef0K",
          "dtype": "i2"
         },
         "xaxis": "x",
         "yaxis": "y"
        },
        {
         "bingroup": "x",
         "hovertemplate": "source=https://www.nouvelobs.com/rss.xml<br>Longueur du texte (caractères)=%{x}<br>count=%{y}<extra></extra>",
         "legendgroup": "https://www.nouvelobs.com/rss.xml",
         "marker": {
          "color": "#FFA15A",
          "pattern": {
           "shape": ""
          }
         },
         "name": "https://www.nouvelobs.com/rss.xml",
         "nbinsx": 30,
         "orientation": "v",
         "showlegend": true,
         "type": "histogram",
         "x": {
          "bdata": "+guSF6gFXwU/FfUCdgTsAtgFBxG4Cq4D4QSKBoobbAcXB6ESdgckFIoMbwWhElcMNQf3A/kCOgwFEzwFjBJTBv8E1BU6E/0IRwq1AcEZvQLOCqkCmxRiB6sOZxv6BAUF/gXKBSEW5gUXCQcFUh7tA6kCUAq+DgsJ4gw5D0oVlBAvBjoQ+QbuBOACVAssBjQOhge0BsYcAwfxBC8XHQaCNeAHSQPqAgoFVwXcAlIN/xHiBp4Fpgj6BJwJMA5ZBucF0gwXD5AXtA57BXYG0waiBOMIyhHZDBIFdgbSBj4KKwfgA1YEShA6BvMFbQO9BXUTjhWuB3APnhLUDPcVngWBARwbLgMvCg==",
          "dtype": "i2"
         },
         "xaxis": "x",
         "yaxis": "y"
        },
        {
         "bingroup": "x",
         "hovertemplate": "source=https://www.euronews.com/rss?level=theme&name=news<br>Longueur du texte (caractères)=%{x}<br>count=%{y}<extra></extra>",
         "legendgroup": "https://www.euronews.com/rss?level=theme&name=news",
         "marker": {
          "color": "#19d3f3",
          "pattern": {
           "shape": ""
          }
         },
         "name": "https://www.euronews.com/rss?level=theme&name=news",
         "nbinsx": 30,
         "orientation": "v",
         "showlegend": true,
         "type": "histogram",
         "x": {
          "bdata": "+wstDtQHzgqJBkcO4Aj8CKwMogodIQcMUigXCRoSURHSDJ4HuglhDGUH8wZMCboKIghiCCYRrAy+CqATPQrfDg==",
          "dtype": "i2"
         },
         "xaxis": "x",
         "yaxis": "y"
        },
        {
         "bingroup": "x",
         "hovertemplate": "source=https://www.huffingtonpost.fr/feeds/index.xml<br>Longueur du texte (caractères)=%{x}<br>count=%{y}<extra></extra>",
         "legendgroup": "https://www.huffingtonpost.fr/feeds/index.xml",
         "marker": {
          "color": "#FF6692",
          "pattern": {
           "shape": ""
          }
         },
         "name": "https://www.huffingtonpost.fr/feeds/index.xml",
         "nbinsx": 30,
         "orientation": "v",
         "showlegend": true,
         "type": "histogram",
         "x": {
          "bdata": "ZhO8EZoWQA2GCu8Jbw2mCpsLhBAoDP8SeA3sDZcJdQvmE64Nuhj/CA==",
          "dtype": "i2"
         },
         "xaxis": "x",
         "yaxis": "y"
        },
        {
         "bingroup": "x",
         "hovertemplate": "source=https://rss.nytimes.com/services/xml/rss/nyt/World.xml<br>Longueur du texte (caractères)=%{x}<br>count=%{y}<extra></extra>",
         "legendgroup": "https://rss.nytimes.com/services/xml/rss/nyt/World.xml",
         "marker": {
          "color": "#B6E880",
          "pattern": {
           "shape": ""
          }
         },
         "name": "https://rss.nytimes.com/services/xml/rss/nyt/World.xml",
         "nbinsx": 30,
         "orientation": "v",
         "showlegend": true,
         "type": "histogram",
         "x": {
          "bdata": "eQQcBGMEEgTdA5YErAQMBL8ElwPmAxsDuAKaAzoDdwarA3QCywOxBNcDHgXGBnoDpwX4BYIEfAO/BIsFuwOFAx4FYARkBfkDVgO3A5wDzANtA64D7wP/BGsELwSRBGoCLgQfBDIEXgTJBNUC+QI=",
          "dtype": "i2"
         },
         "xaxis": "x",
         "yaxis": "y"
        }
       ],
       "layout": {
        "bargap": 0.1,
        "barmode": "relative",
        "height": 500,
        "legend": {
         "title": {
          "text": "source"
         },
         "tracegroupgap": 0
        },
        "template": {
         "data": {
          "bar": [
           {
            "error_x": {
             "color": "#2a3f5f"
            },
            "error_y": {
             "color": "#2a3f5f"
            },
            "marker": {
             "line": {
              "color": "#E5ECF6",
              "width": 0.5
             },
             "pattern": {
              "fillmode": "overlay",
              "size": 10,
              "solidity": 0.2
             }
            },
            "type": "bar"
           }
          ],
          "barpolar": [
           {
            "marker": {
             "line": {
              "color": "#E5ECF6",
              "width": 0.5
             },
             "pattern": {
              "fillmode": "overlay",
              "size": 10,
              "solidity": 0.2
             }
            },
            "type": "barpolar"
           }
          ],
          "carpet": [
           {
            "aaxis": {
             "endlinecolor": "#2a3f5f",
             "gridcolor": "white",
             "linecolor": "white",
             "minorgridcolor": "white",
             "startlinecolor": "#2a3f5f"
            },
            "baxis": {
             "endlinecolor": "#2a3f5f",
             "gridcolor": "white",
             "linecolor": "white",
             "minorgridcolor": "white",
             "startlinecolor": "#2a3f5f"
            },
            "type": "carpet"
           }
          ],
          "choropleth": [
           {
            "colorbar": {
             "outlinewidth": 0,
             "ticks": ""
            },
            "type": "choropleth"
           }
          ],
          "contour": [
           {
            "colorbar": {
             "outlinewidth": 0,
             "ticks": ""
            },
            "colorscale": [
             [
              0,
              "#0d0887"
             ],
             [
              0.1111111111111111,
              "#46039f"
             ],
             [
              0.2222222222222222,
              "#7201a8"
             ],
             [
              0.3333333333333333,
              "#9c179e"
             ],
             [
              0.4444444444444444,
              "#bd3786"
             ],
             [
              0.5555555555555556,
              "#d8576b"
             ],
             [
              0.6666666666666666,
              "#ed7953"
             ],
             [
              0.7777777777777778,
              "#fb9f3a"
             ],
             [
              0.8888888888888888,
              "#fdca26"
             ],
             [
              1,
              "#f0f921"
             ]
            ],
            "type": "contour"
           }
          ],
          "contourcarpet": [
           {
            "colorbar": {
             "outlinewidth": 0,
             "ticks": ""
            },
            "type": "contourcarpet"
           }
          ],
          "heatmap": [
           {
            "colorbar": {
             "outlinewidth": 0,
             "ticks": ""
            },
            "colorscale": [
             [
              0,
              "#0d0887"
             ],
             [
              0.1111111111111111,
              "#46039f"
             ],
             [
              0.2222222222222222,
              "#7201a8"
             ],
             [
              0.3333333333333333,
              "#9c179e"
             ],
             [
              0.4444444444444444,
              "#bd3786"
             ],
             [
              0.5555555555555556,
              "#d8576b"
             ],
             [
              0.6666666666666666,
              "#ed7953"
             ],
             [
              0.7777777777777778,
              "#fb9f3a"
             ],
             [
              0.8888888888888888,
              "#fdca26"
             ],
             [
              1,
              "#f0f921"
             ]
            ],
            "type": "heatmap"
           }
          ],
          "histogram": [
           {
            "marker": {
             "pattern": {
              "fillmode": "overlay",
              "size": 10,
              "solidity": 0.2
             }
            },
            "type": "histogram"
           }
          ],
          "histogram2d": [
           {
            "colorbar": {
             "outlinewidth": 0,
             "ticks": ""
            },
            "colorscale": [
             [
              0,
              "#0d0887"
             ],
             [
              0.1111111111111111,
              "#46039f"
             ],
             [
              0.2222222222222222,
              "#7201a8"
             ],
             [
              0.3333333333333333,
              "#9c179e"
             ],
             [
              0.4444444444444444,
              "#bd3786"
             ],
             [
              0.5555555555555556,
              "#d8576b"
             ],
             [
              0.6666666666666666,
              "#ed7953"
             ],
             [
              0.7777777777777778,
              "#fb9f3a"
             ],
             [
              0.8888888888888888,
              "#fdca26"
             ],
             [
              1,
              "#f0f921"
             ]
            ],
            "type": "histogram2d"
           }
          ],
          "histogram2dcontour": [
           {
            "colorbar": {
             "outlinewidth": 0,
             "ticks": ""
            },
            "colorscale": [
             [
              0,
              "#0d0887"
             ],
             [
              0.1111111111111111,
              "#46039f"
             ],
             [
              0.2222222222222222,
              "#7201a8"
             ],
             [
              0.3333333333333333,
              "#9c179e"
             ],
             [
              0.4444444444444444,
              "#bd3786"
             ],
             [
              0.5555555555555556,
              "#d8576b"
             ],
             [
              0.6666666666666666,
              "#ed7953"
             ],
             [
              0.7777777777777778,
              "#fb9f3a"
             ],
             [
              0.8888888888888888,
              "#fdca26"
             ],
             [
              1,
              "#f0f921"
             ]
            ],
            "type": "histogram2dcontour"
           }
          ],
          "mesh3d": [
           {
            "colorbar": {
             "outlinewidth": 0,
             "ticks": ""
            },
            "type": "mesh3d"
           }
          ],
          "parcoords": [
           {
            "line": {
             "colorbar": {
              "outlinewidth": 0,
              "ticks": ""
             }
            },
            "type": "parcoords"
           }
          ],
          "pie": [
           {
            "automargin": true,
            "type": "pie"
           }
          ],
          "scatter": [
           {
            "fillpattern": {
             "fillmode": "overlay",
             "size": 10,
             "solidity": 0.2
            },
            "type": "scatter"
           }
          ],
          "scatter3d": [
           {
            "line": {
             "colorbar": {
              "outlinewidth": 0,
              "ticks": ""
             }
            },
            "marker": {
             "colorbar": {
              "outlinewidth": 0,
              "ticks": ""
             }
            },
            "type": "scatter3d"
           }
          ],
          "scattercarpet": [
           {
            "marker": {
             "colorbar": {
              "outlinewidth": 0,
              "ticks": ""
             }
            },
            "type": "scattercarpet"
           }
          ],
          "scattergeo": [
           {
            "marker": {
             "colorbar": {
              "outlinewidth": 0,
              "ticks": ""
             }
            },
            "type": "scattergeo"
           }
          ],
          "scattergl": [
           {
            "marker": {
             "colorbar": {
              "outlinewidth": 0,
              "ticks": ""
             }
            },
            "type": "scattergl"
           }
          ],
          "scattermap": [
           {
            "marker": {
             "colorbar": {
              "outlinewidth": 0,
              "ticks": ""
             }
            },
            "type": "scattermap"
           }
          ],
          "scattermapbox": [
           {
            "marker": {
             "colorbar": {
              "outlinewidth": 0,
              "ticks": ""
             }
            },
            "type": "scattermapbox"
           }
          ],
          "scatterpolar": [
           {
            "marker": {
             "colorbar": {
              "outlinewidth": 0,
              "ticks": ""
             }
            },
            "type": "scatterpolar"
           }
          ],
          "scatterpolargl": [
           {
            "marker": {
             "colorbar": {
              "outlinewidth": 0,
              "ticks": ""
             }
            },
            "type": "scatterpolargl"
           }
          ],
          "scatterternary": [
           {
            "marker": {
             "colorbar": {
              "outlinewidth": 0,
              "ticks": ""
             }
            },
            "type": "scatterternary"
           }
          ],
          "surface": [
           {
            "colorbar": {
             "outlinewidth": 0,
             "ticks": ""
            },
            "colorscale": [
             [
              0,
              "#0d0887"
             ],
             [
              0.1111111111111111,
              "#46039f"
             ],
             [
              0.2222222222222222,
              "#7201a8"
             ],
             [
              0.3333333333333333,
              "#9c179e"
             ],
             [
              0.4444444444444444,
              "#bd3786"
             ],
             [
              0.5555555555555556,
              "#d8576b"
             ],
             [
              0.6666666666666666,
              "#ed7953"
             ],
             [
              0.7777777777777778,
              "#fb9f3a"
             ],
             [
              0.8888888888888888,
              "#fdca26"
             ],
             [
              1,
              "#f0f921"
             ]
            ],
            "type": "surface"
           }
          ],
          "table": [
           {
            "cells": {
             "fill": {
              "color": "#EBF0F8"
             },
             "line": {
              "color": "white"
             }
            },
            "header": {
             "fill": {
              "color": "#C8D4E3"
             },
             "line": {
              "color": "white"
             }
            },
            "type": "table"
           }
          ]
         },
         "layout": {
          "annotationdefaults": {
           "arrowcolor": "#2a3f5f",
           "arrowhead": 0,
           "arrowwidth": 1
          },
          "autotypenumbers": "strict",
          "coloraxis": {
           "colorbar": {
            "outlinewidth": 0,
            "ticks": ""
           }
          },
          "colorscale": {
           "diverging": [
            [
             0,
             "#8e0152"
            ],
            [
             0.1,
             "#c51b7d"
            ],
            [
             0.2,
             "#de77ae"
            ],
            [
             0.3,
             "#f1b6da"
            ],
            [
             0.4,
             "#fde0ef"
            ],
            [
             0.5,
             "#f7f7f7"
            ],
            [
             0.6,
             "#e6f5d0"
            ],
            [
             0.7,
             "#b8e186"
            ],
            [
             0.8,
             "#7fbc41"
            ],
            [
             0.9,
             "#4d9221"
            ],
            [
             1,
             "#276419"
            ]
           ],
           "sequential": [
            [
             0,
             "#0d0887"
            ],
            [
             0.1111111111111111,
             "#46039f"
            ],
            [
             0.2222222222222222,
             "#7201a8"
            ],
            [
             0.3333333333333333,
             "#9c179e"
            ],
            [
             0.4444444444444444,
             "#bd3786"
            ],
            [
             0.5555555555555556,
             "#d8576b"
            ],
            [
             0.6666666666666666,
             "#ed7953"
            ],
            [
             0.7777777777777778,
             "#fb9f3a"
            ],
            [
             0.8888888888888888,
             "#fdca26"
            ],
            [
             1,
             "#f0f921"
            ]
           ],
           "sequentialminus": [
            [
             0,
             "#0d0887"
            ],
            [
             0.1111111111111111,
             "#46039f"
            ],
            [
             0.2222222222222222,
             "#7201a8"
            ],
            [
             0.3333333333333333,
             "#9c179e"
            ],
            [
             0.4444444444444444,
             "#bd3786"
            ],
            [
             0.5555555555555556,
             "#d8576b"
            ],
            [
             0.6666666666666666,
             "#ed7953"
            ],
            [
             0.7777777777777778,
             "#fb9f3a"
            ],
            [
             0.8888888888888888,
             "#fdca26"
            ],
            [
             1,
             "#f0f921"
            ]
           ]
          },
          "colorway": [
           "#636efa",
           "#EF553B",
           "#00cc96",
           "#ab63fa",
           "#FFA15A",
           "#19d3f3",
           "#FF6692",
           "#B6E880",
           "#FF97FF",
           "#FECB52"
          ],
          "font": {
           "color": "#2a3f5f"
          },
          "geo": {
           "bgcolor": "white",
           "lakecolor": "white",
           "landcolor": "#E5ECF6",
           "showlakes": true,
           "showland": true,
           "subunitcolor": "white"
          },
          "hoverlabel": {
           "align": "left"
          },
          "hovermode": "closest",
          "mapbox": {
           "style": "light"
          },
          "paper_bgcolor": "white",
          "plot_bgcolor": "#E5ECF6",
          "polar": {
           "angularaxis": {
            "gridcolor": "white",
            "linecolor": "white",
            "ticks": ""
           },
           "bgcolor": "#E5ECF6",
           "radialaxis": {
            "gridcolor": "white",
            "linecolor": "white",
            "ticks": ""
           }
          },
          "scene": {
           "xaxis": {
            "backgroundcolor": "#E5ECF6",
            "gridcolor": "white",
            "gridwidth": 2,
            "linecolor": "white",
            "showbackground": true,
            "ticks": "",
            "zerolinecolor": "white"
           },
           "yaxis": {
            "backgroundcolor": "#E5ECF6",
            "gridcolor": "white",
            "gridwidth": 2,
            "linecolor": "white",
            "showbackground": true,
            "ticks": "",
            "zerolinecolor": "white"
           },
           "zaxis": {
            "backgroundcolor": "#E5ECF6",
            "gridcolor": "white",
            "gridwidth": 2,
            "linecolor": "white",
            "showbackground": true,
            "ticks": "",
            "zerolinecolor": "white"
           }
          },
          "shapedefaults": {
           "line": {
            "color": "#2a3f5f"
           }
          },
          "ternary": {
           "aaxis": {
            "gridcolor": "white",
            "linecolor": "white",
            "ticks": ""
           },
           "baxis": {
            "gridcolor": "white",
            "linecolor": "white",
            "ticks": ""
           },
           "bgcolor": "#E5ECF6",
           "caxis": {
            "gridcolor": "white",
            "linecolor": "white",
            "ticks": ""
           }
          },
          "title": {
           "x": 0.05
          },
          "xaxis": {
           "automargin": true,
           "gridcolor": "white",
           "linecolor": "white",
           "ticks": "",
           "title": {
            "standoff": 15
           },
           "zerolinecolor": "white",
           "zerolinewidth": 2
          },
          "yaxis": {
           "automargin": true,
           "gridcolor": "white",
           "linecolor": "white",
           "ticks": "",
           "title": {
            "standoff": 15
           },
           "zerolinecolor": "white",
           "zerolinewidth": 2
          }
         }
        },
        "title": {
         "text": " Distribution des Longueurs de Texte par Source"
        },
        "xaxis": {
         "anchor": "y",
         "domain": [
          0,
          1
         ],
         "title": {
          "text": "Longueur du texte (caractères)"
         }
        },
        "yaxis": {
         "anchor": "x",
         "domain": [
          0,
          1
         ],
         "title": {
          "text": "count"
         }
        }
       }
      }
     },
     "metadata": {},
     "output_type": "display_data"
    },
    {
     "data": {
      "application/vnd.plotly.v1+json": {
       "config": {
        "plotlyServerURL": "https://plot.ly"
       },
       "data": [
        {
         "domain": {
          "x": [
           0,
           1
          ],
          "y": [
           0,
           1
          ]
         },
         "hovertemplate": "<b>%{label}</b><br>Articles: %{value}<br>Pourcentage: %{percent}<extra></extra>",
         "labels": [
          "rss",
          "actualite",
          "World",
          "rss?level=theme&name=news",
          "rss",
          "index",
          "une",
          "rss"
         ],
         "legendgroup": "",
         "name": "",
         "showlegend": true,
         "textinfo": "percent+label",
         "textposition": "inside",
         "type": "pie",
         "values": {
          "bdata": "gwBjADcAIAAYABQAEgAQAA==",
          "dtype": "i2"
         }
        }
       ],
       "layout": {
        "height": 500,
        "legend": {
         "tracegroupgap": 0
        },
        "showlegend": true,
        "template": {
         "data": {
          "bar": [
           {
            "error_x": {
             "color": "#2a3f5f"
            },
            "error_y": {
             "color": "#2a3f5f"
            },
            "marker": {
             "line": {
              "color": "#E5ECF6",
              "width": 0.5
             },
             "pattern": {
              "fillmode": "overlay",
              "size": 10,
              "solidity": 0.2
             }
            },
            "type": "bar"
           }
          ],
          "barpolar": [
           {
            "marker": {
             "line": {
              "color": "#E5ECF6",
              "width": 0.5
             },
             "pattern": {
              "fillmode": "overlay",
              "size": 10,
              "solidity": 0.2
             }
            },
            "type": "barpolar"
           }
          ],
          "carpet": [
           {
            "aaxis": {
             "endlinecolor": "#2a3f5f",
             "gridcolor": "white",
             "linecolor": "white",
             "minorgridcolor": "white",
             "startlinecolor": "#2a3f5f"
            },
            "baxis": {
             "endlinecolor": "#2a3f5f",
             "gridcolor": "white",
             "linecolor": "white",
             "minorgridcolor": "white",
             "startlinecolor": "#2a3f5f"
            },
            "type": "carpet"
           }
          ],
          "choropleth": [
           {
            "colorbar": {
             "outlinewidth": 0,
             "ticks": ""
            },
            "type": "choropleth"
           }
          ],
          "contour": [
           {
            "colorbar": {
             "outlinewidth": 0,
             "ticks": ""
            },
            "colorscale": [
             [
              0,
              "#0d0887"
             ],
             [
              0.1111111111111111,
              "#46039f"
             ],
             [
              0.2222222222222222,
              "#7201a8"
             ],
             [
              0.3333333333333333,
              "#9c179e"
             ],
             [
              0.4444444444444444,
              "#bd3786"
             ],
             [
              0.5555555555555556,
              "#d8576b"
             ],
             [
              0.6666666666666666,
              "#ed7953"
             ],
             [
              0.7777777777777778,
              "#fb9f3a"
             ],
             [
              0.8888888888888888,
              "#fdca26"
             ],
             [
              1,
              "#f0f921"
             ]
            ],
            "type": "contour"
           }
          ],
          "contourcarpet": [
           {
            "colorbar": {
             "outlinewidth": 0,
             "ticks": ""
            },
            "type": "contourcarpet"
           }
          ],
          "heatmap": [
           {
            "colorbar": {
             "outlinewidth": 0,
             "ticks": ""
            },
            "colorscale": [
             [
              0,
              "#0d0887"
             ],
             [
              0.1111111111111111,
              "#46039f"
             ],
             [
              0.2222222222222222,
              "#7201a8"
             ],
             [
              0.3333333333333333,
              "#9c179e"
             ],
             [
              0.4444444444444444,
              "#bd3786"
             ],
             [
              0.5555555555555556,
              "#d8576b"
             ],
             [
              0.6666666666666666,
              "#ed7953"
             ],
             [
              0.7777777777777778,
              "#fb9f3a"
             ],
             [
              0.8888888888888888,
              "#fdca26"
             ],
             [
              1,
              "#f0f921"
             ]
            ],
            "type": "heatmap"
           }
          ],
          "histogram": [
           {
            "marker": {
             "pattern": {
              "fillmode": "overlay",
              "size": 10,
              "solidity": 0.2
             }
            },
            "type": "histogram"
           }
          ],
          "histogram2d": [
           {
            "colorbar": {
             "outlinewidth": 0,
             "ticks": ""
            },
            "colorscale": [
             [
              0,
              "#0d0887"
             ],
             [
              0.1111111111111111,
              "#46039f"
             ],
             [
              0.2222222222222222,
              "#7201a8"
             ],
             [
              0.3333333333333333,
              "#9c179e"
             ],
             [
              0.4444444444444444,
              "#bd3786"
             ],
             [
              0.5555555555555556,
              "#d8576b"
             ],
             [
              0.6666666666666666,
              "#ed7953"
             ],
             [
              0.7777777777777778,
              "#fb9f3a"
             ],
             [
              0.8888888888888888,
              "#fdca26"
             ],
             [
              1,
              "#f0f921"
             ]
            ],
            "type": "histogram2d"
           }
          ],
          "histogram2dcontour": [
           {
            "colorbar": {
             "outlinewidth": 0,
             "ticks": ""
            },
            "colorscale": [
             [
              0,
              "#0d0887"
             ],
             [
              0.1111111111111111,
              "#46039f"
             ],
             [
              0.2222222222222222,
              "#7201a8"
             ],
             [
              0.3333333333333333,
              "#9c179e"
             ],
             [
              0.4444444444444444,
              "#bd3786"
             ],
             [
              0.5555555555555556,
              "#d8576b"
             ],
             [
              0.6666666666666666,
              "#ed7953"
             ],
             [
              0.7777777777777778,
              "#fb9f3a"
             ],
             [
              0.8888888888888888,
              "#fdca26"
             ],
             [
              1,
              "#f0f921"
             ]
            ],
            "type": "histogram2dcontour"
           }
          ],
          "mesh3d": [
           {
            "colorbar": {
             "outlinewidth": 0,
             "ticks": ""
            },
            "type": "mesh3d"
           }
          ],
          "parcoords": [
           {
            "line": {
             "colorbar": {
              "outlinewidth": 0,
              "ticks": ""
             }
            },
            "type": "parcoords"
           }
          ],
          "pie": [
           {
            "automargin": true,
            "type": "pie"
           }
          ],
          "scatter": [
           {
            "fillpattern": {
             "fillmode": "overlay",
             "size": 10,
             "solidity": 0.2
            },
            "type": "scatter"
           }
          ],
          "scatter3d": [
           {
            "line": {
             "colorbar": {
              "outlinewidth": 0,
              "ticks": ""
             }
            },
            "marker": {
             "colorbar": {
              "outlinewidth": 0,
              "ticks": ""
             }
            },
            "type": "scatter3d"
           }
          ],
          "scattercarpet": [
           {
            "marker": {
             "colorbar": {
              "outlinewidth": 0,
              "ticks": ""
             }
            },
            "type": "scattercarpet"
           }
          ],
          "scattergeo": [
           {
            "marker": {
             "colorbar": {
              "outlinewidth": 0,
              "ticks": ""
             }
            },
            "type": "scattergeo"
           }
          ],
          "scattergl": [
           {
            "marker": {
             "colorbar": {
              "outlinewidth": 0,
              "ticks": ""
             }
            },
            "type": "scattergl"
           }
          ],
          "scattermap": [
           {
            "marker": {
             "colorbar": {
              "outlinewidth": 0,
              "ticks": ""
             }
            },
            "type": "scattermap"
           }
          ],
          "scattermapbox": [
           {
            "marker": {
             "colorbar": {
              "outlinewidth": 0,
              "ticks": ""
             }
            },
            "type": "scattermapbox"
           }
          ],
          "scatterpolar": [
           {
            "marker": {
             "colorbar": {
              "outlinewidth": 0,
              "ticks": ""
             }
            },
            "type": "scatterpolar"
           }
          ],
          "scatterpolargl": [
           {
            "marker": {
             "colorbar": {
              "outlinewidth": 0,
              "ticks": ""
             }
            },
            "type": "scatterpolargl"
           }
          ],
          "scatterternary": [
           {
            "marker": {
             "colorbar": {
              "outlinewidth": 0,
              "ticks": ""
             }
            },
            "type": "scatterternary"
           }
          ],
          "surface": [
           {
            "colorbar": {
             "outlinewidth": 0,
             "ticks": ""
            },
            "colorscale": [
             [
              0,
              "#0d0887"
             ],
             [
              0.1111111111111111,
              "#46039f"
             ],
             [
              0.2222222222222222,
              "#7201a8"
             ],
             [
              0.3333333333333333,
              "#9c179e"
             ],
             [
              0.4444444444444444,
              "#bd3786"
             ],
             [
              0.5555555555555556,
              "#d8576b"
             ],
             [
              0.6666666666666666,
              "#ed7953"
             ],
             [
              0.7777777777777778,
              "#fb9f3a"
             ],
             [
              0.8888888888888888,
              "#fdca26"
             ],
             [
              1,
              "#f0f921"
             ]
            ],
            "type": "surface"
           }
          ],
          "table": [
           {
            "cells": {
             "fill": {
              "color": "#EBF0F8"
             },
             "line": {
              "color": "white"
             }
            },
            "header": {
             "fill": {
              "color": "#C8D4E3"
             },
             "line": {
              "color": "white"
             }
            },
            "type": "table"
           }
          ]
         },
         "layout": {
          "annotationdefaults": {
           "arrowcolor": "#2a3f5f",
           "arrowhead": 0,
           "arrowwidth": 1
          },
          "autotypenumbers": "strict",
          "coloraxis": {
           "colorbar": {
            "outlinewidth": 0,
            "ticks": ""
           }
          },
          "colorscale": {
           "diverging": [
            [
             0,
             "#8e0152"
            ],
            [
             0.1,
             "#c51b7d"
            ],
            [
             0.2,
             "#de77ae"
            ],
            [
             0.3,
             "#f1b6da"
            ],
            [
             0.4,
             "#fde0ef"
            ],
            [
             0.5,
             "#f7f7f7"
            ],
            [
             0.6,
             "#e6f5d0"
            ],
            [
             0.7,
             "#b8e186"
            ],
            [
             0.8,
             "#7fbc41"
            ],
            [
             0.9,
             "#4d9221"
            ],
            [
             1,
             "#276419"
            ]
           ],
           "sequential": [
            [
             0,
             "#0d0887"
            ],
            [
             0.1111111111111111,
             "#46039f"
            ],
            [
             0.2222222222222222,
             "#7201a8"
            ],
            [
             0.3333333333333333,
             "#9c179e"
            ],
            [
             0.4444444444444444,
             "#bd3786"
            ],
            [
             0.5555555555555556,
             "#d8576b"
            ],
            [
             0.6666666666666666,
             "#ed7953"
            ],
            [
             0.7777777777777778,
             "#fb9f3a"
            ],
            [
             0.8888888888888888,
             "#fdca26"
            ],
            [
             1,
             "#f0f921"
            ]
           ],
           "sequentialminus": [
            [
             0,
             "#0d0887"
            ],
            [
             0.1111111111111111,
             "#46039f"
            ],
            [
             0.2222222222222222,
             "#7201a8"
            ],
            [
             0.3333333333333333,
             "#9c179e"
            ],
            [
             0.4444444444444444,
             "#bd3786"
            ],
            [
             0.5555555555555556,
             "#d8576b"
            ],
            [
             0.6666666666666666,
             "#ed7953"
            ],
            [
             0.7777777777777778,
             "#fb9f3a"
            ],
            [
             0.8888888888888888,
             "#fdca26"
            ],
            [
             1,
             "#f0f921"
            ]
           ]
          },
          "colorway": [
           "#636efa",
           "#EF553B",
           "#00cc96",
           "#ab63fa",
           "#FFA15A",
           "#19d3f3",
           "#FF6692",
           "#B6E880",
           "#FF97FF",
           "#FECB52"
          ],
          "font": {
           "color": "#2a3f5f"
          },
          "geo": {
           "bgcolor": "white",
           "lakecolor": "white",
           "landcolor": "#E5ECF6",
           "showlakes": true,
           "showland": true,
           "subunitcolor": "white"
          },
          "hoverlabel": {
           "align": "left"
          },
          "hovermode": "closest",
          "mapbox": {
           "style": "light"
          },
          "paper_bgcolor": "white",
          "plot_bgcolor": "#E5ECF6",
          "polar": {
           "angularaxis": {
            "gridcolor": "white",
            "linecolor": "white",
            "ticks": ""
           },
           "bgcolor": "#E5ECF6",
           "radialaxis": {
            "gridcolor": "white",
            "linecolor": "white",
            "ticks": ""
           }
          },
          "scene": {
           "xaxis": {
            "backgroundcolor": "#E5ECF6",
            "gridcolor": "white",
            "gridwidth": 2,
            "linecolor": "white",
            "showbackground": true,
            "ticks": "",
            "zerolinecolor": "white"
           },
           "yaxis": {
            "backgroundcolor": "#E5ECF6",
            "gridcolor": "white",
            "gridwidth": 2,
            "linecolor": "white",
            "showbackground": true,
            "ticks": "",
            "zerolinecolor": "white"
           },
           "zaxis": {
            "backgroundcolor": "#E5ECF6",
            "gridcolor": "white",
            "gridwidth": 2,
            "linecolor": "white",
            "showbackground": true,
            "ticks": "",
            "zerolinecolor": "white"
           }
          },
          "shapedefaults": {
           "line": {
            "color": "#2a3f5f"
           }
          },
          "ternary": {
           "aaxis": {
            "gridcolor": "white",
            "linecolor": "white",
            "ticks": ""
           },
           "baxis": {
            "gridcolor": "white",
            "linecolor": "white",
            "ticks": ""
           },
           "bgcolor": "#E5ECF6",
           "caxis": {
            "gridcolor": "white",
            "linecolor": "white",
            "ticks": ""
           }
          },
          "title": {
           "x": 0.05
          },
          "xaxis": {
           "automargin": true,
           "gridcolor": "white",
           "linecolor": "white",
           "ticks": "",
           "title": {
            "standoff": 15
           },
           "zerolinecolor": "white",
           "zerolinewidth": 2
          },
          "yaxis": {
           "automargin": true,
           "gridcolor": "white",
           "linecolor": "white",
           "ticks": "",
           "title": {
            "standoff": 15
           },
           "zerolinecolor": "white",
           "zerolinewidth": 2
          }
         }
        },
        "title": {
         "text": " Distribution des Articles par Source RSS"
        }
       }
      }
     },
     "metadata": {},
     "output_type": "display_data"
    },
    {
     "name": "stdout",
     "output_type": "stream",
     "text": [
      " Pas de données d'heure/jour pour la heatmap\n"
     ]
    },
    {
     "data": {
      "application/vnd.plotly.v1+json": {
       "config": {
        "plotlyServerURL": "https://plot.ly"
       },
       "data": [
        {
         "hovertemplate": "Fréquence=%{x}<br>Mots-clés=%{y}<extra></extra>",
         "legendgroup": "",
         "marker": {
          "color": "#636efa",
          "pattern": {
           "shape": ""
          }
         },
         "name": "",
         "orientation": "h",
         "showlegend": false,
         "textposition": "auto",
         "type": "bar",
         "x": {
          "bdata": "HRoYGBcWFRUODQwMCwsL",
          "dtype": "i1"
         },
         "xaxis": "x",
         "y": [
          "trump",
          "gaza",
          "contre",
          "qui",
          "ukraine",
          "loi",
          "france",
          "duplomb",
          "guerre",
          "après",
          "donald",
          "pétition",
          "israël",
          "ses",
          "iran"
         ],
         "yaxis": "y"
        }
       ],
       "layout": {
        "barmode": "relative",
        "height": 500,
        "legend": {
         "tracegroupgap": 0
        },
        "template": {
         "data": {
          "bar": [
           {
            "error_x": {
             "color": "#2a3f5f"
            },
            "error_y": {
             "color": "#2a3f5f"
            },
            "marker": {
             "line": {
              "color": "#E5ECF6",
              "width": 0.5
             },
             "pattern": {
              "fillmode": "overlay",
              "size": 10,
              "solidity": 0.2
             }
            },
            "type": "bar"
           }
          ],
          "barpolar": [
           {
            "marker": {
             "line": {
              "color": "#E5ECF6",
              "width": 0.5
             },
             "pattern": {
              "fillmode": "overlay",
              "size": 10,
              "solidity": 0.2
             }
            },
            "type": "barpolar"
           }
          ],
          "carpet": [
           {
            "aaxis": {
             "endlinecolor": "#2a3f5f",
             "gridcolor": "white",
             "linecolor": "white",
             "minorgridcolor": "white",
             "startlinecolor": "#2a3f5f"
            },
            "baxis": {
             "endlinecolor": "#2a3f5f",
             "gridcolor": "white",
             "linecolor": "white",
             "minorgridcolor": "white",
             "startlinecolor": "#2a3f5f"
            },
            "type": "carpet"
           }
          ],
          "choropleth": [
           {
            "colorbar": {
             "outlinewidth": 0,
             "ticks": ""
            },
            "type": "choropleth"
           }
          ],
          "contour": [
           {
            "colorbar": {
             "outlinewidth": 0,
             "ticks": ""
            },
            "colorscale": [
             [
              0,
              "#0d0887"
             ],
             [
              0.1111111111111111,
              "#46039f"
             ],
             [
              0.2222222222222222,
              "#7201a8"
             ],
             [
              0.3333333333333333,
              "#9c179e"
             ],
             [
              0.4444444444444444,
              "#bd3786"
             ],
             [
              0.5555555555555556,
              "#d8576b"
             ],
             [
              0.6666666666666666,
              "#ed7953"
             ],
             [
              0.7777777777777778,
              "#fb9f3a"
             ],
             [
              0.8888888888888888,
              "#fdca26"
             ],
             [
              1,
              "#f0f921"
             ]
            ],
            "type": "contour"
           }
          ],
          "contourcarpet": [
           {
            "colorbar": {
             "outlinewidth": 0,
             "ticks": ""
            },
            "type": "contourcarpet"
           }
          ],
          "heatmap": [
           {
            "colorbar": {
             "outlinewidth": 0,
             "ticks": ""
            },
            "colorscale": [
             [
              0,
              "#0d0887"
             ],
             [
              0.1111111111111111,
              "#46039f"
             ],
             [
              0.2222222222222222,
              "#7201a8"
             ],
             [
              0.3333333333333333,
              "#9c179e"
             ],
             [
              0.4444444444444444,
              "#bd3786"
             ],
             [
              0.5555555555555556,
              "#d8576b"
             ],
             [
              0.6666666666666666,
              "#ed7953"
             ],
             [
              0.7777777777777778,
              "#fb9f3a"
             ],
             [
              0.8888888888888888,
              "#fdca26"
             ],
             [
              1,
              "#f0f921"
             ]
            ],
            "type": "heatmap"
           }
          ],
          "histogram": [
           {
            "marker": {
             "pattern": {
              "fillmode": "overlay",
              "size": 10,
              "solidity": 0.2
             }
            },
            "type": "histogram"
           }
          ],
          "histogram2d": [
           {
            "colorbar": {
             "outlinewidth": 0,
             "ticks": ""
            },
            "colorscale": [
             [
              0,
              "#0d0887"
             ],
             [
              0.1111111111111111,
              "#46039f"
             ],
             [
              0.2222222222222222,
              "#7201a8"
             ],
             [
              0.3333333333333333,
              "#9c179e"
             ],
             [
              0.4444444444444444,
              "#bd3786"
             ],
             [
              0.5555555555555556,
              "#d8576b"
             ],
             [
              0.6666666666666666,
              "#ed7953"
             ],
             [
              0.7777777777777778,
              "#fb9f3a"
             ],
             [
              0.8888888888888888,
              "#fdca26"
             ],
             [
              1,
              "#f0f921"
             ]
            ],
            "type": "histogram2d"
           }
          ],
          "histogram2dcontour": [
           {
            "colorbar": {
             "outlinewidth": 0,
             "ticks": ""
            },
            "colorscale": [
             [
              0,
              "#0d0887"
             ],
             [
              0.1111111111111111,
              "#46039f"
             ],
             [
              0.2222222222222222,
              "#7201a8"
             ],
             [
              0.3333333333333333,
              "#9c179e"
             ],
             [
              0.4444444444444444,
              "#bd3786"
             ],
             [
              0.5555555555555556,
              "#d8576b"
             ],
             [
              0.6666666666666666,
              "#ed7953"
             ],
             [
              0.7777777777777778,
              "#fb9f3a"
             ],
             [
              0.8888888888888888,
              "#fdca26"
             ],
             [
              1,
              "#f0f921"
             ]
            ],
            "type": "histogram2dcontour"
           }
          ],
          "mesh3d": [
           {
            "colorbar": {
             "outlinewidth": 0,
             "ticks": ""
            },
            "type": "mesh3d"
           }
          ],
          "parcoords": [
           {
            "line": {
             "colorbar": {
              "outlinewidth": 0,
              "ticks": ""
             }
            },
            "type": "parcoords"
           }
          ],
          "pie": [
           {
            "automargin": true,
            "type": "pie"
           }
          ],
          "scatter": [
           {
            "fillpattern": {
             "fillmode": "overlay",
             "size": 10,
             "solidity": 0.2
            },
            "type": "scatter"
           }
          ],
          "scatter3d": [
           {
            "line": {
             "colorbar": {
              "outlinewidth": 0,
              "ticks": ""
             }
            },
            "marker": {
             "colorbar": {
              "outlinewidth": 0,
              "ticks": ""
             }
            },
            "type": "scatter3d"
           }
          ],
          "scattercarpet": [
           {
            "marker": {
             "colorbar": {
              "outlinewidth": 0,
              "ticks": ""
             }
            },
            "type": "scattercarpet"
           }
          ],
          "scattergeo": [
           {
            "marker": {
             "colorbar": {
              "outlinewidth": 0,
              "ticks": ""
             }
            },
            "type": "scattergeo"
           }
          ],
          "scattergl": [
           {
            "marker": {
             "colorbar": {
              "outlinewidth": 0,
              "ticks": ""
             }
            },
            "type": "scattergl"
           }
          ],
          "scattermap": [
           {
            "marker": {
             "colorbar": {
              "outlinewidth": 0,
              "ticks": ""
             }
            },
            "type": "scattermap"
           }
          ],
          "scattermapbox": [
           {
            "marker": {
             "colorbar": {
              "outlinewidth": 0,
              "ticks": ""
             }
            },
            "type": "scattermapbox"
           }
          ],
          "scatterpolar": [
           {
            "marker": {
             "colorbar": {
              "outlinewidth": 0,
              "ticks": ""
             }
            },
            "type": "scatterpolar"
           }
          ],
          "scatterpolargl": [
           {
            "marker": {
             "colorbar": {
              "outlinewidth": 0,
              "ticks": ""
             }
            },
            "type": "scatterpolargl"
           }
          ],
          "scatterternary": [
           {
            "marker": {
             "colorbar": {
              "outlinewidth": 0,
              "ticks": ""
             }
            },
            "type": "scatterternary"
           }
          ],
          "surface": [
           {
            "colorbar": {
             "outlinewidth": 0,
             "ticks": ""
            },
            "colorscale": [
             [
              0,
              "#0d0887"
             ],
             [
              0.1111111111111111,
              "#46039f"
             ],
             [
              0.2222222222222222,
              "#7201a8"
             ],
             [
              0.3333333333333333,
              "#9c179e"
             ],
             [
              0.4444444444444444,
              "#bd3786"
             ],
             [
              0.5555555555555556,
              "#d8576b"
             ],
             [
              0.6666666666666666,
              "#ed7953"
             ],
             [
              0.7777777777777778,
              "#fb9f3a"
             ],
             [
              0.8888888888888888,
              "#fdca26"
             ],
             [
              1,
              "#f0f921"
             ]
            ],
            "type": "surface"
           }
          ],
          "table": [
           {
            "cells": {
             "fill": {
              "color": "#EBF0F8"
             },
             "line": {
              "color": "white"
             }
            },
            "header": {
             "fill": {
              "color": "#C8D4E3"
             },
             "line": {
              "color": "white"
             }
            },
            "type": "table"
           }
          ]
         },
         "layout": {
          "annotationdefaults": {
           "arrowcolor": "#2a3f5f",
           "arrowhead": 0,
           "arrowwidth": 1
          },
          "autotypenumbers": "strict",
          "coloraxis": {
           "colorbar": {
            "outlinewidth": 0,
            "ticks": ""
           }
          },
          "colorscale": {
           "diverging": [
            [
             0,
             "#8e0152"
            ],
            [
             0.1,
             "#c51b7d"
            ],
            [
             0.2,
             "#de77ae"
            ],
            [
             0.3,
             "#f1b6da"
            ],
            [
             0.4,
             "#fde0ef"
            ],
            [
             0.5,
             "#f7f7f7"
            ],
            [
             0.6,
             "#e6f5d0"
            ],
            [
             0.7,
             "#b8e186"
            ],
            [
             0.8,
             "#7fbc41"
            ],
            [
             0.9,
             "#4d9221"
            ],
            [
             1,
             "#276419"
            ]
           ],
           "sequential": [
            [
             0,
             "#0d0887"
            ],
            [
             0.1111111111111111,
             "#46039f"
            ],
            [
             0.2222222222222222,
             "#7201a8"
            ],
            [
             0.3333333333333333,
             "#9c179e"
            ],
            [
             0.4444444444444444,
             "#bd3786"
            ],
            [
             0.5555555555555556,
             "#d8576b"
            ],
            [
             0.6666666666666666,
             "#ed7953"
            ],
            [
             0.7777777777777778,
             "#fb9f3a"
            ],
            [
             0.8888888888888888,
             "#fdca26"
            ],
            [
             1,
             "#f0f921"
            ]
           ],
           "sequentialminus": [
            [
             0,
             "#0d0887"
            ],
            [
             0.1111111111111111,
             "#46039f"
            ],
            [
             0.2222222222222222,
             "#7201a8"
            ],
            [
             0.3333333333333333,
             "#9c179e"
            ],
            [
             0.4444444444444444,
             "#bd3786"
            ],
            [
             0.5555555555555556,
             "#d8576b"
            ],
            [
             0.6666666666666666,
             "#ed7953"
            ],
            [
             0.7777777777777778,
             "#fb9f3a"
            ],
            [
             0.8888888888888888,
             "#fdca26"
            ],
            [
             1,
             "#f0f921"
            ]
           ]
          },
          "colorway": [
           "#636efa",
           "#EF553B",
           "#00cc96",
           "#ab63fa",
           "#FFA15A",
           "#19d3f3",
           "#FF6692",
           "#B6E880",
           "#FF97FF",
           "#FECB52"
          ],
          "font": {
           "color": "#2a3f5f"
          },
          "geo": {
           "bgcolor": "white",
           "lakecolor": "white",
           "landcolor": "#E5ECF6",
           "showlakes": true,
           "showland": true,
           "subunitcolor": "white"
          },
          "hoverlabel": {
           "align": "left"
          },
          "hovermode": "closest",
          "mapbox": {
           "style": "light"
          },
          "paper_bgcolor": "white",
          "plot_bgcolor": "#E5ECF6",
          "polar": {
           "angularaxis": {
            "gridcolor": "white",
            "linecolor": "white",
            "ticks": ""
           },
           "bgcolor": "#E5ECF6",
           "radialaxis": {
            "gridcolor": "white",
            "linecolor": "white",
            "ticks": ""
           }
          },
          "scene": {
           "xaxis": {
            "backgroundcolor": "#E5ECF6",
            "gridcolor": "white",
            "gridwidth": 2,
            "linecolor": "white",
            "showbackground": true,
            "ticks": "",
            "zerolinecolor": "white"
           },
           "yaxis": {
            "backgroundcolor": "#E5ECF6",
            "gridcolor": "white",
            "gridwidth": 2,
            "linecolor": "white",
            "showbackground": true,
            "ticks": "",
            "zerolinecolor": "white"
           },
           "zaxis": {
            "backgroundcolor": "#E5ECF6",
            "gridcolor": "white",
            "gridwidth": 2,
            "linecolor": "white",
            "showbackground": true,
            "ticks": "",
            "zerolinecolor": "white"
           }
          },
          "shapedefaults": {
           "line": {
            "color": "#2a3f5f"
           }
          },
          "ternary": {
           "aaxis": {
            "gridcolor": "white",
            "linecolor": "white",
            "ticks": ""
           },
           "baxis": {
            "gridcolor": "white",
            "linecolor": "white",
            "ticks": ""
           },
           "bgcolor": "#E5ECF6",
           "caxis": {
            "gridcolor": "white",
            "linecolor": "white",
            "ticks": ""
           }
          },
          "title": {
           "x": 0.05
          },
          "xaxis": {
           "automargin": true,
           "gridcolor": "white",
           "linecolor": "white",
           "ticks": "",
           "title": {
            "standoff": 15
           },
           "zerolinecolor": "white",
           "zerolinewidth": 2
          },
          "yaxis": {
           "automargin": true,
           "gridcolor": "white",
           "linecolor": "white",
           "ticks": "",
           "title": {
            "standoff": 15
           },
           "zerolinecolor": "white",
           "zerolinewidth": 2
          }
         }
        },
        "title": {
         "text": " Top 15 des Mots-Clés dans les Titres"
        },
        "xaxis": {
         "anchor": "y",
         "domain": [
          0,
          1
         ],
         "title": {
          "text": "Fréquence"
         }
        },
        "yaxis": {
         "anchor": "x",
         "categoryorder": "total ascending",
         "domain": [
          0,
          1
         ],
         "title": {
          "text": "Mots-clés"
         }
        }
       }
      }
     },
     "metadata": {},
     "output_type": "display_data"
    },
    {
     "data": {
      "application/vnd.plotly.v1+json": {
       "config": {
        "plotlyServerURL": "https://plot.ly"
       },
       "data": [
        {
         "branchvalues": "total",
         "customdata": {
          "bdata": "h7VvWPuG9T8zMzMzMzMNQIXrUbgehes/ZmZmZmZmEUDNzMzMzMzMP2ZmZmZmZvY/MzMzMzMz0z8zMzMzM7MKQHh3d3d3d/U/RERERERE5D8zMzMzMzPTP/+8QThLJRFAzczMzMzM7D+gn5+fn5/3P2dmZmZm5glAhutRuB6F5z//BOxPwP70PzMzMzMzM9M/uR6F61G4BkBvb29vb2/3P1ZqpVZqpQZAgzqogzqo+z+u1Eqt1ErlPxEREREREfE/d3d3d3d39z+amZmZmZn2PwAAAAAAAP4/KG6F4lYoDkB7/Oa/Gzf9PwAAAAAA4ABAj8L1KFyPA0D+NeJfI/7lPw==",
          "dtype": "f8",
          "shape": "32, 1"
         },
         "domain": {
          "x": [
           0,
           1
          ],
          "y": [
           0,
           1
          ]
         },
         "hovertemplate": "labels=%{label}<br>count=%{value}<br>parent=%{parent}<br>id=%{id}<br>reading_time=%{color}<extra></extra>",
         "ids": [
          "https://www.lemonde.fr/rss/une.xml/Long",
          "https://www.lemonde.fr/rss/une.xml/Très long",
          "https://www.lemonde.fr/rss/une.xml/Moyen",
          "https://www.france24.com/fr/rss/Très long",
          "https://www.france24.com/fr/rss/Court",
          "https://www.france24.com/fr/rss/Long",
          "https://www.france24.com/fr/rss/Moyen",
          "https://www.rfi.fr/fr/rss/Très long",
          "https://www.rfi.fr/fr/rss/Long",
          "https://www.rfi.fr/fr/rss/Moyen",
          "https://www.rfi.fr/fr/rss/Court",
          "https://www.lexpress.fr/rss/actualite.xml/Très long",
          "https://www.lexpress.fr/rss/actualite.xml/Moyen",
          "https://www.lexpress.fr/rss/actualite.xml/Long",
          "https://www.nouvelobs.com/rss.xml/Très long",
          "https://www.nouvelobs.com/rss.xml/Moyen",
          "https://www.nouvelobs.com/rss.xml/Long",
          "https://www.nouvelobs.com/rss.xml/Court",
          "https://www.euronews.com/rss?level=theme&name=news/Très long",
          "https://www.euronews.com/rss?level=theme&name=news/Long",
          "https://www.huffingtonpost.fr/feeds/index.xml/Très long",
          "https://www.huffingtonpost.fr/feeds/index.xml/Long",
          "https://rss.nytimes.com/services/xml/rss/nyt/World.xml/Moyen",
          "https://rss.nytimes.com/services/xml/rss/nyt/World.xml/Long",
          "https://www.lemonde.fr/rss/une.xml",
          "https://www.france24.com/fr/rss",
          "https://www.rfi.fr/fr/rss",
          "https://www.lexpress.fr/rss/actualite.xml",
          "https://www.nouvelobs.com/rss.xml",
          "https://www.euronews.com/rss?level=theme&name=news",
          "https://www.huffingtonpost.fr/feeds/index.xml",
          "https://rss.nytimes.com/services/xml/rss/nyt/World.xml"
         ],
         "labels": [
          "Long",
          "Très long",
          "Moyen",
          "Très long",
          "Court",
          "Long",
          "Moyen",
          "Très long",
          "Long",
          "Moyen",
          "Court",
          "Très long",
          "Moyen",
          "Long",
          "Très long",
          "Moyen",
          "Long",
          "Court",
          "Très long",
          "Long",
          "Très long",
          "Long",
          "Moyen",
          "Long",
          "https://www.lemonde.fr/rss/une.xml",
          "https://www.france24.com/fr/rss",
          "https://www.rfi.fr/fr/rss",
          "https://www.lexpress.fr/rss/actualite.xml",
          "https://www.nouvelobs.com/rss.xml",
          "https://www.euronews.com/rss?level=theme&name=news",
          "https://www.huffingtonpost.fr/feeds/index.xml",
          "https://rss.nytimes.com/services/xml/rss/nyt/World.xml"
         ],
         "marker": {
          "coloraxis": "coloraxis",
          "colors": {
           "bdata": "h7VvWPuG9T8zMzMzMzMNQIXrUbgehes/ZmZmZmZmEUDNzMzMzMzMP2ZmZmZmZvY/MzMzMzMz0z8zMzMzM7MKQHh3d3d3d/U/RERERERE5D8zMzMzMzPTP/+8QThLJRFAzczMzMzM7D+gn5+fn5/3P2dmZmZm5glAhutRuB6F5z//BOxPwP70PzMzMzMzM9M/uR6F61G4BkBvb29vb2/3P1ZqpVZqpQZAgzqogzqo+z+u1Eqt1ErlPxEREREREfE/d3d3d3d39z+amZmZmZn2PwAAAAAAAP4/KG6F4lYoDkB7/Oa/Gzf9PwAAAAAA4ABAj8L1KFyPA0D+NeJfI/7lPw==",
           "dtype": "f8"
          }
         },
         "name": "",
         "parents": [
          "https://www.lemonde.fr/rss/une.xml",
          "https://www.lemonde.fr/rss/une.xml",
          "https://www.lemonde.fr/rss/une.xml",
          "https://www.france24.com/fr/rss",
          "https://www.france24.com/fr/rss",
          "https://www.france24.com/fr/rss",
          "https://www.france24.com/fr/rss",
          "https://www.rfi.fr/fr/rss",
          "https://www.rfi.fr/fr/rss",
          "https://www.rfi.fr/fr/rss",
          "https://www.rfi.fr/fr/rss",
          "https://www.lexpress.fr/rss/actualite.xml",
          "https://www.lexpress.fr/rss/actualite.xml",
          "https://www.lexpress.fr/rss/actualite.xml",
          "https://www.nouvelobs.com/rss.xml",
          "https://www.nouvelobs.com/rss.xml",
          "https://www.nouvelobs.com/rss.xml",
          "https://www.nouvelobs.com/rss.xml",
          "https://www.euronews.com/rss?level=theme&name=news",
          "https://www.euronews.com/rss?level=theme&name=news",
          "https://www.huffingtonpost.fr/feeds/index.xml",
          "https://www.huffingtonpost.fr/feeds/index.xml",
          "https://rss.nytimes.com/services/xml/rss/nyt/World.xml",
          "https://rss.nytimes.com/services/xml/rss/nyt/World.xml",
          "",
          "",
          "",
          "",
          "",
          "",
          "",
          ""
         ],
         "type": "sunburst",
         "values": {
          "bdata": "CwACAAUABAAIAAIAAgAIAAwAAwABAFEAAQARADAAKAApAAIADwARAA0ABwA0AAMAEgAQABgAYwCDACAAFAA3AA==",
          "dtype": "i2"
         }
        }
       ],
       "layout": {
        "coloraxis": {
         "colorbar": {
          "title": {
           "text": "reading_time"
          }
         },
         "colorscale": [
          [
           0,
           "rgb(165,0,38)"
          ],
          [
           0.1,
           "rgb(215,48,39)"
          ],
          [
           0.2,
           "rgb(244,109,67)"
          ],
          [
           0.3,
           "rgb(253,174,97)"
          ],
          [
           0.4,
           "rgb(254,224,144)"
          ],
          [
           0.5,
           "rgb(255,255,191)"
          ],
          [
           0.6,
           "rgb(224,243,248)"
          ],
          [
           0.7,
           "rgb(171,217,233)"
          ],
          [
           0.8,
           "rgb(116,173,209)"
          ],
          [
           0.9,
           "rgb(69,117,180)"
          ],
          [
           1,
           "rgb(49,54,149)"
          ]
         ]
        },
        "height": 500,
        "legend": {
         "tracegroupgap": 0
        },
        "template": {
         "data": {
          "bar": [
           {
            "error_x": {
             "color": "#2a3f5f"
            },
            "error_y": {
             "color": "#2a3f5f"
            },
            "marker": {
             "line": {
              "color": "#E5ECF6",
              "width": 0.5
             },
             "pattern": {
              "fillmode": "overlay",
              "size": 10,
              "solidity": 0.2
             }
            },
            "type": "bar"
           }
          ],
          "barpolar": [
           {
            "marker": {
             "line": {
              "color": "#E5ECF6",
              "width": 0.5
             },
             "pattern": {
              "fillmode": "overlay",
              "size": 10,
              "solidity": 0.2
             }
            },
            "type": "barpolar"
           }
          ],
          "carpet": [
           {
            "aaxis": {
             "endlinecolor": "#2a3f5f",
             "gridcolor": "white",
             "linecolor": "white",
             "minorgridcolor": "white",
             "startlinecolor": "#2a3f5f"
            },
            "baxis": {
             "endlinecolor": "#2a3f5f",
             "gridcolor": "white",
             "linecolor": "white",
             "minorgridcolor": "white",
             "startlinecolor": "#2a3f5f"
            },
            "type": "carpet"
           }
          ],
          "choropleth": [
           {
            "colorbar": {
             "outlinewidth": 0,
             "ticks": ""
            },
            "type": "choropleth"
           }
          ],
          "contour": [
           {
            "colorbar": {
             "outlinewidth": 0,
             "ticks": ""
            },
            "colorscale": [
             [
              0,
              "#0d0887"
             ],
             [
              0.1111111111111111,
              "#46039f"
             ],
             [
              0.2222222222222222,
              "#7201a8"
             ],
             [
              0.3333333333333333,
              "#9c179e"
             ],
             [
              0.4444444444444444,
              "#bd3786"
             ],
             [
              0.5555555555555556,
              "#d8576b"
             ],
             [
              0.6666666666666666,
              "#ed7953"
             ],
             [
              0.7777777777777778,
              "#fb9f3a"
             ],
             [
              0.8888888888888888,
              "#fdca26"
             ],
             [
              1,
              "#f0f921"
             ]
            ],
            "type": "contour"
           }
          ],
          "contourcarpet": [
           {
            "colorbar": {
             "outlinewidth": 0,
             "ticks": ""
            },
            "type": "contourcarpet"
           }
          ],
          "heatmap": [
           {
            "colorbar": {
             "outlinewidth": 0,
             "ticks": ""
            },
            "colorscale": [
             [
              0,
              "#0d0887"
             ],
             [
              0.1111111111111111,
              "#46039f"
             ],
             [
              0.2222222222222222,
              "#7201a8"
             ],
             [
              0.3333333333333333,
              "#9c179e"
             ],
             [
              0.4444444444444444,
              "#bd3786"
             ],
             [
              0.5555555555555556,
              "#d8576b"
             ],
             [
              0.6666666666666666,
              "#ed7953"
             ],
             [
              0.7777777777777778,
              "#fb9f3a"
             ],
             [
              0.8888888888888888,
              "#fdca26"
             ],
             [
              1,
              "#f0f921"
             ]
            ],
            "type": "heatmap"
           }
          ],
          "histogram": [
           {
            "marker": {
             "pattern": {
              "fillmode": "overlay",
              "size": 10,
              "solidity": 0.2
             }
            },
            "type": "histogram"
           }
          ],
          "histogram2d": [
           {
            "colorbar": {
             "outlinewidth": 0,
             "ticks": ""
            },
            "colorscale": [
             [
              0,
              "#0d0887"
             ],
             [
              0.1111111111111111,
              "#46039f"
             ],
             [
              0.2222222222222222,
              "#7201a8"
             ],
             [
              0.3333333333333333,
              "#9c179e"
             ],
             [
              0.4444444444444444,
              "#bd3786"
             ],
             [
              0.5555555555555556,
              "#d8576b"
             ],
             [
              0.6666666666666666,
              "#ed7953"
             ],
             [
              0.7777777777777778,
              "#fb9f3a"
             ],
             [
              0.8888888888888888,
              "#fdca26"
             ],
             [
              1,
              "#f0f921"
             ]
            ],
            "type": "histogram2d"
           }
          ],
          "histogram2dcontour": [
           {
            "colorbar": {
             "outlinewidth": 0,
             "ticks": ""
            },
            "colorscale": [
             [
              0,
              "#0d0887"
             ],
             [
              0.1111111111111111,
              "#46039f"
             ],
             [
              0.2222222222222222,
              "#7201a8"
             ],
             [
              0.3333333333333333,
              "#9c179e"
             ],
             [
              0.4444444444444444,
              "#bd3786"
             ],
             [
              0.5555555555555556,
              "#d8576b"
             ],
             [
              0.6666666666666666,
              "#ed7953"
             ],
             [
              0.7777777777777778,
              "#fb9f3a"
             ],
             [
              0.8888888888888888,
              "#fdca26"
             ],
             [
              1,
              "#f0f921"
             ]
            ],
            "type": "histogram2dcontour"
           }
          ],
          "mesh3d": [
           {
            "colorbar": {
             "outlinewidth": 0,
             "ticks": ""
            },
            "type": "mesh3d"
           }
          ],
          "parcoords": [
           {
            "line": {
             "colorbar": {
              "outlinewidth": 0,
              "ticks": ""
             }
            },
            "type": "parcoords"
           }
          ],
          "pie": [
           {
            "automargin": true,
            "type": "pie"
           }
          ],
          "scatter": [
           {
            "fillpattern": {
             "fillmode": "overlay",
             "size": 10,
             "solidity": 0.2
            },
            "type": "scatter"
           }
          ],
          "scatter3d": [
           {
            "line": {
             "colorbar": {
              "outlinewidth": 0,
              "ticks": ""
             }
            },
            "marker": {
             "colorbar": {
              "outlinewidth": 0,
              "ticks": ""
             }
            },
            "type": "scatter3d"
           }
          ],
          "scattercarpet": [
           {
            "marker": {
             "colorbar": {
              "outlinewidth": 0,
              "ticks": ""
             }
            },
            "type": "scattercarpet"
           }
          ],
          "scattergeo": [
           {
            "marker": {
             "colorbar": {
              "outlinewidth": 0,
              "ticks": ""
             }
            },
            "type": "scattergeo"
           }
          ],
          "scattergl": [
           {
            "marker": {
             "colorbar": {
              "outlinewidth": 0,
              "ticks": ""
             }
            },
            "type": "scattergl"
           }
          ],
          "scattermap": [
           {
            "marker": {
             "colorbar": {
              "outlinewidth": 0,
              "ticks": ""
             }
            },
            "type": "scattermap"
           }
          ],
          "scattermapbox": [
           {
            "marker": {
             "colorbar": {
              "outlinewidth": 0,
              "ticks": ""
             }
            },
            "type": "scattermapbox"
           }
          ],
          "scatterpolar": [
           {
            "marker": {
             "colorbar": {
              "outlinewidth": 0,
              "ticks": ""
             }
            },
            "type": "scatterpolar"
           }
          ],
          "scatterpolargl": [
           {
            "marker": {
             "colorbar": {
              "outlinewidth": 0,
              "ticks": ""
             }
            },
            "type": "scatterpolargl"
           }
          ],
          "scatterternary": [
           {
            "marker": {
             "colorbar": {
              "outlinewidth": 0,
              "ticks": ""
             }
            },
            "type": "scatterternary"
           }
          ],
          "surface": [
           {
            "colorbar": {
             "outlinewidth": 0,
             "ticks": ""
            },
            "colorscale": [
             [
              0,
              "#0d0887"
             ],
             [
              0.1111111111111111,
              "#46039f"
             ],
             [
              0.2222222222222222,
              "#7201a8"
             ],
             [
              0.3333333333333333,
              "#9c179e"
             ],
             [
              0.4444444444444444,
              "#bd3786"
             ],
             [
              0.5555555555555556,
              "#d8576b"
             ],
             [
              0.6666666666666666,
              "#ed7953"
             ],
             [
              0.7777777777777778,
              "#fb9f3a"
             ],
             [
              0.8888888888888888,
              "#fdca26"
             ],
             [
              1,
              "#f0f921"
             ]
            ],
            "type": "surface"
           }
          ],
          "table": [
           {
            "cells": {
             "fill": {
              "color": "#EBF0F8"
             },
             "line": {
              "color": "white"
             }
            },
            "header": {
             "fill": {
              "color": "#C8D4E3"
             },
             "line": {
              "color": "white"
             }
            },
            "type": "table"
           }
          ]
         },
         "layout": {
          "annotationdefaults": {
           "arrowcolor": "#2a3f5f",
           "arrowhead": 0,
           "arrowwidth": 1
          },
          "autotypenumbers": "strict",
          "coloraxis": {
           "colorbar": {
            "outlinewidth": 0,
            "ticks": ""
           }
          },
          "colorscale": {
           "diverging": [
            [
             0,
             "#8e0152"
            ],
            [
             0.1,
             "#c51b7d"
            ],
            [
             0.2,
             "#de77ae"
            ],
            [
             0.3,
             "#f1b6da"
            ],
            [
             0.4,
             "#fde0ef"
            ],
            [
             0.5,
             "#f7f7f7"
            ],
            [
             0.6,
             "#e6f5d0"
            ],
            [
             0.7,
             "#b8e186"
            ],
            [
             0.8,
             "#7fbc41"
            ],
            [
             0.9,
             "#4d9221"
            ],
            [
             1,
             "#276419"
            ]
           ],
           "sequential": [
            [
             0,
             "#0d0887"
            ],
            [
             0.1111111111111111,
             "#46039f"
            ],
            [
             0.2222222222222222,
             "#7201a8"
            ],
            [
             0.3333333333333333,
             "#9c179e"
            ],
            [
             0.4444444444444444,
             "#bd3786"
            ],
            [
             0.5555555555555556,
             "#d8576b"
            ],
            [
             0.6666666666666666,
             "#ed7953"
            ],
            [
             0.7777777777777778,
             "#fb9f3a"
            ],
            [
             0.8888888888888888,
             "#fdca26"
            ],
            [
             1,
             "#f0f921"
            ]
           ],
           "sequentialminus": [
            [
             0,
             "#0d0887"
            ],
            [
             0.1111111111111111,
             "#46039f"
            ],
            [
             0.2222222222222222,
             "#7201a8"
            ],
            [
             0.3333333333333333,
             "#9c179e"
            ],
            [
             0.4444444444444444,
             "#bd3786"
            ],
            [
             0.5555555555555556,
             "#d8576b"
            ],
            [
             0.6666666666666666,
             "#ed7953"
            ],
            [
             0.7777777777777778,
             "#fb9f3a"
            ],
            [
             0.8888888888888888,
             "#fdca26"
            ],
            [
             1,
             "#f0f921"
            ]
           ]
          },
          "colorway": [
           "#636efa",
           "#EF553B",
           "#00cc96",
           "#ab63fa",
           "#FFA15A",
           "#19d3f3",
           "#FF6692",
           "#B6E880",
           "#FF97FF",
           "#FECB52"
          ],
          "font": {
           "color": "#2a3f5f"
          },
          "geo": {
           "bgcolor": "white",
           "lakecolor": "white",
           "landcolor": "#E5ECF6",
           "showlakes": true,
           "showland": true,
           "subunitcolor": "white"
          },
          "hoverlabel": {
           "align": "left"
          },
          "hovermode": "closest",
          "mapbox": {
           "style": "light"
          },
          "paper_bgcolor": "white",
          "plot_bgcolor": "#E5ECF6",
          "polar": {
           "angularaxis": {
            "gridcolor": "white",
            "linecolor": "white",
            "ticks": ""
           },
           "bgcolor": "#E5ECF6",
           "radialaxis": {
            "gridcolor": "white",
            "linecolor": "white",
            "ticks": ""
           }
          },
          "scene": {
           "xaxis": {
            "backgroundcolor": "#E5ECF6",
            "gridcolor": "white",
            "gridwidth": 2,
            "linecolor": "white",
            "showbackground": true,
            "ticks": "",
            "zerolinecolor": "white"
           },
           "yaxis": {
            "backgroundcolor": "#E5ECF6",
            "gridcolor": "white",
            "gridwidth": 2,
            "linecolor": "white",
            "showbackground": true,
            "ticks": "",
            "zerolinecolor": "white"
           },
           "zaxis": {
            "backgroundcolor": "#E5ECF6",
            "gridcolor": "white",
            "gridwidth": 2,
            "linecolor": "white",
            "showbackground": true,
            "ticks": "",
            "zerolinecolor": "white"
           }
          },
          "shapedefaults": {
           "line": {
            "color": "#2a3f5f"
           }
          },
          "ternary": {
           "aaxis": {
            "gridcolor": "white",
            "linecolor": "white",
            "ticks": ""
           },
           "baxis": {
            "gridcolor": "white",
            "linecolor": "white",
            "ticks": ""
           },
           "bgcolor": "#E5ECF6",
           "caxis": {
            "gridcolor": "white",
            "linecolor": "white",
            "ticks": ""
           }
          },
          "title": {
           "x": 0.05
          },
          "xaxis": {
           "automargin": true,
           "gridcolor": "white",
           "linecolor": "white",
           "ticks": "",
           "title": {
            "standoff": 15
           },
           "zerolinecolor": "white",
           "zerolinewidth": 2
          },
          "yaxis": {
           "automargin": true,
           "gridcolor": "white",
           "linecolor": "white",
           "ticks": "",
           "title": {
            "standoff": 15
           },
           "zerolinecolor": "white",
           "zerolinewidth": 2
          }
         }
        },
        "title": {
         "text": " Répartition de la Qualité du Contenu par Source"
        }
       }
      }
     },
     "metadata": {},
     "output_type": "display_data"
    },
    {
     "name": "stdout",
     "output_type": "stream",
     "text": [
      " Toutes les visualisations interactives ont été générées!\n",
      "\n",
      " Graphiques générés:\n",
      "   • Scatter plot: Longueur texte vs titre\n",
      "   • Évolution temporelle: ❌ (remplacé par distribution)\n",
      "   • Camembert: Distribution par source\n",
      "   • Heatmap temporelle: ❌ (remplacé par analyse alternative)\n",
      "   • Sunburst: Qualité du contenu par source\n"
     ]
    }
   ],
   "source": [
    "# Visualisations interactives améliorées avec Plotly\n",
    "if not df.empty:\n",
    "    \n",
    "    # 1. Graphique scatter interactif: longueur texte vs titre\n",
    "    fig1 = px.scatter(\n",
    "        df, \n",
    "        x='text_length', \n",
    "        y='title_length',\n",
    "        color='source',\n",
    "        size='reading_time',\n",
    "        hover_data=['title', 'words_count'],\n",
    "        title='Relation Longueur Texte vs Longueur Titre (par source)',\n",
    "        labels={\n",
    "            'text_length': 'Longueur du texte (caractères)',\n",
    "            'title_length': 'Longueur du titre (caractères)',\n",
    "            'source': 'Source RSS'\n",
    "        }\n",
    "    )\n",
    "    fig1.update_layout(\n",
    "        height=500,\n",
    "        showlegend=True,\n",
    "        legend=dict(orientation=\"v\", yanchor=\"top\", y=1, xanchor=\"left\", x=1.02)\n",
    "    )\n",
    "    fig1.show()\n",
    "    \n",
    "    # 2. Graphique temporel conditionnel\n",
    "    has_valid_dates = df[\"published\"].notna().sum() > 10\n",
    "    has_hour_data = df[\"published_hour\"].notna().sum() > 0\n",
    "    has_weekday_data = df[\"published_weekday\"].notna().sum() > 0\n",
    "    \n",
    "    if has_valid_dates:\n",
    "        # Agrégation par jour\n",
    "        daily_stats = df.groupby(df['published'].dt.date).agg({\n",
    "            'title': 'count',\n",
    "            'text_length': 'mean',\n",
    "            'reading_time': 'mean',\n",
    "            'source': lambda x: x.nunique()\n",
    "        }).rename(columns={\n",
    "            'title': 'articles_count',\n",
    "            'text_length': 'avg_length',\n",
    "            'reading_time': 'avg_reading_time',\n",
    "            'source': 'unique_sources'\n",
    "        })\n",
    "        \n",
    "        fig2 = make_subplots(\n",
    "            rows=2, cols=2,\n",
    "            subplot_titles=('Articles par jour', 'Longueur moyenne', \n",
    "                          'Temps de lecture moyen', 'Sources uniques par jour'),\n",
    "            vertical_spacing=0.12,\n",
    "            horizontal_spacing=0.1\n",
    "        )\n",
    "        \n",
    "        # Articles par jour\n",
    "        fig2.add_trace(\n",
    "            go.Scatter(x=daily_stats.index, y=daily_stats['articles_count'],\n",
    "                      mode='lines+markers', name='Articles/jour', line=dict(color='blue')),\n",
    "            row=1, col=1\n",
    "        )\n",
    "        \n",
    "        # Longueur moyenne\n",
    "        fig2.add_trace(\n",
    "            go.Scatter(x=daily_stats.index, y=daily_stats['avg_length'],\n",
    "                      mode='lines+markers', name='Longueur moy.', line=dict(color='green')),\n",
    "            row=1, col=2\n",
    "        )\n",
    "        \n",
    "        # Temps de lecture moyen\n",
    "        fig2.add_trace(\n",
    "            go.Scatter(x=daily_stats.index, y=daily_stats['avg_reading_time'],\n",
    "                      mode='lines+markers', name='Temps lecture', line=dict(color='red')),\n",
    "            row=2, col=1\n",
    "        )\n",
    "        \n",
    "        # Sources uniques\n",
    "        fig2.add_trace(\n",
    "            go.Bar(x=daily_stats.index, y=daily_stats['unique_sources'],\n",
    "                   name='Sources uniques', marker_color='orange'),\n",
    "            row=2, col=2\n",
    "        )\n",
    "        \n",
    "        fig2.update_layout(\n",
    "            height=600,\n",
    "            title_text=\" Évolution Temporelle des Métriques\",\n",
    "            showlegend=False\n",
    "        )\n",
    "        fig2.show()\n",
    "    else:\n",
    "        print(\" Pas assez de données temporelles valides pour l'analyse temporelle\")\n",
    "        \n",
    "        # Graphique alternatif: distribution par longueur de texte\n",
    "        fig2_alt = px.histogram(\n",
    "            df, \n",
    "            x='text_length', \n",
    "            color='source',\n",
    "            nbins=30,\n",
    "            title=\" Distribution des Longueurs de Texte par Source\",\n",
    "            labels={'text_length': 'Longueur du texte (caractères)', 'count': 'Nombre d\\'articles'}\n",
    "        )\n",
    "        fig2_alt.update_layout(height=500, bargap=0.1)\n",
    "        fig2_alt.show()\n",
    "    \n",
    "    # 3. Distribution des sources (graphique en secteurs interactif)\n",
    "    source_counts = df['source'].value_counts()\n",
    "    fig3 = px.pie(\n",
    "        values=source_counts.values,\n",
    "        names=[name.split('/')[-1].replace('.xml', '').replace('.rss', '') for name in source_counts.index],\n",
    "        title=' Distribution des Articles par Source RSS',\n",
    "        labels={'values': 'Nombre d\\'articles'}\n",
    "    )\n",
    "    fig3.update_traces(\n",
    "        textposition='inside', \n",
    "        textinfo='percent+label',\n",
    "        hovertemplate='<b>%{label}</b><br>Articles: %{value}<br>Pourcentage: %{percent}<extra></extra>'\n",
    "    )\n",
    "    fig3.update_layout(height=500, showlegend=True)\n",
    "    fig3.show()\n",
    "    \n",
    "    # 4. Heatmap conditionnelle des publications\n",
    "    if has_hour_data and has_weekday_data:\n",
    "        heatmap_data = df.groupby(['published_weekday', 'published_hour']).size().reset_index(name='count')\n",
    "        heatmap_pivot = heatmap_data.pivot(index='published_weekday', \n",
    "                                         columns='published_hour', \n",
    "                                         values='count').fillna(0)\n",
    "        \n",
    "        # Réorganiser les jours de la semaine\n",
    "        weekday_order = ['Monday', 'Tuesday', 'Wednesday', 'Thursday', \n",
    "                        'Friday', 'Saturday', 'Sunday']\n",
    "        heatmap_pivot = heatmap_pivot.reindex(weekday_order, fill_value=0)\n",
    "        \n",
    "        fig4 = px.imshow(\n",
    "            heatmap_pivot,\n",
    "            labels=dict(x=\"Heure\", y=\"Jour\", color=\"Articles\"),\n",
    "            title=\" Heatmap: Publications par Jour et Heure\",\n",
    "            color_continuous_scale=\"Viridis\"\n",
    "        )\n",
    "        fig4.update_layout(height=400)\n",
    "        fig4.show()\n",
    "    else:\n",
    "        print(\" Pas de données d'heure/jour pour la heatmap\")\n",
    "        \n",
    "        # Graphique alternatif: Top mots-clés\n",
    "        if 'title_word_freq' in locals() and title_word_freq:\n",
    "            words, counts = zip(*title_word_freq[:15])\n",
    "            fig4_alt = px.bar(\n",
    "                x=counts, \n",
    "                y=words, \n",
    "                orientation='h',\n",
    "                title=\" Top 15 des Mots-Clés dans les Titres\",\n",
    "                labels={'x': 'Fréquence', 'y': 'Mots-clés'}\n",
    "            )\n",
    "            fig4_alt.update_layout(height=500, yaxis={'categoryorder':'total ascending'})\n",
    "            fig4_alt.show()\n",
    "        else:\n",
    "            # Graphique de distribution des temps de lecture\n",
    "            fig4_alt = px.box(\n",
    "                df, \n",
    "                x='source', \n",
    "                y='reading_time',\n",
    "                title=\" Distribution des Temps de Lecture par Source\",\n",
    "                labels={'reading_time': 'Temps de lecture (minutes)', 'source': 'Source'}\n",
    "            )\n",
    "            fig4_alt.update_xaxes(tickangle=45)\n",
    "            fig4_alt.update_layout(height=500)\n",
    "            fig4_alt.show()\n",
    "    \n",
    "    # 5. Graphique bonus: Analyse de la qualité du contenu\n",
    "    df['content_category'] = pd.cut(df['text_length'], \n",
    "                                   bins=[0, 500, 1500, 3000, float('inf')], \n",
    "                                   labels=['Court', 'Moyen', 'Long', 'Très long'])\n",
    "    \n",
    "    fig5 = px.sunburst(\n",
    "        df, \n",
    "        path=['source', 'content_category'], \n",
    "        title=\" Répartition de la Qualité du Contenu par Source\",\n",
    "        color='reading_time',\n",
    "        color_continuous_scale='RdYlBu'\n",
    "    )\n",
    "    fig5.update_layout(height=500)\n",
    "    fig5.show()\n",
    "    \n",
    "    print(\" Toutes les visualisations interactives ont été générées!\")\n",
    "    \n",
    "    # Résumé des graphiques générés\n",
    "    print(\"\\n Graphiques générés:\")\n",
    "    print(\"   • Scatter plot: Longueur texte vs titre\")\n",
    "    print(f\"   • Évolution temporelle: {'✅' if has_valid_dates else '❌ (remplacé par distribution)'}\")\n",
    "    print(\"   • Camembert: Distribution par source\") \n",
    "    print(f\"   • Heatmap temporelle: {'✅' if has_hour_data and has_weekday_data else '❌ (remplacé par analyse alternative)'}\")\n",
    "    print(\"   • Sunburst: Qualité du contenu par source\")\n",
    "    \n",
    "else:\n",
    "    print(\" Pas de données pour les visualisations interactives\")"
   ]
  },
  {
   "cell_type": "markdown",
   "id": "faz9i4w7cds",
   "metadata": {},
   "source": [
    "## 8. Métriques de qualité\n",
    "\n",
    "Évaluation de la performance du système de collecte et de la qualité des données."
   ]
  },
  {
   "cell_type": "code",
   "execution_count": 22,
   "id": "weqzve6enw",
   "metadata": {},
   "outputs": [
    {
     "name": "stdout",
     "output_type": "stream",
     "text": [
      "RAPPORT DE QUALITÉ - INSIGHTDETECTOR\n",
      "==================================================\n",
      "\\n MÉTRIQUES DE COLLECTE:\n",
      "   • Taux de succès global: 77.5%\n",
      "   • Articles récupérés: 510\n",
      "   • Articles traités: 395\n",
      "   • Articles insérés: 395\n",
      "   • Doublons détectés: 0\n",
      "   • Erreurs rencontrées: 0\n",
      "\\n PERFORMANCE PAR SOURCE:\n",
      "   • https://www.nouvelobs.com/rss. : 200 articles ( 39.2%)\n",
      "   • https://www.lexpress.fr/rss/ac : 100 articles ( 19.6%)\n",
      "   • https://rss.nytimes.com/servic :  55 articles ( 10.8%)\n",
      "   • https://www.euronews.com/rss?l :  50 articles (  9.8%)\n",
      "   • https://www.rfi.fr/fr/rss      :  24 articles (  4.7%)\n",
      "   • https://www.france24.com/fr/rs :  23 articles (  4.5%)\n",
      "   • https://www.courrierinternatio :  20 articles (  3.9%)\n",
      "   • https://www.huffingtonpost.fr/ :  20 articles (  3.9%)\n",
      "   • https://www.lemonde.fr/rss/une :  18 articles (  3.5%)\n",
      "\\n QUALITÉ DES DONNÉES:\n",
      "   • Titre          : 100.0% ✅\n",
      "   • URL            : 100.0% ✅\n",
      "   • Résumé         : 100.0% ✅\n",
      "   • Texte          : 100.0% ✅\n",
      "   • Date publication:   0.0% ❌\n",
      "   • Source         : 100.0% ✅\n",
      "\\n QUALITÉ DU CONTENU:\n",
      "   • Articles courts (<500 char): 11 (2.8%)\n",
      "   • Articles moyens (500-2000): 151 (38.2%)\n",
      "   • Articles longs (>2000 char): 233 (59.0%)\n",
      "\\n DÉTECTION D'ANOMALIES:\n",
      "   • Titres très courts (<20 char): 0\n",
      "   • Titres très longs (>150 char): 0\n",
      "   • URLs dupliquées: 0\n",
      "   • Contenu vide/invalide: 0\n",
      "\\n SCORE DE QUALITÉ GLOBAL:\n",
      "   • Score de collecte: 23.2/30\n",
      "   • Score de complétude: 33.3/40\n",
      "   • Score de contenu: 29.2/30\n",
      "   • SCORE TOTAL: 85.7/100\n",
      "\\n RECOMMANDATIONS:\n",
      "    Excellente qualité des données!\n",
      "\\n==================================================\n"
     ]
    }
   ],
   "source": [
    "# Rapport complet des métriques de qualité\n",
    "print(\"RAPPORT DE QUALITÉ - INSIGHTDETECTOR\")\n",
    "print(\"=\" * 50)\n",
    "\n",
    "# Métriques de collecte\n",
    "if 'metrics' in locals():\n",
    "    print(\"\\\\n MÉTRIQUES DE COLLECTE:\")\n",
    "    success_rate = (metrics['total_inserted'] / max(metrics['total_fetched'], 1)) * 100\n",
    "    print(f\"   • Taux de succès global: {success_rate:.1f}%\")\n",
    "    print(f\"   • Articles récupérés: {metrics['total_fetched']}\")\n",
    "    print(f\"   • Articles traités: {metrics['total_processed']}\")  \n",
    "    print(f\"   • Articles insérés: {metrics['total_inserted']}\")\n",
    "    print(f\"   • Doublons détectés: {metrics['total_duplicates']}\")\n",
    "    print(f\"   • Erreurs rencontrées: {len(metrics['processing_errors'])}\")\n",
    "    \n",
    "    # Performance par source\n",
    "    if metrics['sources_success']:\n",
    "        print(f\"\\\\n PERFORMANCE PAR SOURCE:\")\n",
    "        total_by_source = metrics['sources_success']\n",
    "        for source, count in sorted(total_by_source.items(), key=lambda x: x[1], reverse=True):\n",
    "            percentage = (count / metrics['total_fetched']) * 100\n",
    "            print(f\"   • {source[:30]:<30} : {count:>3} articles ({percentage:>5.1f}%)\")\n",
    "\n",
    "# Métriques de qualité des données\n",
    "if not df.empty:\n",
    "    print(f\"\\\\n QUALITÉ DES DONNÉES:\")\n",
    "    \n",
    "    # Complétude des données\n",
    "    completeness = {\n",
    "        'Titre': df['title'].notna().sum() / len(df),\n",
    "        'URL': df['url'].notna().sum() / len(df),\n",
    "        'Résumé': df['summary'].notna().sum() / len(df),\n",
    "        'Texte': df['text'].notna().sum() / len(df),\n",
    "        'Date publication': df['published'].notna().sum() / len(df),\n",
    "        'Source': df['source'].notna().sum() / len(df)\n",
    "    }\n",
    "    \n",
    "    for field, completeness_rate in completeness.items():\n",
    "        status = \"✅\" if completeness_rate > 0.9 else \"⚠️ \" if completeness_rate > 0.7 else \"❌\"\n",
    "        print(f\"   • {field:<15}: {completeness_rate:>6.1%} {status}\")\n",
    "    \n",
    "    # Qualité du contenu\n",
    "    print(f\"\\\\n QUALITÉ DU CONTENU:\")\n",
    "    short_articles = (df['text_length'] < 500).sum()\n",
    "    medium_articles = ((df['text_length'] >= 500) & (df['text_length'] < 2000)).sum()\n",
    "    long_articles = (df['text_length'] >= 2000).sum()\n",
    "    \n",
    "    print(f\"   • Articles courts (<500 char): {short_articles} ({short_articles/len(df)*100:.1f}%)\")\n",
    "    print(f\"   • Articles moyens (500-2000): {medium_articles} ({medium_articles/len(df)*100:.1f}%)\")\n",
    "    print(f\"   • Articles longs (>2000 char): {long_articles} ({long_articles/len(df)*100:.1f}%)\")\n",
    "    \n",
    "    # Diversité temporelle\n",
    "    if df['published'].notna().sum() > 0:\n",
    "        date_range = (df['published'].max() - df['published'].min()).days\n",
    "        unique_days = df['published'].dt.date.nunique()\n",
    "        print(f\"\\\\n COUVERTURE TEMPORELLE:\")\n",
    "        print(f\"   • Période analysée: {date_range} jours\")\n",
    "        print(f\"   • Jours avec publications: {unique_days}\")\n",
    "        print(f\"   • Couverture temporelle: {unique_days/max(date_range, 1)*100:.1f}%\")\n",
    "    \n",
    "    # Analyse des anomalies\n",
    "    print(f\"\\\\n DÉTECTION D'ANOMALIES:\")\n",
    "    \n",
    "    # Articles avec titre très long/court\n",
    "    very_short_titles = (df['title_length'] < 20).sum()\n",
    "    very_long_titles = (df['title_length'] > 150).sum()\n",
    "    print(f\"   • Titres très courts (<20 char): {very_short_titles}\")\n",
    "    print(f\"   • Titres très longs (>150 char): {very_long_titles}\")\n",
    "    \n",
    "    # URLs potentiellement problématiques\n",
    "    duplicate_urls = df['url'].duplicated().sum()\n",
    "    print(f\"   • URLs dupliquées: {duplicate_urls}\")\n",
    "    \n",
    "    # Contenu potentiellement vide ou invalide\n",
    "    empty_content = ((df['text'].str.len() < 100) | (df['text'].isna())).sum()\n",
    "    print(f\"   • Contenu vide/invalide: {empty_content}\")\n",
    "\n",
    "# Score de qualité global\n",
    "if not df.empty and 'metrics' in locals():\n",
    "    print(f\"\\\\n SCORE DE QUALITÉ GLOBAL:\")\n",
    "    \n",
    "    # Calcul du score (sur 100)\n",
    "    collection_score = min(success_rate, 100) * 0.3  # 30% pour la collecte\n",
    "    completeness_score = (sum(completeness.values()) / len(completeness)) * 100 * 0.4  # 40% pour la complétude\n",
    "    content_score = ((medium_articles + long_articles) / len(df)) * 100 * 0.3  # 30% pour la qualité du contenu\n",
    "    \n",
    "    total_score = collection_score + completeness_score + content_score\n",
    "    \n",
    "    print(f\"   • Score de collecte: {collection_score:.1f}/30\")\n",
    "    print(f\"   • Score de complétude: {completeness_score:.1f}/40\") \n",
    "    print(f\"   • Score de contenu: {content_score:.1f}/30\")\n",
    "    print(f\"   • SCORE TOTAL: {total_score:.1f}/100\")\n",
    "    \n",
    "    # Recommandations\n",
    "    print(f\"\\\\n RECOMMANDATIONS:\")\n",
    "    if total_score >= 80:\n",
    "        print(\"    Excellente qualité des données!\")\n",
    "    elif total_score >= 60:\n",
    "        print(\"     Qualité correcte, quelques améliorations possibles:\")\n",
    "        if success_rate < 80:\n",
    "            print(\"      - Améliorer le taux de succès de collecte\")\n",
    "        if completeness_score < 35:\n",
    "            print(\"      - Améliorer la complétude des champs\")\n",
    "        if content_score < 25:\n",
    "            print(\"      - Filtrer davantage le contenu de faible qualité\")\n",
    "    else:\n",
    "        print(\"    Qualité insuffisante, actions requises:\")\n",
    "        print(\"      - Revoir la configuration des sources RSS\")\n",
    "        print(\"      - Améliorer les filtres de qualité\")\n",
    "        print(\"      - Corriger les erreurs de traitement\")\n",
    "\n",
    "print(\"\\\\n\" + \"=\" * 50)"
   ]
  },
  {
   "cell_type": "markdown",
   "id": "sc4m8kiao0i",
   "metadata": {},
   "source": [
    "## 9. Conclusions et recommandations\n",
    "\n",
    "Synthèse des insights découverts et recommandations pour améliorer le système."
   ]
  },
  {
   "cell_type": "code",
   "execution_count": 25,
   "id": "wpakz28lk8j",
   "metadata": {},
   "outputs": [
    {
     "name": "stderr",
     "output_type": "stream",
     "text": [
      "2025-07-23 20:18:04,095 - INFO - Session de base de données fermée\n"
     ]
    },
    {
     "name": "stdout",
     "output_type": "stream",
     "text": [
      "\\n ANALYSE TERMINÉE AVEC SUCCÈS!\n",
      " 395 articles analysés de 8 sources différentes\n",
      " Période couverte: nan jours\n",
      " Taux de réussite: 77.5%\n",
      "\\n INSIGHTS CLÉS:\n",
      "   • Source la plus productive: https://www.nouvelobs.com/rss.xml (131 articles)\n",
      "   • Longueur moyenne des articles: 3413 caractères\n",
      "   • Temps de lecture moyen: 2.2 minutes\n",
      "\\n Toutes les analyses sont complètes. Le notebook peut être utilisé pour:\n",
      "   • Surveiller la qualité de la collecte RSS\n",
      "   • Identifier les tendances temporelles de publication\n",
      "   • Analyser les performances par source\n",
      "   • Détecter les anomalies dans les données\n",
      "   • Optimiser la configuration des flux RSS\n",
      "\\n Analyse RSS terminée.\n"
     ]
    }
   ],
   "source": [
    "# Nettoyage des ressources et conclusion\n",
    "try:\n",
    "    if session:\n",
    "        session.close()\n",
    "        logger.info(\"Session de base de données fermée\")\n",
    "    \n",
    "    # Résumé final pour l'utilisateur\n",
    "    if not df.empty and 'metrics' in locals():\n",
    "        print(\"\\\\n ANALYSE TERMINÉE AVEC SUCCÈS!\")\n",
    "        print(f\" {len(df)} articles analysés de {df['source'].nunique()} sources différentes\")\n",
    "        print(f\" Période couverte: {(df['published'].max() - df['published'].min()).days} jours\")\n",
    "        print(f\" Taux de réussite: {(metrics['total_inserted']/metrics['total_fetched']*100):.1f}%\")\n",
    "        \n",
    "        # Insights clés découverts\n",
    "        print(f\"\\\\n INSIGHTS CLÉS:\")\n",
    "        if df['published_hour'].notna().sum() > 0:\n",
    "            peak_hour = df['published_hour'].mode().iloc[0]\n",
    "            print(f\"   • Heure de pointe: {peak_hour}h\")\n",
    "        \n",
    "        top_source = df['source'].mode().iloc[0]\n",
    "        top_source_count = df['source'].value_counts().iloc[0]\n",
    "        print(f\"   • Source la plus productive: {top_source} ({top_source_count} articles)\")\n",
    "        \n",
    "        avg_length = df['text_length'].mean()\n",
    "        print(f\"   • Longueur moyenne des articles: {avg_length:.0f} caractères\")\n",
    "        \n",
    "        avg_reading = df['reading_time'].mean()\n",
    "        print(f\"   • Temps de lecture moyen: {avg_reading:.1f} minutes\")\n",
    "    \n",
    "    print(\"\\\\n Toutes les analyses sont complètes. Le notebook peut être utilisé pour:\")\n",
    "    print(\"   • Surveiller la qualité de la collecte RSS\")\n",
    "    print(\"   • Identifier les tendances temporelles de publication\") \n",
    "    print(\"   • Analyser les performances par source\")\n",
    "    print(\"   • Détecter les anomalies dans les données\")\n",
    "    print(\"   • Optimiser la configuration des flux RSS\")\n",
    "    \n",
    "except Exception as e:\n",
    "    logger.error(f\"Erreur lors du nettoyage: {e}\")\n",
    "    \n",
    "finally:\n",
    "    print(\"\\\\n Analyse RSS terminée.\")"
   ]
  },
  {
   "cell_type": "code",
   "execution_count": null,
   "id": "q1wibc2hepb",
   "metadata": {},
   "outputs": [],
   "source": [
    "# Copyright 2025 beedi.goua_square-ma\n",
    "# \n",
    "# Licensed under the Apache License, Version 2.0 (the \"License\");\n",
    "# you may not use this file except in compliance with the License.\n",
    "# You may obtain a copy of the License at\n",
    "# \n",
    "#     https://www.apache.org/licenses/LICENSE-2.0\n",
    "# \n",
    "# Unless required by applicable law or agreed to in writing, software\n",
    "# distributed under the License is distributed on an \"AS IS\" BASIS,\n",
    "# WITHOUT WARRANTIES OR CONDITIONS OF ANY KIND, either express or implied.\n",
    "# See the License for the specific language governing permissions and\n",
    "# limitations under the License.\n",
    "\n"
   ]
  }
 ],
 "metadata": {
  "kernelspec": {
   "display_name": "venv",
   "language": "python",
   "name": "python3"
  },
  "language_info": {
   "codemirror_mode": {
    "name": "ipython",
    "version": 3
   },
   "file_extension": ".py",
   "mimetype": "text/x-python",
   "name": "python",
   "nbconvert_exporter": "python",
   "pygments_lexer": "ipython3",
   "version": "3.11.8"
  }
 },
 "nbformat": 4,
 "nbformat_minor": 5
}
